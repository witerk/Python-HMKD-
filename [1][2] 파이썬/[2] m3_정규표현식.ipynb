{
 "cells": [
  {
   "cell_type": "code",
   "execution_count": 2,
   "id": "b3aa95d5",
   "metadata": {},
   "outputs": [],
   "source": [
    "import warnings\n",
    "warnings.filterwarnings('ignore')\n",
    "\n",
    "import random\n",
    "import numpy as np\n",
    "import pandas as pd\n",
    "\n",
    "import matplotlib.pyplot as plt\n",
    "import seaborn as sns\n",
    "\n",
    "from scipy import stats\n",
    "from scipy.stats import t, norm, chi2, chi2_contingency\n",
    "\n",
    "import math, scipy, sympy\n",
    "\n",
    "import re\n",
    "\n",
    "from matplotlib import rc\n",
    "rc('font', family='Malgun Gothic')      #한글 폰트설정\n",
    "plt.rcParams['axes.unicode_minus']=False      #마이너스 부호 출력 설정"
   ]
  },
  {
   "cell_type": "markdown",
   "id": "00f249fa",
   "metadata": {},
   "source": [
    "# 정규표현식 기본 개념\n",
    "\n",
    "한 영화관에서는 예매 시 사용자의 휴대폰 번호를 입력받아야 합니다. 예매 정보는 해당 번호와 함께 저장됩니다. 그러나 종종 잘못된 번호가 입력되어 예매 정보가 유실되는 문제가 발생했습니다.\n",
    "\n",
    "이런 문제를 해결하기 위해, 영화관은 **정규표현식**을 사용해 휴대폰 번호를 검증하기로 결정했습니다. 이제 사용자가 휴대폰 번호를 입력할 때, 정확한 형식으로 입력되었는지 확인하고, 유효한 번호만 저장할 수 있습니다."
   ]
  },
  {
   "cell_type": "markdown",
   "id": "549651de",
   "metadata": {},
   "source": [
    "## 정규표현식의 장단점\n",
    "\n",
    "[장점]\n",
    "1.\t유연성: 정규표현식을 사용하면 다양한 패턴을 표현할 수 있습니다. 예를 들어, 특정 문자열이 특정 패턴을 따르는지 여부를 확인하거나, 특정 패턴을 가진 문자열을 찾아내는 등 다양한 용도로 사용할 수 있습니다.\n",
    "2.\t간결성: 문자열에서 원하는 정보를 추출하는 데에는 정규표현식이 다른 방법에 비해 더 간단하고 직관적입니다.\n",
    "3.\t속도: 정규표현식은 문자열을 일일이 검색하는 것보다 더 빠른 속도로 패턴을 찾아낼 수 있습니다.\n",
    "\n",
    "[단점]\n",
    "1.\t복잡성: 정규표현식은 다양한 패턴을 표현할 수 있지만, 그만큼 문법이 복잡합니다. 특히 초보자에게는 익숙해지기까지 시간이 걸릴 수 있습니다.\n",
    "2.\t이식성: 언어나 툴마다 문법이 조금씩 다르기 때문에, 한 번 익힌 정규표현식이 다른 환경에서는 작동하지 않을 수도 있습니다.\n",
    "3.\t가독성: 정규표현식을 사용하면 코드의 가독성이 떨어질 수 있습니다. 특히, 매우 복잡한 정규표현식을 작성하면 코드가 길어지고 가독성이 나빠질 수 있습니다.\n",
    "위와 같이, 정규표현식은 다양한 장단점을 가지고 있습니다. 그러나 정규표현식은 파이썬을 비롯한 다양한 프로그래밍 언어에서 사용되는 유용한 도구입니다. 아래는 파이썬 코드로 정규표현식을 사용한 문자열 패턴 매칭 예시입니다."
   ]
  },
  {
   "cell_type": "code",
   "execution_count": 3,
   "id": "50249404",
   "metadata": {},
   "outputs": [
    {
     "data": {
      "text/plain": [
       "(['hellow, my number is '], ['12345'])"
      ]
     },
     "execution_count": 3,
     "metadata": {},
     "output_type": "execute_result"
    }
   ],
   "source": [
    "text = 'hellow, my number is 12345'\n",
    "a = re.findall('\\D+',text)   # 숫자제외 모든 문자\n",
    "b = re.findall('\\d+',text)   # 숫자만\n",
    "a, b"
   ]
  },
  {
   "cell_type": "code",
   "execution_count": 4,
   "id": "12e519f3",
   "metadata": {},
   "outputs": [
    {
     "data": {
      "text/plain": [
       "['010-1234-5678']"
      ]
     },
     "execution_count": 4,
     "metadata": {},
     "output_type": "execute_result"
    }
   ],
   "source": [
    "# 전화번호 추출 예시\n",
    "pattern = r\"\\d{3}-\\d{4}-\\d{4}\"\n",
    "# raw string(r): 이스케이프 문자(\\)를 해석하지 않고 문자 그대로 씀\n",
    "\n",
    "phone = ['010-1234-5678', '02-555-1234', '031-222-3333']\n",
    "match_num = []\n",
    "\n",
    "for i in phone:\n",
    "    if re.match(pattern, i):\n",
    "        match_num.append(i) \n",
    "match_num"
   ]
  },
  {
   "cell_type": "markdown",
   "id": "a0a73451",
   "metadata": {},
   "source": [
    "#### Raw String\n",
    "- 로우스트링(Raw String)은 문자열 안에 있는 이스케이프 문자를 무시하고 문자 그대로 해석하도록 하는 문자열입니다.\n",
    "- 로우스트링을 사용하면 이스케이프 문자를 사용하지 않고도 백슬래시(\\)를 문자 그대로 사용할 수 있습니다. 이를 통해 정규 표현식, 파일 경로, url등과 같은 문자열을 다룰 때 유용하게 사용할 수 있습니다."
   ]
  },
  {
   "cell_type": "code",
   "execution_count": 5,
   "id": "18f1637a",
   "metadata": {},
   "outputs": [
    {
     "name": "stdout",
     "output_type": "stream",
     "text": [
      "C:\\Users\\Desktop\\file.txt\n",
      "C:\\Users\\Desktop\\file.txt\n"
     ]
    }
   ],
   "source": [
    "str1 = \"C:\\\\Users\\\\Desktop\\\\file.txt\"    # \\를 그냥 문자로 쓰기 위해 2번씩 씀\n",
    "str2 = r\"C:\\Users\\Desktop\\file.txt\"    # 로우스트링을 해줘서 1개만 씀\n",
    "print(str1)\n",
    "print(str2)"
   ]
  },
  {
   "cell_type": "markdown",
   "id": "b6be6507",
   "metadata": {},
   "source": [
    "## 정규표현식의 구성 요소\n",
    "\n",
    "정규표현식은 다음과 같은 구성 요소를 가집니다.\n",
    "\n",
    "- 문자: 특정 문자를 표현합니다. 예를 들어, 'a'는 문자 'a'를 의미합니다.\n",
    "- 메타 문자: 특별한 의미를 가지는 문자입니다. 예를 들어, '.'은 어떤 문자에도 매치되는 문자입니다.\n",
    "- 문자 클래스: 여러 개의 문자 중 하나를 선택합니다. 대괄호([])로 표현합니다. 예를 들어, '[abc]'는 'a', 'b', 'c' 중 하나에 매치됩니다.\n",
    "- 반복: 문자 또는 메타 문자가 반복되는 횟수를 지정합니다. '', '*', '+', '?', '{m}', '{m, }', '{m,n}' 등으로 표현합니다. 예를 들어, 'a'는 'a'가 0번 이상 반복되는 문자열에 매치됩니다.\n",
    "- 그룹: 하나의 문자 또는 메타 문자의 집합을 그룹화합니다. 괄호()로 표현합니다. 예를 들어, '(abc)+'는 'abc'가 1번 이상 반복되는 문자열에 매치됩니다."
   ]
  },
  {
   "cell_type": "code",
   "execution_count": 6,
   "id": "2c16afaa",
   "metadata": {},
   "outputs": [
    {
     "name": "stdout",
     "output_type": "stream",
     "text": [
      "<re.Match object; span=(0, 1), match='a'>\n",
      "['a', 'p', 'p', 'l', 'e']\n",
      "['a', 'e']\n",
      "<re.Match object; span=(0, 8), match='baaaaana'>\n",
      "<re.Match object; span=(0, 6), match='babana'>\n",
      "['ba', '']\n"
     ]
    }
   ],
   "source": [
    "# re.findall()은 2개의 인자를 가짐\n",
    "# (패턴을 지정하는 정규표현식, 검색대상이 되는 문자열)\n",
    "pattern1 = 'a'\n",
    "text1 = 'apple'\n",
    "print(re.search(pattern1, text1))\n",
    "\n",
    "pattern2 = '.'     # 점(.)은 모든 문자에 매치\n",
    "text2 = 'apple'\n",
    "print(re.findall(pattern2, text2))\n",
    "\n",
    "pattern3 = '[aeiou]'\n",
    "text3 = 'apple'\n",
    "print(re.findall(pattern3, text3))\n",
    "\n",
    "pattern4 = 'ba*na'\n",
    "text4 = 'baaaaanana'\n",
    "print(re.search(pattern4, text4))\n",
    "\n",
    "pattern5 = '^(ba)(ba)*na'   # ba로 시작, ba 반복 허용, na로 끝나는\n",
    "text5 = 'babanaana'\n",
    "print(re.search(pattern5, text5))\n",
    "\n",
    "pattern6 = '(ba)*na'   # findall은 해당 패턴을 만족하는 '그룹'안 문자만 뽑음\n",
    "text6 = 'babanaana'\n",
    "print(re.findall(pattern6, text6))  #그래서 ['bana', 'na']가 아닌 ['ba', '']가 나오는 것"
   ]
  },
  {
   "cell_type": "code",
   "execution_count": 7,
   "id": "fc1528a0",
   "metadata": {},
   "outputs": [
    {
     "name": "stdout",
     "output_type": "stream",
     "text": [
      "<re.Match object; span=(0, 5), match='apple'>\n",
      "['ap'] \n",
      "\n",
      "<re.Match object; span=(0, 4), match='bana'>\n",
      "['ba', ''] \n",
      "\n",
      "<re.Match object; span=(0, 4), match='bana'>\n",
      "[('bana', 'ba'), ('na', '')]\n",
      "('bana', 'ba')\n"
     ]
    }
   ],
   "source": [
    "#### search, findall -> 그룹화 출력 결과물 차이\n",
    "\n",
    "pattern2 = '(ap).+'\n",
    "text2 = 'apple'\n",
    "print(re.search(pattern2, text2))      #'apple' 다 나옴 (search는 첫 번째 매치만)\n",
    "print(re.findall(pattern2, text2),'\\n')   #그룹화된 'ap'만 나옴\n",
    "\n",
    "pattern5 = '(ba)*na'\n",
    "text5 = 'banaana'\n",
    "print(re.search(pattern5,text5))    #'bana'다 나옴\n",
    "print(re.findall(pattern5,text5),'\\n')    #그룹화된 'ba',''만 나옴\n",
    "\n",
    "pattern5 = '((ba)*na)'\n",
    "text5 = 'banaana'\n",
    "print(re.search(pattern5,text5))    # 'bana'다 나옴\n",
    "print(re.findall(pattern5,text5))    #'bana','ba' 다 나옴\n",
    "print(re.findall(pattern5,text5)[0])"
   ]
  },
  {
   "cell_type": "markdown",
   "id": "68198b07",
   "metadata": {},
   "source": [
    "# 정규표현식의 문법\n",
    "\n",
    "\n",
    "정규표현식의 문법에는 다양한 메타문자(meta-character)가 사용됩니다. 메타문자란 일반적으로 사용되는 문자가 아니라, 특별한 의미를 가지는 문자를 말합니다. 메타문자는 다양한 용도로 사용되며, 각각의 기능은 다음과 같습니다."
   ]
  },
  {
   "cell_type": "markdown",
   "id": "e0adcabc",
   "metadata": {},
   "source": [
    "## 메타문자의 종류와 사용 방법\n",
    "\n",
    "\n",
    "\n",
    "[문자 클래스]\n",
    " - \\d 숫자와 매치, [0-9]와 동일한 표현식\n",
    " - \\D 숫자가 아닌 것과 매치, [^0-9]와 동일한 표현식\n",
    " - \\s whitespace 문자와 매치, [ \\t\\n\\r\\f\\v]와 동일한 표현식\n",
    " - \\S whitespace 문자가 아닌 것과 매치, [^ \\t\\n\\r\\f\\v]와 동일한 표현식\n",
    " - \\w 문자 + 숫자와 매치, [a-zA-Z0-9]와 동일한 표현식\n",
    " - \\W 문자 + 숫자가 아닌 문자와 매치, [^a-zA-Z0-9]와 동일한 표현식\n",
    "\n",
    "[whitespace]\n",
    " -  스페이스 바 (아스키코드 32)\n",
    " -  ＼b  뒤로 한 칸 이동 (Backspace) (아스키코드 8)\n",
    " -  ＼t  수평탭 간격 띄우기 (아스키코드 9)\n",
    " -  ＼n  줄바꿈 (Linefeed) (아스키코드 10)\n",
    " -  ＼v  수직탭 간격 띄우기 (아스키코드 11)\n",
    " -  ＼f  프린트 출력 용지를 한 페이지 넘김 (Form feed) (아스키코드 12)\n",
    " -  ＼r  동일한 줄의 맨 앞으로 커서 이동 (Carriage Return) (아스키코드 13)\n",
    " - Dot(.) 메타 문자는 줄바꿈 문자인 \\n를 제외한 모든 문자와 매치됨을 의미\n",
    " \n",
    "참고: whitespace 문자는 공백과 같은 문자. 주로 특정 문자열에서 단어를 구분하기 위하여 사용\n",
    "\n",
    "[문자열의 반복과 선택을 나타내는 메타문자]\n",
    "- ^ : 문자열의 시작을 나타냄. 예를 들어, '^a'는 문자열의 시작이 'a'인 경우와 매치됨.\n",
    "- \\\\$ : 문자열의 끝을 나타냄. 예를 들어, 'a$'는 문자열의 끝이 'a'인 경우와 매치됨.\n",
    "\n",
    "\n",
    "\n",
    "[문자열의 반복과 선택을 나타내는 메타문자]\n",
    "- 반복(\\*) ca*t 0부터 무한대로 반복\n",
    "- 반복(\\+) ca+t 최소 1번 이상 반복\n",
    "- ca{m,n} a 반복 횟수가 m부터 n까지인 것을 매치\n",
    "- ca{2}t는 c+a(2번 반복)+t의 의미\n",
    "- 반복횟수가 {1,}은 1 이상, {0,}은 0 이상인 경우로 각각 +, *와 동일하며 {,1}은 반복횟수가 1 이하를 의미.\n",
    "- ab?c b가 0~1번 사용되면 매치되는 것으로 ?은 앞의 b가 있어도 되고 없어도 된다\n",
    "## re 모듈\n",
    "\n",
    "정규표현식을 파이썬에서 사용하기 위해서는 re 모듈을 import하여 사용합니다. 이를 이용하여 정규식을 컴파일하고 정규식을 이용한 문자열 검색 등 다양한 작업을 수행할 수 있습니다.\n",
    "\n",
    "re 모듈을 이용하여 문자열 검색을 수행하는 함수는 다음과 같습니다.\n",
    "\n",
    "- compile(): 정규식을 컴파일합니다.\n",
    "- match(): 문자열의 처음부터 정규식과 매치되는지 조사합니다.\n",
    "- search(): 문자열의 전체를 검색하여 정규식과 매치되는지 조사합니다.\n",
    "- findall(): 정규식과 매치되는 모든 문자열을 리스트로 리턴합니다.\n",
    "- finditer(): 정규식과 매치되는 모든 문자열을 반복 가능한 객체로 리턴합니다."
   ]
  },
  {
   "cell_type": "code",
   "execution_count": 8,
   "id": "21debd7e",
   "metadata": {},
   "outputs": [
    {
     "name": "stdout",
     "output_type": "stream",
     "text": [
      "match found!\n"
     ]
    }
   ],
   "source": [
    "pattern = re.compile('ab+c')\n",
    "match = pattern.search('abbbc')\n",
    "\n",
    "if match:\n",
    "    print('match found!')\n",
    "else:\n",
    "    print('not found!')"
   ]
  },
  {
   "cell_type": "code",
   "execution_count": 9,
   "id": "4288b421",
   "metadata": {},
   "outputs": [
    {
     "data": {
      "text/plain": [
       "<re.Match object; span=(0, 5), match='abbbc'>"
      ]
     },
     "execution_count": 9,
     "metadata": {},
     "output_type": "execute_result"
    }
   ],
   "source": [
    "re.match(pattern, 'abbbceee')"
   ]
  },
  {
   "cell_type": "code",
   "execution_count": 10,
   "id": "6f8e10eb",
   "metadata": {},
   "outputs": [
    {
     "data": {
      "text/plain": [
       "['abbbc', 'abc']"
      ]
     },
     "execution_count": 10,
     "metadata": {},
     "output_type": "execute_result"
    }
   ],
   "source": [
    "re.findall(pattern, 'abbbceeabce')"
   ]
  },
  {
   "cell_type": "code",
   "execution_count": 11,
   "id": "10d1fc41",
   "metadata": {},
   "outputs": [
    {
     "name": "stdout",
     "output_type": "stream",
     "text": [
      "<re.Match object; span=(0, 5), match='abbbc'>\n",
      "abbbc\n",
      "<re.Match object; span=(7, 10), match='abc'>\n",
      "abc\n"
     ]
    }
   ],
   "source": [
    "result = re.finditer(pattern, 'abbbceeabce')   #객체 형태로 리턴\n",
    "for i in result:\n",
    "    print(i)\n",
    "    print(i[0])"
   ]
  },
  {
   "cell_type": "code",
   "execution_count": 12,
   "id": "762909bd",
   "metadata": {},
   "outputs": [
    {
     "name": "stdout",
     "output_type": "stream",
     "text": [
      "['ba', '']\n"
     ]
    }
   ],
   "source": [
    "pattern5 = '(ba)*na'    #그룹화 해주면 조건을 만족하는 '그룹 안' 내용만 나옴\n",
    "text5 = 'banaana'\n",
    "print(re.findall(pattern5,text5))  # '(ba)na', '(ba)' => 'na', ''"
   ]
  },
  {
   "cell_type": "code",
   "execution_count": 13,
   "id": "a80b2ad8",
   "metadata": {},
   "outputs": [
    {
     "data": {
      "text/plain": [
       "(3, 9)"
      ]
     },
     "execution_count": 13,
     "metadata": {},
     "output_type": "execute_result"
    }
   ],
   "source": [
    "p = re.compile('[a-z]+')\n",
    "m = p.search(\"453python3\")\n",
    "m.group()\n",
    "m.start()\n",
    "m.end()\n",
    "m.span()"
   ]
  },
  {
   "cell_type": "code",
   "execution_count": 14,
   "id": "76682476",
   "metadata": {},
   "outputs": [
    {
     "name": "stdout",
     "output_type": "stream",
     "text": [
      "python \n",
      "['python ', 'python ']\n",
      "<re.Match object; span=(1, 8), match='python '>\n"
     ]
    }
   ],
   "source": [
    "# 정규표현식 연습\n",
    "text1 = 'python python'\n",
    "text2 = 'python python '\n",
    "text3 = '3python '\n",
    "\n",
    "p=re.compile('[a-z]+\\s?')    #영어(반복) + 공백(0개 or 1개)\n",
    "print(re.match(p, text1).group())\n",
    "print(p.findall(text2))    #이렇게도 사용 가능 p.findall(text)\n",
    "print(re.search(p, text3))"
   ]
  },
  {
   "cell_type": "code",
   "execution_count": 15,
   "id": "ca7def82",
   "metadata": {},
   "outputs": [
    {
     "name": "stdout",
     "output_type": "stream",
     "text": [
      "<re.Match object; span=(1, 6), match='anker'>\n",
      "<re.Match object; span=(0, 6), match='banker'>\n"
     ]
    }
   ],
   "source": [
    "# 문자 클래스: []\n",
    "p = re.compile('[a-z]+')\n",
    "p1 = p.search('Banker')\n",
    "p2 = p.search('banker')\n",
    "\n",
    "print(p1)\n",
    "print(p2)"
   ]
  },
  {
   "cell_type": "code",
   "execution_count": 16,
   "id": "dd62db15",
   "metadata": {},
   "outputs": [
    {
     "name": "stdout",
     "output_type": "stream",
     "text": [
      "<re.Match object; span=(5, 6), match='a'>\n",
      "<re.Match object; span=(8, 9), match='A'>\n",
      "대\n",
      "<re.Match object; span=(0, 7), match='122333c'>\n",
      "<re.Match object; span=(0, 16), match='aaaaBBBcccDDDeee'>\n"
     ]
    }
   ],
   "source": [
    "# a만 출력\n",
    "text = '12345abc'\n",
    "print(re.search('[a]',text))\n",
    "\n",
    "# A만 출력\n",
    "text = 'abc12345Abc'\n",
    "print(re.search('[A]',text))\n",
    "\n",
    "# '대'만 출력\n",
    "text = 'KOREA 아대한민국'\n",
    "print(re.findall('[가-힣]',text)[1])   # 한글 중 1번(=2번째) 글자를 뽑음\n",
    "\n",
    "# '122333c'출력\n",
    "text = '122333c456'\n",
    "print(re.search('\\w+c',text))\n",
    "\n",
    "# 'aaaaBBBcccDDDeee'출력\n",
    "text = 'aaaaBBBcccDDDeee'\n",
    "print(re.search('\\w+',text))"
   ]
  },
  {
   "cell_type": "code",
   "execution_count": 17,
   "id": "8a425021",
   "metadata": {},
   "outputs": [
    {
     "name": "stdout",
     "output_type": "stream",
     "text": [
      "life\n",
      "is\n",
      "too\n",
      "short\n"
     ]
    }
   ],
   "source": [
    "# finditer: 반복문으로 활용하는 '객체'가 나옴\n",
    "text = 'life is too short'\n",
    "p = re.compile('[a-z]+')\n",
    "result = p.finditer(text)\n",
    "\n",
    "for i in result:\n",
    "    print(i[0])"
   ]
  },
  {
   "cell_type": "code",
   "execution_count": 18,
   "id": "1b6f1041",
   "metadata": {},
   "outputs": [
    {
     "name": "stdout",
     "output_type": "stream",
     "text": [
      "['Python', 'is', 'very', 'good', 'programming', 'language'] \n",
      "\n",
      "<callable_iterator object at 0x000001C9A0EE92B0>\n",
      "Python\n",
      "is\n",
      "very\n",
      "good\n",
      "programming\n",
      "language\n"
     ]
    }
   ],
   "source": [
    "# 모든 알파벳만 출력\n",
    "text = 'Python3 is very good programming language!'\n",
    "print(re.findall('[a-zA-Z]+', text),'\\n')\n",
    "\n",
    "x = re.finditer('[a-zA-Z]+', text)\n",
    "print(x)    #정보가 저장된 주소\n",
    "for i in x:\n",
    "    print(i[0])    #정보"
   ]
  },
  {
   "cell_type": "code",
   "execution_count": 19,
   "id": "c2e44038",
   "metadata": {},
   "outputs": [
    {
     "name": "stdout",
     "output_type": "stream",
     "text": [
      "life\n",
      "None\n",
      "None\n"
     ]
    }
   ],
   "source": [
    "# 맨 처음부터 매칭\n",
    "text1 = 'life'\n",
    "text2 = '!!!oh my life'\n",
    "text3 = '7 is lucky number'\n",
    "print(re.match('[a-z]+',text1)[0])\n",
    "print(re.match('[a-z]+',text2))\n",
    "print(re.match('[a-z]+',text3))"
   ]
  },
  {
   "cell_type": "code",
   "execution_count": 20,
   "id": "2b1e112f",
   "metadata": {},
   "outputs": [
    {
     "name": "stdout",
     "output_type": "stream",
     "text": [
      "python\n",
      "0\n",
      "6\n",
      "(0, 6)\n"
     ]
    }
   ],
   "source": [
    "# match 객체의 메서드\n",
    "m = re.match('[a-z]+', 'python')\n",
    "print(m.group())\n",
    "print(m.start())\n",
    "print(m.end())\n",
    "print(m.span())"
   ]
  },
  {
   "cell_type": "code",
   "execution_count": 21,
   "id": "cc55950d",
   "metadata": {},
   "outputs": [
    {
     "name": "stdout",
     "output_type": "stream",
     "text": [
      "python\n",
      "2\n",
      "8\n",
      "(2, 8)\n"
     ]
    }
   ],
   "source": [
    "# search 객체의 메서드 (위와 같음)\n",
    "m = re.search('[a-z]+', '3 python')\n",
    "print(m.group())\n",
    "print(m.start())\n",
    "print(m.end())\n",
    "print(m.span())"
   ]
  },
  {
   "cell_type": "code",
   "execution_count": 22,
   "id": "6d9d80bb",
   "metadata": {},
   "outputs": [
    {
     "name": "stdout",
     "output_type": "stream",
     "text": [
      "0 None\n",
      "1 <re.Match object; span=(0, 3), match='acb'>\n",
      "2 <re.Match object; span=(0, 6), match='a12?Ab'>\n",
      "\n",
      " acb a12?Ab\n"
     ]
    }
   ],
   "source": [
    "# Dot(.) 메타 문자는 줄바꿈 문자를 제외한 모든 문자와 매치\n",
    "# 줄바꿈 문자를 만나는 순간 틀린(일치하지 않는) 것으로 간주\n",
    "text = ['a\\nb', 'acb', 'a12?Ab']\n",
    "for i, t in enumerate(text):\n",
    "    m = re.match('a.*b',t)\n",
    "    print(i, m)\n",
    "    \n",
    "text = 'a\\nb acb a12?Ab'\n",
    "m = re.search('a.*b',text)\n",
    "print('\\n',m.group())    #첫 번째 단어만 넘어가고 2,3번째는 나옴"
   ]
  },
  {
   "cell_type": "code",
   "execution_count": 23,
   "id": "359712e4",
   "metadata": {},
   "outputs": [
    {
     "data": {
      "text/plain": [
       "'a\\nb'"
      ]
     },
     "execution_count": 23,
     "metadata": {},
     "output_type": "execute_result"
    }
   ],
   "source": [
    "# 컴파일 옵션: DOTALL(S) -> dot(.)이 줄바꿈 문자를 포함하도록\n",
    "pattern = re.compile('a.b', re.DOTALL)\n",
    "m = pattern.match('a\\nb')\n",
    "m[0]"
   ]
  },
  {
   "cell_type": "code",
   "execution_count": 24,
   "id": "09848223",
   "metadata": {},
   "outputs": [
    {
     "name": "stdout",
     "output_type": "stream",
     "text": [
      "what are you doing?  \n",
      "\n",
      "what are you doing? \n",
      " it is going to be late for school\n"
     ]
    }
   ],
   "source": [
    "text = 'what are you doing? \\n it is going to be late for school'\n",
    "\n",
    "p = re.compile('.*')\n",
    "m = p.search(text)\n",
    "print(m.group(), '\\n')\n",
    "\n",
    "p = re.compile('.*', re.S)   #dot(.) 개행문자 포함 옵션\n",
    "m = p.search(text)\n",
    "print(m.group())"
   ]
  },
  {
   "cell_type": "code",
   "execution_count": 25,
   "id": "104038d3",
   "metadata": {},
   "outputs": [
    {
     "data": {
      "text/plain": [
       "'pYthon'"
      ]
     },
     "execution_count": 25,
     "metadata": {},
     "output_type": "execute_result"
    }
   ],
   "source": [
    "# 컴파일 옵션: IGNORECASE(I): 대소문자 구분 없이 매치\n",
    "re.match('[a-z]+', 'pYthon', re.I).group()"
   ]
  },
  {
   "cell_type": "code",
   "execution_count": 26,
   "id": "03cc79fa",
   "metadata": {},
   "outputs": [
    {
     "name": "stdout",
     "output_type": "stream",
     "text": [
      "['Friend', 'fRiend', 'friEnd', 'FRIEND'] \n",
      "\n",
      "['Friend']\n",
      "['fRiend']\n",
      "['friEnd']\n",
      "['FRIEND']\n"
     ]
    }
   ],
   "source": [
    "# friend라는 글자를 찾되, 대소문자 구분x\n",
    "text = 'Friend fRiend friEnd FRIEND32'\n",
    "print(re.findall('friend', text, re.I), '\\n')\n",
    "\n",
    "t = text.split(' ')\n",
    "for i in t:\n",
    "    print(re.findall('friend', i, re.I))"
   ]
  },
  {
   "cell_type": "code",
   "execution_count": 27,
   "id": "99d952f0",
   "metadata": {},
   "outputs": [
    {
     "name": "stdout",
     "output_type": "stream",
     "text": [
      "pAthon\n",
      "PATHON\n",
      "pathon\n",
      "Pathon\n"
     ]
    }
   ],
   "source": [
    "text = ['pAthon','PATHON','pathon','Pathon']\n",
    "pattern = re.compile('^pathon', re.I)\n",
    "\n",
    "for i in text:\n",
    "    m = pattern.search(i)\n",
    "    print(m.group())"
   ]
  },
  {
   "cell_type": "code",
   "execution_count": 28,
   "id": "f1b6367e",
   "metadata": {},
   "outputs": [
    {
     "name": "stdout",
     "output_type": "stream",
     "text": [
      "['python one']\n",
      "['python one', 'python two', 'python three']\n"
     ]
    }
   ],
   "source": [
    "# 컴파일 옵션: MULTILINE(M)\n",
    "# 여러 줄의 텍스트가 있을 때 각 줄마다 시작(^)/끝(&) 조건 검색\n",
    "data = '''python one\n",
    "life is too short\n",
    "python two\n",
    "you need python\n",
    "python three'''\n",
    "\n",
    "print(re.findall('^python\\s\\w+', data))\n",
    "print(re.findall('^python\\s\\w+', data, re.M))"
   ]
  },
  {
   "cell_type": "code",
   "execution_count": 29,
   "id": "8f42f317",
   "metadata": {},
   "outputs": [],
   "source": [
    "# re.VERBOSE(X) : 정규식을 주석 또는 라인 단위로 구분\n",
    "charref1 = re.compile(r'&[#](0[0-7]+|[0-9]+|x[0-9a-fA-F]+);')\n",
    "charref2 = re.compile(r\"\"\"\n",
    "&[#]               # Start of a numeric entity reference\n",
    "(\n",
    "    0[0-7]+        # Octal form\n",
    "  | [0-9]+         # Decimal form \n",
    "  | x[0-9a-fA-F]+  # Hexadecimal form\n",
    ")\n",
    ";                  # Trailing semicolon \n",
    "\"\"\", re.VERBOSE)"
   ]
  },
  {
   "cell_type": "code",
   "execution_count": 30,
   "id": "108aee08",
   "metadata": {},
   "outputs": [
    {
     "name": "stdout",
     "output_type": "stream",
     "text": [
      "None\n",
      "\\section\n"
     ]
    }
   ],
   "source": [
    "# 파이썬 문자열 리터럴 규칙에 의해 \\\\이 \\로 변경되어 전달\n",
    "# 정규식 문자열 앞에 r을 삽입하면 로우스트링 규칙에 의해 \\\\ -> \\\n",
    "p1 = re.compile('\\\\section')   # \\\\s -> \\s(=스페이스)\n",
    "p2 = re.compile(r'\\\\section')   # \\\\s -> \\s(=그냥 문자)\n",
    "\n",
    "print(p1.match('\\section\\section'))\n",
    "print(p2.match('\\section\\section')[0])"
   ]
  },
  {
   "cell_type": "code",
   "execution_count": 31,
   "id": "a605aad6",
   "metadata": {},
   "outputs": [
    {
     "data": {
      "text/plain": [
       "'Crow'"
      ]
     },
     "execution_count": 31,
     "metadata": {},
     "output_type": "execute_result"
    }
   ],
   "source": [
    "# |(or), ^(문자열 맨 처음), $(문자열 끝)\n",
    "re.match('Crow|Servo', 'CrowHello')[0]"
   ]
  },
  {
   "cell_type": "code",
   "execution_count": 32,
   "id": "747fe953",
   "metadata": {},
   "outputs": [
    {
     "name": "stdout",
     "output_type": "stream",
     "text": [
      "Life\n",
      "short\n",
      "Life is too short\n",
      "['Life', 'Life']\n"
     ]
    }
   ],
   "source": [
    "# ^ $\n",
    "print(re.search('^Life', 'Life is too short')[0])\n",
    "print(re.search('short$', 'Life is too short')[0])\n",
    "print(re.search('^Life.*short$', 'Life is too short')[0])\n",
    "\n",
    "print(re.findall('^Life|Life$', 'Life is too short Life'))"
   ]
  },
  {
   "cell_type": "code",
   "execution_count": 33,
   "id": "2c2967e0",
   "metadata": {},
   "outputs": [
    {
     "name": "stdout",
     "output_type": "stream",
     "text": [
      "['Life is too short', 'Life is good', 'Life is valuable']\n",
      "['Life is good']\n"
     ]
    }
   ],
   "source": [
    "data = \"\"\"Life is too short\n",
    "Life is good\n",
    "Life is valuable\"\"\"\n",
    "print(re.findall('^Life.*',data, re.M))\n",
    "print(re.findall('^Life.*good$',data, re.M))"
   ]
  },
  {
   "cell_type": "code",
   "execution_count": 34,
   "id": "011a7b98",
   "metadata": {},
   "outputs": [
    {
     "name": "stdout",
     "output_type": "stream",
     "text": [
      "1:  ['Life is too short324']\n",
      "2:  ['Life is valuable3235']\n"
     ]
    }
   ],
   "source": [
    "# \\A, \\z\n",
    "# ^$와 같은 기능이나, re.M 옵션과 관계없이 전체 text의 맨 처음/끝에만 매칭\n",
    "data = \"\"\"Life is too short324\n",
    "Life is good125\n",
    "Life is valuable3235\"\"\"\n",
    "print(\"1: \",re.findall('\\ALife.*',data, re.M))\n",
    "print(\"2: \",re.findall('.*\\d\\Z.*',data, re.M))"
   ]
  },
  {
   "cell_type": "code",
   "execution_count": 35,
   "id": "ce2f2af4",
   "metadata": {},
   "outputs": [
    {
     "data": {
      "text/plain": [
       "'home'"
      ]
     },
     "execution_count": 35,
     "metadata": {},
     "output_type": "execute_result"
    }
   ],
   "source": [
    "text = 'we are going home'\n",
    "re.search('home$', text)[0]\n",
    "re.search('home\\Z', text)[0]"
   ]
  },
  {
   "cell_type": "code",
   "execution_count": 36,
   "id": "af02b5b8",
   "metadata": {},
   "outputs": [
    {
     "name": "stdout",
     "output_type": "stream",
     "text": [
      "['199305']\n",
      "['199305']\n"
     ]
    }
   ],
   "source": [
    "# 199305만 출력\n",
    "text = '199305,1923A,a93247'\n",
    "print(re.findall('(\\d+),',text))\n",
    "\n",
    "text = '1923A,199305,a93247'\n",
    "print(re.findall('(\\d+),',text))"
   ]
  },
  {
   "cell_type": "code",
   "execution_count": 37,
   "id": "1e123589",
   "metadata": {},
   "outputs": [
    {
     "name": "stdout",
     "output_type": "stream",
     "text": [
      "class\n"
     ]
    }
   ],
   "source": [
    "# \\b \\b: 단어구분자\n",
    "text = 'no class at all'\n",
    "print(re.search(r'\\bclass\\b', text)[0])"
   ]
  },
  {
   "cell_type": "code",
   "execution_count": 38,
   "id": "808a634a",
   "metadata": {},
   "outputs": [
    {
     "name": "stdout",
     "output_type": "stream",
     "text": [
      "classif\n"
     ]
    }
   ],
   "source": [
    "# \\B \\B: 단어구분자(양옆에 공백이 없는 경우)\n",
    "text = 'the declassified algorithim'\n",
    "print(re.search(r'\\Bclassif\\B', text)[0])"
   ]
  },
  {
   "cell_type": "code",
   "execution_count": 39,
   "id": "386e4a1c",
   "metadata": {},
   "outputs": [
    {
     "name": "stdout",
     "output_type": "stream",
     "text": [
      "['에러 1122', '에러 1033', '에러 xxx']\n"
     ]
    }
   ],
   "source": [
    "# 에러가 있는 부분만 출력\n",
    "text = '에러 1122, 레퍼런스 오류, 에러 1033, 아규먼트 오류, 에러 xxx'\n",
    "print(re.findall(r'에러\\s[^,]+', text))"
   ]
  },
  {
   "cell_type": "code",
   "execution_count": 40,
   "id": "58c73f5b",
   "metadata": {},
   "outputs": [
    {
     "name": "stdout",
     "output_type": "stream",
     "text": [
      "<re.Match object; span=(0, 9), match='ABCABCABC'>\n",
      "ABCABCABC\n",
      "ABC\n"
     ]
    }
   ],
   "source": [
    "# 그룹핑\n",
    "text = 'ABCABCABC OK?'\n",
    "m = re.search('(ABC)+', text)\n",
    "print(m)\n",
    "print(m.group(0))\n",
    "print(m.group(1))"
   ]
  },
  {
   "cell_type": "code",
   "execution_count": 41,
   "id": "3fde6e83",
   "metadata": {},
   "outputs": [
    {
     "name": "stdout",
     "output_type": "stream",
     "text": [
      "<re.Match object; span=(3, 9), match='ABCDEF'>\n",
      "ABCDEF\n",
      "ABCDEF\n",
      "AB\n",
      "CD\n",
      "EF\n"
     ]
    }
   ],
   "source": [
    "# 그루핑을 사용해 출력\n",
    "text = 'DEFABCDEFDEF OK?'\n",
    "g = re.search('((AB)(CD)(EF))',text)\n",
    "print(g)\n",
    "print(g[0])\n",
    "print(g[1])\n",
    "print(g[2])\n",
    "print(g[3])\n",
    "print(g[4])"
   ]
  },
  {
   "cell_type": "code",
   "execution_count": 42,
   "id": "52d3ce33",
   "metadata": {},
   "outputs": [
    {
     "data": {
      "text/plain": [
       "'very very'"
      ]
     },
     "execution_count": 42,
     "metadata": {},
     "output_type": "execute_result"
    }
   ],
   "source": [
    "# \\1: 재참조 메타문자(정규식 1번째 그룹을 지칭)\n",
    "# 2개 동일한 단어가 연속적으로 사용되어야 매치\n",
    "\n",
    "# 그루핑된 문자열 재참조\n",
    "text = 'Paris is very very beautiful'\n",
    "re.search(r'\\b(\\w+)\\s+\\1',text).group()"
   ]
  },
  {
   "cell_type": "code",
   "execution_count": 43,
   "id": "070c6482",
   "metadata": {},
   "outputs": [
    {
     "name": "stdout",
     "output_type": "stream",
     "text": [
      "('abcdefghi', 'abcd', 'e', 'fghi', 'j')\n",
      "abcdefghij\n",
      "abcdefghi\n",
      "e\n"
     ]
    }
   ],
   "source": [
    "# 'abcdefghij'에 대해 중첩을 적용한 서브그룹 5개로 컴파일, 그룹화 해\n",
    "# abcdefghi와 e를 출력\n",
    "t = 'abcdefghij'\n",
    "m = re.search(r'((abcd)(e)(fghi))(j)',t)\n",
    "\n",
    "print(m.groups())\n",
    "print(m.group(0))\n",
    "print(m.group(1))\n",
    "print(m.group(3))"
   ]
  },
  {
   "cell_type": "markdown",
   "id": "961ea643",
   "metadata": {},
   "source": [
    "#### 그룹핑된 문자열에 이름 붙이기\n",
    "- 정규표현식에서 그룹핑된 문자열에 이름을 붙이는 방법은 $(?P<name>pattern)$ 형식을 사용하는 것입니다. 이때 name은 그룹에 붙일 이름이며 pattern은 그룹화할 정규식 패턴입니다."
   ]
  },
  {
   "cell_type": "code",
   "execution_count": 44,
   "id": "dacd91fd",
   "metadata": {},
   "outputs": [
    {
     "data": {
      "text/plain": [
       "'123-456-7890'"
      ]
     },
     "execution_count": 44,
     "metadata": {},
     "output_type": "execute_result"
    }
   ],
   "source": [
    "text = \"John's phone number is 123-456-7890.\"\n",
    "p = r'(?P<phone>\\d{3}-\\d{3}-\\d{4})'\n",
    "m = re.search(p, text)\n",
    "m.group('phone')"
   ]
  },
  {
   "cell_type": "code",
   "execution_count": 94,
   "id": "b55abdac",
   "metadata": {},
   "outputs": [
    {
     "data": {
      "text/plain": [
       "'park'"
      ]
     },
     "execution_count": 94,
     "metadata": {},
     "output_type": "execute_result"
    }
   ],
   "source": [
    "# 그루핑된 문자열에 이름 붙이기: 확장구문(?P<name>\\w+)\n",
    "text = 'park 010-1234-1234'\n",
    "p = re.compile(r'(?P<name>\\w+)\\s+((\\d+)[-]\\d+[-]\\d+)')\n",
    "m = p.search(text)\n",
    "m.group('name')"
   ]
  },
  {
   "cell_type": "code",
   "execution_count": 99,
   "id": "8d8690c6",
   "metadata": {},
   "outputs": [
    {
     "data": {
      "text/plain": [
       "'the the'"
      ]
     },
     "execution_count": 99,
     "metadata": {},
     "output_type": "execute_result"
    }
   ],
   "source": [
    "# 그룹명 word를 이용해 the the를 출력\n",
    "text = 'Paris in the the spring'\n",
    "p = re.compile('(?P<word>\\w+)\\s(?P=word)')\n",
    "re.search(p,text).group()"
   ]
  },
  {
   "cell_type": "markdown",
   "id": "71627902",
   "metadata": {},
   "source": [
    "#### 전방탐색\n",
    "- 전방탐색(Positive Lookahead)은 정규식에서 매치할 문자열의 앞쪽을 일치시키는 것입니다. 하지만 일치시킨 문자열은 검색 대상에서 제외됩니다. 이를 사용하면 특정 문자열 패턴 뒤에 오는 문자열을 매치할 때 유용합니다.\n",
    "\n",
    "#### 긍정탐색\n",
    "\n",
    "- 긍정 탐색은 조건을 충족하는 부분을 찾을 때 사용됩니다. 이것은 일치하는 부분을 포함하고 일치하지 않는 부분을 탐색 결과에서 제외합니다. 긍정 탐색은 (?=...) 구문을 사용하여 정규식 안에서 표현됩니다. \n",
    "\n",
    "#### 부정탐색\n",
    "\n",
    "- 부정 탐색은 일치하지 않는 부분을 찾을 때 사용됩니다. 이것은 일치하지 않는 부분을 포함하지만, 탐색 결과에서 일치하는 부분을 제외합니다. 부정 탐색은 (?!...) 구문을 사용하여 정규식 안에서 표현됩니다."
   ]
  },
  {
   "cell_type": "code",
   "execution_count": 63,
   "id": "738840b8",
   "metadata": {},
   "outputs": [
    {
     "name": "stdout",
     "output_type": "stream",
     "text": [
      "http:\n",
      "http\n"
     ]
    }
   ],
   "source": [
    "text = 'http://google.com'\n",
    "p = re.compile(r'.+:')\n",
    "m = p.search(text)\n",
    "print(m.group())\n",
    "\n",
    "text = 'http://google.com'\n",
    "p = re.compile(r'.+(?=:)')    #':'문자열이 정규식 엔진에 의해 소모되지x\n",
    "m = p.search(text)\n",
    "print(m.group())   #검색에는 포함되지만 결과에는 포함x"
   ]
  },
  {
   "cell_type": "code",
   "execution_count": 68,
   "id": "66e19c58",
   "metadata": {},
   "outputs": [
    {
     "data": {
      "text/plain": [
       "[', ', ', ']"
      ]
     },
     "execution_count": 68,
     "metadata": {},
     "output_type": "execute_result"
    }
   ],
   "source": [
    "text = 'I love Python, Java, and JavaScript.'\n",
    "re.findall('(?=.+),\\s(?=.+)', text)"
   ]
  },
  {
   "cell_type": "code",
   "execution_count": 73,
   "id": "fa998373",
   "metadata": {},
   "outputs": [
    {
     "name": "stdout",
     "output_type": "stream",
     "text": [
      "<re.Match object; span=(0, 4), match='foo.'>\n",
      "<re.Match object; span=(0, 9), match='autoexec.'>\n",
      "None\n",
      "None\n"
     ]
    }
   ],
   "source": [
    "list = ['foo.exe', 'autoexec.bat', 'sendmail.cf', 'rgwsag']\n",
    "for i in list:\n",
    "    print(re.match('.*[.](?!cf$)',i))\n",
    "#부정탐색 -> cf로 끝나지 않는, 파일 형식인 단어"
   ]
  },
  {
   "cell_type": "code",
   "execution_count": 88,
   "id": "198f4386",
   "metadata": {},
   "outputs": [
    {
     "name": "stdout",
     "output_type": "stream",
     "text": [
      "None\n",
      "None \n",
      "\n",
      "None\n",
      "None \n",
      "\n",
      "<re.Match object; span=(0, 11), match='sendmail.cf'>\n",
      "None \n",
      "\n",
      "None\n",
      "None \n",
      "\n"
     ]
    }
   ],
   "source": [
    "list = ['foo.exe', 'autoexec.bat', 'sendmail.cf', 'rgwsag']\n",
    "for i in list:\n",
    "    print(re.search('.*[.](?!.{3}).*',i))   #확장자 3글자인거 거름\n",
    "    print(re.search('.*[.](?!.{2}).*',i),'\\n')  #확장자 2글자 거름/ 그 이상은 검색 안함"
   ]
  },
  {
   "cell_type": "code",
   "execution_count": 89,
   "id": "4e181dd8",
   "metadata": {},
   "outputs": [
    {
     "data": {
      "text/plain": [
       "'gmail.com'"
      ]
     },
     "execution_count": 89,
     "metadata": {},
     "output_type": "execute_result"
    }
   ],
   "source": [
    "# (?<=@): 전방탐색/'@'기호 이후에 오는 문자열을 찾음\n",
    "# [\\w.]+: 도메인 이름을 나타내는 패턴/ 알파벳 대소문자, 숫자, 밑줄, 마침표 포함\n",
    "# (?!\\d+): 부정탐색/ 도메인 이후에 오는 .com .org 등의 문자열 제외\n",
    "email = 'example@gmail.com'\n",
    "p = r'(?<=@)[\\w.]+(?!\\d+)'\n",
    "\n",
    "re.search(p, email).group()"
   ]
  },
  {
   "cell_type": "code",
   "execution_count": 102,
   "id": "c8080e33",
   "metadata": {},
   "outputs": [
    {
     "name": "stdout",
     "output_type": "stream",
     "text": [
      "color socks and color shoes\n",
      "color socks and red shoes\n",
      "('color socks and color shoes', 2)\n"
     ]
    }
   ],
   "source": [
    "# 문자열 바꾸기\n",
    "# sub: 정규식과 매치되는 부분을 다른 문자로 바꿀 수 있음\n",
    "text = 'blue socks and red shoes'\n",
    "p = re.compile('(blue|white|red)')\n",
    "\n",
    "print(p.sub('color', text))   #매치되는 부분을 모두 color로 바꿈\n",
    "print(p.sub('color', text, count=1))   #1번만 바꿈\n",
    "print(p.subn('color', text))   #바꾼 횟수도 알려줌"
   ]
  },
  {
   "cell_type": "code",
   "execution_count": 109,
   "id": "96bf3d1c",
   "metadata": {},
   "outputs": [
    {
     "name": "stdout",
     "output_type": "stream",
     "text": [
      "abc\n",
      "abc\n"
     ]
    }
   ],
   "source": [
    "# abc만 출력\n",
    "str = '12345abc'\n",
    "print(re.search('\\D+',str).group())\n",
    "\n",
    "print(re.sub('\\d+','',str))  #해당 부분 교체 후 전체 문장 보여줌"
   ]
  },
  {
   "cell_type": "code",
   "execution_count": 110,
   "id": "ae0a781d",
   "metadata": {},
   "outputs": [
    {
     "name": "stdout",
     "output_type": "stream",
     "text": [
      "12345\n"
     ]
    }
   ],
   "source": [
    "# 12345만 출력\n",
    "str = '12345abc'\n",
    "print(re.sub('\\D+','',str))"
   ]
  },
  {
   "cell_type": "code",
   "execution_count": 113,
   "id": "393e3680",
   "metadata": {},
   "outputs": [
    {
     "name": "stdout",
     "output_type": "stream",
     "text": [
      "010-3999-7048 Kim\n"
     ]
    }
   ],
   "source": [
    "# 이름+전화번호 -> 전화번호+이름\n",
    "text = \"Kim 010-3999-7048\"\n",
    "p = re.compile('(?P<name>\\w+)\\s(?P<phone>\\d+[-]\\d+[-]\\d+)')\n",
    "print(p.sub('\\g<phone> \\g<name>', text))"
   ]
  },
  {
   "cell_type": "code",
   "execution_count": 112,
   "id": "a9b60808",
   "metadata": {},
   "outputs": [
    {
     "name": "stdout",
     "output_type": "stream",
     "text": [
      "Call 0xffd2 for printing, 0xc000 for user code.\n"
     ]
    }
   ],
   "source": [
    "# sub메서드 매개변수로 함수 넣기\n",
    "def hexr(match):   #16진수로 변환하는 함수\n",
    "    value = int(match.group())\n",
    "    return hex(value)\n",
    "\n",
    "text = 'Call 65490 for printing, 49152 for user code.'\n",
    "p = re.compile(r'\\d+')\n",
    "m = p.sub(hexr, text)\n",
    "print(m)"
   ]
  },
  {
   "cell_type": "markdown",
   "id": "f8517181",
   "metadata": {},
   "source": [
    "#### 정규표현식에서 greedy와 nongreedy는 매칭(matching) 과정에서 사용되는 용어입니다.\n",
    "\n",
    "- Greedy: 가능한 가장 긴 문자열을 매칭하는 방식입니다. 즉, 매칭할 수 있는 최대한의 문자열을 선택합니다. 예를 들어, .*는 0개 이상의 어떤 문자든지 가능한 최대한의 문자열을 매칭합니다.\n",
    "\n",
    "- Nongreedy (또는 Lazy): 가능한 가장 짧은 문자열을 매칭하는 방식입니다. 즉, 매칭할 수 있는 최소한의 문자열만 선택합니다. 예를 들어, .*?는 0개 이상의 어떤 문자든지 가능한 최소한의 문자열을 매칭합니다."
   ]
  },
  {
   "cell_type": "code",
   "execution_count": 117,
   "id": "4289b146",
   "metadata": {},
   "outputs": [
    {
     "name": "stdout",
     "output_type": "stream",
     "text": [
      "123\n",
      "1\n"
     ]
    }
   ],
   "source": [
    "text = 'There are 123 apples and 45678 bananas'\n",
    "\n",
    "greedy = re.compile(r'\\d+')\n",
    "n_greedy = re.compile(r'\\d+?')\n",
    "\n",
    "mg = greedy.search(text)\n",
    "n_mg = n_greedy.search(text)\n",
    "print(mg[0])\n",
    "print(n_mg[0])"
   ]
  },
  {
   "cell_type": "code",
   "execution_count": 136,
   "id": "0cf0d0af",
   "metadata": {},
   "outputs": [
    {
     "name": "stdout",
     "output_type": "stream",
     "text": [
      "<html><head><title>Title</title>\n",
      "<html>\n",
      "<html><head><title>Title</title>\n",
      "<html>\n"
     ]
    }
   ],
   "source": [
    "# S에서 최대한의 문자열인 <html><head><title>Title</title>과\n",
    "# 최소한의 문자열 <html>을 출력\n",
    "s = '<html><head><title>Title</title>'\n",
    "print(re.search('(<[^<]+)+', s)[0])\n",
    "print(re.search('(<[^<]+)+?', s)[0])\n",
    "\n",
    "#주경님 코드\n",
    "print(re.search('<.+>',s).group())\n",
    "print(re.search('<.+?>',s).group())"
   ]
  },
  {
   "cell_type": "code",
   "execution_count": null,
   "id": "8a3f79f9",
   "metadata": {},
   "outputs": [],
   "source": []
  },
  {
   "cell_type": "markdown",
   "id": "494b2498",
   "metadata": {},
   "source": [
    "#### 과제(1): 정규표현식을 사용해 문자열(text)에서 이메일 추출\n",
    "- text = '이메일 주소는 abc123@gmail.com 입니다.'"
   ]
  },
  {
   "cell_type": "code",
   "execution_count": 45,
   "id": "98be569e",
   "metadata": {},
   "outputs": [
    {
     "data": {
      "text/plain": [
       "['abc123@gmail.com']"
      ]
     },
     "execution_count": 45,
     "metadata": {},
     "output_type": "execute_result"
    }
   ],
   "source": [
    "text = '이메일 주소는 abc123@gmail.com 입니다.'\n",
    "\n",
    "pattern = re.compile('\\w+@[a-zA-Z]+.com')\n",
    "re.findall(pattern, text)"
   ]
  },
  {
   "cell_type": "code",
   "execution_count": 46,
   "id": "b72c891e",
   "metadata": {},
   "outputs": [
    {
     "data": {
      "text/plain": [
       "['abc-123@gmail.com']"
      ]
     },
     "execution_count": 46,
     "metadata": {},
     "output_type": "execute_result"
    }
   ],
   "source": [
    "text = '이메일 주소는 abc-123@gmail.com 입니다.'   # '-'가 중간에 추가됨\n",
    "\n",
    "pattern = re.compile('[\\w-]+@[a-zA-Z]+.com')   # []로 묶어서 원하는 문자 더 추가할 수 있음\n",
    "re.findall(pattern, text)"
   ]
  },
  {
   "cell_type": "markdown",
   "id": "fa109d9e",
   "metadata": {},
   "source": [
    "#### 과제(2): 정규표현을 사용해 문자열(text)에서 전화번호를 추출\n",
    "- text = '저의 전화번호는 010-1234-5678 입니다.'"
   ]
  },
  {
   "cell_type": "code",
   "execution_count": 47,
   "id": "f6b95a4c",
   "metadata": {},
   "outputs": [
    {
     "data": {
      "text/plain": [
       "['010-1234-5678']"
      ]
     },
     "execution_count": 47,
     "metadata": {},
     "output_type": "execute_result"
    }
   ],
   "source": [
    "text = '저의 전화번호는 010-1234-5678 입니다.'\n",
    "\n",
    "pattern = re.compile('010-\\d{4}-\\d{4}')\n",
    "re.findall(pattern, text)"
   ]
  },
  {
   "cell_type": "markdown",
   "id": "1fc210d2",
   "metadata": {},
   "source": [
    "#### 과제(3): 정규표현을 사용해 문자열(text)에서 url을 추출\n",
    "- text = '저의 블로그 주소는 http://www.example.com 입니다.'"
   ]
  },
  {
   "cell_type": "code",
   "execution_count": 48,
   "id": "c70468ff",
   "metadata": {},
   "outputs": [
    {
     "data": {
      "text/plain": [
       "(['http://www.example.com'], ['https://chat.openai.com/'])"
      ]
     },
     "execution_count": 48,
     "metadata": {},
     "output_type": "execute_result"
    }
   ],
   "source": [
    "text1 = '저의 블로그 주소는 http://www.example.com 입니다.'\n",
    "text2 = 'CHAT GPT 주소는 https://chat.openai.com/ 입니다.'\n",
    "\n",
    "pattern = re.compile('https?://[^s]+.com/?')\n",
    "re.findall(pattern, text1), re.findall(pattern, text2)"
   ]
  },
  {
   "cell_type": "markdown",
   "id": "7bc0916f",
   "metadata": {},
   "source": [
    "#### 과제(4): 정규표현식을 이용하여 html 태그를 제거한 후 \"안녕하세요, 파이썬입니다.\"를 출력하세요.\n",
    "- html_string = '<p> 안녕하세요, <b>파이썬</b>입니다.</p>'"
   ]
  },
  {
   "cell_type": "code",
   "execution_count": 49,
   "id": "eb9e0596",
   "metadata": {},
   "outputs": [
    {
     "name": "stdout",
     "output_type": "stream",
     "text": [
      "안녕하세요, 파이썬입니다.\n"
     ]
    }
   ],
   "source": [
    "html_string = '<p> 안녕하세요, <b>파이썬</b>입니다.</p>'\n",
    "\n",
    "result = re.sub(r'[<>a-z/]', '', html_string).lstrip()\n",
    "print(result)"
   ]
  },
  {
   "cell_type": "markdown",
   "id": "47ab6a30",
   "metadata": {},
   "source": [
    "#### 과제(5): text = ' Python3 is very good programming language!' 에서 다음을 수행하세요.\n",
    "- ['Python', 'is', 'very', 'good', 'programming', 'language'] 을 출력\n",
    "- Python3 출력\n",
    "- Python 출력\n",
    "- 숫자만 출력\n",
    "- Python3를 python으로 대체"
   ]
  },
  {
   "cell_type": "code",
   "execution_count": 50,
   "id": "861f1e2a",
   "metadata": {},
   "outputs": [
    {
     "name": "stdout",
     "output_type": "stream",
     "text": [
      "['Python', 'is', 'very', 'good', 'programming', 'language']\n",
      "Python3\n",
      "Python\n",
      "['3']\n",
      " python is very good programming language!\n"
     ]
    }
   ],
   "source": [
    "text = ' Python3 is very good programming language!'\n",
    "\n",
    "pattern1 = re.compile('[a-zA-Z]+')\n",
    "result1 = re.findall(pattern1, text)\n",
    "print(result1)\n",
    "\n",
    "pattern2 = re.compile('\\w+')\n",
    "result2 = re.search(pattern2, text)\n",
    "print(result2[0])\n",
    "\n",
    "pattern3 = re.compile('[A-Za-z]+')\n",
    "result3 = re.search(pattern3, text)\n",
    "print(result3[0])\n",
    "\n",
    "pattern4 = re.compile('\\d+')\n",
    "result4 = re.findall(pattern4, text)\n",
    "print(result4)\n",
    "\n",
    "result5 = re.sub('Python3', 'python', text)\n",
    "print(result5)"
   ]
  },
  {
   "cell_type": "code",
   "execution_count": null,
   "id": "c65dc23b",
   "metadata": {},
   "outputs": [],
   "source": []
  },
  {
   "cell_type": "markdown",
   "id": "9157ef5a",
   "metadata": {},
   "source": [
    "#### 과제(1): BC, CC, ABC 모두 C가 출력되는 정규표현식 작성"
   ]
  },
  {
   "cell_type": "code",
   "execution_count": 51,
   "id": "34025323",
   "metadata": {},
   "outputs": [
    {
     "name": "stdout",
     "output_type": "stream",
     "text": [
      "CC CC CCC\n"
     ]
    }
   ],
   "source": [
    "pattern = re.compile('\\w+')\n",
    "text1='BC'\n",
    "text2='CC'\n",
    "text3='ABC'\n",
    "\n",
    "def sb(x):\n",
    "    return 'C'*len(x.group(0))\n",
    "\n",
    "t1 = pattern.sub(sb,text1)\n",
    "t2 = pattern.sub(sb,text2)\n",
    "t3 = pattern.sub(sb,text3)\n",
    "print(t1,t2,t3)"
   ]
  },
  {
   "cell_type": "markdown",
   "id": "997c34c0",
   "metadata": {},
   "source": [
    "#### 과제(2): '1234a1234'에서 1,2,3,4를 각각 출력"
   ]
  },
  {
   "cell_type": "code",
   "execution_count": 52,
   "id": "036d1c21",
   "metadata": {},
   "outputs": [
    {
     "name": "stdout",
     "output_type": "stream",
     "text": [
      "['1', '2', '3', '4']\n",
      "('1', '2', '3', '4')\n"
     ]
    }
   ],
   "source": [
    "text= '1234a1234'\n",
    "print(re.findall('([\\d])',text)[:4])\n",
    "print(re.findall('([\\d])([\\d])([\\d])([\\d])',text)[0])"
   ]
  },
  {
   "cell_type": "markdown",
   "id": "ded560c4",
   "metadata": {},
   "source": [
    "#### 과제(3): '99food234, a93456\\n, a9356ba ' 에서 '99food234'만 출력"
   ]
  },
  {
   "cell_type": "code",
   "execution_count": 53,
   "id": "5ecfe324",
   "metadata": {
    "scrolled": true
   },
   "outputs": [
    {
     "name": "stdout",
     "output_type": "stream",
     "text": [
      "99food234\n"
     ]
    }
   ],
   "source": [
    "text = '99food234, a93456\\n, a9356ba '\n",
    "print(re.findall('\\w*[^,\\s]',text)[0])"
   ]
  },
  {
   "cell_type": "markdown",
   "id": "181dac2f",
   "metadata": {},
   "source": [
    "#### 과제(4): text에서 전체 문장 모두 출력하세요."
   ]
  },
  {
   "cell_type": "code",
   "execution_count": 54,
   "id": "b08d7162",
   "metadata": {},
   "outputs": [
    {
     "name": "stdout",
     "output_type": "stream",
     "text": [
      "what are you doing? \n",
      "it is going to be late for school \n",
      "we need to hurry up\n"
     ]
    }
   ],
   "source": [
    "text = 'what are you doing? \\nit is going to be late for school \\nwe need to hurry up'\n",
    "pattern = re.compile('.*', re.S)\n",
    "print(pattern.search(text).group())"
   ]
  },
  {
   "cell_type": "markdown",
   "id": "a0490f17",
   "metadata": {},
   "source": [
    "#### 과제(5): text의 내용을 모두 출력하세요."
   ]
  },
  {
   "cell_type": "code",
   "execution_count": 55,
   "id": "f74d0e89",
   "metadata": {
    "scrolled": true
   },
   "outputs": [
    {
     "name": "stdout",
     "output_type": "stream",
     "text": [
      "pYthon\n",
      "PYTHON\n",
      "python\n",
      "Python\n"
     ]
    }
   ],
   "source": [
    "text = ['pYthon', 'PYTHON', 'python', 'Python']\n",
    "for i in text:\n",
    "    print(re.search('[a-z]+', i, re.I)[0])"
   ]
  },
  {
   "cell_type": "markdown",
   "id": "ed3d8789",
   "metadata": {},
   "source": [
    "#### 과제(6): ()에 정규표현식을 작성해 아래와 같이 출력\n",
    "- '1 apple' '5 oranges' '3 boys' '4 girls'"
   ]
  },
  {
   "cell_type": "code",
   "execution_count": 56,
   "id": "a21661a3",
   "metadata": {
    "scrolled": true
   },
   "outputs": [
    {
     "name": "stdout",
     "output_type": "stream",
     "text": [
      "['1 apple', '5 oranges', '3 boys', '4 girls', '10 army', '11 mr']\n"
     ]
    }
   ],
   "source": [
    "li = '1 apple, 5 oranges, 3 boys, 4 girls; 10 army | 11 mr'\n",
    "regex = re.compile('\\d+\\s[a-z]+')\n",
    "list = regex.findall(li)\n",
    "print(list)"
   ]
  },
  {
   "cell_type": "markdown",
   "id": "42993482",
   "metadata": {},
   "source": [
    "#### 과제(7):\n",
    "- 'H, h'만 출력\n",
    "- 'H, h'가 아닌 것만 출력"
   ]
  },
  {
   "cell_type": "code",
   "execution_count": 61,
   "id": "c5639859",
   "metadata": {},
   "outputs": [
    {
     "name": "stdout",
     "output_type": "stream",
     "text": [
      "['H', 'h', 'h']\n",
      "['e', 'l', 'l', 'o', 'm', 'y', 'f', 'r', 'i', 'e', 'n', 'd', '!', 'L', 'i', 'f', 'e', 'i', 's', 's', 'o', 'r', 't', 'y', 'o', 'u', 'n', 'e', 'e', 'd', 'P', 'y', 't', 'o', 'n', '!']\n"
     ]
    }
   ],
   "source": [
    "text = 'Hello my friend! Life is short you need Python!'\n",
    "print(re.findall('h|H',text))\n",
    "print(re.findall('[^hH\\s]', text))"
   ]
  },
  {
   "cell_type": "markdown",
   "id": "46e3702f",
   "metadata": {},
   "source": [
    "#### 과제(8):\n",
    "- 지역코드만 출력\n",
    "- 지역코드 제외 나머지 전화번호 출력"
   ]
  },
  {
   "cell_type": "code",
   "execution_count": 58,
   "id": "27b09ee0",
   "metadata": {},
   "outputs": [
    {
     "name": "stdout",
     "output_type": "stream",
     "text": [
      "032\n",
      "232-3245\n"
     ]
    }
   ],
   "source": [
    "text = '문의사항이 있으면 032-232-3245 으로 연락주시기 바랍니다.'\n",
    "g = re.search('(\\d{3})-(\\d{3,4}-\\d{4})',text)\n",
    "print(g[1])\n",
    "print(g[2])"
   ]
  },
  {
   "cell_type": "markdown",
   "id": "72fc2105",
   "metadata": {},
   "source": [
    "#### 과제(9): text에서 the the the 출력"
   ]
  },
  {
   "cell_type": "code",
   "execution_count": 59,
   "id": "73a525a1",
   "metadata": {},
   "outputs": [
    {
     "data": {
      "text/plain": [
       "'the the the'"
      ]
     },
     "execution_count": 59,
     "metadata": {},
     "output_type": "execute_result"
    }
   ],
   "source": [
    "text = 'Paris in the the the spring'\n",
    "re.search(r'\\b(\\w+)\\s\\1\\s\\1',text).group()    # \\1 = (\\w+)"
   ]
  },
  {
   "cell_type": "markdown",
   "id": "73e26eca",
   "metadata": {},
   "source": [
    "#### 과제(10): 이름으로 그룹을 참조해 text에서 Lots를 출력"
   ]
  },
  {
   "cell_type": "code",
   "execution_count": 60,
   "id": "4ac91a87",
   "metadata": {},
   "outputs": [
    {
     "data": {
      "text/plain": [
       "'Lots'"
      ]
     },
     "execution_count": 60,
     "metadata": {},
     "output_type": "execute_result"
    }
   ],
   "source": [
    "text = 'Lots of punctuation Lots of punctuation'\n",
    "pattern = r'(?P<lot>Lots)\\s'\n",
    "m = re.search(pattern, text)    #findall처럼 리스트로 여러 값을 반환하는 경우엔\n",
    "m.group('lot')   #.group() 못씀"
   ]
  },
  {
   "cell_type": "markdown",
   "id": "fee2a200",
   "metadata": {},
   "source": [
    "#### 과제(1): 아래 text에서 파일2,3,4만 출력"
   ]
  },
  {
   "cell_type": "code",
   "execution_count": 90,
   "id": "0e532850",
   "metadata": {},
   "outputs": [
    {
     "name": "stdout",
     "output_type": "stream",
     "text": [
      "['file2.pdf', 'file3.docx', 'file4.xlsx']\n"
     ]
    }
   ],
   "source": [
    "text = 'file1.txt file2.pdf file3.docx file4.xlsx'\n",
    "p = re.compile('[a-zA-Z0-9]+[.](?!txt)\\w+')\n",
    "m = re.findall(p, text)\n",
    "print(m)"
   ]
  },
  {
   "cell_type": "markdown",
   "id": "e56ac54d",
   "metadata": {},
   "source": [
    "#### 과제(2): 아래 이메일에서 (?<=@)을 사용해 example만 출력하세요"
   ]
  },
  {
   "cell_type": "code",
   "execution_count": 91,
   "id": "c20dfd88",
   "metadata": {},
   "outputs": [
    {
     "name": "stdout",
     "output_type": "stream",
     "text": [
      "example\n"
     ]
    }
   ],
   "source": [
    "email = 'john.doe@example.com'\n",
    "p = re.compile('(?<=@)[^.]+')\n",
    "print(p.search(email).group())"
   ]
  },
  {
   "cell_type": "markdown",
   "id": "92ee7b9b",
   "metadata": {},
   "source": [
    "#### 과제(3): 적절한 사용자 함수를 사용해 sub메서드 실행 (자유과제)"
   ]
  },
  {
   "cell_type": "code",
   "execution_count": 111,
   "id": "a94e3fdd",
   "metadata": {},
   "outputs": [
    {
     "name": "stdout",
     "output_type": "stream",
     "text": [
      "https://search.naver.com/search.naver?query=\"파이썬\"\n",
      "https://search.naver.com/search.naver?query=\"웹 크롤링\"\n",
      "https://search.naver.com/search.naver?query=\"빅데이터\"\n",
      "https://search.naver.com/search.naver?query=\"python\"\n"
     ]
    }
   ],
   "source": [
    "# url쿼리 부분 검색해서 한글로 바꾸는\n",
    "def change(x):\n",
    "    qur = x.group()\n",
    "    cat = '\"' + str(urllib.parse.unquote(qur)) + '\"'\n",
    "    return cat\n",
    "    \n",
    "url_list = ['https://search.naver.com/search.naver?query=%ED%8C%8C%EC%9D%B4%EC%8D%AC', 'https://search.naver.com/search.naver?query=%EC%9B%B9%20%ED%81%AC%EB%A1%A4%EB%A7%81','https://search.naver.com/search.naver?query=%EB%B9%85%EB%8D%B0%EC%9D%B4%ED%84%B0','https://search.naver.com/search.naver?query=python']\n",
    "for i in url_list:\n",
    "    print(re.sub('(?<=(query=)).*', change, i))"
   ]
  },
  {
   "cell_type": "code",
   "execution_count": null,
   "id": "cc3f5374",
   "metadata": {},
   "outputs": [],
   "source": []
  }
 ],
 "metadata": {
  "kernelspec": {
   "display_name": "Python 3 (ipykernel)",
   "language": "python",
   "name": "python3"
  },
  "language_info": {
   "codemirror_mode": {
    "name": "ipython",
    "version": 3
   },
   "file_extension": ".py",
   "mimetype": "text/x-python",
   "name": "python",
   "nbconvert_exporter": "python",
   "pygments_lexer": "ipython3",
   "version": "3.9.13"
  }
 },
 "nbformat": 4,
 "nbformat_minor": 5
}
