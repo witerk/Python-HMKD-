{
 "cells": [
  {
   "cell_type": "markdown",
   "id": "1b4960b6",
   "metadata": {},
   "source": [
    "### NumPy는 “Numerical Python“의 약자로 대규모 다차원 배열과 행렬 연산에 필요한 다양한 함수를 제공\n",
    "* Numerical Python을 의미하는 NumPy는 파이썬에서 선형대수 기반의 프로그램을 쉽게 만들 수 있도록 지원하는 대표적인 패키지\n",
    "* 많은 머신러닝 알고리즘이 넘파이 기반으로 작성돼 있으며 알고리즘의 입출력 데이터를 넘파이 배열 타입으로 사용함\n",
    "* 넘파이의 기본 데이터 타입은 ndarray. ndarray를 이용해 넘파이에서 다차원 배열을 쉽게 생성하고 다양한 연산 수행\n",
    "\n",
    "#### NumPy 특징\n",
    "\n",
    "- 강력한 N 차원 배열 객체\n",
    "- 정교한 브로드캐스팅(Broadcast) 기능\n",
    "- C/C ++ 및 포트란 코드 통합 도구\n",
    "- 유용한 선형 대수학, 푸리에 변환 및 난수 기능\n",
    "- 푸리에 변환(Fourier transform, FT)은 시간이나 공간에 대한 함수를 시간 또는 공간 주파수 성분으로 분해하는 변환\n",
    "- 범용적 데이터 처리에 사용 가능한 다차원 컨테이너\n",
    "\n",
    "#### Numpy Documentation  \n",
    "\n",
    "https://numpy.org/doc/1.21/index.html"
   ]
  },
  {
   "cell_type": "markdown",
   "id": "d842a521",
   "metadata": {},
   "source": [
    "#### Numpy는 대용량 데이터 배열을 '효율적'으로 다룰 수 있도록 설계되었다.\n",
    "- Numpy는 내부적으로 데이터를 다른 내장 파이썬 객체와 구분된 연속된 메모리 블록에 저장\n",
    "- Numpy의 각종 알고리즘은 모두 C로 작성되어 타입 검사나 다른 오버헤드 없이 메모리를 직접 조작\n",
    "- Numpy 배열은 또한 내장 파이썬의 연속된 자료형들보다 훨씬 더 적은 메모리를 사용\n",
    "- Numpy 연산은 파이썬 반복문을 사용하지 않고 전체 배열에 대한 복잡한 계산을 수행"
   ]
  },
  {
   "cell_type": "code",
   "execution_count": 2,
   "id": "d8863775",
   "metadata": {},
   "outputs": [
    {
     "name": "stdout",
     "output_type": "stream",
     "text": [
      "Wall time: 14 ms\n"
     ]
    }
   ],
   "source": [
    "import numpy as np\n",
    "arr=np.arange(1000000)\n",
    "mylist=list(range(1000000))\n",
    "\n",
    "%time for _ in range(10): arr2 = arr*2     #시간 재기"
   ]
  },
  {
   "cell_type": "code",
   "execution_count": 3,
   "id": "0264c552",
   "metadata": {},
   "outputs": [
    {
     "name": "stdout",
     "output_type": "stream",
     "text": [
      "Wall time: 736 ms\n"
     ]
    }
   ],
   "source": [
    "%time for _ in range(10): mylist2 = [x*2 for x in mylist]\n",
    "    \n",
    "#arr와 시간 차이가 매우 많이 남"
   ]
  },
  {
   "cell_type": "code",
   "execution_count": 4,
   "id": "ac7258c7",
   "metadata": {},
   "outputs": [
    {
     "name": "stdout",
     "output_type": "stream",
     "text": [
      "[[ 1.76405235  0.40015721  0.97873798]\n",
      " [ 2.2408932   1.86755799 -0.97727788]] \n",
      "\n",
      "[[17.64052346  4.00157208  9.78737984]\n",
      " [22.40893199 18.6755799  -9.7727788 ]] \n",
      "\n",
      "[[ 3.52810469  0.80031442  1.95747597]\n",
      " [ 4.4817864   3.73511598 -1.95455576]]\n"
     ]
    }
   ],
   "source": [
    "#배열 연산\n",
    "np.random.seed(0)\n",
    "data=np.random.randn(2,3)\n",
    "print(data, '\\n')\n",
    "print(data*10, '\\n')\n",
    "print(data+data)        #해당되는 값끼리 서로 알아서 연산"
   ]
  },
  {
   "cell_type": "code",
   "execution_count": 5,
   "id": "11497743",
   "metadata": {},
   "outputs": [
    {
     "name": "stdout",
     "output_type": "stream",
     "text": [
      "(2, 3)\n",
      "float64\n",
      "2\n"
     ]
    }
   ],
   "source": [
    "print(data.shape)     #배열의 크기(형태)\n",
    "print(data.dtype)     #자료형\n",
    "print(data.ndim)      #차원(n차원)"
   ]
  },
  {
   "cell_type": "code",
   "execution_count": 6,
   "id": "66095367",
   "metadata": {},
   "outputs": [
    {
     "name": "stdout",
     "output_type": "stream",
     "text": [
      "[ 56  32   7   8   2   3   1  88   3   1   2   3   5 533   2  22  14 231] <class 'numpy.ndarray'> \n",
      "\n",
      "[[ 56  32   7   8   2   3   1  88]\n",
      " [  3   1   2   3   5 533   2  22]] <class 'numpy.ndarray'>\n",
      "(2, 8) 2\n",
      "<class 'numpy.ndarray'> int32\n"
     ]
    }
   ],
   "source": [
    "data1 = [56,32,7,8,2,3,1,88,3,1,2,3,5,533,2,22,14,231]\n",
    "arr1 = np.array(data1)\n",
    "\n",
    "print(arr1, type(arr1), '\\n')\n",
    "\n",
    "data2 = [[56,32,7,8,2,3,1,88],[3,1,2,3,5,533,2,22]]\n",
    "arr2 = np.array(data2)      #2차원 배열은 각 행들의 길이가 맞지 않으면 오류남\n",
    "\n",
    "print(arr2, type(arr2))\n",
    "print(arr2.shape, arr2.ndim)\n",
    "print(type(arr2), arr2.dtype)      #type()은 'arr2'자체의 타입/ .dtype는 배열 안쪽 값들의 타입"
   ]
  },
  {
   "cell_type": "code",
   "execution_count": 7,
   "id": "6f76fee8",
   "metadata": {},
   "outputs": [
    {
     "name": "stdout",
     "output_type": "stream",
     "text": [
      "[[[ 56  32   7   8]\n",
      "  [  2   3   1  88]]\n",
      "\n",
      " [[  3   1   2   3]\n",
      "  [  5 533   2  22]]\n",
      "\n",
      " [[ 36  11   2 309]\n",
      "  [ 52   3 299   2]]] <class 'numpy.ndarray'>\n",
      "(3, 2, 4) 3\n"
     ]
    }
   ],
   "source": [
    "#3차원 배열\n",
    "data3 = [[[56,32,7,8],[2,3,1,88]], [[3,1,2,3],[5,533,2,22]], [[36,11,2,309],[52,3,299,2]]]\n",
    "arr3 = np.array(data3)\n",
    "\n",
    "print(arr3, type(arr3))\n",
    "print(arr3.shape, arr3.ndim)"
   ]
  },
  {
   "cell_type": "markdown",
   "id": "ff93f506",
   "metadata": {},
   "source": [
    "#### 배열 생성 및 초기화\n",
    "- Numpy는 원하는 shape로 배열을 설정하고 각 요소를 특정 값으로 초기화하는 zeros, ones, full, eye 함수 제공\n",
    "- 파라미터로 입력한 배열과 같은 shape의 배열을 만드는 zeros_like, ones_like, full_like 함수도 제공"
   ]
  },
  {
   "cell_type": "code",
   "execution_count": 8,
   "id": "0360e0ea",
   "metadata": {},
   "outputs": [
    {
     "name": "stdout",
     "output_type": "stream",
     "text": [
      "[0. 0. 0. 0. 0. 0. 0. 0. 0. 0.] \n",
      "\n",
      "[[0. 0. 0. 0. 0.]\n",
      " [0. 0. 0. 0. 0.]\n",
      " [0. 0. 0. 0. 0.]] \n",
      "\n",
      "[[[0. 0.]\n",
      "  [0. 0.]\n",
      "  [0. 0.]]\n",
      "\n",
      " [[0. 0.]\n",
      "  [0. 0.]\n",
      "  [0. 0.]]] \n",
      "\n",
      "[1. 1. 1. 1. 1. 1. 1. 1. 1. 1.] \n",
      "\n",
      "[[1. 1. 1. 1. 1.]\n",
      " [1. 1. 1. 1. 1.]\n",
      " [1. 1. 1. 1. 1.]] \n",
      "\n",
      "[[[1. 1.]\n",
      "  [1. 1.]\n",
      "  [1. 1.]]\n",
      "\n",
      " [[1. 1.]\n",
      "  [1. 1.]\n",
      "  [1. 1.]]] \n",
      "\n"
     ]
    }
   ],
   "source": [
    "#0으로 초기화\n",
    "print(np.zeros(10),'\\n')        #0으로 10개가 초기화된 배열\n",
    "print(np.zeros((3,5)),'\\n')     #2중 괄호 주의 zeros((3,5)) : 2,3차원 배열~\n",
    "print(np.zeros((2,3,2)),'\\n')   #2중 괄호\n",
    "\n",
    "#1로 초기화\n",
    "print(np.ones(10),'\\n')\n",
    "print(np.ones((3,5)),'\\n')\n",
    "print(np.ones((2,3,2)),'\\n')"
   ]
  },
  {
   "cell_type": "code",
   "execution_count": 9,
   "id": "2b39be25",
   "metadata": {},
   "outputs": [
    {
     "name": "stdout",
     "output_type": "stream",
     "text": [
      "[[[0 0 0 0]\n",
      "  [0 0 0 0]]\n",
      "\n",
      " [[0 0 0 0]\n",
      "  [0 0 0 0]]\n",
      "\n",
      " [[0 0 0 0]\n",
      "  [0 0 0 0]]] \n",
      "\n",
      "[[[1 1 1 1]\n",
      "  [1 1 1 1]]\n",
      "\n",
      " [[1 1 1 1]\n",
      "  [1 1 1 1]]\n",
      "\n",
      " [[1 1 1 1]\n",
      "  [1 1 1 1]]] \n",
      "\n",
      "[[[ 56  32   7   8]\n",
      "  [  2   3   1  88]]\n",
      "\n",
      " [[  3   1   2   3]\n",
      "  [  5 533   2  22]]\n",
      "\n",
      " [[ 36  11   2 309]\n",
      "  [ 52   3 299   2]]] \n",
      "\n",
      "[[[5 5 5 5]\n",
      "  [5 5 5 5]]\n",
      "\n",
      " [[5 5 5 5]\n",
      "  [5 5 5 5]]\n",
      "\n",
      " [[5 5 5 5]\n",
      "  [5 5 5 5]]] \n",
      "\n"
     ]
    }
   ],
   "source": [
    "# 과제\n",
    "alist=[[[56,32,7,8],[2,3,1,88]], [[3,1,2,3],[5,533,2,22]], [[36,11,2,309],[52,3,299,2]]]\n",
    "\n",
    "arr=np.array(alist)\n",
    "arr2=np.zeros_like(arr)   #지정된 배열의 크기만큼 0으로 채우기\n",
    "print(np.zeros_like(arr),'\\n')\n",
    "\n",
    "arr=np.array(alist)\n",
    "arr2=np.ones_like(arr)   #지정된 배열의 크기만큼 0으로 채우기\n",
    "print(arr2,'\\n')\n",
    "\n",
    "arr=np.array(alist)\n",
    "arr2=np.empty_like(arr)    #배열의 크기만큼 쓰레기값 채우기\n",
    "print(arr2,'\\n')\n",
    "\n",
    "arr=np.array(alist)\n",
    "arr2=np.full_like(arr, 5)    #배열의 크기만큼 지정된 값 채우기\n",
    "print(arr2,'\\n')"
   ]
  },
  {
   "cell_type": "code",
   "execution_count": 23,
   "id": "b8818f88",
   "metadata": {},
   "outputs": [
    {
     "data": {
      "text/plain": [
       "array([ 0,  1,  2,  3,  4,  5,  6,  7,  8,  9, 10, 11, 12, 13, 14])"
      ]
     },
     "execution_count": 23,
     "metadata": {},
     "output_type": "execute_result"
    }
   ],
   "source": [
    "# arange 함수: 파이썬 range()의 배열 버전\n",
    "ar=np.arange(15)\n",
    "ar"
   ]
  },
  {
   "cell_type": "code",
   "execution_count": 27,
   "id": "26df9aaa",
   "metadata": {
    "scrolled": true
   },
   "outputs": [
    {
     "data": {
      "text/plain": [
       "array([[ 0,  1,  2,  3,  4],\n",
       "       [ 5,  6,  7,  8,  9],\n",
       "       [10, 11, 12, 13, 14]])"
      ]
     },
     "execution_count": 27,
     "metadata": {},
     "output_type": "execute_result"
    }
   ],
   "source": [
    "# reshape 함수\n",
    "a = ar.reshape(3,5)      #개수 안 맞으면 에러\n",
    "a"
   ]
  },
  {
   "cell_type": "code",
   "execution_count": 29,
   "id": "4b6625d3",
   "metadata": {},
   "outputs": [
    {
     "data": {
      "text/plain": [
       "array([[ 0,  5, 10],\n",
       "       [ 1,  6, 11],\n",
       "       [ 2,  7, 12],\n",
       "       [ 3,  8, 13],\n",
       "       [ 4,  9, 14]])"
      ]
     },
     "execution_count": 29,
     "metadata": {},
     "output_type": "execute_result"
    }
   ],
   "source": [
    "# transpose 함수\n",
    "# 다차원 배열의 축을 전치하는 함수(열과 행을 바꿔줌)\n",
    "\n",
    "# 3차원 배열에 사용하면 지정한 대로 축 순서 바꿈\n",
    "# np.transpose(a, (1,2,0)) -> 3차원 자리에 1번축을, 2차원 자리에 2번 축을, 1차원 자리에 0번 축을\n",
    "b = np.transpose(a)    #3x5 -> 5x3\n",
    "b"
   ]
  },
  {
   "cell_type": "code",
   "execution_count": null,
   "id": "1f0e5fa9",
   "metadata": {},
   "outputs": [],
   "source": [
    "arr1 = np.arange(10)\n",
    "arr2 = np.arange(10).reshape(5,2)        #생성과 동시에 2차원으로 재정렬\n",
    "arr3 = np.arange(24).reshape(2,4,3)      #3차원으로 재정렬\n",
    "\n",
    "print(arr1, '\\n')\n",
    "print(arr2, '\\n')\n",
    "print(arr3)"
   ]
  },
  {
   "cell_type": "code",
   "execution_count": null,
   "id": "ab971383",
   "metadata": {},
   "outputs": [],
   "source": [
    "ar=np.arange(30)\n",
    "ar.reshape(2,-1)     # -1을 넣어주면 해당 자리에 알아서 적절한 값이 들어감 (2,-1) -> (2,15)\n",
    "ar.reshape(2,-1,3)   # -1 여러개 넣는 건x (남은 값이 하나여서 계산 가능할 때만) (2,-1,3) -> (2,5,3)"
   ]
  },
  {
   "cell_type": "code",
   "execution_count": null,
   "id": "5e5b2db6",
   "metadata": {},
   "outputs": [],
   "source": [
    "ar=np.arange(30).reshape(2,-1)\n",
    "print(ar.reshape(-1),'\\n')          # 이렇게 하면 2차원이 1차원으로 돌아옴\n",
    "\n",
    "ar=np.arange(30).reshape(2,3,-1)\n",
    "print(ar.reshape(-1))          # 3차원->1차원도 가능"
   ]
  },
  {
   "cell_type": "code",
   "execution_count": null,
   "id": "a2333bd9",
   "metadata": {},
   "outputs": [],
   "source": [
    "arlist=ar.tolist()      #배열 -> 리스트\n",
    "print(arlist,'\\n')\n",
    "\n",
    "arr=np.array(arlist)    #리스트 -> 배열\n",
    "print(arr)"
   ]
  },
  {
   "cell_type": "markdown",
   "id": "bed59213",
   "metadata": {},
   "source": [
    "#### 행렬의 종류\n",
    "\n",
    "https://math-development-geometry.tistory.com/52\n",
    "\n",
    "- 정방행렬은 행과 열의 수가 같은 행렬\n",
    "- 대각행렬은 주대각선 원소를 제외한 모든 원소들이 0인 정방행렬\n",
    "- 삼각행렬은 주대각선 원소를 기준으로 위 또는 아래에 있는 성분이 모두 0인 정방행렬\n",
    "- 항등행렬은 행렬 곱셈 연산에 항등원으로 작용하는 행렬\n",
    "- 영행렬은 모든 원소가 0인 행렬로 곱셈 연산에서 영원으로 작용하는 행렬\n",
    "- 전치행렬은 주대각선 원소를 기준으로 행과 열을 바꿔주는 행렬\n",
    "- 직교행렬은 행렬 A의 역행렬이 A의 전치행렬이고 A의 전치행렬과 A 행렬을 곱하였을때 항등행렬이 나오는 행렬"
   ]
  },
  {
   "cell_type": "code",
   "execution_count": null,
   "id": "1a2647b6",
   "metadata": {},
   "outputs": [],
   "source": [
    "# 정방행렬\n",
    "ar1 = np.full((2,2),7)\n",
    "ar1"
   ]
  },
  {
   "cell_type": "code",
   "execution_count": null,
   "id": "c534c132",
   "metadata": {},
   "outputs": [],
   "source": [
    "# 항등행렬(단위행렬)\n",
    "ar2 = np.eye(3)      #np.eye(): 대각선의 개수를 지정해주는 함수 (대각선은 1, 나머지는 0)\n",
    "ar2"
   ]
  },
  {
   "cell_type": "code",
   "execution_count": null,
   "id": "68575da4",
   "metadata": {},
   "outputs": [],
   "source": [
    "# 대각행렬\n",
    "ar3 = np.diag([1,2,3])    #대각선에 넣고 싶은 숫자 넣어주는 함수 (나머지는 0)\n",
    "ar3"
   ]
  },
  {
   "cell_type": "code",
   "execution_count": null,
   "id": "2adbfa8d",
   "metadata": {},
   "outputs": [],
   "source": [
    "# 삼각행렬\n",
    "ar4_upper = np.triu([[1,2,3],[4,5,6],[7,8,9]])    #삽입한 배열에서 대각선 아래쪽은 전부 0으로 바꿔줌\n",
    "print(ar4_upper, '\\n')    #상삼각행렬\n",
    "\n",
    "a=[[1,2,3],[4,5,6],[7,8,9]]    #이렇게 리스트(혹은 배열)를 만들어서 넣어줘도 ok\n",
    "# a=np.array(a)\n",
    "ar4_lower = np.tril(a)    #삽입한 배열에서 대각선 위쪽은 전부 0으로 바꿔줌\n",
    "print(ar4_lower, '\\n')    #하삼각행렬"
   ]
  },
  {
   "cell_type": "code",
   "execution_count": null,
   "id": "a84d0043",
   "metadata": {},
   "outputs": [],
   "source": [
    "# 전치행렬 (행과 열을 서로 바꿈)\n",
    "a=np.array([[1,2,3],[4,5,6],[7,8,9]])\n",
    "ar5=a.T\n",
    "ar5"
   ]
  },
  {
   "cell_type": "markdown",
   "id": "8f0f329d",
   "metadata": {},
   "source": [
    "### 직교행렬\n",
    ": 직교행렬은 행렬 A의 역행렬이 A의 전치행렬이고 A의 전치행렬과 A 행렬을 곱하였을때 항등행렬이 나오는 행렬\n",
    "- 행과 열이 서로 직교하는 정방행렬\n",
    "- 모든 열벡터와 행벡터가 서로 직교하고 크기가 1인 단위벡터로 이루어짐\n",
    "- np.linalg.qr() 함수를 사용해 QR분행 수행하여 직교행렬을 추출\n",
    "- q를 추출하여 직교행렬 orth_mat을 만든다\n",
    "- np.dot(orth_mat, orth_mat.T) 를 계산하여 직교성을 검증\n",
    "- np.allclose() 함수로 두 행렬이 동일한지 검사. True를 반환하면 두 행렬은 동일"
   ]
  },
  {
   "cell_type": "code",
   "execution_count": null,
   "id": "1c2e3083",
   "metadata": {},
   "outputs": [],
   "source": [
    "mat = np.random.randn(3,3)    #3행3열 정방행렬\n",
    "print(ar6)\n",
    "\n",
    "q,r = np.linalg.qr(mat)    # q, r분해\n",
    "\n",
    "orth_mat=q         #직교행렬 추출\n",
    "print(orth_mat)\n",
    "\n",
    "print(np.allclose(np.dot(orth_mat, orth_mat.T), np.eye(3)))   #직교성 검증 (np.eye=항등행렬)"
   ]
  },
  {
   "cell_type": "markdown",
   "id": "6ce61876",
   "metadata": {},
   "source": [
    "### 배열 인덱싱, 슬라이싱"
   ]
  },
  {
   "cell_type": "code",
   "execution_count": null,
   "id": "95b29aa5",
   "metadata": {},
   "outputs": [],
   "source": [
    "ar2 =np.arange(1,10).reshape(3,3)\n",
    "print(ar2, '\\n')\n",
    "\n",
    "print(ar2[1][2])     #리스트처럼 그냥 쓰면 됨\n",
    "print(ar2[1][-1])\n",
    "print(ar2[1,2])     #이런 식으로도 가능\n",
    "print(ar2[1,-1])"
   ]
  },
  {
   "cell_type": "code",
   "execution_count": null,
   "id": "492a32dd",
   "metadata": {},
   "outputs": [],
   "source": [
    "ar2[:2,:2]        #[[1, 2], [4, 5]]\n",
    "  \n",
    "ar2[1:]           #[[4, 5, 6],[7, 8, 9]]\n",
    "ar2[2:3,:]\n",
    "\n",
    "ar2               #[[1, 2, 3],[4, 5, 6],[7, 8, 9]]\n",
    "ar2[:,:]\n",
    "\n",
    "ar2[:2,1:]        #[[2, 3],[5, 6]]\n",
    " \n",
    "ar2[:2,0]         #[1, 4]"
   ]
  },
  {
   "cell_type": "code",
   "execution_count": null,
   "id": "5fda5f64",
   "metadata": {},
   "outputs": [],
   "source": [
    "ar=np.arange(20).reshape(5,4)\n",
    "print(ar,'\\n')\n",
    "\n",
    "print(ar[:2,1:])      #ar[0~1][1~3]"
   ]
  },
  {
   "cell_type": "code",
   "execution_count": null,
   "id": "5077d58e",
   "metadata": {},
   "outputs": [],
   "source": [
    "# boolean indexing\n",
    "ar=np.random.randint(1,10, size=10)\n",
    "print(ar)\n",
    "\n",
    "ar[ar>5]     #해당 조건을 만족하는(True) 값만 리턴"
   ]
  },
  {
   "cell_type": "code",
   "execution_count": null,
   "id": "14d6f322",
   "metadata": {},
   "outputs": [],
   "source": [
    "array_e = np.arange(1,15)\n",
    "print(array_e)\n",
    "\n",
    "array_e[(array_e/2)>5]"
   ]
  },
  {
   "cell_type": "code",
   "execution_count": null,
   "id": "69a69b6b",
   "metadata": {},
   "outputs": [],
   "source": [
    "# arr에서 0.5보다 큰 수를 출력\n",
    "np.random.seed(0)\n",
    "arr=np.random.randn(30)\n",
    "print(arr)\n",
    "\n",
    "arr[arr>0.5]"
   ]
  },
  {
   "cell_type": "code",
   "execution_count": null,
   "id": "f34bf3c0",
   "metadata": {},
   "outputs": [],
   "source": [
    "# data에서 3의 배수인 수만 출력\n",
    "data=np.arange(30)\n",
    "data[data%3==0]"
   ]
  },
  {
   "cell_type": "code",
   "execution_count": null,
   "id": "e3ea99be",
   "metadata": {},
   "outputs": [],
   "source": [
    "bools=np.array([False,False,True,True])\n",
    "bools"
   ]
  },
  {
   "cell_type": "code",
   "execution_count": null,
   "id": "d7422660",
   "metadata": {},
   "outputs": [],
   "source": [
    "bools.any()      #하나라도 참이면 참\n",
    "bools.all()      #모든 원소가 참이어야만 참"
   ]
  },
  {
   "cell_type": "markdown",
   "id": "7861dd6d",
   "metadata": {},
   "source": [
    "#### np.where(condition)은 \n",
    "- condition 배열의 요소가 True인 인덱스를 반환하는 함수입니다. \n",
    "- condition 배열은 bool 타입이어야 하며, 반환값은 tuple 타입으로 (array of row indices, array of column indices)의 형태로 반환"
   ]
  },
  {
   "cell_type": "code",
   "execution_count": null,
   "id": "a824aaa6",
   "metadata": {},
   "outputs": [],
   "source": [
    "# 0보다 크면 2로, 아니면 -2로 변경\n",
    "arr=np.random.randn(4,4)\n",
    "print(arr)\n",
    "\n",
    "np.where(arr>0, 2,-2)          #where(조건, 참이면 대입할 값, 거짓이면 대입할 값)"
   ]
  },
  {
   "cell_type": "code",
   "execution_count": null,
   "id": "ef820264",
   "metadata": {},
   "outputs": [],
   "source": [
    "# arr의 모든 양수를 2로 바꾸세요\n",
    "arr = np.where(arr>0, 2, arr)    # 방법1\n",
    "arr[arr > 0] = 2                 # 방법2"
   ]
  },
  {
   "cell_type": "code",
   "execution_count": null,
   "id": "d6d1e94c",
   "metadata": {},
   "outputs": [],
   "source": [
    "# np.sort(): 정렬 후 복사본을 반환(원본 반영x)\n",
    "np.random.seed(0)\n",
    "arr=np.random.randint(1,100,size=10)\n",
    "print(arr)\n",
    "\n",
    "sorted=np.sort(arr)\n",
    "print(sorted)\n",
    "print(arr)      #원본은 그대로"
   ]
  },
  {
   "cell_type": "code",
   "execution_count": null,
   "id": "8009b308",
   "metadata": {},
   "outputs": [],
   "source": [
    "# 행렬이 2차원 이상일 경우 axis 축 값 설정을 통해 로우/칼럼 방향으로 정렬 수행\n",
    "arr2 = np.array([[8,12],[7,1],[9,21]])\n",
    "print(arr2)\n",
    "\n",
    "np.sort(arr2,axis=0)        #axis=0 열 방향으로 정렬\n",
    "np.sort(arr2,axis=1)        #axis=1 행 방향으로 정렬"
   ]
  },
  {
   "cell_type": "code",
   "execution_count": null,
   "id": "67430bad",
   "metadata": {},
   "outputs": [],
   "source": [
    "# ndarray.sort(): 원본 반영 정렬\n",
    "arr=np.random.randint(10,size=10)\n",
    "print(arr)\n",
    "\n",
    "arr.sort()          #원본 반영ok\n",
    "arr"
   ]
  },
  {
   "cell_type": "code",
   "execution_count": null,
   "id": "0190e07a",
   "metadata": {},
   "outputs": [],
   "source": [
    "np.random.seed(0)\n",
    "arr=np.random.randint(10,size=(10,10))\n",
    "print(arr)\n",
    "\n",
    "#arr.sort(0)    #열 방향 정렬 (원본반영)\n",
    "arr.sort(1)    #행 방향 정렬(디폴트값) (원본반영)\n",
    "arr"
   ]
  },
  {
   "cell_type": "code",
   "execution_count": null,
   "id": "f1d00991",
   "metadata": {},
   "outputs": [],
   "source": [
    "#정렬된 행렬의 인덱스 반환: 기존 원본 행렬의 원소에 대한 인덱스\n",
    "org=np.array([3,1,9,5])\n",
    "print(org)\n",
    "\n",
    "sort_in=np.argsort(org)     #org를 정렬했을 때 '원래 어디에 있었는지' 인덱스값\n",
    "org.sort()\n",
    "\n",
    "print(org)\n",
    "print(sort_in)"
   ]
  },
  {
   "cell_type": "code",
   "execution_count": null,
   "id": "c46237d7",
   "metadata": {},
   "outputs": [],
   "source": [
    "#배열 데이터의 입출력\n",
    "# np.save, np.load는 바이너리 형식 (npy파일로 저장)\n",
    "arr=np.arange(10)\n",
    "np.save('some_array',arr)\n",
    "\n",
    "np.load('some_array.npy')"
   ]
  },
  {
   "cell_type": "code",
   "execution_count": null,
   "id": "6ab632e9",
   "metadata": {},
   "outputs": [],
   "source": [
    "# np.savez: 여러개의 배열을 압축된 형식으로 저장\n",
    "arr1=np.arange(10)\n",
    "arr2=np.arange(10,20)\n",
    "\n",
    "np.savez('array_arc.npz', a=arr1, b=arr2)\n",
    "arch=np.load('array_arc.npz')\n",
    "\n",
    "arch['a']\n",
    "arch['b']"
   ]
  },
  {
   "cell_type": "code",
   "execution_count": null,
   "id": "bea69f66",
   "metadata": {},
   "outputs": [],
   "source": [
    "# 인덱싱을 사용하여 [1 0 1 0 1 0 1 0 1 0]을 출력하세요\n",
    "arr=np.arange(10)\n",
    "print(arr)\n",
    "\n",
    "arr=np.arange(10)\n",
    "print(np.where(arr%2==0, 1, 0))      #방법1\n",
    "\n",
    "arr=np.arange(10)\n",
    "arr[:] = arr%2     #방법2\n",
    "print(arr)"
   ]
  },
  {
   "cell_type": "markdown",
   "id": "e092245d",
   "metadata": {},
   "source": [
    "### 과제"
   ]
  },
  {
   "cell_type": "code",
   "execution_count": null,
   "id": "091b205f",
   "metadata": {},
   "outputs": [],
   "source": [
    "#과제: 다음과 같이 출력(리스트 형식)\n",
    "ar2 =np.arange(1,10).reshape(3,3)\n",
    "print(ar2, '\\n')\n",
    "\n",
    "print(ar2[:2,2].tolist())        #[3, 6]\n",
    "print(ar2[:2,:2].tolist())       #[[1, 2], [4, 5]]\n",
    "print(ar2[:2,:].tolist())        #[[1, 2, 3], [4, 5, 6]]"
   ]
  },
  {
   "cell_type": "code",
   "execution_count": null,
   "id": "6b971131",
   "metadata": {},
   "outputs": [],
   "source": [
    "#과제: 0이 아닌 값 인덱스를 배열형태로 출력: where\n",
    "a=np.array([1,2,0,0,4,0])\n",
    "\n",
    "index=np.where(a!=0)     #조건을 만족하는 값들 정보만 뽑기\n",
    "print(index[0])           #[0]만 출력하면 인덱스 값만 뽑힘(튜플로 인덱스,타입이 들어가 있음)\n",
    "index\n",
    "#index[0][0] 하면 0,1,4 중 0 하나만 뽑힘"
   ]
  },
  {
   "cell_type": "code",
   "execution_count": null,
   "id": "5ee26a1f",
   "metadata": {},
   "outputs": [],
   "source": [
    "#과제: 0이 아닌 값 인덱스를 배열형태로 출력: nonzero\n",
    "a=np.array([1,2,0,0,4,0])\n",
    "\n",
    "index=np.nonzero(a)      #위에 where와 같은 형태로 뽑힘\n",
    "print(index[0])          #[0]만 출력하면 인덱스 값만 뽑힘(튜플로 인덱스,타입이 들어가 있음)\n",
    "index"
   ]
  },
  {
   "cell_type": "code",
   "execution_count": null,
   "id": "08a86e11",
   "metadata": {},
   "outputs": [],
   "source": [
    "#과제: 홀수번째 줄만 거꾸로 뒤집기\n",
    "arr = np.arange(1,101).reshape(10,10)\n",
    "\n",
    "for i in range(1,10,2):\n",
    "    arr[i]=arr[i][::-1]\n",
    "# arr[1::2] = arr[1::2, ::-1]         #반복문 대신 이렇게 해도 ok\n",
    "    \n",
    "print(arr, type(arr))"
   ]
  },
  {
   "cell_type": "code",
   "execution_count": null,
   "id": "248cbdef",
   "metadata": {},
   "outputs": [],
   "source": [
    "#과제: 테두리만 남기고 전부 0으로 변경\n",
    "arr=np.ones((10,10))\n",
    "arr[1:9, 1:9]=0\n",
    "arr"
   ]
  },
  {
   "cell_type": "code",
   "execution_count": null,
   "id": "68535475",
   "metadata": {},
   "outputs": [],
   "source": [
    "#과제: 전부 1인 5x5배열을 -> 9x9배열로 확장, 0 채우기\n",
    "arr=np.ones((5,5))\n",
    "\n",
    "v=np.zeros((2,5))\n",
    "h=np.zeros((9,2))\n",
    "\n",
    "arr2=np.vstack((arr,v))      # arr 아래에 v 붙이기\n",
    "arr2=np.vstack((v,arr2))\n",
    "#print(arr2)\n",
    "\n",
    "arr2=np.hstack((h,arr2))     # h 옆에 arr2 붙이기\n",
    "arr2=np.hstack((arr2,h))\n",
    "print(arr2)"
   ]
  },
  {
   "cell_type": "code",
   "execution_count": null,
   "id": "6e7b232d",
   "metadata": {},
   "outputs": [],
   "source": [
    "#과제: 전부 0인 배열을 패턴화해서 출력\n",
    "arr=np.zeros((8,8))\n",
    "\n",
    "for i in range(8):\n",
    "    if i%2==0:\n",
    "        arr[i][1::2]=1     # 짝수 번째 줄 0101010\n",
    "    else:\n",
    "        arr[i][0::2]=1     # 홀수 번째 줄 1010101\n",
    "arr"
   ]
  },
  {
   "cell_type": "code",
   "execution_count": null,
   "id": "08a7008c",
   "metadata": {},
   "outputs": [],
   "source": [
    "#과제 (위와 같은 문제/ tile함수 이용)\n",
    "arr=np.zeros((8,8))\n",
    "\n",
    "for i in range(8):\n",
    "    if i%2==0:\n",
    "        arr[i]= np.tile([0,1],4)    # 짝수 번째 줄 0101010\n",
    "    else:\n",
    "        arr[i]= np.tile([1,0],4)     # 홀수 번째 줄 1010101\n",
    "        \n",
    "# arr = np.tile(np.array([[0, 1], [1, 0]]), (4, 4))    #타일 함수 쓰는 법\n",
    "arr"
   ]
  },
  {
   "cell_type": "code",
   "execution_count": null,
   "id": "f5a3b87c",
   "metadata": {},
   "outputs": [],
   "source": [
    "#[과제] np.arange(336).reshape(6,7,8)에서 100번째 요소의 인덱스 구하기\n",
    "arr=np.arange(336).reshape(6,7,8)\n",
    "\n",
    "b=arr.reshape(-1)\n",
    "idx=np.where(arr==b[99])     #b의 99인덱스 = arr의 100번째\n",
    "\n",
    "index=[idx[i][0] for i in range(len(idx))]    #인덱스값 뽑기\n",
    "print(index)\n",
    "idx"
   ]
  },
  {
   "cell_type": "code",
   "execution_count": null,
   "id": "29a6c8c0",
   "metadata": {},
   "outputs": [],
   "source": [
    "#[과제] np.arange(336).reshape(6,7,8)에서 100번째 요소의 인덱스 구하기\n",
    "arr = np.arange(336).reshape(6,7,8)\n",
    "\n",
    "np.unravel_index(100, arr.shape)\n",
    "# unravel_index(): '1차원 배열의 인덱스'를 '다차원 인덱스'로 반환(튜플 형태)\n",
    "# (찾을 1차원 인덱스 번호, 몇 차원으로 반환할 건지)"
   ]
  },
  {
   "cell_type": "code",
   "execution_count": null,
   "id": "1444cb37",
   "metadata": {},
   "outputs": [],
   "source": []
  }
 ],
 "metadata": {
  "kernelspec": {
   "display_name": "Python 3 (ipykernel)",
   "language": "python",
   "name": "python3"
  },
  "language_info": {
   "codemirror_mode": {
    "name": "ipython",
    "version": 3
   },
   "file_extension": ".py",
   "mimetype": "text/x-python",
   "name": "python",
   "nbconvert_exporter": "python",
   "pygments_lexer": "ipython3",
   "version": "3.9.13"
  }
 },
 "nbformat": 4,
 "nbformat_minor": 5
}
