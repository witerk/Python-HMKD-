{
 "cells": [
  {
   "cell_type": "markdown",
   "id": "28ac08cd",
   "metadata": {},
   "source": [
    "## 파이썬 기초"
   ]
  },
  {
   "cell_type": "markdown",
   "id": "c6603f13",
   "metadata": {},
   "source": [
    "#### 파이썬 이란\n",
    "- 1990년 암스테르담의 귀도 반 로섬(Guido Van Rossum)이 개발한 인터프리터 언어\n",
    "- 컴퓨터 프로그래밍 교육을 위해 많이 사용하지만, 기업의 실무를 위해서도 많이 사용하는 언어. 구글에서 만든 소프트웨어의 50%이상이 파이썬으로 작성\n",
    "\n",
    "#### 파이썬의 특징\n",
    "- 파이썬은 인간다운 언어이다\n",
    "- 파이썬은 문법이 쉬워 빠르게 배울 수 있다\n",
    "- 파이썬은 무료이지만 강력하다\n",
    "- 파이썬은 간결하다\n",
    "- 파이썬은 프로그래밍을 즐기게 해준다\n",
    "- 파이썬은 개발 속도가 빠르다\n",
    "\n",
    "#### 파이썬으로 할 수 있는 일\n",
    "- 시스템 유틸리티 제작\n",
    "- GUI 프로그래밍\n",
    "- C/C++와의 결합\n",
    "- 웹 프로그래밍\n",
    "- 수치 연산 프로그래밍\n",
    "- 데이터베이스 프로그래밍\n",
    "- 데이터 분석, 사물 인터넷\n",
    "\n",
    "#### 참조\n",
    "- 표현식 : 어떠한 값을 만들어 내는 간단한 코드. 273, 10 + 20 + 30, \"Python Programming\"\n",
    "- 문장 : 표현식이 하나 이상 모이면 문장. print(\"Hello\")\n",
    "- 프로그램 : 문장이 모여서 프로그램\n",
    "- 식별자 : 프로그램밍 언어에서 이름을 붙일 때 사용하는 단어. 주로 변수 또는 함수 이름 등으로 사용\n",
    "- 주석 : 프로그램을 설명하기 위해 사용. # 기호로 주석 처리\n",
    "- 연산자 : 스스로 값이 되는 것이 아니고 값과 값 사이에 무언가 기능을 적용할 때 사용\n",
    "- 자료 : 리터럴이라고 하는데 숫자이든 문자이든 어떠한 값 자체를 의미. 1, 10, \"Hello\"\n",
    "- 키워드 : 파이썬이 만들어질 때 이미 사용하겠다고 예약해 놓는 것. False, None, True, ...\n",
    "- 프로그램밍 언어에서 사용자가 이름을 정할 때 키워드는 사용할 수 없음"
   ]
  },
  {
   "cell_type": "code",
   "execution_count": 10,
   "id": "7cb8b9a5",
   "metadata": {},
   "outputs": [
    {
     "name": "stdout",
     "output_type": "stream",
     "text": [
      "Python 3.9.13\n"
     ]
    }
   ],
   "source": [
    "!python -V"
   ]
  },
  {
   "cell_type": "code",
   "execution_count": 12,
   "id": "f102654f",
   "metadata": {
    "scrolled": true
   },
   "outputs": [
    {
     "name": "stdout",
     "output_type": "stream",
     "text": [
      "273\n"
     ]
    },
    {
     "data": {
      "text/plain": [
       "60"
      ]
     },
     "execution_count": 12,
     "metadata": {},
     "output_type": "execute_result"
    }
   ],
   "source": [
    "#표현식\n",
    "print(273)\n",
    "10+20+30"
   ]
  },
  {
   "cell_type": "code",
   "execution_count": 14,
   "id": "6601547a",
   "metadata": {},
   "outputs": [
    {
     "name": "stdout",
     "output_type": "stream",
     "text": [
      "Hello World!\n",
      "52 Hi 8\n"
     ]
    }
   ],
   "source": [
    "#표현식이 하나 이상씩 모이면 문장\n",
    "print(\"Hello World!\")\n",
    "print(52, \"Hi\", 5+3)"
   ]
  },
  {
   "cell_type": "code",
   "execution_count": 1,
   "id": "4d297852",
   "metadata": {},
   "outputs": [
    {
     "name": "stdout",
     "output_type": "stream",
     "text": [
      "8\n"
     ]
    }
   ],
   "source": [
    "#문장이 모여서 프로그램 (세미콜론 붙이면 줄바꿈 안 해도 됨)\n",
    "a=1; b=7; c=a+b\n",
    "print(c)"
   ]
  },
  {
   "cell_type": "code",
   "execution_count": 15,
   "id": "6176cd97",
   "metadata": {},
   "outputs": [
    {
     "name": "stdout",
     "output_type": "stream",
     "text": [
      "c는 10+5+11로 26입니다.\n",
      "nayoung은 is very nice합니다~!\n"
     ]
    }
   ],
   "source": [
    "a=5+10\n",
    "c=a+11\n",
    "print(f\"c는 10+5+11로 {c}입니다.\")\n",
    "\n",
    "n='nayoung'\n",
    "c=\" is very nice\"\n",
    "print(f\"{n}은{c}합니다~!\")"
   ]
  },
  {
   "cell_type": "markdown",
   "id": "3dea7e65",
   "metadata": {},
   "source": [
    "#### 표현식(Expression)\n",
    "- 파이썬을 포함한 프로그램 언어는 '표현식(expresstion)'과 '문장(statement)'이라는 것으로 구성\n",
    "- '표현식(expression)'은 간단하게 '식'이라고 부르기도 하는데요, 하나 이상의 값으로 표현될 수 있는 코드를 의미\n",
    "- 프로그램 언어에서 숫자나 문자 또는 수학의 사칙연산과 같은 것들이 표현식인 것입니다. 이것들은 그 자체만으로 어떠한 값을 갖는다고 평가\n",
    "- 숫자, 문자 그리고 사칙연산 이외에도 이후에 보게 될 '함수 호출(반환되는 값)', '변수 이름과 같은 식별자' 등도 표현식에 포함"
   ]
  },
  {
   "cell_type": "code",
   "execution_count": null,
   "id": "9c34b921",
   "metadata": {},
   "outputs": [],
   "source": [
    "100         #값을 가지므로 표현식\n",
    "100+20      #마찬가지로 값을 가지므로 표현식\n",
    "+ - / *     #자체만으로 값을 가지지 않으므로 표현식x"
   ]
  },
  {
   "cell_type": "markdown",
   "id": "a632bd9b",
   "metadata": {},
   "source": [
    "#### 문장(Statement)\n",
    "- '문장(statement)'은 하나 이상의 표현식이 모인 것으로 프로그래밍에서는 실행 가능한 최소의 독립적인 코드 조각\n",
    "- 문장은 단독적으로 컴파일러가 이해하고 실행할 수 있음\n",
    "- 파이썬 코드의 한 줄, 또는 블록으로 된 것들을 하나의 문장이라고 할 수 있음\n",
    "- 문장이 모여 하나의 '프로그램(program)'이 된다.\n",
    "- 표현식이 모여 문장이 되고, 문장이 모여 프로그램이 되는 것"
   ]
  },
  {
   "cell_type": "code",
   "execution_count": null,
   "id": "3a8c0410",
   "metadata": {},
   "outputs": [],
   "source": [
    "word = \"python\"     # 하나의 문장입니다. \n",
    "a = 100 + 200       # 또 다른 하나의 문장입니다.\n",
    "\n",
    "if a > 500:\n",
    "    print(word)  #if문: 블록을 이루는 하나의 문장"
   ]
  },
  {
   "cell_type": "markdown",
   "id": "75d65b20",
   "metadata": {},
   "source": [
    "#### 키워드(keyword)\n",
    "- '키워드(keyword)'는 각 프로그램 언어에서 특정 용도로 사용하기 위해 만들어진 특별한 의미를 가지는 예약된 단어\n",
    "- 프로그래밍 언어에서 사용자가 '변수'나 '함수' 등의 이름을 정할 때 키워드를 사용할 수 없다. \n",
    "- 키워드로 쓰이는 단어는 프로그램을 작성할 때 그 용도가 아니면 사용을 할 수 없기 때문에 어떤 단어가 키워드로 쓰이는지 알아야 함."
   ]
  },
  {
   "cell_type": "code",
   "execution_count": 3,
   "id": "c411ae40",
   "metadata": {},
   "outputs": [
    {
     "name": "stdout",
     "output_type": "stream",
     "text": [
      "['False', 'None', 'True', '__peg_parser__', 'and', 'as', 'assert', 'async', 'await', 'break', 'class', 'continue', 'def', 'del', 'elif', 'else', 'except', 'finally', 'for', 'from', 'global', 'if', 'import', 'in', 'is', 'lambda', 'nonlocal', 'not', 'or', 'pass', 'raise', 'return', 'try', 'while', 'with', 'yield'] \n",
      "\n",
      "36\n"
     ]
    }
   ],
   "source": [
    "#python keyword\n",
    "\n",
    "import keyword\n",
    "print(keyword.kwlist,'\\n')  # \\n한 줄 띄기\n",
    "print(len(keyword.kwlist))"
   ]
  },
  {
   "cell_type": "markdown",
   "id": "f2015441",
   "metadata": {},
   "source": [
    "#### 식별자 기본 규칙\n",
    ": 식별자는 프로그램 언어에서 변수, 함수, 클래스, 모듈, 속성을 식별하는 문자열 등 다른 객체를 표현하기 위해 이름붙일 때 사용하는 단어\n",
    "\n",
    "- 키워드를 사용하면 안된다.\n",
    "- 특수문자는 언더바(_)만 사용한다.\n",
    "- 숫자로 시작하면 안된다.\n",
    "- 공백을 포함할 수 없다"
   ]
  },
  {
   "cell_type": "code",
   "execution_count": 24,
   "id": "da1a0e1c",
   "metadata": {},
   "outputs": [
    {
     "ename": "SyntaxError",
     "evalue": "invalid syntax (4182709622.py, line 5)",
     "output_type": "error",
     "traceback": [
      "\u001b[1;36m  File \u001b[1;32m\"C:\\Users\\h\\AppData\\Local\\Temp\\ipykernel_4604\\4182709622.py\"\u001b[1;36m, line \u001b[1;32m5\u001b[0m\n\u001b[1;33m    273alpha   #숫자로 시작하면x\u001b[0m\n\u001b[1;37m       ^\u001b[0m\n\u001b[1;31mSyntaxError\u001b[0m\u001b[1;31m:\u001b[0m invalid syntax\n"
     ]
    }
   ],
   "source": [
    "alpha\n",
    "break    #키워드라서x\n",
    "alpha10\n",
    "_alpha\n",
    "273alpha   #숫자로 시작하면x\n",
    "Alpha\n",
    "ALPHA\n",
    "has space   #공백이 있어서x"
   ]
  },
  {
   "cell_type": "markdown",
   "id": "9e7344bb",
   "metadata": {},
   "source": [
    "https://bibi6666667.tistory.com/277\n",
    "파이썬은 snake_case와 CamelCase를 모두 사용\n",
    "\n",
    "- itemlist item_list IteList\n",
    "- loginstatus login_status LoginStatus\n",
    "- 캐멀 케이스(대문자로 시작) 클래스\n",
    "- 스네이크 케이스(소문자로 시작) 뒤에 ()가 있다 -> 함수\n",
    "- 스네이크 케이스(소문자로 시작) 뒤에 ()가 없다 -> 변수"
   ]
  },
  {
   "cell_type": "markdown",
   "id": "8663ef5c",
   "metadata": {},
   "source": [
    "#### 주석(Comment)\n",
    "- 주석(comment)은 프로그램에 영향을 주지 않는 것으로 프로그램을 실행할 경우 무시되는 코드 영역\n",
    "- 주석은 보통 코드에서 중요한 부분에 대한 설명을 하기 위해 사용\n",
    "- 테스트 중에 잠시 필요하지 않은 코드 조각을 실행하고 싶지 않을 때 해당 부분을 주석으로 처리"
   ]
  },
  {
   "cell_type": "code",
   "execution_count": 17,
   "id": "7632be76",
   "metadata": {},
   "outputs": [
    {
     "name": "stdout",
     "output_type": "stream",
     "text": [
      "1 <class 'int'>\n",
      "one <class 'str'>\n"
     ]
    }
   ],
   "source": [
    "#변수에 값 대입하기\n",
    "#값이 대입되는 시점에 변수의 자료형이 자동적으로 재지정 됨\n",
    "#자료형(int, float, boolean, string)\n",
    "\n",
    "number = 1\n",
    "number + 2    #더하기는 했으나 값 대입x 즉 연산값 저장x\n",
    "print(number, type(number))\n",
    "\n",
    "number = 'one'\n",
    "print(number, type(number))"
   ]
  },
  {
   "cell_type": "markdown",
   "id": "bea5c0cd",
   "metadata": {},
   "source": [
    "#### 자료형\n",
    "- 자료형 또는 데이터 타입이란 숫자, 문자 등과 같이 여러 종류의 데이터를 구분하기 위한 분류\n",
    "- 파이썬의 자료형은 크게 숫자(numbers), 시퀀스(sequence), 매핑(mapping) 등으로 나눌 수 있다.\n",
    "- 파이썬의 기본 자료형\n",
    "  - 수치형 \n",
    "    - 정수형 : int는 정수(integer)를 나타낸다. (양의 정수/ 0/ 음의 정수)\n",
    "    - 실수형 : float는 원래 부동소수점수(floating-point number)를 가리키는데, 지금은 단순히 소수점 이하를 표현할 수 있는 수이다.\n",
    "    - 복소수형 : 복소수를 complex로 나타내고 제곱하면 -1이 되는 수 i를 ‘허수(imaginary number)’라고 하는데 허수 i를 j로 표현\n",
    "  - 시퀀스 : 문자열(str), 리스트(list), 튜플(tuple), 사용자 정의 클래스가 시퀀스에 속한다. for 문에서 사용할 수 있는 것들이 바로 시퀀스\n",
    "    - 문자열 : 문자를 한 줄로 표현하며 문자열 인덱스를 이용해 문자열의 일부를 복사\n",
    "    - 리스트 : 대괄호([ ])로 감싸 주고 각 요솟값은 쉼표(,)로 구분\n",
    "    - 튜플 : 튜플은 ( )으로 둘러싸고 각 요솟값은 쉼표(,)로 구분\n",
    "  - 매핑\n",
    "    - 사전 : 딕셔너리(dict)는 키(key)와 값(value)의 짝으로 이뤄지는데 이런 것을 매핑\n",
    "  - 집합 : 집합을 표현하는 세트(set)\n",
    "  - 블린 : 참, 거짓을 표현"
   ]
  },
  {
   "cell_type": "code",
   "execution_count": null,
   "id": "430f362e",
   "metadata": {},
   "outputs": [],
   "source": [
    "# 자료형 출력\n",
    "a = 200\n",
    "msg = 'I love Python'\n",
    "list_data = ['a', 'b', 'c']\n",
    "dict_data = {'a':97, 'b':98}\n",
    "\n",
    "print(a)\n",
    "print(msg)\n",
    "print(list_data)\n",
    "print(list_data[0])\n",
    "print(dict_data)\n",
    "print(dict_data['a'])"
   ]
  },
  {
   "cell_type": "markdown",
   "id": "ca163e81",
   "metadata": {},
   "source": [
    "#### 시퀀스 자료 인덱싱\n",
    "- 시퀀스 자료 인덱스는 0부터 시작하며 음수 인덱스도 가능\n",
    "- 슬라이싱은 \\[시작인덱스:끝인덱스:스텝\\]으로 표현하며 스텝은 생략할 수 있음\n",
    "- 자료형이 같은 시퀀스 자료를 순서있게 연결할 수 있다."
   ]
  },
  {
   "cell_type": "code",
   "execution_count": 20,
   "id": "43c71345",
   "metadata": {},
   "outputs": [
    {
     "name": "stdout",
     "output_type": "stream",
     "text": [
      "i\n",
      "~\n",
      "1\n",
      "[1, 2, 3]\n",
      "3\n"
     ]
    }
   ],
   "source": [
    "stdata='Time is money~!'\n",
    "listdata=[1,2,[1,2,3]]\n",
    "print(stdata[5])\n",
    "print(stdata[-2])\n",
    "print(listdata[0])\n",
    "print(listdata[-1])\n",
    "print(listdata[2][-1])"
   ]
  },
  {
   "cell_type": "code",
   "execution_count": 25,
   "id": "231b18b9",
   "metadata": {},
   "outputs": [
    {
     "name": "stdout",
     "output_type": "stream",
     "text": [
      "ime\n",
      "Time is\n",
      "oney~!\n",
      "Time is money~!\n",
      "Tm smny!\n"
     ]
    }
   ],
   "source": [
    "#슬라이싱을 이용해 출력\n",
    "stdata='Time is money~!'\n",
    "print(stdata[1:4])\n",
    "print(stdata[:7])\n",
    "print(stdata[9:])\n",
    "print(stdata[:])\n",
    "print(stdata[::2])"
   ]
  },
  {
   "cell_type": "code",
   "execution_count": 28,
   "id": "69888477",
   "metadata": {},
   "outputs": [
    {
     "name": "stdout",
     "output_type": "stream",
     "text": [
      "I love Python\n",
      "I love you\n",
      "[1, 2, 3, 4, 5, 6]\n"
     ]
    }
   ],
   "source": [
    "sdata1='I love '; sdata2='Python'; sdata3='you'\n",
    "listdata1=[1,2,3]; listdata2=[4,5,6]\n",
    "\n",
    "print(sdata1+sdata2)\n",
    "print(sdata1+sdata3)\n",
    "print(listdata1+listdata2)"
   ]
  },
  {
   "cell_type": "code",
   "execution_count": 30,
   "id": "1d193457",
   "metadata": {},
   "outputs": [
    {
     "name": "stdout",
     "output_type": "stream",
     "text": [
      "빅뱅이 부르는 뱅~뱅~뱅~\n"
     ]
    }
   ],
   "source": [
    "artist='빅뱅'\n",
    "sing='뱅~'\n",
    "print(f\"{artist}이 부르는 {sing*3}\")"
   ]
  },
  {
   "cell_type": "code",
   "execution_count": 34,
   "id": "579006f3",
   "metadata": {},
   "outputs": [
    {
     "data": {
      "text/plain": [
       "(13, 14, 5)"
      ]
     },
     "execution_count": 34,
     "metadata": {},
     "output_type": "execute_result"
    }
   ],
   "source": [
    "stdata='I love Python'\n",
    "stdata2='나는 파이썬을 사랑합니다.'\n",
    "listd=['a','b','c',stdata,stdata2]\n",
    "\n",
    "len(stdata),len(stdata2),len(listd)"
   ]
  },
  {
   "cell_type": "code",
   "execution_count": 43,
   "id": "2d6757de",
   "metadata": {},
   "outputs": [
    {
     "name": "stdout",
     "output_type": "stream",
     "text": [
      "True\n",
      "False\n",
      "False\n",
      "False\n"
     ]
    }
   ],
   "source": [
    "listd=[1,2,3,4]\n",
    "print(4 in listd)\n",
    "print(5 in listd)\n",
    "\n",
    "sdata='abcde'\n",
    "print('c' in listd)\n",
    "print('1' in listd)"
   ]
  },
  {
   "cell_type": "code",
   "execution_count": 45,
   "id": "dc0ba4f1",
   "metadata": {},
   "outputs": [
    {
     "name": "stdout",
     "output_type": "stream",
     "text": [
      "10 2 8 10\n"
     ]
    }
   ],
   "source": [
    "#진수\n",
    "\n",
    "int_data=10\n",
    "bin_data=0b10   #2진수 0b로 시작\n",
    "oct_data=0o10   #8진수 0o로 시작\n",
    "hex_data=10     #16진수 0x로 시작\n",
    "print(int_data, bin_data, oct_data, hex_data)"
   ]
  },
  {
   "cell_type": "code",
   "execution_count": 65,
   "id": "c426d473",
   "metadata": {},
   "outputs": [
    {
     "name": "stdout",
     "output_type": "stream",
     "text": [
      "7e-08 0.3562375673 3.2154e-05 \n",
      "\n",
      "1.9 3.14 1560.0\n",
      "-0.0007\n",
      "-0.00007 = -7e-05\n",
      "\n",
      "-7e-05 = -7e-05\n"
     ]
    }
   ],
   "source": [
    "f1= 1.9\n",
    "f2= 3.14\n",
    "f3= 1.56e3     #1.58 x (10의 3승)\n",
    "\n",
    "f= -7e-4\n",
    "f4= -7e-5      #-7 x (10의 -5승)\n",
    "f5= -0.7e-4    #-0.7 x (10의 -4승)\n",
    "#숫자가 길어지니까 0.00007로 표기 안 하고 줄이는 거 (과학적 표기법 e)\n",
    "\n",
    "print(0.00000007, 0.3562375673, 0.000032154, '\\n')\n",
    "#0 -> 4개 이상부터\n",
    "\n",
    "print(f1,f2,f3)\n",
    "print(f)\n",
    "print(f\"{f4:0.5f} = {f5}\\n\")\n",
    "\n",
    "print(f\"{-7/100000} = {-0.7/10000}\")"
   ]
  },
  {
   "cell_type": "code",
   "execution_count": 66,
   "id": "c32a2647",
   "metadata": {},
   "outputs": [
    {
     "name": "stdout",
     "output_type": "stream",
     "text": [
      "6.0\n"
     ]
    }
   ],
   "source": [
    "i=2; f=4.0\n",
    "print(i+f)   -> 정수 + 실수 = 실수형"
   ]
  },
  {
   "cell_type": "code",
   "execution_count": 31,
   "id": "7a13e7b1",
   "metadata": {},
   "outputs": [
    {
     "name": "stdout",
     "output_type": "stream",
     "text": [
      "3이 있습니다.\n",
      "3이 있습니다.\n"
     ]
    }
   ],
   "source": [
    "print(\"3이 있습니다.\")\n",
    "print(\"%d이 있습니다.\" %3)"
   ]
  },
  {
   "cell_type": "code",
   "execution_count": 27,
   "id": "f96a06cf",
   "metadata": {},
   "outputs": [
    {
     "name": "stdout",
     "output_type": "stream",
     "text": [
      "3이 있습니다.\n"
     ]
    }
   ],
   "source": [
    "#사람이 생각하는 방식을 그대로 표현할 수 있는 언어\n",
    "\n",
    "if 3 in [1,2,3,4]: \n",
    "    print('3이 있습니다.')"
   ]
  },
  {
   "cell_type": "code",
   "execution_count": 34,
   "id": "cf832a8d",
   "metadata": {},
   "outputs": [
    {
     "name": "stdout",
     "output_type": "stream",
     "text": [
      "10 3 13 30 3.3333333333333335 1 3 1000\n"
     ]
    }
   ],
   "source": [
    "#사칙연산\n",
    "a=10\n",
    "b=3\n",
    "c=a+b\n",
    "d=a*b\n",
    "e=a/b    #일반적인 나눗셈\n",
    "f=a%b    #나머지\n",
    "g=a//b   #몫\n",
    "h=a**b   #제곱\n",
    "\n",
    "print(a,b,c,d,e,f,g,h)"
   ]
  },
  {
   "cell_type": "code",
   "execution_count": 68,
   "id": "309d99fc",
   "metadata": {},
   "outputs": [
    {
     "data": {
      "text/plain": [
       "'문자열273'"
      ]
     },
     "execution_count": 68,
     "metadata": {},
     "output_type": "execute_result"
    }
   ],
   "source": [
    "#다른 타입들 간 연산x\n",
    "string='문자열'\n",
    "number=273\n",
    "\n",
    "string+str(number)\n",
    "#string + number은 오류"
   ]
  },
  {
   "cell_type": "code",
   "execution_count": 39,
   "id": "97d1f3f6",
   "metadata": {},
   "outputs": [
    {
     "name": "stdout",
     "output_type": "stream",
     "text": [
      "<class 'str'> <class 'int'>\n"
     ]
    }
   ],
   "source": [
    "print(type(string), type(number))"
   ]
  },
  {
   "cell_type": "code",
   "execution_count": 69,
   "id": "c3209638",
   "metadata": {},
   "outputs": [
    {
     "name": "stdout",
     "output_type": "stream",
     "text": [
      "문자임 <class 'str'>\n"
     ]
    }
   ],
   "source": [
    "a=10\n",
    "a='문자임'\n",
    "print(a, type(a))"
   ]
  },
  {
   "cell_type": "code",
   "execution_count": 51,
   "id": "24570767",
   "metadata": {},
   "outputs": [
    {
     "name": "stdout",
     "output_type": "stream",
     "text": [
      "19.0\n",
      "<class 'float'>\n"
     ]
    }
   ],
   "source": [
    "#복합대입 연산자\n",
    "num=10     #10\n",
    "num+=10    #20\n",
    "num*=10    #200\n",
    "num-=10    #190\n",
    "num/=10    #19.0\n",
    "print(num)\n",
    "print(type(num))"
   ]
  },
  {
   "cell_type": "code",
   "execution_count": 55,
   "id": "db1e85d7",
   "metadata": {},
   "outputs": [
    {
     "name": "stdout",
     "output_type": "stream",
     "text": [
      "나는 파이썬을 좋아한다 \n",
      "나는 파이썬을 좋아한다 3.92\n"
     ]
    }
   ],
   "source": [
    "a='나는 '\n",
    "b='파이썬을 '\n",
    "c='좋아한다 '\n",
    "d='3.92'\n",
    "print(a+b+c)\n",
    "print(a+b+c+d)"
   ]
  },
  {
   "cell_type": "code",
   "execution_count": 58,
   "id": "8572cc35",
   "metadata": {},
   "outputs": [
    {
     "name": "stdout",
     "output_type": "stream",
     "text": [
      "전화번호를 입력하세요: 453-2378-4324\n",
      "453-2378-4324 <class 'str'>\n"
     ]
    }
   ],
   "source": [
    "#사용자 입력\n",
    "number=input(\"전화번호를 입력하세요: \")\n",
    "print(number, type(number))"
   ]
  },
  {
   "cell_type": "code",
   "execution_count": 61,
   "id": "30cbd5fd",
   "metadata": {},
   "outputs": [
    {
     "name": "stdout",
     "output_type": "stream",
     "text": [
      "첫 번째 숫자를 입력하세요: 3\n",
      "두 번째 숫자를 입력하세요: 5\n",
      "35\n",
      "8\n"
     ]
    }
   ],
   "source": [
    "num1=input(\"첫 번째 숫자를 입력하세요: \")\n",
    "num2=input(\"두 번째 숫자를 입력하세요: \")\n",
    "print(num1+num2)    #둘 다 문자형이므로 연산이 아닌 문장의 이어짐으로 나옴\n",
    "print(int(num1)+int(num2))     #숫자로 바꿔줘야 연산이 됨"
   ]
  },
  {
   "cell_type": "code",
   "execution_count": 62,
   "id": "596ac363",
   "metadata": {},
   "outputs": [
    {
     "name": "stdout",
     "output_type": "stream",
     "text": [
      "첫 번째 숫자를 입력하세요: 56\n",
      "두 번째 숫자를 입력하세요: 23\n",
      "79\n"
     ]
    }
   ],
   "source": [
    "num_1=int(input(\"첫 번째 숫자를 입력하세요: \"))  #첨부터 int로 받기\n",
    "num_2=int(input(\"두 번째 숫자를 입력하세요: \"))\n",
    "\n",
    "print(num_1+num_2)"
   ]
  },
  {
   "cell_type": "code",
   "execution_count": 65,
   "id": "6a4fbf36",
   "metadata": {},
   "outputs": [
    {
     "name": "stdout",
     "output_type": "stream",
     "text": [
      "a를 입력하세요: 3\n",
      "b를 입력하세요: 3.3\n",
      "6.3\n"
     ]
    }
   ],
   "source": [
    "a=input('a를 입력하세요: ')\n",
    "b=input('b를 입력하세요: ')\n",
    "print(float(a)+float(b))"
   ]
  },
  {
   "cell_type": "code",
   "execution_count": 64,
   "id": "9e6a1886",
   "metadata": {},
   "outputs": [
    {
     "name": "stdout",
     "output_type": "stream",
     "text": [
      "5252.273\n"
     ]
    }
   ],
   "source": [
    "a=52\n",
    "b=52.273\n",
    "print(str(a)+str(b))"
   ]
  },
  {
   "cell_type": "code",
   "execution_count": 68,
   "id": "d2539573",
   "metadata": {},
   "outputs": [
    {
     "name": "stdout",
     "output_type": "stream",
     "text": [
      "python's value is great\n"
     ]
    }
   ],
   "source": [
    "#문자열 \"\"  , ''  , \"\"\" \"\"\"  , ''' '''\n",
    "p1=\"python's value is great\"\n",
    "#p2='python's value is great'    #홑따옴표 때문에 에러\n",
    "print(p1)"
   ]
  },
  {
   "cell_type": "code",
   "execution_count": 80,
   "id": "93ca6476",
   "metadata": {},
   "outputs": [
    {
     "name": "stdout",
     "output_type": "stream",
     "text": [
      "\"python is valuable\" he says \n",
      " python's value is great\n"
     ]
    }
   ],
   "source": [
    "s1='\"python is valuable\" he says'\n",
    "s2='python\\'s value is great'   #따옴표 앞에 \\를 넣어주면 문자열로 인식\n",
    "print(s1,'\\n',s2)"
   ]
  },
  {
   "cell_type": "code",
   "execution_count": 81,
   "id": "a274d7dd",
   "metadata": {},
   "outputs": [
    {
     "name": "stdout",
     "output_type": "stream",
     "text": [
      "Once you study data analysis \n",
      "You need Python\n",
      "Once you study data analysis\n",
      "You need Python\n"
     ]
    }
   ],
   "source": [
    "y1=\"Once you study data analysis \\nYou need Python\"\n",
    "print(y1)\n",
    "\n",
    "y2='''Once you study data analysis\n",
    "You need Python'''   #3개짜리 따옴표 세트 -> 줄바꿈까지 전부 인식 ''' ''', \"\"\" \"\"\"\n",
    "print(y2)"
   ]
  },
  {
   "cell_type": "code",
   "execution_count": 84,
   "id": "75651066",
   "metadata": {},
   "outputs": [
    {
     "name": "stdout",
     "output_type": "stream",
     "text": [
      "\"What a wonderful world!\" \n",
      "he said loudly\n"
     ]
    }
   ],
   "source": [
    "str='''\"What a wonderful world!\" \\nhe said loudly'''\n",
    "print(str)"
   ]
  },
  {
   "cell_type": "code",
   "execution_count": 88,
   "id": "bbedfe60",
   "metadata": {},
   "outputs": [
    {
     "name": "stdout",
     "output_type": "stream",
     "text": [
      "Python is easy to learn\n",
      "Python Python Python \n",
      "====================\n"
     ]
    }
   ],
   "source": [
    "a='Python '\n",
    "b='is easy to learn'\n",
    "print(a+b)\n",
    "print(a*3)\n",
    "print('='*20)"
   ]
  },
  {
   "cell_type": "code",
   "execution_count": 108,
   "id": "4a969c89",
   "metadata": {},
   "outputs": [
    {
     "name": "stdout",
     "output_type": "stream",
     "text": [
      "[1, 2, 3, 4, 5] \n",
      " ['a', 'b', 'c'] \n",
      " [1, 'a', 'abc', [3, 56, 1, 2], ['a', 'g', 'ds']] \n",
      "\n",
      "2 5 ds\n",
      "['abc', [3, 56, 1, 2], ['a', 'g', 'ds']] \n",
      "\n",
      "['a', 'b', 'kny']\n",
      "[1, 'a', 'abc', [3, 56], ['a', 'g', 'ds']]\n"
     ]
    }
   ],
   "source": [
    "#자료형 List[]\n",
    "\n",
    "list1=[1,2,3,4,5]\n",
    "list2=['a','b','c']\n",
    "list3=[1,'a','abc',[3,56,1,2],['a','g','ds']]\n",
    "\n",
    "print(list1,'\\n',list2,'\\n',list3,'\\n')\n",
    "\n",
    "print(list1[1], list1[4], list3[4][2])    #인덱싱은 0부터 시작\n",
    "print(list3[2:],'\\n')\n",
    "\n",
    "list2[2] = 'kny'\n",
    "print(list2)         #리스트 요소 수정\n",
    "del list3[3][2:]    #리스트 요소 부분삭제\n",
    "print(list3)"
   ]
  },
  {
   "cell_type": "code",
   "execution_count": 114,
   "id": "3bf41eaa",
   "metadata": {},
   "outputs": [
    {
     "name": "stdout",
     "output_type": "stream",
     "text": [
      "[0, 1, 2, 3, 4, 5, 5, 6, 7, 8, 9, 'a', 'b', 'c']\n",
      "[0, 1, 2, 3, 4, 5, 'vfas', 6, 7, 8, 9, 'a', 'b', 99]\n"
     ]
    }
   ],
   "source": [
    "a=[0,1,2,3,4,5,5,6,7,8,9]\n",
    "b=['a','b','c']\n",
    "c=a+b\n",
    "print(c)    \n",
    "\n",
    "c[-1]=99    #뒤에서 첫번째에 있는 요소 수정\n",
    "c[6]='vfas' #앞에서 7번째에 있는 요소 수정\n",
    "print(c)"
   ]
  },
  {
   "cell_type": "code",
   "execution_count": 71,
   "id": "ecc4b359",
   "metadata": {},
   "outputs": [
    {
     "name": "stdout",
     "output_type": "stream",
     "text": [
      "[2, 3, 6, 7, 8, 21, 4543]\n",
      "[4543, 21, 8, 7, 6, 3, 2] [4543, 21, 8, 7, 6, 3, 2]\n"
     ]
    }
   ],
   "source": [
    "b=[2,6,3,7,8,4543,21]\n",
    "b.sort()   #오름차순 정렬(원본 리스트 변형)\n",
    "print(b)\n",
    "\n",
    "a=sorted(b, reverse=True)   #내림차순 정렬(원본 리스트 유지)\n",
    "b.reverse()                 #내림차순 정렬(원본 리스트 변형)\n",
    "print(a, b)"
   ]
  },
  {
   "cell_type": "code",
   "execution_count": 122,
   "id": "6ae41247",
   "metadata": {},
   "outputs": [
    {
     "name": "stdout",
     "output_type": "stream",
     "text": [
      "1\n"
     ]
    }
   ],
   "source": [
    "c=[1,3,5,23,6,2]\n",
    "print(c.index(3))    #특정 인덱스 위치 반환"
   ]
  },
  {
   "cell_type": "code",
   "execution_count": 74,
   "id": "db6374fc",
   "metadata": {},
   "outputs": [
    {
     "name": "stdout",
     "output_type": "stream",
     "text": [
      "[61, 8, 19, 41, 92, 21, 24, 95, 55, 24, 20, 9, 3, 26, 17, 2, 19, 17, 3, 53, 0, 48, 37, 21, 90, 32, 36, 40, 91, 58, 20, 69, 85, 52, 38, 49, 8, 21, 70, 74, 1, 17, 34, 22, 64, 79, 54, 98, 71, 38]\n",
      "50\n",
      "40\n"
     ]
    }
   ],
   "source": [
    "import numpy as np    #as -> 약칭 지정\n",
    "c=np.random.randint(100,size=50).tolist()  #랜덤 50개 숫자, 중복가능 (0 <= x < 100)\n",
    "#tolist -> 리스트로 변환해주는 거\n",
    "\n",
    "print(c)     #list c\n",
    "print(len(c))    #길이\n",
    "print(c.index(1))   #첫번째 1의 위치"
   ]
  },
  {
   "cell_type": "code",
   "execution_count": 131,
   "id": "686ac546",
   "metadata": {},
   "outputs": [
    {
     "name": "stdout",
     "output_type": "stream",
     "text": [
      "5\n"
     ]
    }
   ],
   "source": [
    "c=[1,1,1,1,1,3,32,2,4,5,6,6,6,66,7,7,7,7,7]\n",
    "print(c.count(7))     #특정 문자의 개수를 세어줌"
   ]
  },
  {
   "cell_type": "code",
   "execution_count": 133,
   "id": "4e7b5539",
   "metadata": {},
   "outputs": [
    {
     "name": "stdout",
     "output_type": "stream",
     "text": [
      "[1, 2, 3, 6, 7]\n",
      "[1, 2, 3, 6, 7, 10]\n",
      "[52, 1, 2, 3, 6, 7, 10, 99]\n",
      "8\n"
     ]
    }
   ],
   "source": [
    "a=[1,2,3]\n",
    "a.extend([6,7])    #리스트 확장\n",
    "print(a)\n",
    "\n",
    "a.append(10)      #맨 끝에 추가\n",
    "print(a)\n",
    "\n",
    "a.insert(0,52)   #0번 자리에 52 삽입\n",
    "a.insert(22,99)  #22번 자리는 없으므로 맨 끝에 삽입\n",
    "print(a)\n",
    "\n",
    "print(len(a))"
   ]
  },
  {
   "cell_type": "code",
   "execution_count": 153,
   "id": "f4d1af88",
   "metadata": {},
   "outputs": [
    {
     "name": "stdout",
     "output_type": "stream",
     "text": [
      "[0, 2, 4, 6, 8]\n"
     ]
    }
   ],
   "source": [
    "list=[0,1,2,3,4,5,6,7,8,9]\n",
    "a=[]\n",
    "for i in range(0,10,2):\n",
    "    a.append(list[i])\n",
    "print(a)"
   ]
  },
  {
   "cell_type": "code",
   "execution_count": 154,
   "id": "a45bffb9",
   "metadata": {},
   "outputs": [
    {
     "name": "stdout",
     "output_type": "stream",
     "text": [
      "[1, 3, 5, 7, 9]\n"
     ]
    }
   ],
   "source": [
    "list=[0,1,2,3,4,5,6,7,8,9]\n",
    "a=[]\n",
    "for i in range(1,10,2):\n",
    "    a.append(list[i])\n",
    "print(a)"
   ]
  },
  {
   "cell_type": "code",
   "execution_count": 165,
   "id": "6503a42c",
   "metadata": {},
   "outputs": [
    {
     "name": "stdout",
     "output_type": "stream",
     "text": [
      "[2, 1, 0]\n"
     ]
    }
   ],
   "source": [
    "list=[0,1,2,3,4,5,6,7,8,9]\n",
    "\n",
    "list.reverse()                   #그냥 역순 뒤집기  \n",
    "#li=sorted(list,reverse=True)    #역정렬\n",
    "\n",
    "print(list[7:])"
   ]
  },
  {
   "cell_type": "code",
   "execution_count": 182,
   "id": "13c82f42",
   "metadata": {},
   "outputs": [
    {
     "name": "stdout",
     "output_type": "stream",
     "text": [
      "[0, 1, 2, 3, 4, 5, 6, 7, 8, 9]\n",
      "[0, 2, 4, 6, 8]\n",
      "[1, 3, 5, 7, 9]\n",
      "[1, 4, 7]\n",
      "[2, 1, 0]\n"
     ]
    }
   ],
   "source": [
    "list=[0,1,2,3,4,5,6,7,8,9]\n",
    "print(list[:])\n",
    "print(list[::2])      #0부터 2개씩 건너뛰기 ::\n",
    "print(list[1::2])     #1부터 2개씩 건너뛰기\n",
    "print(list[1::3])     #1부터 3개씩 건너뛰기\n",
    "print(list[2::-1])    #2부터 -1씩 건너뛰기"
   ]
  },
  {
   "cell_type": "code",
   "execution_count": 75,
   "id": "0888d1d6",
   "metadata": {},
   "outputs": [
    {
     "name": "stdout",
     "output_type": "stream",
     "text": [
      "2\n",
      "{'a': 1, 'b': 2, 'c': 3, 'd': 4}\n"
     ]
    }
   ],
   "source": [
    "dic={'a':1,'b':2,'c':3}\n",
    "print(dic['b'])   #키를 통해 값에 접근 (순서x 인덱스 접근 불가)\n",
    "\n",
    "dic['d']=4     #새로운 키:값 추가\n",
    "print(dic)"
   ]
  },
  {
   "cell_type": "code",
   "execution_count": 81,
   "id": "75bfa75b",
   "metadata": {},
   "outputs": [
    {
     "name": "stdout",
     "output_type": "stream",
     "text": [
      "{1, 2, 3, 4, 6}\n",
      "{'h', 'e', 'o', 'l'}\n",
      "['h', 'e', 'o', 'l']\n",
      "o\n"
     ]
    }
   ],
   "source": [
    "#순서x, 중복x\n",
    "s1=set([1,3,4,2,6,1])\n",
    "s2=set('hello')\n",
    "print(s1)\n",
    "print(s2)\n",
    "\n",
    "s2=list(s2)\n",
    "print(s2)   #이런식으로 리스트로 변형 가능\n",
    "print(s2[2])   #리스트로 변형하면 인덱스 사용 가능"
   ]
  },
  {
   "cell_type": "markdown",
   "id": "546f452b",
   "metadata": {},
   "source": [
    "#### True와 False\n",
    "- 파이썬에서 참과 거짓을 나타내는 상수. True는 1, False는 0의 값을 가짐\n",
    "- 조건을 판단해서 그 조건이 참이면 True, 거짓이면 False를 return"
   ]
  },
  {
   "cell_type": "code",
   "execution_count": 84,
   "id": "0cbfe5fa",
   "metadata": {},
   "outputs": [
    {
     "data": {
      "text/plain": [
       "False"
      ]
     },
     "execution_count": 84,
     "metadata": {},
     "output_type": "execute_result"
    }
   ],
   "source": [
    "str1='abc'\n",
    "str2='python'\n",
    "\n",
    "str1<str2     #아스키 코드 비교 (뒤쪽 알파벳일수록 값이 큼)\n",
    "not str1      #현재 str1값이 True이므로 반대 -> False "
   ]
  },
  {
   "cell_type": "code",
   "execution_count": 1,
   "id": "95239d5c",
   "metadata": {},
   "outputs": [
    {
     "name": "stdout",
     "output_type": "stream",
     "text": [
      "33\n",
      "[58, 45, 69, 19, 4, 87, 29, 13, 39, 15, 54, [8, 33, 11], 27, 49, 63, 98, 22, 82, 82]\n",
      "2\n",
      "5\n",
      "[19, 4, 87, 29, 13, 39, 15, 54]\n",
      "[87, 54, 39, 29, 19, 15, 13, 4]\n",
      "[58, 45, 69, 19, 4, 87, 29, 13, 11, 15, 54, [8, 33, 11], 27, 49, 63, 98, 22, 82, 82]\n",
      "[69, 45, 58]\n",
      "[58, 69, 4, 29, 11, 54, 27, 63, 22, 82]\n",
      "[58, 45, 69, 19, 4, 87, 29, 13, 11, 15, 54, [8, 33, 11], 27, 49, 63, 98, 22, 82]\n",
      "106 -68 1653 0.21839080459770116\n"
     ]
    }
   ],
   "source": [
    "list1=[58,45,69,19,4,87,29,13,39,15,54,[8,33,11],27,49,63,98,22,82]\n",
    "\n",
    "#1\n",
    "print(list1[11][1])\n",
    "\n",
    "#2\n",
    "list1.append(82)\n",
    "print(list1)\n",
    "\n",
    "#3\n",
    "print(list1.count(82))\n",
    "\n",
    "#4\n",
    "print(list1.index(87))\n",
    "\n",
    "#5\n",
    "list2=list1[3:11]\n",
    "print(list2)\n",
    "list2.sort(reverse=True)\n",
    "print(list2)\n",
    "\n",
    "#6\n",
    "list1[8]=11    #a=list1.index(39)       list1[a]=11\n",
    "print(list1)\n",
    "\n",
    "#7\n",
    "print(list1[2::-1])\n",
    "\n",
    "#8\n",
    "print(list1[::2])\n",
    "\n",
    "#9\n",
    "a=len(list1)\n",
    "del list1[a-1]      #list1.pop() -> 리스트 맨 뒤 삭제\n",
    "print(list1)\n",
    "\n",
    "#10\n",
    "print(list1[3]+list1[5], list1[3]-list1[5],list1[3]*list1[5],list1[3]/list1[5])"
   ]
  },
  {
   "cell_type": "code",
   "execution_count": null,
   "id": "05d5c1be",
   "metadata": {},
   "outputs": [],
   "source": [
    "#여러 문자열을 입력받아 각각의 맨앞뒤 글자를 합치는 코드\n",
    "\n",
    "num=int(input(\"테스트 문장 개수를 입력하세요(10이하): \"))\n",
    "listx=[]\n",
    "\n",
    "if num>10:\n",
    "    print(\"10보다 작은 수를 입력하세요.\")\n",
    "else:\n",
    "    for i in range(num):\n",
    "        a=input()\n",
    "        b=a[0]+a[-1]\n",
    "        listx.append(b)\n",
    "print(''.join(listx))"
   ]
  },
  {
   "cell_type": "code",
   "execution_count": 17,
   "id": "cb86da6d",
   "metadata": {},
   "outputs": [
    {
     "name": "stdout",
     "output_type": "stream",
     "text": [
      "태어난 년도를 입력해주세요: 122\n",
      "1000 이상의 년도를 입력해주시기 바랍니다.\n",
      "태어난 년도를 입력해주세요: ㅇ호ㅛㅓㄳ\n",
      "숫자만 입력해주시기 바랍니다.\n",
      "태어난 년도를 입력해주세요: 2021\n",
      "당신은 소띠 입니다.\n"
     ]
    }
   ],
   "source": [
    "while True:\n",
    "    year=input(\"태어난 년도를 입력해주세요: \")\n",
    "    if year.isdigit():      #문자열 내의 모든 문자가 숫자면 True 반환\n",
    "        if int(year)<2000:\n",
    "            print(\"1000 이상의 년도를 입력해주시기 바랍니다.\")\n",
    "        else:\n",
    "            break\n",
    "    else:\n",
    "        print(\"숫자만 입력해주시기 바랍니다.\")\n",
    "\n",
    "num=int(year)%12\n",
    "list=['잔나비띠','닭띠','개띠','돼지띠','쥐띠','소띠','범띠','토끼띠','용띠','뱀띠','말띠','양띠']\n",
    "print(\"당신은 %s 입니다.\" %list[num])"
   ]
  },
  {
   "cell_type": "markdown",
   "id": "26e175c3",
   "metadata": {},
   "source": [
    "#### 파이썬에서 들여쓰기 \n",
    "- 파이썬에는 실행 코드 부분을 묶어주는 {} 괄호가 없다.\n",
    "- 대신 들여쓰기(indentation)로 {}를 대신한다.\n",
    "- 제어문이나 함수이름, 클래스 이름 뒤에 콜론(':')으로 제어문, 함수이름, 클래스 이름의 끝을 표시하며 ':' 다음에 실행 코드를 작성"
   ]
  },
  {
   "cell_type": "markdown",
   "id": "a68661ff",
   "metadata": {},
   "source": [
    "#### 이스케이프 문자\n",
    "- 키보드로 입력하기 어려운 기호 등을 나타낸다.\n",
    "- \\로 시작, \\n 줄바꾸기, \\t 탭, \\enter 줄계속, \\\\\\ '\\\\' 기호 자체"
   ]
  },
  {
   "cell_type": "markdown",
   "id": "bebdb4e9",
   "metadata": {},
   "source": [
    "#### 문자열 포멧\n",
    "- % operator 사용 : % 연산자를 사용하려면 %(VAR_NAME)TYPE 형식으로 적어주며 VAR_NAME 은 바인딩할 변수명을 TYPE 은 변수의 유형을 적어준다.\n",
    "- str.format : str.format() 은 파이썬 표현식 값을 바인딩할 부분을 중괄호 {} 로 표시하고 .format() 뒤에 바인딩할 값을 기술해 준다.\n",
    "- f-string : 문자열에 f 나 F 접두사를 붙이고 표현식을 {expr} 형식으로 작성하면 출력 문자열이 파이썬 표현식의 값으로 바뀐다."
   ]
  },
  {
   "cell_type": "code",
   "execution_count": 88,
   "id": "b78358a3",
   "metadata": {},
   "outputs": [
    {
     "name": "stdout",
     "output_type": "stream",
     "text": [
      "tom    =>      1234\n",
      "jack   =>      4518\n",
      "eddle  =>      9638\n"
     ]
    }
   ],
   "source": [
    "#f-string\n",
    "table={'tom':1234,'jack':4518,'eddle':9638}\n",
    "for name, phone in table.items():\n",
    "    print(f\"{name:6} =>{phone:10d}\")        #10d: 10자 분량의 공백"
   ]
  },
  {
   "cell_type": "markdown",
   "id": "4f72d455",
   "metadata": {},
   "source": [
    "#### 제어문\n",
    "- 조건문(if문) : \\~하면 \\~해라\n",
    "- 반복문(for, while) : 많은 일들을 반복해야 할 때\n",
    "\n",
    "제어문, 조건문, 반복문 : https://velog.io/@osdsoonhyun/%ED%8C%8C%EC%9D%B4%EC%8D%AC-%EC%A0%9C%EC%96%B4%EB%AC%B8"
   ]
  },
  {
   "cell_type": "code",
   "execution_count": 92,
   "id": "d894aad4",
   "metadata": {},
   "outputs": [
    {
     "name": "stdout",
     "output_type": "stream",
     "text": [
      "현재 소지한 돈을 입력해주세요: 200\n",
      "택시를 탔습니다!\n"
     ]
    }
   ],
   "source": [
    "money=int(input(\"현재 소지한 돈을 입력해주세요: \"))\n",
    "\n",
    "if money>0:\n",
    "    print(\"택시를 탔습니다!\")\n",
    "else:\n",
    "    print(\"돈이 없어 집까지 걸어왔습니다.\")"
   ]
  },
  {
   "cell_type": "markdown",
   "id": "ded8fcac",
   "metadata": {},
   "source": [
    "for문의 범위로 사용되는 것은 시퀀스 자료형 또는 반복 가능한 자료이어야 한다.\n",
    "- 문자열, 리스트나 튜플, 사전, range(), 그 외 반복 가능한 객체"
   ]
  },
  {
   "cell_type": "code",
   "execution_count": 93,
   "id": "f3e1d507",
   "metadata": {},
   "outputs": [
    {
     "name": "stdout",
     "output_type": "stream",
     "text": [
      "a:97\n",
      "b:98\n",
      "c:99\n"
     ]
    }
   ],
   "source": [
    "d={'a':97,'b':98,'c':99}\n",
    "for k,v in d.items():\n",
    "    print(f\"{k}:{v}\")"
   ]
  }
 ],
 "metadata": {
  "kernelspec": {
   "display_name": "Python 3 (ipykernel)",
   "language": "python",
   "name": "python3"
  },
  "language_info": {
   "codemirror_mode": {
    "name": "ipython",
    "version": 3
   },
   "file_extension": ".py",
   "mimetype": "text/x-python",
   "name": "python",
   "nbconvert_exporter": "python",
   "pygments_lexer": "ipython3",
   "version": "3.9.13"
  }
 },
 "nbformat": 4,
 "nbformat_minor": 5
}
