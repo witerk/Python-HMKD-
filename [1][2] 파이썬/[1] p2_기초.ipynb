{
 "cells": [
  {
   "cell_type": "code",
   "execution_count": 12,
   "id": "c64b6620",
   "metadata": {},
   "outputs": [
    {
     "name": "stdout",
     "output_type": "stream",
     "text": [
      "2500\n"
     ]
    }
   ],
   "source": [
    "def findBiggestOne():\n",
    "    big=0\n",
    "    for i,j,k in zip(range(1,100),range(99,0,-1),range(10,110,1)):    #for문 증감 2개 이상씩 가능\n",
    "        if i*j > big:\n",
    "            big=i*j\n",
    "    return big\n",
    "\n",
    "print(findBiggestOne())"
   ]
  },
  {
   "cell_type": "code",
   "execution_count": 49,
   "id": "d26eb402",
   "metadata": {},
   "outputs": [
    {
     "name": "stdout",
     "output_type": "stream",
     "text": [
      "입력할 명령의 개수를 지정해주세요: 3\n",
      "명령을 입력하세요: ㅔㅕ노 5\n",
      "명령을 입력하세요: push 8\n",
      "명령을 입력하세요: pop\n",
      "8\n"
     ]
    }
   ],
   "source": [
    "#백준\n",
    "\n",
    "#입력으로 주어지는 명령을 처리하는 프로그램\n",
    "#스택은 Last in First Out 방식\n",
    "\n",
    "#push X: 정수 X를 스택에 넣는 연산이다.\n",
    "#pop: 스택에서 가장 위에 있는 정수를 빼고, 그 수를 출력한다. 만약 스택에 들어있는 정수가 없는 경우에는 -1을 출력한다.\n",
    "#size: 스택에 들어있는 정수의 개수를 출력한다.\n",
    "#empty: 스택이 비어있으면 1, 아니면 0을 출력한다.\n",
    "#top: 스택의 가장 위에 있는 정수를 출력한다. 만약 스택에 들어있는 정수가 없는 경우에는 -1을 출력한다.\n",
    "\n",
    "\n",
    "a=int(input(\"입력할 명령의 개수를 지정해주세요: \"))\n",
    "stax=[]\n",
    "\n",
    "for i in range(a):\n",
    "    b=input(\"명령을 입력하세요: \")\n",
    "    \n",
    "    if b.find('push')!=-1:\n",
    "        k=b.replace('push','')\n",
    "        k=k.strip(' ')\n",
    "        stax.append(k)\n",
    "        \n",
    "    elif b=='pop':\n",
    "        if stax:\n",
    "            print(stax[-1])\n",
    "            stax.pop()\n",
    "        else:\n",
    "            print(\"-1\")\n",
    "            \n",
    "    elif b=='size':\n",
    "        print(len(stax))\n",
    "    \n",
    "    elif b=='empty':\n",
    "        if stax:\n",
    "            print(\"0\")\n",
    "        else:\n",
    "            print('1')\n",
    "    \n",
    "    elif b=='top':\n",
    "        if stax:\n",
    "            print(stax[-1])\n",
    "        else:\n",
    "            print(\"-1\")\n",
    "            \n",
    "    else:\n",
    "        print(\"지정된 명령이 아닙니다.\")"
   ]
  },
  {
   "cell_type": "code",
   "execution_count": 71,
   "id": "08163fbe",
   "metadata": {},
   "outputs": [
    {
     "name": "stdout",
     "output_type": "stream",
     "text": [
      "(1, 2, 3, 4, 5)\n",
      "abc\n",
      "5\n",
      "b\n",
      "<class 'tuple'>\n"
     ]
    }
   ],
   "source": [
    "#튜플(값 고정 -> 삭제, 변경 불가)\n",
    "\n",
    "tup1=(1,2,3,4,5)\n",
    "tup2=('a','b','c')\n",
    "tup3=(1,'a','abc',[1,2,3,4,5],['a','b','c'])\n",
    "\n",
    "print(tup1[:])\n",
    "print(tup3[2])\n",
    "print(tup3[3][4])\n",
    "print(tup3[4][1])\n",
    "\n",
    "print(type(tup1))"
   ]
  },
  {
   "cell_type": "code",
   "execution_count": 55,
   "id": "95d2dbea",
   "metadata": {},
   "outputs": [
    {
     "name": "stdout",
     "output_type": "stream",
     "text": [
      "[6, 2, 3, 4, 5]\n"
     ]
    },
    {
     "ename": "TypeError",
     "evalue": "'tuple' object does not support item assignment",
     "output_type": "error",
     "traceback": [
      "\u001b[1;31m---------------------------------------------------------------------------\u001b[0m",
      "\u001b[1;31mTypeError\u001b[0m                                 Traceback (most recent call last)",
      "\u001b[1;32m~\\AppData\\Local\\Temp\\ipykernel_11736\\4294929611.py\u001b[0m in \u001b[0;36m<module>\u001b[1;34m\u001b[0m\n\u001b[0;32m      4\u001b[0m \u001b[1;33m\u001b[0m\u001b[0m\n\u001b[0;32m      5\u001b[0m \u001b[0mtup1\u001b[0m\u001b[1;33m=\u001b[0m\u001b[1;33m(\u001b[0m\u001b[1;36m1\u001b[0m\u001b[1;33m,\u001b[0m\u001b[1;36m2\u001b[0m\u001b[1;33m,\u001b[0m\u001b[1;36m3\u001b[0m\u001b[1;33m,\u001b[0m\u001b[1;36m4\u001b[0m\u001b[1;33m,\u001b[0m\u001b[1;36m5\u001b[0m\u001b[1;33m)\u001b[0m\u001b[1;33m\u001b[0m\u001b[1;33m\u001b[0m\u001b[0m\n\u001b[1;32m----> 6\u001b[1;33m \u001b[0mtup1\u001b[0m\u001b[1;33m[\u001b[0m\u001b[1;36m0\u001b[0m\u001b[1;33m]\u001b[0m\u001b[1;33m=\u001b[0m\u001b[1;36m6\u001b[0m    \u001b[1;31m#에러 -> 튜플은 값 변경 불가\u001b[0m\u001b[1;33m\u001b[0m\u001b[1;33m\u001b[0m\u001b[0m\n\u001b[0m\u001b[0;32m      7\u001b[0m \u001b[0mprint\u001b[0m\u001b[1;33m(\u001b[0m\u001b[0mtup1\u001b[0m\u001b[1;33m)\u001b[0m\u001b[1;33m\u001b[0m\u001b[1;33m\u001b[0m\u001b[0m\n",
      "\u001b[1;31mTypeError\u001b[0m: 'tuple' object does not support item assignment"
     ]
    }
   ],
   "source": [
    "list1=[1,2,3,4,5]\n",
    "list1[0]=6\n",
    "print(list1)\n",
    "\n",
    "tup1=(1,2,3,4,5)\n",
    "tup1[0]=6    #에러 -> 튜플은 값 변경 불가\n",
    "print(tup1)"
   ]
  },
  {
   "cell_type": "code",
   "execution_count": 57,
   "id": "0da23c5f",
   "metadata": {},
   "outputs": [
    {
     "name": "stdout",
     "output_type": "stream",
     "text": [
      "입력할 문자열의 개수를 지정해주세요: 3\n",
      "(()()(())))()()\n",
      "NO\n",
      "(((())))()()(())\n",
      "YES\n",
      "()()(((())((())))()(()\n",
      "NO\n"
     ]
    }
   ],
   "source": [
    "#백준\n",
    "#괄호들이 쌍을 이루면 yes, 짝이 안 맞으면 no\n",
    "\n",
    "a=int(input(\"입력할 문자열의 개수를 지정해주세요: \"))\n",
    "\n",
    "for i in range(a):\n",
    "    mun=input()\n",
    "    if mun.count('(') == mun.count(')'):\n",
    "        print('YES')\n",
    "    else:\n",
    "        print('NO')"
   ]
  },
  {
   "cell_type": "code",
   "execution_count": 56,
   "id": "cb1e87ae",
   "metadata": {},
   "outputs": [
    {
     "name": "stdout",
     "output_type": "stream",
     "text": [
      "(1,)\n",
      "(1, 2, 3)\n",
      "(1, 2, 3, 1, 2, 3, 1, 2, 3)\n",
      "(1, 1, 2, 3)\n",
      "1\n"
     ]
    },
    {
     "data": {
      "text/plain": [
       "int"
      ]
     },
     "execution_count": 56,
     "metadata": {},
     "output_type": "execute_result"
    }
   ],
   "source": [
    "t1=(1,)    #튜플 요소가 1개일 때는 반드시 뒤에 콤마 붙여줘야 함\n",
    "print(t1)\n",
    "\n",
    "t2=1,2,3\n",
    "print(t2)\n",
    "print(t2*3)\n",
    "\n",
    "t3=t1+t2\n",
    "print(t3)\n",
    "\n",
    "t4=(1)     #콤마 없으면 int로 받음\n",
    "print(t4)\n",
    "type(t4)"
   ]
  },
  {
   "cell_type": "code",
   "execution_count": 59,
   "id": "2966be89",
   "metadata": {},
   "outputs": [
    {
     "name": "stdout",
     "output_type": "stream",
     "text": [
      "1\n",
      "{'a': 1, 'b': 5, 'c': 3}\n",
      "<class 'dict'>\n"
     ]
    }
   ],
   "source": [
    "#자료형_사전(딕셔너리): 키와 값을 하나의 요소로 하는, 순서가 없는 집합\n",
    "\n",
    "d1={'a':1,'b':2,'c':3}\n",
    "print(d1['a'])\n",
    "\n",
    "d1['b']=5\n",
    "print(d1)\n",
    "\n",
    "print(type(d1))"
   ]
  },
  {
   "cell_type": "code",
   "execution_count": 61,
   "id": "1a15230c",
   "metadata": {},
   "outputs": [
    {
     "name": "stdout",
     "output_type": "stream",
     "text": [
      "dict_keys(['a', 'b', 'c'])\n",
      "dict_values([1, 5, 3])\n",
      "dict_items([('a', 1), ('b', 5), ('c', 3)])\n"
     ]
    }
   ],
   "source": [
    "print(d1.keys())\n",
    "print(d1.values())\n",
    "print(d1.items())     #item: 키-값을 전부 뽑아줌"
   ]
  },
  {
   "cell_type": "code",
   "execution_count": 63,
   "id": "e940008c",
   "metadata": {},
   "outputs": [
    {
     "name": "stdout",
     "output_type": "stream",
     "text": [
      "dict_keys(['삼각김밥', '컵라면', '감동란'])\n",
      "dict_values([1000, 1500, 2500])\n",
      "dict_items([('삼각김밥', 1000), ('컵라면', 1500), ('감동란', 2500)])\n"
     ]
    }
   ],
   "source": [
    "c1={'삼각김밥':700,'컵라면':1500,'감동란':2500}\n",
    "print(c1.keys())\n",
    "c1['삼각김밥']=1000\n",
    "print(c1.values())\n",
    "print(c1.items())"
   ]
  },
  {
   "cell_type": "code",
   "execution_count": 68,
   "id": "780f2558",
   "metadata": {},
   "outputs": [
    {
     "name": "stdout",
     "output_type": "stream",
     "text": [
      "[('상호명', '점투타운'), ('전화번호', '010-xxxx-xxxx'), ('업종', '체육관')]\n"
     ]
    }
   ],
   "source": [
    "per={'상호명':'점투타운','전화번호':'010-xxxx-xxxx','업종':'체육관'}\n",
    "print(list(per.items()))"
   ]
  },
  {
   "cell_type": "code",
   "execution_count": 69,
   "id": "4367dbbf",
   "metadata": {
    "scrolled": true
   },
   "outputs": [
    {
     "name": "stdout",
     "output_type": "stream",
     "text": [
      "{1, 2, 3, 4, 5} {'e', 'o', 'H', 'l'}\n"
     ]
    }
   ],
   "source": [
    "#집합(set): 중복 허용x 순서x\n",
    "\n",
    "s1=set([1,2,5,4,3])\n",
    "s2=set('Hello')\n",
    "print(s1, s2)"
   ]
  },
  {
   "cell_type": "code",
   "execution_count": 116,
   "id": "357b73aa",
   "metadata": {},
   "outputs": [
    {
     "name": "stdout",
     "output_type": "stream",
     "text": [
      "[1, 2, 3, 4, 5, 6]\n",
      "2\n",
      "[4, 5, 6, 7, 8, 9]\n",
      "5\n",
      "(4, 5, 6, 7, 8, 9)\n",
      "5\n"
     ]
    }
   ],
   "source": [
    "#집합은 인덱싱 불가 (리스트나 튜플로 바꾼 후 인덱싱)\n",
    "\n",
    "l1=list(s1)\n",
    "print(l1)\n",
    "print(l1[1])\n",
    "\n",
    "l2=list(s2)\n",
    "print(l2)\n",
    "print(l2[1])\n",
    "\n",
    "tu3=tuple(s2)\n",
    "print(tu3)\n",
    "print(tu3[1])"
   ]
  },
  {
   "cell_type": "code",
   "execution_count": 114,
   "id": "1dfb34e6",
   "metadata": {},
   "outputs": [
    {
     "name": "stdout",
     "output_type": "stream",
     "text": [
      "[1, 2, 3, 4, 5, 6, 7, 8, 9]\n",
      "[4, 5, 6]\n"
     ]
    }
   ],
   "source": [
    "#합집합(|) 교집합(&)\n",
    "\n",
    "s1=set([1,2,3,4,5,6])\n",
    "s2=set([4,5,6,7,8,9])\n",
    "\n",
    "print(list(s1|s2))\n",
    "print(list(s1&s2))"
   ]
  },
  {
   "cell_type": "code",
   "execution_count": 78,
   "id": "53bf61fc",
   "metadata": {},
   "outputs": [
    {
     "name": "stdout",
     "output_type": "stream",
     "text": [
      "a가 li에 있습니다.\n"
     ]
    }
   ],
   "source": [
    "#들여쓰기\n",
    "\n",
    "li=['a','b','c']\n",
    "\n",
    "if 'a' in li:\n",
    "    print('a가 li에 있습니다.')\n",
    "else:\n",
    "    print('a가 li에 없습니다.')"
   ]
  },
  {
   "cell_type": "code",
   "execution_count": 83,
   "id": "c9474676",
   "metadata": {},
   "outputs": [
    {
     "name": "stdout",
     "output_type": "stream",
     "text": [
      "나의 이름은 김석자입니다. 나이는 20입니다.\n",
      "나의 이름은 홍길동입니다. 나이는 30입니다.\n"
     ]
    }
   ],
   "source": [
    "#문자열 포멧: f\n",
    "\n",
    "name, age='김석자', 20\n",
    "print(f'나의 이름은 {name}입니다. 나이는 {age}입니다.')\n",
    "\n",
    "d={'name':'홍길동','age':30}\n",
    "print(f'나의 이름은 {d[\"name\"]}입니다. 나이는 {d[\"age\"]}입니다.')"
   ]
  },
  {
   "cell_type": "code",
   "execution_count": 93,
   "id": "bda972d7",
   "metadata": {},
   "outputs": [
    {
     "name": "stdout",
     "output_type": "stream",
     "text": [
      "나의 이름은 김나영이고, 취미는 소설읽기입니다. 좋아하는 음식은 망고에요.\n"
     ]
    }
   ],
   "source": [
    "dir1={'name':'김나영','habit':'소설읽기', 'like':'망고'}\n",
    "print(f\"나의 이름은 {dir1['name']}이고, 취미는 {dir1['habit']}입니다. 좋아하는 음식은 {dir1['like']}에요.\")"
   ]
  },
  {
   "cell_type": "code",
   "execution_count": 98,
   "id": "dbb33a92",
   "metadata": {},
   "outputs": [
    {
     "name": "stdout",
     "output_type": "stream",
     "text": [
      "3.4213\n",
      "    3.4213\n"
     ]
    }
   ],
   "source": [
    "y=3.42134234\n",
    "\n",
    "x=f'{y:0.4f}'    #소수점 자리 초기화\n",
    "print(x)\n",
    "\n",
    "x=f'{y:10.4f}'   #자릿수 초기화(앞에 남는 부분은 공백으로)\n",
    "print(x)"
   ]
  },
  {
   "cell_type": "code",
   "execution_count": 108,
   "id": "a33ed1e0",
   "metadata": {},
   "outputs": [
    {
     "name": "stdout",
     "output_type": "stream",
     "text": [
      "홍길동 선수가 1등 입니다.\n",
      "이길동 선수가 2등 입니다.\n",
      "김길동 선수가 3등 입니다.\n"
     ]
    }
   ],
   "source": [
    "f1=\"{} 선수가 {}등 입니다.\".format('홍길동',1)    #이런 식으로도 포멧 가능\n",
    "print(f1)\n",
    "\n",
    "print(\"{} 선수가 {}등 입니다.\".format('이길동',2))\n",
    "\n",
    "print('%s 선수가 %d등 입니다.'%(\"김길동\",3))"
   ]
  },
  {
   "cell_type": "code",
   "execution_count": 112,
   "id": "b6f15827",
   "metadata": {},
   "outputs": [
    {
     "name": "stdout",
     "output_type": "stream",
     "text": [
      "12345\n",
      "     12345\n",
      "12.345679\n",
      "          12.346\n",
      "3.141592653589793\n",
      " 3.14\n"
     ]
    }
   ],
   "source": [
    "num1=12345\n",
    "print(num1)\n",
    "print(f'{num1:10.0f}')\n",
    "\n",
    "num2=12.345679\n",
    "print(num2)\n",
    "print(f'{num2:16.3f}')\n",
    "\n",
    "num3=3.141592653589793\n",
    "print(num3)\n",
    "print(f'{num3:5.2f}')"
   ]
  },
  {
   "cell_type": "code",
   "execution_count": 115,
   "id": "2f3c1440",
   "metadata": {},
   "outputs": [
    {
     "name": "stdout",
     "output_type": "stream",
     "text": [
      "수입을 입력하세요: 3000000\n",
      "지출을 입력하세요: 240000\n",
      "저축 증가\n"
     ]
    }
   ],
   "source": [
    "i=int(input(\"수입을 입력하세요: \"))\n",
    "o=int(input(\"지출을 입력하세요: \"))\n",
    "\n",
    "if i>o:\n",
    "    print(\"저축 증가\")\n",
    "elif i<o:\n",
    "    print(\"빛 증가\")\n",
    "else:\n",
    "    print(\"현상 유지\")"
   ]
  },
  {
   "cell_type": "code",
   "execution_count": 118,
   "id": "5a578734",
   "metadata": {},
   "outputs": [
    {
     "name": "stdout",
     "output_type": "stream",
     "text": [
      "515620725"
     ]
    }
   ],
   "source": [
    "num=[5,15,6,20,7,25]\n",
    "for i in num:\n",
    "    print(i, end='')     #줄바꿈x: end=''"
   ]
  },
  {
   "cell_type": "code",
   "execution_count": 130,
   "id": "df9e108c",
   "metadata": {},
   "outputs": [
    {
     "name": "stdout",
     "output_type": "stream",
     "text": [
      "50개의 수 중 a번부터 b번까지 수의 합을 구할 것입니다. a와 b를 순차적으로 지정해주세요.: 3\n",
      ":25\n",
      "1000\n"
     ]
    }
   ],
   "source": [
    "#백준\n",
    "#랜덤한 수열 중 a~b번째 사이의 숫자 합 구하기\n",
    "\n",
    "import numpy as np\n",
    "c=np.random.randint(100,size=50)\n",
    "sum=0\n",
    "\n",
    "while True:\n",
    "    a=int(input(\"50개의 수 중 a번부터 b번까지 수의 합을 구할 것입니다. a와 b를 순차적으로 지정해주세요.: \"))\n",
    "    b=int(input(\":\" ))\n",
    "    if 0<a<51 and a<b<51:\n",
    "        break\n",
    "    print(\"a<b, 1에서 50 사이의 수를 입력해주세요.\")\n",
    "\n",
    "for i in c[a-1:b]:\n",
    "    sum+=i\n",
    "    \n",
    "print(sum)"
   ]
  },
  {
   "cell_type": "code",
   "execution_count": 136,
   "id": "28e6297a",
   "metadata": {},
   "outputs": [
    {
     "name": "stdout",
     "output_type": "stream",
     "text": [
      "[0, 1, 2, 3, 4, 5, 6, 7, 8, 9, 10, 11, 12, 13, 14, 15, 16, 17, 18, 19, 20, 21, 22, 23, 24, 25, 26, 27, 28, 29, 30, 31, 32, 33, 34, 35, 36, 37, 38, 39, 40, 41, 42, 43, 44, 45, 46, 47, 48, 49, 50, 51, 52, 53, 54, 55, 56, 57, 58, 59, 60, 61, 62, 63, 64, 65, 66, 67, 68, 69, 70, 71, 72, 73, 74, 75, 76, 77, 78, 79, 80, 81, 82, 83, 84, 85, 86, 87, 88, 89, 90, 91, 92, 93, 94, 95, 96, 97, 98, 99]\n",
      "0 1 2 3 4 5 6 7 8 9 10 11 12 13 14 15 16 17 18 19 20 21 22 23 24 25 26 27 28 29 30 31 32 33 34 35 36 37 38 39 40 41 42 43 44 45 46 47 48 49 50 51 52 53 54 55 56 57 58 59 60 61 62 63 64 65 66 67 68 69 70 71 72 73 74 75 76 77 78 79 80 81 82 83 84 85 86 87 88 89 90 91 92 93 94 95 96 97 98 99 "
     ]
    }
   ],
   "source": [
    "alist=np.arange(100).tolist()\n",
    "print(alist)\n",
    "\n",
    "for i in alist:\n",
    "    print(i, end=' ')"
   ]
  },
  {
   "cell_type": "code",
   "execution_count": 140,
   "id": "b78896ae",
   "metadata": {},
   "outputs": [
    {
     "name": "stdout",
     "output_type": "stream",
     "text": [
      "1 2 3 4 5 "
     ]
    }
   ],
   "source": [
    "for i in range(1,11):\n",
    "    print(i, end=' ')\n",
    "    if i <5:\n",
    "        continue\n",
    "    else:\n",
    "        break"
   ]
  },
  {
   "cell_type": "code",
   "execution_count": 169,
   "id": "3d7575a5",
   "metadata": {},
   "outputs": [
    {
     "name": "stdout",
     "output_type": "stream",
     "text": [
      "15 20 25 "
     ]
    }
   ],
   "source": [
    "numbers=[5,15,6,20,7,25]\n",
    "\n",
    "for i in numbers:\n",
    "    if i==15 or i==20 or i==25:\n",
    "        print(i,end=' ')"
   ]
  },
  {
   "cell_type": "code",
   "execution_count": 177,
   "id": "edfbdfe3",
   "metadata": {},
   "outputs": [
    {
     "name": "stdout",
     "output_type": "stream",
     "text": [
      "15 20 25 \n",
      "\n",
      "15 20 25 "
     ]
    }
   ],
   "source": [
    "numbers=[5,15,6,20,7,25]\n",
    "\n",
    "for i in range(1,6,2):     #인덱스 짝수번 출력\n",
    "        print(numbers[i], end=' ')\n",
    "\n",
    "print('\\n')\n",
    "\n",
    "for i in numbers:\n",
    "    if i>10:\n",
    "        print(i, end=' ')"
   ]
  },
  {
   "cell_type": "code",
   "execution_count": 189,
   "id": "3316fe4a",
   "metadata": {},
   "outputs": [
    {
     "name": "stdout",
     "output_type": "stream",
     "text": [
      "일주일 중 연속된 n일 간의 온도 합 중 가장 큰 값을 알아보고자 한다. n을 지정하시오.3\n",
      "주간 온도: [ 19  32  13  13  20 -12   6]\n",
      "연속된 3일 간의 온도합 중 가장 큰 값: 64\n"
     ]
    }
   ],
   "source": [
    "#백준\n",
    "#주간 온도에서 연속된 n일간의 합 중 가장 큰 값 구하기\n",
    "\n",
    "while True:\n",
    "    n=int(input(\"일주일 중 연속된 n일 간의 온도 합 중 가장 큰 값을 알아보고자 한다. n을 지정하시오.\"))\n",
    "    if 0<a<8:\n",
    "        break\n",
    "    print(\"7일 이내의 날짜를 입력해주세요.\")\n",
    "    \n",
    "    \n",
    "week=np.random.randint(-20,40,size=7)\n",
    "print(\"주간 온도:\",week)\n",
    "sum=[]\n",
    "\n",
    "for i in range(8-n):\n",
    "    im=0\n",
    "    for k in range(i,i+n,1):\n",
    "        im+=week[k]\n",
    "    sum.append(im)\n",
    "\n",
    "print(\"연속된 %d일 간의 온도합 중 가장 큰 값: %d\" %(n,max(sum)))"
   ]
  },
  {
   "cell_type": "code",
   "execution_count": 195,
   "id": "d47ad415",
   "metadata": {},
   "outputs": [
    {
     "name": "stdout",
     "output_type": "stream",
     "text": [
      "1부터 45까지 더했을 때 합이 1035가 되어 1000보다 커지게 된다.\n"
     ]
    }
   ],
   "source": [
    "#1부터 차례대로 숫자를 더할 때 처음으로 1000을 넘기는 값\n",
    "\n",
    "sum, x=0,0\n",
    "\n",
    "while True:\n",
    "    sum+=x\n",
    "    if sum>1000:\n",
    "        print(\"1부터 {}까지 더했을 때 합이 {}가 되어 1000보다 커지게 된다.\" .format(x, sum))\n",
    "        break\n",
    "    x+=1"
   ]
  },
  {
   "cell_type": "code",
   "execution_count": 19,
   "id": "e518ade4",
   "metadata": {
    "scrolled": true
   },
   "outputs": [
    {
     "name": "stdout",
     "output_type": "stream",
     "text": [
      "166833\n"
     ]
    }
   ],
   "source": [
    "sum,i=0,0\n",
    "while i<1001:\n",
    "    sum+=i\n",
    "    i+=3\n",
    "    \n",
    "print(sum)"
   ]
  },
  {
   "cell_type": "code",
   "execution_count": 9,
   "id": "ac3a01ec",
   "metadata": {},
   "outputs": [
    {
     "name": "stdout",
     "output_type": "stream",
     "text": [
      "4550\n"
     ]
    }
   ],
   "source": [
    "sum,i=0,1\n",
    "\n",
    "while i<1001:\n",
    "    if 5<=i<=95:\n",
    "        sum+=i\n",
    "    i+=1\n",
    "print(sum)"
   ]
  },
  {
   "cell_type": "code",
   "execution_count": 18,
   "id": "bbe00f70",
   "metadata": {},
   "outputs": [
    {
     "name": "stdout",
     "output_type": "stream",
     "text": [
      "2 1\n"
     ]
    }
   ],
   "source": [
    "print(f\"몫: {5//2}, 나머지: {5%2}\")\n",
    "\n",
    "a,count=5,0\n",
    "\n",
    "while a>2:\n",
    "    count+=1 \n",
    "    a-=2\n",
    "print(count, a)"
   ]
  },
  {
   "cell_type": "code",
   "execution_count": 21,
   "id": "0f89e507",
   "metadata": {},
   "outputs": [
    {
     "name": "stdout",
     "output_type": "stream",
     "text": [
      "1030301\n",
      "python 3.8.3\n"
     ]
    }
   ],
   "source": [
    "print(101**3)     #제곱\n",
    "\n",
    "a='python '\n",
    "b='3.8.3'\n",
    "print(a+b)"
   ]
  },
  {
   "cell_type": "code",
   "execution_count": 25,
   "id": "ea0e92dc",
   "metadata": {},
   "outputs": [
    {
     "name": "stdout",
     "output_type": "stream",
     "text": [
      "2\n"
     ]
    }
   ],
   "source": [
    "a=5\n",
    "a**=3\n",
    "a%=3\n",
    "print(a)"
   ]
  },
  {
   "cell_type": "code",
   "execution_count": 28,
   "id": "9b1011f0",
   "metadata": {},
   "outputs": [
    {
     "name": "stdout",
     "output_type": "stream",
     "text": [
      "이름이 무엇인가요? 나영\n",
      "제 이름은 나영입니다.\n"
     ]
    }
   ],
   "source": [
    "name=input(\"이름이 무엇인가요? \")\n",
    "print(f\"제 이름은 {name}입니다.\")"
   ]
  },
  {
   "cell_type": "code",
   "execution_count": 30,
   "id": "650eb0f4",
   "metadata": {
    "scrolled": true
   },
   "outputs": [
    {
     "name": "stdout",
     "output_type": "stream",
     "text": [
      "숫자 3개를 입력하세요: 2\n",
      "3\n",
      "5\n",
      "1\n"
     ]
    }
   ],
   "source": [
    "x=int(input(\"숫자 3개를 입력하세요: \"))\n",
    "y=int(input())\n",
    "z=int(input())\n",
    "\n",
    "print(x**y//z)"
   ]
  },
  {
   "cell_type": "code",
   "execution_count": 4,
   "id": "0b81279b",
   "metadata": {},
   "outputs": [
    {
     "name": "stdout",
     "output_type": "stream",
     "text": [
      "33165\n"
     ]
    },
    {
     "ename": "KeyboardInterrupt",
     "evalue": "Interrupted by user",
     "output_type": "error",
     "traceback": [
      "\u001b[1;31m---------------------------------------------------------------------------\u001b[0m",
      "\u001b[1;31mKeyboardInterrupt\u001b[0m                         Traceback (most recent call last)",
      "\u001b[1;32m~\\AppData\\Local\\Temp\\ipykernel_8532\\2500512691.py\u001b[0m in \u001b[0;36m<module>\u001b[1;34m\u001b[0m\n\u001b[0;32m     12\u001b[0m \u001b[1;31m#2\u001b[0m\u001b[1;33m\u001b[0m\u001b[1;33m\u001b[0m\u001b[0m\n\u001b[0;32m     13\u001b[0m \u001b[1;32mfor\u001b[0m \u001b[0mi\u001b[0m \u001b[1;32min\u001b[0m \u001b[0mrange\u001b[0m\u001b[1;33m(\u001b[0m\u001b[1;36m5\u001b[0m\u001b[1;33m)\u001b[0m\u001b[1;33m:\u001b[0m\u001b[1;33m\u001b[0m\u001b[1;33m\u001b[0m\u001b[0m\n\u001b[1;32m---> 14\u001b[1;33m     \u001b[0ma\u001b[0m\u001b[1;33m[\u001b[0m\u001b[0mi\u001b[0m\u001b[1;33m]\u001b[0m\u001b[1;33m=\u001b[0m\u001b[0minput\u001b[0m\u001b[1;33m(\u001b[0m\u001b[1;33m)\u001b[0m\u001b[1;33m\u001b[0m\u001b[1;33m\u001b[0m\u001b[0m\n\u001b[0m\u001b[0;32m     15\u001b[0m \u001b[1;32mfor\u001b[0m \u001b[0mk\u001b[0m \u001b[1;32min\u001b[0m \u001b[0mrange\u001b[0m\u001b[1;33m(\u001b[0m\u001b[1;36m5\u001b[0m\u001b[1;33m)\u001b[0m\u001b[1;33m:\u001b[0m\u001b[1;33m\u001b[0m\u001b[1;33m\u001b[0m\u001b[0m\n\u001b[0;32m     16\u001b[0m     \u001b[0mprint\u001b[0m\u001b[1;33m(\u001b[0m\u001b[0ma\u001b[0m\u001b[1;33m[\u001b[0m\u001b[0mk\u001b[0m\u001b[1;33m]\u001b[0m\u001b[1;33m,\u001b[0m \u001b[0mend\u001b[0m\u001b[1;33m=\u001b[0m\u001b[1;34m''\u001b[0m\u001b[1;33m)\u001b[0m\u001b[1;33m\u001b[0m\u001b[1;33m\u001b[0m\u001b[0m\n",
      "\u001b[1;32m~\\anaconda3\\lib\\site-packages\\ipykernel\\kernelbase.py\u001b[0m in \u001b[0;36mraw_input\u001b[1;34m(self, prompt)\u001b[0m\n\u001b[0;32m   1175\u001b[0m                 \u001b[1;34m\"raw_input was called, but this frontend does not support input requests.\"\u001b[0m\u001b[1;33m\u001b[0m\u001b[1;33m\u001b[0m\u001b[0m\n\u001b[0;32m   1176\u001b[0m             )\n\u001b[1;32m-> 1177\u001b[1;33m         return self._input_request(\n\u001b[0m\u001b[0;32m   1178\u001b[0m             \u001b[0mstr\u001b[0m\u001b[1;33m(\u001b[0m\u001b[0mprompt\u001b[0m\u001b[1;33m)\u001b[0m\u001b[1;33m,\u001b[0m\u001b[1;33m\u001b[0m\u001b[1;33m\u001b[0m\u001b[0m\n\u001b[0;32m   1179\u001b[0m             \u001b[0mself\u001b[0m\u001b[1;33m.\u001b[0m\u001b[0m_parent_ident\u001b[0m\u001b[1;33m[\u001b[0m\u001b[1;34m\"shell\"\u001b[0m\u001b[1;33m]\u001b[0m\u001b[1;33m,\u001b[0m\u001b[1;33m\u001b[0m\u001b[1;33m\u001b[0m\u001b[0m\n",
      "\u001b[1;32m~\\anaconda3\\lib\\site-packages\\ipykernel\\kernelbase.py\u001b[0m in \u001b[0;36m_input_request\u001b[1;34m(self, prompt, ident, parent, password)\u001b[0m\n\u001b[0;32m   1217\u001b[0m             \u001b[1;32mexcept\u001b[0m \u001b[0mKeyboardInterrupt\u001b[0m\u001b[1;33m:\u001b[0m\u001b[1;33m\u001b[0m\u001b[1;33m\u001b[0m\u001b[0m\n\u001b[0;32m   1218\u001b[0m                 \u001b[1;31m# re-raise KeyboardInterrupt, to truncate traceback\u001b[0m\u001b[1;33m\u001b[0m\u001b[1;33m\u001b[0m\u001b[0m\n\u001b[1;32m-> 1219\u001b[1;33m                 \u001b[1;32mraise\u001b[0m \u001b[0mKeyboardInterrupt\u001b[0m\u001b[1;33m(\u001b[0m\u001b[1;34m\"Interrupted by user\"\u001b[0m\u001b[1;33m)\u001b[0m \u001b[1;32mfrom\u001b[0m \u001b[1;32mNone\u001b[0m\u001b[1;33m\u001b[0m\u001b[1;33m\u001b[0m\u001b[0m\n\u001b[0m\u001b[0;32m   1220\u001b[0m             \u001b[1;32mexcept\u001b[0m \u001b[0mException\u001b[0m\u001b[1;33m:\u001b[0m\u001b[1;33m\u001b[0m\u001b[1;33m\u001b[0m\u001b[0m\n\u001b[0;32m   1221\u001b[0m                 \u001b[0mself\u001b[0m\u001b[1;33m.\u001b[0m\u001b[0mlog\u001b[0m\u001b[1;33m.\u001b[0m\u001b[0mwarning\u001b[0m\u001b[1;33m(\u001b[0m\u001b[1;34m\"Invalid Message:\"\u001b[0m\u001b[1;33m,\u001b[0m \u001b[0mexc_info\u001b[0m\u001b[1;33m=\u001b[0m\u001b[1;32mTrue\u001b[0m\u001b[1;33m)\u001b[0m\u001b[1;33m\u001b[0m\u001b[1;33m\u001b[0m\u001b[0m\n",
      "\u001b[1;31mKeyboardInterrupt\u001b[0m: Interrupted by user"
     ]
    }
   ],
   "source": [
    "####과제(1~8번)####\n",
    "\n",
    "#1\n",
    "i,sum=0,0\n",
    "\n",
    "while i<1001:\n",
    "    if i%3==0 and i%5==0:\n",
    "        sum+=i\n",
    "    i+=1\n",
    "print(sum)\n",
    "\n",
    "#2\n",
    "for i in range(5):\n",
    "    j=input()\n",
    "    a.append(j)\n",
    "for k in range(5):\n",
    "    print(a[k], end='')\n",
    "\n",
    "#3\n",
    "lista=[0,1,2,3,4,5,6,7,8,9,'a','b','c']\n",
    "lista.remove(9)\n",
    "lista.remove('a')\n",
    "print(lista)\n",
    "\n",
    "#4\n",
    "lista=[0,1,2,3,4,5,6,7,8,'b','c']\n",
    "lista.remove('c')\n",
    "print(lista)\n",
    "\n",
    "#5\n",
    "lista=[4,8,5,4,8,4,3,9,1,9]\n",
    "listb=lista.sort(reverse=True)\n",
    "print(lista)\n",
    "\n",
    "#6\n",
    "import datetime\n",
    "now=datetime.datetime.now()\n",
    "y,mo,d,h,m,s=now.year,now.month,now.day,now.hour,now.minute,now.second\n",
    "\n",
    "print(f\"오늘 날짜는 {mo}월 {d}일입니다. 현재 시각은 {h}시 {m}분 {s}초입니다.\")\n",
    "\n",
    "#7\n",
    "import datetime\n",
    "now=datetime.datetime.now()\n",
    "y,mo,d,h,m,s=now.year,now.month,now.day,now.hour,now.minute,now.second\n",
    "\n",
    "if h >= 12:\n",
    "    print(\"현재 시각은 오후 %d시 %d분 입니다.\" %(h-12,m))\n",
    "else:\n",
    "    print(\"현재 시각은 오후 %d시 %d분 입니다.\" %(h,m))\n",
    "\n",
    "#8\n",
    "num=int(input(\"정수를 입력해주세요: \"))\n",
    "if num%2==0:\n",
    "    print(\"짝수입니다.\")\n",
    "else:\n",
    "    print(\"홀수입니다.\")"
   ]
  },
  {
   "cell_type": "code",
   "execution_count": 58,
   "id": "d1da3fbe",
   "metadata": {},
   "outputs": [
    {
     "name": "stdout",
     "output_type": "stream",
     "text": [
      "꽃이 피는 봄입니다.\n"
     ]
    }
   ],
   "source": [
    "#계절 구분 프로그램\n",
    "\n",
    "import datetime\n",
    "now=datetime.datetime.now()\n",
    "m=now.month\n",
    "\n",
    "if 3<=m<=5:\n",
    "    print(\"꽃이 피는 봄입니다.\")\n",
    "elif 6<=m<=8:\n",
    "    print(\"바다가 아름다운 여름입니다.\")\n",
    "elif 9<=m<=11:\n",
    "    print(\"낙엽이 지는 가을입니다.\")\n",
    "else:\n",
    "    print(\"세상이 하얗게 변하는 겨울입니다.\")"
   ]
  },
  {
   "cell_type": "code",
   "execution_count": 63,
   "id": "6fbcd241",
   "metadata": {},
   "outputs": [
    {
     "name": "stdout",
     "output_type": "stream",
     "text": [
      "커피를 뽑으시겠습니까?(Yes/No): Yes\n",
      "insert coin!(자판기에 돈을 넣어주세요): 200\n",
      "돈이 부족합니다. 300원 이상의 돈을 넣어주세요.\n",
      "커피를 뽑으시겠습니까?(Yes/No): 1500\n",
      "Yes or No 둘 중 하나만 입력해주시기 바랍니다.\n",
      "커피를 뽑으시겠습니까?(Yes/No): Yes\n",
      "insert coin!(자판기에 돈을 넣어주세요): 1500\n",
      "아래 구멍으로 커피가 나옵니다. 거스름돈 1200원을 받아주세요.\n",
      "커피를 뽑으시겠습니까?(Yes/No): Yes\n",
      "insert coin!(자판기에 돈을 넣어주세요): 2233\n",
      "아래 구멍으로 커피가 나옵니다. 거스름돈 1933원을 받아주세요.\n",
      "커피를 뽑으시겠습니까?(Yes/No): Yes\n",
      "insert coin!(자판기에 돈을 넣어주세요): 600\n",
      "아래 구멍으로 커피가 나옵니다. 거스름돈 300원을 받아주세요.\n",
      "커피를 뽑으시겠습니까?(Yes/No): Yes\n",
      "insert coin!(자판기에 돈을 넣어주세요): 4500\n",
      "아래 구멍으로 커피가 나옵니다. 거스름돈 4200원을 받아주세요.\n",
      "커피를 뽑으시겠습니까?(Yes/No): Yes\n",
      "insert coin!(자판기에 돈을 넣어주세요): 780\n",
      "아래 구멍으로 커피가 나옵니다. 거스름돈 480원을 받아주세요.\n",
      "커피의 재고가 모두 소진되었습니다. 커피 머신을 종료합니다.\n"
     ]
    }
   ],
   "source": [
    "#커피 자판기\n",
    "copy=5\n",
    "\n",
    "while True:\n",
    "    tr=input(\"커피를 뽑으시겠습니까?(Yes/No): \")\n",
    "    \n",
    "    if tr=='Yes' or tr=='yes'or tr=='Y'or tr=='y' or tr=='YES':\n",
    "        coin=int(input(\"insert coin!(자판기에 돈을 넣어주세요): \"))\n",
    "        if coin<300:\n",
    "            print(\"돈이 부족합니다. 300원 이상의 돈을 넣어주세요.\")\n",
    "        else:\n",
    "            copy-=1\n",
    "            print(\"아래 구멍으로 커피가 나옵니다. 거스름돈 %d원을 받아주세요.\" %(coin-300))\n",
    "            if copy==0:\n",
    "                print(\"커피의 재고가 모두 소진되었습니다. 커피 머신을 종료합니다.\")\n",
    "                break\n",
    "            \n",
    "    elif tr=='No' or tr=='no'or tr=='N'or tr=='n' or tr=='NO':\n",
    "        print(\"커피 머신을 종료합니다.\")\n",
    "        break\n",
    "            \n",
    "    else:\n",
    "        print(\"Yes or No 둘 중 하나만 입력해주시기 바랍니다.\")"
   ]
  },
  {
   "cell_type": "code",
   "execution_count": 44,
   "id": "9ba005f6",
   "metadata": {},
   "outputs": [
    {
     "name": "stdout",
     "output_type": "stream",
     "text": [
      "발표자 명수를 지정해주세요: 5\n",
      "손아 김태현 김예슬 김동완 박주경 "
     ]
    }
   ],
   "source": [
    "#발표자 랜덤 뽑기 프로그램\n",
    "import random\n",
    "\n",
    "hmkd1 = ['김나영','김동완','김예슬','김용훈','김태현','남동연','박서진','박주경', '손아','옥유리', '옥주리','윤예은','윤정현','이승주','임수현','장인혁', '정슬기','한나영','조차선','이지연','김성호','오윤택','최정인']\n",
    "n=int(input(\"발표자 명수를 지정해주세요: \"))\n",
    "rd=random.sample(range(0,23),n)\n",
    "\n",
    "for i in rd:\n",
    "    print(hmkd1[i], end=' ')"
   ]
  },
  {
   "cell_type": "code",
   "execution_count": 45,
   "id": "415d3572",
   "metadata": {},
   "outputs": [
    {
     "name": "stdout",
     "output_type": "stream",
     "text": [
      "게임을 할 횟수를 입력하세요: 4\n",
      "이번 회차 로또 당첨 번호는 [29, 31, 33, 7, 1, 16]입니다.\n",
      "\n",
      "1번째 로또번호는 3 19 40 24 12 27 입니다. 보너스 번호는 2 입니다.\n",
      "2번째 로또번호는 27 44 4 23 45 16 입니다. 보너스 번호는 42 입니다.\n",
      "3번째 로또번호는 40 39 4 27 7 31 입니다. 보너스 번호는 35 입니다.\n",
      "4번째 로또번호는 11 16 15 27 26 8 입니다. 보너스 번호는 39 입니다.\n"
     ]
    }
   ],
   "source": [
    "#로또번호 출력 프로그램(사용자가 입력한 게임 횟수만큼 반복)\n",
    "#while로 중복 없이 뽑는거\n",
    "\n",
    "import random\n",
    "import numpy as np\n",
    "i,ims=0,0\n",
    "\n",
    "game=int(input(\"게임을 할 횟수를 입력하세요: \"))\n",
    "goal=random.sample(range(1,46),6)\n",
    "print(f\"이번 회차 로또 당첨 번호는 {goal}입니다.\\n\")\n",
    "\n",
    "for k in range(game):\n",
    "    rd=[]\n",
    "    while len(rd) < 7:\n",
    "        ims=np.random.randint(1,46,size=1)\n",
    "        if len(rd)==0:\n",
    "            rd.append(ims)\n",
    "        elif ims not in rd:\n",
    "            rd.append(ims)\n",
    "        else:\n",
    "            continue\n",
    "    print(\"%d번째 로또번호는 %d %d %d %d %d %d 입니다. 보너스 번호는 %d 입니다.\" %(k+1, rd[0],rd[1],rd[2],rd[3],rd[4],rd[5],rd[6]))\n"
   ]
  },
  {
   "cell_type": "code",
   "execution_count": 46,
   "id": "1f03c14a",
   "metadata": {},
   "outputs": [
    {
     "name": "stdout",
     "output_type": "stream",
     "text": [
      "게임을 할 횟수를 입력하세요: 5\n",
      "이번 회차 로또 당첨 번호는 [17, 44, 45, 14, 34, 25]입니다.\n",
      "\n",
      "1번째 로또번호는 13 18 7 30 31 15 입니다. 보너스 번호는 38 입니다.\n",
      "아쉽게도 당첨되지 못하였습니다.\n",
      "\n",
      "2번째 로또번호는 13 27 22 18 2 37 입니다. 보너스 번호는 16 입니다.\n",
      "아쉽게도 당첨되지 못하였습니다.\n",
      "\n",
      "3번째 로또번호는 33 18 11 34 1 7 입니다. 보너스 번호는 2 입니다.\n",
      "아쉽게도 당첨되지 못하였습니다.\n",
      "\n",
      "4번째 로또번호는 23 45 14 3 27 6 입니다. 보너스 번호는 19 입니다.\n",
      "아쉽게도 당첨되지 못하였습니다.\n",
      "\n",
      "5번째 로또번호는 43 15 5 25 39 13 입니다. 보너스 번호는 7 입니다.\n",
      "아쉽게도 당첨되지 못하였습니다.\n",
      "\n"
     ]
    }
   ],
   "source": [
    "#로또번호 출력 프로그램(사용자가 입력한 게임 횟수만큼 반복)\n",
    "#random.sample로 뽑는 거\n",
    "\n",
    "import random\n",
    "\n",
    "game=int(input(\"게임을 할 횟수를 입력하세요: \"))\n",
    "goal=random.sample(range(1,46),6)\n",
    "print(f\"이번 회차 로또 당첨 번호는 {goal}입니다.\\n\")\n",
    "\n",
    "for i in range(game):\n",
    "    rd=random.sample(range(1,46),7)\n",
    "    print(\"%d번째 로또번호는 %d %d %d %d %d %d 입니다. 보너스 번호는 %d 입니다.\" %(i+1, rd[0],rd[1],rd[2],rd[3],rd[4],rd[5],rd[6]))\n",
    "    \n",
    "    n_set=set(goal)&set(rd)\n",
    "    if len(n_set)==6:\n",
    "        if rd[6] in goal:\n",
    "            print(\"축하합니다. 2등 당첨입니다.\\n\")\n",
    "        else:\n",
    "            print(\"축하합니다. 1등 당첨입니다.\\n\")\n",
    "    elif len(n_set)==5:\n",
    "        print(\"축하합니다. 3등 당첨입니다.\\n\")\n",
    "    elif len(n_set)==4:\n",
    "        print(\"축하합니다. 4등 당첨입니다.\\n\")\n",
    "    elif len(n_set)==3:\n",
    "        print(\"축하합니다. 5등 당첨입니다.\\n\")\n",
    "    else:\n",
    "        print(\"아쉽게도 당첨되지 못하였습니다.\\n\")"
   ]
  },
  {
   "cell_type": "code",
   "execution_count": 2,
   "id": "bcd20933",
   "metadata": {},
   "outputs": [
    {
     "name": "stdout",
     "output_type": "stream",
     "text": [
      "게임 수:3\n",
      "[1, 10, 15, 20, 27, 44]\n",
      "[3, 8, 10, 15, 26, 32]\n",
      "[5, 9, 15, 32, 36, 37]\n"
     ]
    }
   ],
   "source": [
    "#로또\n",
    "#강사님 코드\n",
    "\n",
    "import random\n",
    "num=input(\"게임 수:\")\n",
    "\n",
    "for i in range(0,int(num)):\n",
    "    lotto=random.sample(range(1,46),6)\n",
    "    print(lotto)"
   ]
  },
  {
   "cell_type": "code",
   "execution_count": 47,
   "id": "cf8bdc7a",
   "metadata": {},
   "outputs": [
    {
     "name": "stdout",
     "output_type": "stream",
     "text": [
      "Package                       Version\n",
      "----------------------------- --------------------\n",
      "alabaster                     0.7.12\n",
      "anaconda-client               1.11.0\n",
      "anaconda-navigator            2.3.1\n",
      "anaconda-project              0.11.1\n",
      "anyio                         3.5.0\n",
      "appdirs                       1.4.4\n",
      "argon2-cffi                   21.3.0\n",
      "argon2-cffi-bindings          21.2.0\n",
      "arrow                         1.2.2\n",
      "astroid                       2.11.7\n",
      "astropy                       5.1\n",
      "atomicwrites                  1.4.0\n",
      "attrs                         21.4.0\n",
      "Automat                       20.2.0\n",
      "autopep8                      1.6.0\n",
      "Babel                         2.9.1\n",
      "backcall                      0.2.0\n",
      "backports.functools-lru-cache 1.6.4\n",
      "backports.tempfile            1.0\n",
      "backports.weakref             1.0.post1\n",
      "bcrypt                        3.2.0\n",
      "beautifulsoup4                4.11.1\n",
      "binaryornot                   0.4.4\n",
      "bitarray                      2.5.1\n",
      "bkcharts                      0.2\n",
      "black                         22.6.0\n",
      "bleach                        4.1.0\n",
      "bokeh                         2.4.3\n",
      "boto3                         1.24.28\n",
      "botocore                      1.27.28\n",
      "Bottleneck                    1.3.5\n",
      "brotlipy                      0.7.0\n",
      "certifi                       2022.9.14\n",
      "cffi                          1.15.1\n",
      "chardet                       4.0.0\n",
      "charset-normalizer            2.0.4\n",
      "click                         8.0.4\n",
      "cloudpickle                   2.0.0\n",
      "clyent                        1.2.2\n",
      "colorama                      0.4.5\n",
      "colorcet                      3.0.0\n",
      "comtypes                      1.1.10\n",
      "conda                         22.9.0\n",
      "conda-build                   3.22.0\n",
      "conda-content-trust           0.1.3\n",
      "conda-pack                    0.6.0\n",
      "conda-package-handling        1.9.0\n",
      "conda-repo-cli                1.0.20\n",
      "conda-token                   0.4.0\n",
      "conda-verify                  3.4.2\n",
      "constantly                    15.1.0\n",
      "cookiecutter                  1.7.3\n",
      "cryptography                  37.0.1\n",
      "cssselect                     1.1.0\n",
      "cycler                        0.11.0\n",
      "Cython                        0.29.32\n",
      "cytoolz                       0.11.0\n",
      "daal4py                       2021.6.0\n",
      "dask                          2022.7.0\n",
      "datashader                    0.14.1\n",
      "datashape                     0.5.4\n",
      "debugpy                       1.5.1\n",
      "decorator                     5.1.1\n",
      "defusedxml                    0.7.1\n",
      "diff-match-patch              20200713\n",
      "dill                          0.3.4\n",
      "distributed                   2022.7.0\n",
      "docutils                      0.18.1\n",
      "entrypoints                   0.4\n",
      "et-xmlfile                    1.1.0\n",
      "fastjsonschema                2.16.2\n",
      "filelock                      3.6.0\n",
      "flake8                        4.0.1\n",
      "Flask                         1.1.2\n",
      "fonttools                     4.25.0\n",
      "fsspec                        2022.7.1\n",
      "future                        0.18.2\n",
      "gensim                        4.1.2\n",
      "glob2                         0.7\n",
      "greenlet                      1.1.1\n",
      "h5py                          3.7.0\n",
      "HeapDict                      1.0.1\n",
      "holoviews                     1.15.0\n",
      "hvplot                        0.8.0\n",
      "hyperlink                     21.0.0\n",
      "idna                          3.3\n",
      "imagecodecs                   2021.8.26\n",
      "imageio                       2.19.3\n",
      "imagesize                     1.4.1\n",
      "importlib-metadata            4.11.3\n",
      "incremental                   21.3.0\n",
      "inflection                    0.5.1\n",
      "iniconfig                     1.1.1\n",
      "intake                        0.6.5\n",
      "intervaltree                  3.1.0\n",
      "ipykernel                     6.15.2\n",
      "ipython                       7.31.1\n",
      "ipython-genutils              0.2.0\n",
      "ipywidgets                    7.6.5\n",
      "isort                         5.9.3\n",
      "itemadapter                   0.3.0\n",
      "itemloaders                   1.0.4\n",
      "itsdangerous                  2.0.1\n",
      "jdcal                         1.4.1\n",
      "jedi                          0.18.1\n",
      "jellyfish                     0.9.0\n",
      "Jinja2                        2.11.3\n",
      "jinja2-time                   0.2.0\n",
      "jmespath                      0.10.0\n",
      "joblib                        1.1.0\n",
      "json5                         0.9.6\n",
      "jsonschema                    4.16.0\n",
      "jupyter                       1.0.0\n",
      "jupyter_client                7.3.4\n",
      "jupyter-console               6.4.3\n",
      "jupyter_core                  4.11.1\n",
      "jupyter-server                1.18.1\n",
      "jupyterlab                    3.4.4\n",
      "jupyterlab-pygments           0.1.2\n",
      "jupyterlab-server             2.10.3\n",
      "jupyterlab-widgets            1.0.0\n",
      "keyring                       23.4.0\n",
      "kiwisolver                    1.4.2\n",
      "lazy-object-proxy             1.6.0\n",
      "libarchive-c                  2.9\n",
      "llvmlite                      0.38.0\n",
      "locket                        1.0.0\n",
      "lxml                          4.9.1\n",
      "lz4                           3.1.3\n",
      "Markdown                      3.3.4\n",
      "MarkupSafe                    2.0.1\n",
      "matplotlib                    3.5.2\n",
      "matplotlib-inline             0.1.6\n",
      "mccabe                        0.6.1\n",
      "menuinst                      1.4.19\n",
      "mistune                       0.8.4\n",
      "mkl-fft                       1.3.1\n",
      "mkl-random                    1.2.2\n",
      "mkl-service                   2.4.0\n",
      "mock                          4.0.3\n",
      "mpmath                        1.2.1\n",
      "msgpack                       1.0.3\n",
      "multipledispatch              0.6.0\n",
      "munkres                       1.1.4\n",
      "mypy-extensions               0.4.3\n",
      "navigator-updater             0.3.0\n",
      "nbclassic                     0.3.5\n",
      "nbclient                      0.5.13\n",
      "nbconvert                     6.4.4\n",
      "nbformat                      5.5.0\n",
      "nest-asyncio                  1.5.5\n",
      "networkx                      2.8.4\n",
      "nltk                          3.7\n",
      "nose                          1.3.7\n",
      "notebook                      6.4.12\n",
      "numba                         0.55.1\n",
      "numexpr                       2.8.3\n",
      "numpy                         1.21.5\n",
      "numpydoc                      1.4.0\n",
      "olefile                       0.46\n",
      "openpyxl                      3.0.10\n",
      "packaging                     21.3\n",
      "pandas                        1.4.4\n",
      "pandocfilters                 1.5.0\n",
      "panel                         0.13.1\n",
      "param                         1.12.0\n",
      "paramiko                      2.8.1\n",
      "parsel                        1.6.0\n",
      "parso                         0.8.3\n",
      "partd                         1.2.0\n",
      "pathlib                       1.0.1\n",
      "pathspec                      0.9.0\n",
      "patsy                         0.5.2\n",
      "pep8                          1.7.1\n",
      "pexpect                       4.8.0\n",
      "pickleshare                   0.7.5\n",
      "Pillow                        9.2.0\n",
      "pip                           22.2.2\n",
      "pkginfo                       1.8.2\n",
      "platformdirs                  2.5.2\n",
      "plotly                        5.9.0\n",
      "pluggy                        1.0.0\n",
      "poyo                          0.5.0\n",
      "prometheus-client             0.14.1\n",
      "prompt-toolkit                3.0.20\n",
      "Protego                       0.1.16\n",
      "psutil                        5.9.0\n",
      "ptyprocess                    0.7.0\n",
      "py                            1.11.0\n",
      "pyasn1                        0.4.8\n",
      "pyasn1-modules                0.2.8\n",
      "pycodestyle                   2.8.0\n",
      "pycosat                       0.6.3\n",
      "pycparser                     2.21\n",
      "pyct                          0.4.8\n",
      "pycurl                        7.45.1\n",
      "PyDispatcher                  2.0.5\n",
      "pydocstyle                    6.1.1\n",
      "pyerfa                        2.0.0\n",
      "pyflakes                      2.4.0\n",
      "Pygments                      2.11.2\n",
      "PyHamcrest                    2.0.2\n",
      "PyJWT                         2.4.0\n",
      "pylint                        2.14.5\n",
      "pyls-spyder                   0.4.0\n",
      "PyNaCl                        1.5.0\n",
      "pyodbc                        4.0.34\n",
      "pyOpenSSL                     22.0.0\n",
      "pyparsing                     3.0.9\n",
      "pyrsistent                    0.18.0\n",
      "PySocks                       1.7.1\n",
      "pytest                        7.1.2\n",
      "python-dateutil               2.8.2\n",
      "python-lsp-black              1.0.0\n",
      "python-lsp-jsonrpc            1.0.0\n",
      "python-lsp-server             1.3.3\n",
      "python-slugify                5.0.2\n",
      "python-snappy                 0.6.0\n",
      "pytz                          2022.1\n",
      "pyviz-comms                   2.0.2\n",
      "PyWavelets                    1.3.0\n",
      "pywin32                       302\n",
      "pywin32-ctypes                0.2.0\n",
      "pywinpty                      2.0.2\n",
      "PyYAML                        6.0\n",
      "pyzmq                         23.2.0\n",
      "QDarkStyle                    3.0.2\n",
      "qstylizer                     0.1.10\n",
      "QtAwesome                     1.0.3\n",
      "qtconsole                     5.2.2\n",
      "QtPy                          2.2.0\n",
      "queuelib                      1.5.0\n",
      "regex                         2022.7.9\n",
      "requests                      2.28.1\n",
      "requests-file                 1.5.1\n",
      "rope                          0.22.0\n",
      "Rtree                         0.9.7\n",
      "ruamel-yaml-conda             0.15.100\n",
      "s3transfer                    0.6.0\n",
      "scikit-image                  0.19.2\n",
      "scikit-learn                  1.0.2\n",
      "scikit-learn-intelex          2021.20221004.171935\n",
      "scipy                         1.9.1\n",
      "Scrapy                        2.6.2\n",
      "seaborn                       0.11.2\n",
      "Send2Trash                    1.8.0\n",
      "service-identity              18.1.0\n",
      "setuptools                    63.4.1\n",
      "sip                           4.19.13\n",
      "six                           1.16.0\n",
      "smart-open                    5.2.1\n",
      "sniffio                       1.2.0\n",
      "snowballstemmer               2.2.0\n",
      "sortedcollections             2.1.0\n",
      "sortedcontainers              2.4.0\n",
      "soupsieve                     2.3.1\n",
      "Sphinx                        5.0.2\n",
      "sphinxcontrib-applehelp       1.0.2\n",
      "sphinxcontrib-devhelp         1.0.2\n",
      "sphinxcontrib-htmlhelp        2.0.0\n",
      "sphinxcontrib-jsmath          1.0.1\n",
      "sphinxcontrib-qthelp          1.0.3\n",
      "sphinxcontrib-serializinghtml 1.1.5\n",
      "spyder                        5.2.2\n",
      "spyder-kernels                2.2.1\n",
      "SQLAlchemy                    1.4.39\n",
      "statsmodels                   0.13.2\n",
      "sympy                         1.10.1\n",
      "tables                        3.6.1\n",
      "tabulate                      0.8.10\n",
      "TBB                           0.2\n",
      "tblib                         1.7.0\n",
      "tenacity                      8.0.1\n",
      "terminado                     0.13.1\n",
      "testpath                      0.6.0\n",
      "text-unidecode                1.3\n",
      "textdistance                  4.2.1\n",
      "threadpoolctl                 2.2.0\n",
      "three-merge                   0.1.1\n",
      "tifffile                      2021.7.2\n",
      "tinycss                       0.4\n",
      "tldextract                    3.2.0\n",
      "toml                          0.10.2\n",
      "tomli                         2.0.1\n",
      "tomlkit                       0.11.1\n",
      "toolz                         0.11.2\n",
      "tornado                       6.1\n",
      "tqdm                          4.64.1\n",
      "traitlets                     5.1.1\n",
      "Twisted                       22.2.0\n",
      "twisted-iocpsupport           1.0.2\n",
      "typing_extensions             4.3.0\n",
      "ujson                         5.4.0\n",
      "Unidecode                     1.2.0\n",
      "urllib3                       1.26.11\n",
      "w3lib                         1.21.0\n",
      "watchdog                      2.1.6\n",
      "wcwidth                       0.2.5\n",
      "webencodings                  0.5.1\n",
      "websocket-client              0.58.0\n",
      "Werkzeug                      2.0.3\n",
      "wheel                         0.37.1\n",
      "widgetsnbextension            3.5.2\n",
      "win-inet-pton                 1.1.0\n",
      "win-unicode-console           0.5\n",
      "wincertstore                  0.2\n",
      "wrapt                         1.14.1\n",
      "xarray                        0.20.1\n",
      "xlrd                          2.0.1\n",
      "XlsxWriter                    3.0.3\n",
      "xlwings                       0.27.15\n",
      "yapf                          0.31.0\n",
      "zict                          2.1.0\n",
      "zipp                          3.8.0\n",
      "zope.interface                5.4.0\n",
      "Note: you may need to restart the kernel to use updated packages.\n"
     ]
    }
   ],
   "source": [
    "pip list"
   ]
  },
  {
   "cell_type": "code",
   "execution_count": null,
   "id": "0a7eed8b",
   "metadata": {},
   "outputs": [],
   "source": []
  }
 ],
 "metadata": {
  "kernelspec": {
   "display_name": "Python 3 (ipykernel)",
   "language": "python",
   "name": "python3"
  },
  "language_info": {
   "codemirror_mode": {
    "name": "ipython",
    "version": 3
   },
   "file_extension": ".py",
   "mimetype": "text/x-python",
   "name": "python",
   "nbconvert_exporter": "python",
   "pygments_lexer": "ipython3",
   "version": "3.9.13"
  }
 },
 "nbformat": 4,
 "nbformat_minor": 5
}
