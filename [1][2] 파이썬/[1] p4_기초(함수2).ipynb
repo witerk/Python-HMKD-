{
 "cells": [
  {
   "cell_type": "code",
   "execution_count": null,
   "id": "8beb2f83",
   "metadata": {
    "id": "8beb2f83",
    "outputId": "3f2d08cf-eda0-4ed6-d00e-49d6deba1c7e"
   },
   "outputs": [
    {
     "data": {
      "text/plain": [
       "'C:\\\\Users\\\\h\\\\hmkd1\\\\m1_programming'"
      ]
     },
     "execution_count": 1,
     "metadata": {},
     "output_type": "execute_result"
    }
   ],
   "source": [
    "%pwd         #현재 사용중인 작업폴더를 알려줌"
   ]
  },
  {
   "cell_type": "code",
   "execution_count": null,
   "id": "4afd9777",
   "metadata": {
    "id": "4afd9777",
    "outputId": "8776f966-e386-4bba-c6c9-1488a9b73809"
   },
   "outputs": [
    {
     "name": "stdout",
     "output_type": "stream",
     "text": [
      "['1번째 줄입니다.\\n', '2번째 줄입니다.\\n', '3번째 줄입니다.\\n', '4번째 줄입니다.\\n', '5번째 줄입니다.\\n', '6번째 줄입니다.\\n', '7번째 줄입니다.\\n', '8번째 줄입니다.\\n', '9번째 줄입니다.\\n', '10번째 줄입니다.\\n', '11번째 줄입니다. \\n', '12번째 줄입니다. \\n', '13번째 줄입니다. \\n', '14번째 줄입니다. \\n', '15번째 줄입니다. \\n']\n"
     ]
    }
   ],
   "source": [
    "f1=open('test1.txt','r',encoding='UTF8')    #r+: 읽기-쓰기 모드(이어쓰기)\n",
    "a=f1.readlines()\n",
    "print(a)\n",
    "\n",
    "f1.close()"
   ]
  },
  {
   "cell_type": "code",
   "execution_count": null,
   "id": "7ae37b7e",
   "metadata": {
    "id": "7ae37b7e"
   },
   "outputs": [],
   "source": [
    "f1=open('test1.txt','w',encoding='UTF8')\n",
    "for i in range(1,11):\n",
    "    data=\"%d번째 줄입니다.\\n\" %i\n",
    "    f1.write(data)\n",
    "    \n",
    "f1.close()"
   ]
  },
  {
   "cell_type": "code",
   "execution_count": null,
   "id": "27549a09",
   "metadata": {
    "id": "27549a09",
    "outputId": "72574216-f268-45a9-b2b7-40e508ac562d"
   },
   "outputs": [
    {
     "name": "stdout",
     "output_type": "stream",
     "text": [
      "1번째 줄입니다.\n",
      "2번째 줄입니다.\n",
      "3번째 줄입니다.\n",
      "4번째 줄입니다.\n",
      "5번째 줄입니다.\n",
      "6번째 줄입니다.\n",
      "7번째 줄입니다.\n",
      "8번째 줄입니다.\n",
      "9번째 줄입니다.\n",
      "10번째 줄입니다.\n",
      "11번째 줄입니다. \n",
      "12번째 줄입니다. \n",
      "13번째 줄입니다. \n",
      "14번째 줄입니다. \n",
      "15번째 줄입니다. \n"
     ]
    }
   ],
   "source": [
    "f1=open('test1.txt','r',encoding='UTF8')\n",
    "\n",
    "while True:      #안에 글이 몇 줄 있는지 모르니 무한루프\n",
    "    line=f1.readline()\n",
    "    if not line:       #안에 글이 없으면 종료\n",
    "        break\n",
    "    print(line,end='')\n",
    "f1.close()"
   ]
  },
  {
   "cell_type": "code",
   "execution_count": null,
   "id": "3a4a96cd",
   "metadata": {
    "id": "3a4a96cd",
    "outputId": "7c087a40-4252-46c4-c1b9-fbd765b066af"
   },
   "outputs": [
    {
     "name": "stdout",
     "output_type": "stream",
     "text": [
      "1번째 줄입니다.\n",
      "2번째 줄입니다.\n",
      "3번째 줄입니다.\n",
      "4번째 줄입니다.\n",
      "5번째 줄입니다.\n",
      "6번째 줄입니다.\n",
      "7번째 줄입니다.\n",
      "8번째 줄입니다.\n",
      "9번째 줄입니다.\n",
      "10번째 줄입니다.\n",
      "11번째 줄입니다. \n",
      "12번째 줄입니다. \n",
      "13번째 줄입니다. \n",
      "14번째 줄입니다. \n",
      "15번째 줄입니다. \n",
      "\n"
     ]
    }
   ],
   "source": [
    "f1=open('test1.txt','r',encoding='UTF8')\n",
    "\n",
    "data=f1.read()      #파일 전체 내용 문자열(str)로 받아오기\n",
    "print(data)\n",
    "\n",
    "f1.close()"
   ]
  },
  {
   "cell_type": "code",
   "execution_count": null,
   "id": "da4d49c3",
   "metadata": {
    "id": "da4d49c3"
   },
   "outputs": [],
   "source": [
    "f1=open('test1.txt','a',encoding='UTF8')\n",
    "\n",
    "for i in range(11,16):\n",
    "    data='%d번째 줄입니다. \\n' %i\n",
    "    f1.write(data)\n",
    "f1.close()"
   ]
  },
  {
   "cell_type": "code",
   "execution_count": null,
   "id": "be6c3503",
   "metadata": {
    "id": "be6c3503"
   },
   "outputs": [],
   "source": [
    "with open('test2.txt','w') as f:\n",
    "    f.write('파이썬을 배웁시다.')"
   ]
  },
  {
   "cell_type": "code",
   "execution_count": null,
   "id": "67696a39",
   "metadata": {
    "id": "67696a39",
    "outputId": "7b13803a-e4ec-4376-ca6a-d68efeec4776"
   },
   "outputs": [
    {
     "name": "stdout",
     "output_type": "stream",
     "text": [
      "파이썬을 배웁시다.\n"
     ]
    }
   ],
   "source": [
    "with open('test2.txt','r') as f:\n",
    "    data=f.read()\n",
    "    print(data)"
   ]
  },
  {
   "cell_type": "code",
   "execution_count": null,
   "id": "12a78b0b",
   "metadata": {
    "id": "12a78b0b"
   },
   "outputs": [],
   "source": [
    "with open('test3.txt','w') as f:\n",
    "    for i in range(1,11):\n",
    "        data=f'{i}번째 줄입니다~!\\n'\n",
    "        f.write(data)"
   ]
  },
  {
   "cell_type": "code",
   "execution_count": null,
   "id": "33aeb00e",
   "metadata": {
    "id": "33aeb00e",
    "outputId": "972d9f16-ad1c-4a0e-ec6a-72df9c10f846"
   },
   "outputs": [
    {
     "name": "stdout",
     "output_type": "stream",
     "text": [
      "1번째 줄입니다~!\n",
      "2번째 줄입니다~!\n",
      "3번째 줄입니다~!\n",
      "4번째 줄입니다~!\n",
      "5번째 줄입니다~!\n",
      "6번째 줄입니다~!\n",
      "7번째 줄입니다~!\n",
      "8번째 줄입니다~!\n",
      "9번째 줄입니다~!\n",
      "10번째 줄입니다~!\n",
      "\n"
     ]
    }
   ],
   "source": [
    "with open('test3.txt','r') as f:\n",
    "    data=f.read()\n",
    "    print(data)"
   ]
  },
  {
   "cell_type": "code",
   "execution_count": null,
   "id": "5f4d92a6",
   "metadata": {
    "id": "5f4d92a6",
    "outputId": "d19c5b81-87f4-4b08-b2c8-b0ab650a5497"
   },
   "outputs": [
    {
     "name": "stdout",
     "output_type": "stream",
     "text": [
      "3 False True A\n"
     ]
    }
   ],
   "source": [
    "a=abs(-3)     #절대값\n",
    "b=all([1,2,3,4,0])    #and(하나라도 거짓이면 거짓)      0=거짓\n",
    "c=any([1,2,3,4,0])    #or(하나만 참이면 참)\n",
    "d=chr(65)     #아스키코드 변환\n",
    "\n",
    "print(a,b,c,d)"
   ]
  },
  {
   "cell_type": "code",
   "execution_count": null,
   "id": "f9255e07",
   "metadata": {
    "id": "f9255e07",
    "outputId": "81cc68c8-a0b7-4a72-bb5c-7029cc8e619d"
   },
   "outputs": [
    {
     "name": "stdout",
     "output_type": "stream",
     "text": [
      "7 63\n",
      "12\n",
      "8\n",
      "20\n",
      "5.0\n"
     ]
    }
   ],
   "source": [
    "mylist=[lambda a,b:a+b, lambda a,b:a-b, lambda a,b:a*b, lambda a,b:a/b]    \n",
    "#변수:식\n",
    "#리스트에 여러 수식 넣어두고 사용 가능\n",
    "\n",
    "print(mylist[0](2,5), mylist[2](7,9))         #함수호출\n",
    "\n",
    "for i in range(len(mylist)):        #전체 다 쓰려면 이렇게 하기\n",
    "    print(mylist[i](10,2))"
   ]
  },
  {
   "cell_type": "code",
   "execution_count": 4,
   "id": "41be2bce",
   "metadata": {
    "id": "41be2bce",
    "outputId": "d62e8e61-87e6-405b-8333-38d66db43af8"
   },
   "outputs": [
    {
     "name": "stdout",
     "output_type": "stream",
     "text": [
      "(2, 1)\n",
      "10\n"
     ]
    }
   ],
   "source": [
    "print(divmod(7,3))   #몫,나머지 구해줌\n",
    "print(eval('7+3'))   #실행 가능한 '문자열'을 입력받으면 연산해줌"
   ]
  },
  {
   "cell_type": "code",
   "execution_count": null,
   "id": "50846100",
   "metadata": {
    "id": "50846100",
    "outputId": "fd92f2d7-566a-4543-9ad5-0dcd55d61850"
   },
   "outputs": [
    {
     "name": "stdout",
     "output_type": "stream",
     "text": [
      "0 james\n",
      "1 tom\n",
      "2 susan\n"
     ]
    }
   ],
   "source": [
    "for i, name in enumerate(['james','tom','susan']):\n",
    "    print(i,name)\n",
    "#enumerate: 인덱스값이 같이 나옴!!!!"
   ]
  },
  {
   "cell_type": "code",
   "execution_count": null,
   "id": "92ed884d",
   "metadata": {
    "id": "92ed884d",
    "outputId": "14a39bd8-2d8d-41ea-cdf2-5dee5af25162"
   },
   "outputs": [
    {
     "name": "stdout",
     "output_type": "stream",
     "text": [
      "0 짜장면\n",
      "1 짬뽕\n",
      "2 볶음밥\n",
      "3 탕수육\n",
      "4 깐풍기\n",
      "5 냉우동\n",
      "6 음료\n",
      "7 물\n"
     ]
    }
   ],
   "source": [
    "menu=['짜장면','짬뽕','볶음밥','탕수육','깐풍기','냉우동','음료','물']\n",
    "for i, k in enumerate(menu):\n",
    "    print(i,k)"
   ]
  },
  {
   "cell_type": "code",
   "execution_count": null,
   "id": "b652783b",
   "metadata": {
    "id": "b652783b",
    "outputId": "163fe437-f5e2-4858-e6b9-7b978d8696c5"
   },
   "outputs": [
    {
     "name": "stdout",
     "output_type": "stream",
     "text": [
      "{1: 'python', 2: 'you need'}\n"
     ]
    }
   ],
   "source": [
    "import pickle\n",
    "with open('test4.txt','wb') as f:\n",
    "    data={1:'python',2:'you need'}\n",
    "    pickle.dump(data,f)     #파이썬 개체를 파일에 저장\n",
    "\n",
    "with open('test4.txt','rb') as f:\n",
    "    data=pickle.load(f)     #파이썬 개체 저장파일 불러오기\n",
    "    print(data)"
   ]
  },
  {
   "cell_type": "code",
   "execution_count": null,
   "id": "8aaf70e0",
   "metadata": {
    "id": "8aaf70e0",
    "outputId": "40dabcaf-7147-49b9-ee17-f59331cdaae1"
   },
   "outputs": [
    {
     "data": {
      "text/plain": [
       "'C:\\\\Users\\\\h\\\\hmkd1'"
      ]
     },
     "execution_count": 57,
     "metadata": {},
     "output_type": "execute_result"
    }
   ],
   "source": [
    "import os\n",
    "os.chdir(r'C:\\Users\\h\\hmkd1')    #폴더 변경\n",
    "%pwd      #현재 폴더 확인"
   ]
  },
  {
   "cell_type": "code",
   "execution_count": null,
   "id": "ace4b2b4",
   "metadata": {
    "id": "ace4b2b4",
    "outputId": "fef3f073-5860-43b6-ce51-d1821f0b3c97"
   },
   "outputs": [
    {
     "data": {
      "text/plain": [
       "'C:\\\\Users\\\\h\\\\hmkd1\\\\m1_programming'"
      ]
     },
     "execution_count": 58,
     "metadata": {},
     "output_type": "execute_result"
    }
   ],
   "source": [
    "import os\n",
    "os.chdir(r'C:\\Users\\h\\hmkd1\\m1_programming')\n",
    "%pwd"
   ]
  },
  {
   "cell_type": "code",
   "execution_count": null,
   "id": "0ba91d29",
   "metadata": {
    "id": "0ba91d29"
   },
   "outputs": [],
   "source": [
    "import os\n",
    "os.rename('test1.txt','test1_new.txt')    #파일명 변경"
   ]
  },
  {
   "cell_type": "code",
   "execution_count": null,
   "id": "3d9566dc",
   "metadata": {
    "id": "3d9566dc",
    "outputId": "33af3a45-4dd5-45b7-b40d-ddace58b2c76"
   },
   "outputs": [
    {
     "data": {
      "text/plain": [
       "['C:\\\\Users\\\\h\\\\hmkd1\\\\m1_programming\\\\test1.txt',\n",
       " 'C:\\\\Users\\\\h\\\\hmkd1\\\\m1_programming\\\\test2.txt',\n",
       " 'C:\\\\Users\\\\h\\\\hmkd1\\\\m1_programming\\\\test3.txt',\n",
       " 'C:\\\\Users\\\\h\\\\hmkd1\\\\m1_programming\\\\test4.txt']"
      ]
     },
     "execution_count": 63,
     "metadata": {},
     "output_type": "execute_result"
    }
   ],
   "source": [
    "import glob     #폴더 내 해당하는 이름의 파일 전부 찾기\n",
    "glob.glob(r'C:\\Users\\h\\hmkd1\\m1_programming/*.txt')"
   ]
  },
  {
   "cell_type": "code",
   "execution_count": 3,
   "id": "b8682331",
   "metadata": {
    "id": "b8682331",
    "outputId": "0f37a116-c302-45f4-8ea0-1a9b98b18f8d"
   },
   "outputs": [
    {
     "name": "stdout",
     "output_type": "stream",
     "text": [
      "[10, 11, 13, 14, 15, 16]\n",
      "12\n",
      "[]\n"
     ]
    }
   ],
   "source": [
    "#2삭제 후 출력(내장함수, 3가지 방법)\n",
    "#모든 원소 삭제 후 출력\n",
    "\n",
    "list=[10,11,12,13,14,15,16]\n",
    "\n",
    "#del(list[2])     #인덱스로 값 삭제(범위 지정도 가능)\n",
    "a=list.pop(2)     #인덱스로 삭제 후 해당 값 반환\n",
    "#list.remove(2)   #지정한 값과 같은 값 삭제(중복일 경우 맨 처음 거)\n",
    "\n",
    "print(list)\n",
    "print(a)\n",
    "\n",
    "list.clear()    #리스트에 저장된 모든 값 삭제\n",
    "print(list)"
   ]
  },
  {
   "cell_type": "code",
   "execution_count": 26,
   "id": "402d5c7a",
   "metadata": {
    "colab": {
     "base_uri": "https://localhost:8080/"
    },
    "executionInfo": {
     "elapsed": 398,
     "status": "ok",
     "timestamp": 1678366264707,
     "user": {
      "displayName": "김나영",
      "userId": "16985821314079982465"
     },
     "user_tz": -540
    },
    "id": "402d5c7a",
    "outputId": "5d680637-4e24-4838-d7e4-f1bbfc622cd7"
   },
   "outputs": [
    {
     "name": "stdout",
     "output_type": "stream",
     "text": [
      "[1, 4, 9, 16, 25]\n",
      "[1, 2]\n"
     ]
    }
   ],
   "source": [
    "#람다함수와 적합한 내장함수를 사용해 출력\n",
    "list=[1,2,3,4,5]\n",
    "\n",
    "list_n=[]\n",
    "x=lambda a:a**2  \n",
    "\n",
    "for i in list:          # [1,2,3,4,5] -> [1,4,9,16,25]\n",
    "    list_n.append(x(i))\n",
    "    \n",
    "del(list[2:])           # [1,2,3,4,5] -> [1,2]\n",
    "\n",
    "print(list_n) \n",
    "print(list) "
   ]
  },
  {
   "cell_type": "code",
   "execution_count": 3,
   "id": "aef47d8b",
   "metadata": {},
   "outputs": [
    {
     "name": "stdout",
     "output_type": "stream",
     "text": [
      "[1, 4, 9, 16, 25] \n",
      "\n",
      "[1, 2]\n"
     ]
    }
   ],
   "source": [
    "#람다함수와 적합한 내장함수를 사용해 출력(강사님 코드)\n",
    "x=lambda a:a**2  \n",
    "list1=[x(i) for i in range(1,6)]\n",
    "print(list1)\n",
    "\n",
    "list2=[1,2,3,4,5]\n",
    "filter_list=[]\n",
    "filter_list=filter(lambda a:(a<3),list2)\n",
    "print(list(filter_list))"
   ]
  },
  {
   "cell_type": "code",
   "execution_count": 31,
   "id": "512d4efe",
   "metadata": {
    "colab": {
     "base_uri": "https://localhost:8080/"
    },
    "executionInfo": {
     "elapsed": 495,
     "status": "ok",
     "timestamp": 1678366658620,
     "user": {
      "displayName": "김나영",
      "userId": "16985821314079982465"
     },
     "user_tz": -540
    },
    "id": "512d4efe",
    "outputId": "6b97b3de-f009-417d-a688-268a0513867e"
   },
   "outputs": [
    {
     "name": "stdout",
     "output_type": "stream",
     "text": [
      "[1, 2, 6]\n"
     ]
    }
   ],
   "source": [
    "#[1,-3,2,0,-5,6] 양수만 필터링해 출력 (내장함수)\n",
    "\n",
    "list=[1,-3,2,0,-5,6]\n",
    "list_n=[]\n",
    "\n",
    "for i in list:\n",
    "    if abs(i)==i and i!=0:    #절대값과 본래값이 같은 것만(단, 0 제외)\n",
    "        list_n.append(i)\n",
    "print(list_n)\n"
   ]
  },
  {
   "cell_type": "code",
   "execution_count": 10,
   "id": "53c190cd",
   "metadata": {
    "colab": {
     "base_uri": "https://localhost:8080/"
    },
    "executionInfo": {
     "elapsed": 284,
     "status": "ok",
     "timestamp": 1678366780817,
     "user": {
      "displayName": "김나영",
      "userId": "16985821314079982465"
     },
     "user_tz": -540
    },
    "id": "53c190cd",
    "outputId": "65b5da80-e5f2-4c4b-fb8f-41cfdbe7ca0b"
   },
   "outputs": [
    {
     "name": "stdout",
     "output_type": "stream",
     "text": [
      "[1, 2, 6]\n"
     ]
    }
   ],
   "source": [
    "#[1,-3,2,0,-5,6] 양수만 필터링해 출력\n",
    "#사용자 정의함수\n",
    "\n",
    "def plu(list):\n",
    "    list_n=[]\n",
    "    for i in list:\n",
    "        if i>0:\n",
    "            list_n.append(i)\n",
    "    return list_n\n",
    "\n",
    "###################################\n",
    "\n",
    "list=[1,-3,2,0,-5,6]\n",
    "print(plu(list))"
   ]
  },
  {
   "cell_type": "code",
   "execution_count": 8,
   "id": "6934c6a0",
   "metadata": {},
   "outputs": [
    {
     "name": "stdout",
     "output_type": "stream",
     "text": [
      "1 2 6 "
     ]
    }
   ],
   "source": [
    "#[1,-3,2,0,-5,6] 양수만 필터링해 출력\n",
    "\n",
    "a=[1,-3,2,0,-5,6]\n",
    "for i in a:\n",
    "    if i==abs(i) & i!=0:\n",
    "        print(i,end=' ')"
   ]
  },
  {
   "cell_type": "code",
   "execution_count": 4,
   "id": "6b3dbc17",
   "metadata": {
    "colab": {
     "base_uri": "https://localhost:8080/"
    },
    "executionInfo": {
     "elapsed": 318,
     "status": "ok",
     "timestamp": 1678366927158,
     "user": {
      "displayName": "김나영",
      "userId": "16985821314079982465"
     },
     "user_tz": -540
    },
    "id": "6b3dbc17",
    "outputId": "a00fda33-f7a3-4ab2-87f5-d9da87cfcbab",
    "scrolled": true
   },
   "outputs": [
    {
     "name": "stdout",
     "output_type": "stream",
     "text": [
      "[(1, 4), (2, 5), (3, 6)]\n"
     ]
    }
   ],
   "source": [
    "#내장함수를 이용해 동일한 개수로 이루어진 자료형을 화살표 좌측에서 우측으로 변환\n",
    "#[1,2,3],[4,5,6] -> [(1,4),(2,5),(3,6)]\n",
    "#zip() 사용하면 좋음\n",
    "\n",
    "lista=[[1,2,3],[4,5,6]]\n",
    "lista_n=[]\n",
    "\n",
    "for i in range(3):\n",
    "    tup=(lista[0][i],lista[1][i])\n",
    "    lista_n.append(tup)\n",
    "\n",
    "print(lista_n)"
   ]
  },
  {
   "cell_type": "code",
   "execution_count": null,
   "id": "3d71d89d",
   "metadata": {},
   "outputs": [],
   "source": [
    "#내장함수를 이용해 동일한 개수로 이루어진 자료형을 화살표 좌측에서 우측으로 변환\n",
    "#zip() 이용 (유리님 코드)\n",
    "\n",
    "#[1,2,3],[4,5,6]->[(1,4),(2,5),(3,6)]\n",
    "a=[1,2,3]\n",
    "b=[4,5,6]\n",
    "print(list(zip(a,b)))\n",
    "\n",
    "#[1,2,3],[4,5,6][7,8,9]->[(1,4,7),(2,5,8),(3,6,9)]\n",
    "a=[1,2,3]\n",
    "b=[4,5,6]\n",
    "c=[7,8,9]\n",
    "print(list(zip(a,b,c)))\n",
    "\n",
    "#('abc','def') -> [('a','d'),('b','e'),('c','f')]\n",
    "a=['a','b','c']\n",
    "b=['d','e','f']\n",
    "\n",
    "print(list(zip(a,b)))"
   ]
  },
  {
   "cell_type": "code",
   "execution_count": 7,
   "id": "0aab62d6",
   "metadata": {
    "id": "0aab62d6",
    "outputId": "a5029fb2-ff48-49af-84ad-f9cb10538f5c"
   },
   "outputs": [
    {
     "name": "stdout",
     "output_type": "stream",
     "text": [
      "[(1, 4, 7), (2, 5, 8), (3, 6, 9)]\n"
     ]
    }
   ],
   "source": [
    "#내장함수를 이용해 동일한 개수로 이루어진 자료형을 화살표 좌측에서 우측으로 변환\n",
    "#자동 돌리기 (튜플x 리스트o)\n",
    "\n",
    "#lista=[1,2,3],[4,5,6]\n",
    "lista=[[1,2,3],[4,5,6],[7,8,9]]\n",
    "listb=sum(lista,[])\n",
    "lista_n=[]\n",
    "\n",
    "for k in range(len(lista[0])):\n",
    "    tup1=tuple(listb[k::len(lista[0])])\n",
    "    lista_n.append(tup1)\n",
    "\n",
    "print(lista_n)"
   ]
  },
  {
   "cell_type": "code",
   "execution_count": null,
   "id": "9ab5ddb6",
   "metadata": {
    "id": "9ab5ddb6",
    "outputId": "723d272b-2026-426f-99a3-a25bc97433bf"
   },
   "outputs": [
    {
     "name": "stdout",
     "output_type": "stream",
     "text": [
      "[(1, 4, 7), (2, 5, 8), (3, 6, 9)]\n"
     ]
    }
   ],
   "source": [
    "#내장함수를 이용해 동일한 개수로 이루어진 자료형을 화살표 좌측에서 우측으로 변환\n",
    "# [1,2,3],[4,5,6], [7,8,9] -> [(1,4,7),(2,5,8),(3,6,9)]\n",
    "\n",
    "lista=[[1,2,3],[4,5,6],[7,8,9]]\n",
    "lista_n=[]\n",
    "\n",
    "for i in range(3):\n",
    "    tup=(lista[0][i],lista[1][i],lista[2][i])\n",
    "    lista_n.append(tup)\n",
    "\n",
    "print(lista_n)"
   ]
  },
  {
   "cell_type": "code",
   "execution_count": null,
   "id": "956518bb",
   "metadata": {
    "id": "956518bb",
    "outputId": "da80d958-5de6-4c6d-be11-2c4d7ec70402"
   },
   "outputs": [
    {
     "name": "stdout",
     "output_type": "stream",
     "text": [
      "[('a', 'd'), ('b', 'e'), ('c', 'f')]\n"
     ]
    }
   ],
   "source": [
    "#내장함수를 이용해 동일한 개수로 이루어진 자료형을 화살표 좌측에서 우측으로 변환\n",
    "# ('abc','def') -> [('a','d'),('b','e'),('c','f')]\n",
    "\n",
    "tupa=('abc','def')\n",
    "lista_n=[]\n",
    "\n",
    "for i in range(3):\n",
    "    tup=(tupa[0][i],tupa[1][i])\n",
    "    lista_n.append(tup)\n",
    "\n",
    "print(lista_n)"
   ]
  },
  {
   "cell_type": "code",
   "execution_count": 9,
   "id": "52195eac",
   "metadata": {
    "colab": {
     "base_uri": "https://localhost:8080/"
    },
    "executionInfo": {
     "elapsed": 3087,
     "status": "ok",
     "timestamp": 1678367577664,
     "user": {
      "displayName": "김나영",
      "userId": "16985821314079982465"
     },
     "user_tz": -540
    },
    "id": "52195eac",
    "outputId": "7f0873bf-f0c6-4141-f557-a9eb3429f1ce"
   },
   "outputs": [
    {
     "name": "stdout",
     "output_type": "stream",
     "text": [
      "평균값을 구할 숫자를 모두 입력해주세요(콤마로 구분): 1,2,3\n",
      "합: 6\n",
      "평균: 2.00\n"
     ]
    }
   ],
   "source": [
    "#입력한 모든 수의 평균 값을 구하는 함수를 작성한 후 1,2,3을 입력한 결과를 출력하세요.\n",
    "\n",
    "def sum(mun):\n",
    "    print(f\"합: {eval(mun)}\")    #입력된 문자열이 연산이 가능한 형태면 연산해 줌\n",
    "    print(f\"평균: {(eval(mun)/len(mun.split('+'))):0.2f}\")\n",
    "\n",
    "###################################################\n",
    "\n",
    "mun=input(\"평균값을 구할 숫자를 모두 입력해주세요(콤마로 구분): \")\n",
    "mun_n=mun.replace(',','+')    #1,2,3 -> 1+2+3\n",
    "\n",
    "sum(mun_n)"
   ]
  },
  {
   "cell_type": "code",
   "execution_count": 4,
   "id": "19b1d2b5",
   "metadata": {},
   "outputs": [
    {
     "name": "stdout",
     "output_type": "stream",
     "text": [
      "2.0\n"
     ]
    }
   ],
   "source": [
    "#위와 같이 평균 구하는 함수\n",
    "#단, 입력 개수가 정해져 있지x\n",
    "\n",
    "def average(*args):\n",
    "    x=0\n",
    "    for i in args:\n",
    "        x=(x+i)\n",
    "    result=x/len(args) \n",
    "    return result\n",
    "\n",
    "###################################################\n",
    "\n",
    "r=average(1,2,3)    \n",
    "print(r)"
   ]
  },
  {
   "cell_type": "code",
   "execution_count": 12,
   "id": "46a11104",
   "metadata": {},
   "outputs": [
    {
     "name": "stdout",
     "output_type": "stream",
     "text": [
      "15150\n",
      "25250\n"
     ]
    }
   ],
   "source": [
    "def sum(first, end):\n",
    "    result=0\n",
    "    for i in range(first,end+1):\n",
    "        result+=i\n",
    "    return result\n",
    "\n",
    "###################################################\n",
    "\n",
    "print(sum(100,200))   #n~m 사이의 합 구하기\n",
    "print(sum(200,300))"
   ]
  },
  {
   "cell_type": "code",
   "execution_count": 16,
   "id": "73c4e7db",
   "metadata": {},
   "outputs": [
    {
     "name": "stdout",
     "output_type": "stream",
     "text": [
      "[100, 101, 102, 103, 104, 105, 106, 107, 108, 109, 110, 111, 112, 113, 114, 115, 116, 117, 118, 119, 120, 121, 122, 123, 124, 125, 126, 127, 128, 129, 130, 131, 132, 133, 134, 135, 136, 137, 138, 139, 140, 141, 142, 143, 144, 145, 146, 147, 148, 149, 150, 151, 152, 153, 154, 155, 156, 157, 158, 159, 160, 161, 162, 163, 164, 165, 166, 167, 168, 169, 170, 171, 172, 173, 174, 175, 176, 177, 178, 179, 180, 181, 182, 183, 184, 185, 186, 187, 188, 189, 190, 191, 192, 193, 194, 195, 196, 197, 198, 199, 200] <class 'list'>\n"
     ]
    }
   ],
   "source": [
    "import numpy as np\n",
    "\n",
    "a=np.arange(100,201)\n",
    "a=list(a)\n",
    "print(a, type(a))"
   ]
  },
  {
   "cell_type": "code",
   "execution_count": 13,
   "id": "8cb9e245",
   "metadata": {},
   "outputs": [
    {
     "name": "stdout",
     "output_type": "stream",
     "text": [
      "15150\n",
      "25250\n"
     ]
    }
   ],
   "source": [
    "def sum(*args):\n",
    "    result=0\n",
    "    for i in args:\n",
    "        result+=i\n",
    "    return result\n",
    "\n",
    "###################################################\n",
    "\n",
    "print(sum(100, 101, 102, 103, 104, 105, 106, 107, 108, 109, 110, 111, 112,\n",
    "       113, 114, 115, 116, 117, 118, 119, 120, 121, 122, 123, 124, 125,\n",
    "       126, 127, 128, 129, 130, 131, 132, 133, 134, 135, 136, 137, 138,\n",
    "       139, 140, 141, 142, 143, 144, 145, 146, 147, 148, 149, 150, 151,\n",
    "       152, 153, 154, 155, 156, 157, 158, 159, 160, 161, 162, 163, 164,\n",
    "       165, 166, 167, 168, 169, 170, 171, 172, 173, 174, 175, 176, 177,\n",
    "       178, 179, 180, 181, 182, 183, 184, 185, 186, 187, 188, 189, 190,\n",
    "       191, 192, 193, 194, 195, 196, 197, 198, 199, 200)) \n",
    "print(sum(200, 201, 202, 203, 204, 205, 206, 207, 208, 209, 210, 211, 212,\n",
    "       213, 214, 215, 216, 217, 218, 219, 220, 221, 222, 223, 224, 225,\n",
    "       226, 227, 228, 229, 230, 231, 232, 233, 234, 235, 236, 237, 238,\n",
    "       239, 240, 241, 242, 243, 244, 245, 246, 247, 248, 249, 250, 251,\n",
    "       252, 253, 254, 255, 256, 257, 258, 259, 260, 261, 262, 263, 264,\n",
    "       265, 266, 267, 268, 269, 270, 271, 272, 273, 274, 275, 276, 277,\n",
    "       278, 279, 280, 281, 282, 283, 284, 285, 286, 287, 288, 289, 290,\n",
    "       291, 292, 293, 294, 295, 296, 297, 298, 299, 300))"
   ]
  },
  {
   "cell_type": "code",
   "execution_count": 11,
   "id": "0bef3f56",
   "metadata": {
    "colab": {
     "base_uri": "https://localhost:8080/"
    },
    "executionInfo": {
     "elapsed": 310,
     "status": "ok",
     "timestamp": 1678368236617,
     "user": {
      "displayName": "김나영",
      "userId": "16985821314079982465"
     },
     "user_tz": -540
    },
    "id": "0bef3f56",
    "outputId": "fab1bf2f-40b1-4572-b288-b3222e614d86"
   },
   "outputs": [
    {
     "name": "stdout",
     "output_type": "stream",
     "text": [
      "bar ca ababa a aaaa "
     ]
    }
   ],
   "source": [
    "#[과제] strings를 다양한 문자가 포함된 순서로 정렬하세요.\n",
    "#튜플에서도 사용 가능한 코드\n",
    "#set() 사용\n",
    "\n",
    "#strings = ('a', 'ca', 'bar', 'aaaa', 'ababa')\n",
    "strings = ['a', 'ca', 'bar', 'aaaa', 'ababa']\n",
    "lc=[]\n",
    "mydic={}\n",
    "\n",
    "for i in strings:\n",
    "    ct=0\n",
    "    for k in range(97,123):     #아스키코드(알파벳 a~z = 97~122)\n",
    "        if chr(k) in i:      #chr: 숫자->알파벳 변환\n",
    "            ct+=1\n",
    "    lc.append(ct)    #lc=[1,2,3,1,2] 쓰인 알파벳 개수 저장\n",
    "    \n",
    "for i in range(len(strings)):\n",
    "    mydic[strings[i]]=lc[i]    #딕셔너리에 {문자:알파벳 개수} 저장\n",
    "\n",
    "for i in range(26,-1,-1):     #알파벳=26개=최대 쓰일 수 있는 문자 수\n",
    "    if i in lc:     #lc 안에 해당 개수가 있을 때만(그냥 26번 전부 돌지 말라고 추가)\n",
    "        for key, value in mydic.items():   #.items() -> 딕셔너리 키, 값 사용\n",
    "            if value==i:    #개수에 해당하는 key값(strings리스트 저장해 둔) 출력\n",
    "                print(key, end=' ')\n"
   ]
  },
  {
   "cell_type": "code",
   "execution_count": 18,
   "id": "ff4b7549",
   "metadata": {},
   "outputs": [
    {
     "name": "stdout",
     "output_type": "stream",
     "text": [
      "['a', 'aaaa', 'ca', 'ababa', 'bar']\n",
      "['bar', 'ababa', 'ca', 'aaaa', 'a']\n"
     ]
    }
   ],
   "source": [
    "#[과제] strings를 다양한 문자가 포함된 순서로 정렬하세요.\n",
    "#강사님 코드\n",
    "#'key'값을 기준으로 sort\n",
    "\n",
    "strings = ['a', 'ca', 'bar', 'aaaa', 'ababa']\n",
    "strings.sort(key=lambda x:len(set(x)))     #기본 정렬(오름차순)\n",
    "print(strings)\n",
    "\n",
    "print(strings[::-1])     #거꾸로 출력(내림차순으로 나오게)"
   ]
  },
  {
   "cell_type": "code",
   "execution_count": 18,
   "id": "c5635efa",
   "metadata": {},
   "outputs": [
    {
     "name": "stdout",
     "output_type": "stream",
     "text": [
      "['bar', 'ca', 'ababa', 'a', 'aaaa']\n"
     ]
    }
   ],
   "source": [
    "#[과제] strings를 다양한 문자가 포함된 순서로 정렬하세요.\n",
    "#람다, sort, set 사용\n",
    "\n",
    "strings=['a','ca','ababa','aaaa','bar']\n",
    "count={}\n",
    "\n",
    "strings.sort(key=lambda x:len(set(x)),reverse=True)   #역순 정렬\n",
    "print(strings)"
   ]
  },
  {
   "cell_type": "code",
   "execution_count": 20,
   "id": "8437e08d",
   "metadata": {},
   "outputs": [
    {
     "name": "stdout",
     "output_type": "stream",
     "text": [
      "['a', 'aaaa', 'ca', 'ababa', 'bar']\n",
      "['bar', 'ababa', 'ca', 'aaaa', 'a']\n"
     ]
    }
   ],
   "source": [
    "#[과제] strings를 다양한 문자가 포함된 순서로 정렬하세요.\n",
    "#튜플의 경우 (튜플은 sort 속성이 없음)\n",
    "\n",
    "strings = ('a', 'ca', 'bar', 'aaaa', 'ababa')\n",
    "s_list=list(strings)\n",
    "s_list.sort(key=lambda x:len(set(x)))     #기본 정렬(오름차순)\n",
    "\n",
    "print(s_list[::-1])     #거꾸로 출력(내림차순으로 나오게)"
   ]
  },
  {
   "cell_type": "code",
   "execution_count": 22,
   "id": "7297229d",
   "metadata": {
    "colab": {
     "base_uri": "https://localhost:8080/"
    },
    "executionInfo": {
     "elapsed": 658,
     "status": "ok",
     "timestamp": 1678368439484,
     "user": {
      "displayName": "김나영",
      "userId": "16985821314079982465"
     },
     "user_tz": -540
    },
    "id": "7297229d",
    "outputId": "c04ccd43-e21f-438b-ad37-3beeb88dcd54"
   },
   "outputs": [
    {
     "name": "stdout",
     "output_type": "stream",
     "text": [
      "news.naver.com\n"
     ]
    }
   ],
   "source": [
    "#url에서 호스트 도메인을 추출하여 출력하세요.\n",
    "url = 'http://news.naver.com/main/read.nhn?mode=LSD&mid=shm&sid1=105&oid=028&aid=0002334601'\n",
    "\n",
    "do=url.find('.com')\n",
    "print(url[7:do+4])   #프로토콜 제외"
   ]
  },
  {
   "cell_type": "code",
   "execution_count": 24,
   "id": "L4rhk5jDVyeu",
   "metadata": {
    "colab": {
     "base_uri": "https://localhost:8080/"
    },
    "executionInfo": {
     "elapsed": 4,
     "status": "ok",
     "timestamp": 1678368590478,
     "user": {
      "displayName": "김나영",
      "userId": "16985821314079982465"
     },
     "user_tz": -540
    },
    "id": "L4rhk5jDVyeu",
    "outputId": "f0bc0251-780f-4022-a713-0e75380eee8c"
   },
   "outputs": [
    {
     "name": "stdout",
     "output_type": "stream",
     "text": [
      "mode=LSD&mid=shm&sid1=105&oid=028&aid=0002334601\n",
      "['mode=LSD', 'mid=shm', 'sid1=105', 'oid=028', 'aid=0002334601'] \n",
      "\n",
      "['mode=LSD', 'mid=shm', 'sid1=105', 'oid=028', 'aid=0002334601']\n",
      "mode=LSD\n",
      "mid=shm\n",
      "sid1=105\n",
      "oid=028\n",
      "aid=0002334601\n"
     ]
    }
   ],
   "source": [
    "#[과제] url에서 쿼리문을 추출하여 출력하세요.\n",
    "# url에서 '?'뒤에 표시되는 문자열을 쿼리 문자열이라고 하며 변수=값 사이 &로 구분되어 나열된다.\n",
    "url = 'http://news.naver.com/main/read.nhn?mode=LSD&mid=shm&sid1=105&oid=028&aid=0002334601'\n",
    "\n",
    "do=url.find('?')\n",
    "qr=url[do+1:].split('&')   #방법1\n",
    "\n",
    "print(url[do+1:])\n",
    "print(qr,'\\n')\n",
    "\n",
    "x=url.split('?')      #방법2\n",
    "qr=x[1].split('&')\n",
    "\n",
    "print(qr)\n",
    "print('\\n'.join(qr))"
   ]
  },
  {
   "cell_type": "markdown",
   "id": "39b43605",
   "metadata": {},
   "source": [
    "#### sort, sorted 모두 key, reverse 매개변수를 갖고 있다.\n",
    "- reverse: 기본값은 reverse=False(오름차순)/ reverse=True(내림차순) 정렬\n",
    "- key: 정렬을 목적으로 하는 함수를 값으로 넣는다. lambda를 이용할 수 있고, key값을 기준으로 정렬되고 기본값은 오름차순"
   ]
  }
 ],
 "metadata": {
  "colab": {
   "provenance": []
  },
  "kernelspec": {
   "display_name": "Python 3 (ipykernel)",
   "language": "python",
   "name": "python3"
  },
  "language_info": {
   "codemirror_mode": {
    "name": "ipython",
    "version": 3
   },
   "file_extension": ".py",
   "mimetype": "text/x-python",
   "name": "python",
   "nbconvert_exporter": "python",
   "pygments_lexer": "ipython3",
   "version": "3.9.13"
  }
 },
 "nbformat": 4,
 "nbformat_minor": 5
}
