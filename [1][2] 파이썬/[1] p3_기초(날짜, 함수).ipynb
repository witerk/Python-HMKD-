{
 "cells": [
  {
   "cell_type": "markdown",
   "id": "0c7ad91f",
   "metadata": {},
   "source": [
    "#### 날짜 처리\n",
    "- time — 시간 액세스와 변환\n",
    "\n",
    "- 현재 timestamp 얻기 : time 모듈의 time() 함수는 현재 Unix timestamp을 소수로 리턴하는데요. 정수부는 초단위이고, 소수부는 마이크로(micro) 초단위 입니다.\n",
    "\n",
    "https://www.daleseo.com/python-time/\n",
    "\n",
    "https://docs.python.org/ko/3/library/time.html\n",
    "\n",
    "포맷 코드 표<BR>\n",
    "포맷코드\t설명\t예<BR>\n",
    "%a\t요일 줄임말\tSun, Mon, ... Sat<BR>\n",
    "%A\t요일\tSunday, Monday, ..., Saturday<BR>\n",
    "%w\t요일을 숫자로 표시, 월요일일요일, 06\t0, 1, ..., 6<BR>\n",
    "%d\t일\t01, 02, ..., 31<BR>\n",
    "%b\t월 줄임말\tJan, Feb, ..., Dec<BR>\n",
    "%B\t월\tJanuary, February, …, December<BR>\n",
    "%m\t숫자 월\t01, 02, ..., 12<BR>\n",
    "%y\t두 자릿수 연도\t01, 02, ..., 99<BR>\n",
    "%Y\t네 자릿수 연도\t0001, 0002, ..., 2017, 2018, 9999<BR>\n",
    "%H\t시간(24시간)\t00, 01, ..., 23<BR>\n",
    "%I\t시간(12시간)\t01, 02, ..., 12<BR>\n",
    "%p\tAM, PM\tAM, PM<BR>\n",
    "%M\t분\t00, 01, ..., 59<BR>\n",
    "%S\t초\t00, 01, ..., 59<BR>\n",
    "%Z\t시간대\t대한민국 표준시<BR>\n",
    "%j\t1월 1일부터 경과한 일수\t001, 002, ..., 366<BR>\n",
    "%U\t1년중 주차, 월요일이 한 주의 시작으로\t00, 01, ..., 53<BR>\n",
    "%W\t1년중 주차, 월요일이 한 주의 시작으로\t00, 01, ..., 53<BR>\n",
    "%c\t날짜, 요일, 시간을 출력, 현재 시간대 기준\tSat May 19 11:14:27 2018<BR>\n",
    "%x\t날짜를 출력, 현재 시간대 기준\t05/19/18<BR>\n",
    "%X\t시간을 출력, 현재 시간대 기준\t'11:44:22'"
   ]
  },
  {
   "cell_type": "code",
   "execution_count": 3,
   "id": "941cf3bd",
   "metadata": {},
   "outputs": [
    {
     "name": "stdout",
     "output_type": "stream",
     "text": [
      "time.struct_time(tm_year=2027, tm_mon=5, tm_mday=1, tm_hour=17, tm_min=35, tm_sec=37, tm_wday=5, tm_yday=121, tm_isdst=0)\n",
      "Sat May  1 17:35:37 2027 \n",
      "\n",
      "time.struct_time(tm_year=2023, tm_mon=4, tm_mday=3, tm_hour=11, tm_min=8, tm_sec=51, tm_wday=0, tm_yday=93, tm_isdst=0)\n",
      "2023년 4월 3일 11:8:51\n",
      "Mon Apr  3 11:08:51 2023\n"
     ]
    }
   ],
   "source": [
    "#날짜 연습\n",
    "import time\n",
    "\n",
    "t=time.localtime(1809160537.371015)\n",
    "print(t)\n",
    "print(time.asctime(t),\"\\n\")\n",
    "\n",
    "t=time.localtime()\n",
    "print(t)\n",
    "print(f\"{t.tm_year}년 {t.tm_mon}월 {t.tm_mday}일 {t.tm_hour}:{t.tm_min}:{t.tm_sec}\")\n",
    "print(\"%s\" %time.asctime(t))"
   ]
  },
  {
   "cell_type": "code",
   "execution_count": 4,
   "id": "0866316a",
   "metadata": {},
   "outputs": [
    {
     "name": "stdout",
     "output_type": "stream",
     "text": [
      "Mon Apr  3 11:08:51 2023\n",
      "Mon Apr  3 11:08:51 2023\n"
     ]
    }
   ],
   "source": [
    "# asctime과 다른 점은 ctime은 항상 현재 시간만을 리턴\n",
    "print(time.asctime())\n",
    "print(time.ctime())"
   ]
  },
  {
   "cell_type": "markdown",
   "id": "4945424f",
   "metadata": {},
   "source": [
    "- gmtime(), localtime() 함수: timestamp를 struct_time 객체로 변환"
   ]
  },
  {
   "cell_type": "code",
   "execution_count": 5,
   "id": "dcfb67ae",
   "metadata": {},
   "outputs": [
    {
     "name": "stdout",
     "output_type": "stream",
     "text": [
      "time.struct_time(tm_year=2023, tm_mon=3, tm_mday=15, tm_hour=2, tm_min=17, tm_sec=6, tm_wday=2, tm_yday=74, tm_isdst=0) \n",
      "\n",
      "time.struct_time(tm_year=2023, tm_mon=3, tm_mday=15, tm_hour=11, tm_min=17, tm_sec=6, tm_wday=2, tm_yday=74, tm_isdst=0)\n"
     ]
    }
   ],
   "source": [
    "from time import gmtime, localtime\n",
    "print(gmtime(1678846626.352047),'\\n')\n",
    "print(localtime(1678846626.352047))"
   ]
  },
  {
   "cell_type": "code",
   "execution_count": 6,
   "id": "7edfd9ea",
   "metadata": {},
   "outputs": [
    {
     "name": "stdout",
     "output_type": "stream",
     "text": [
      "Mon Dec 28 22:02:17 2020\n",
      "Mon Apr  3 11:08:51 2023\n",
      "Mon Apr  3 11:08:51 2023\n"
     ]
    }
   ],
   "source": [
    "#1609160537.371015을 \"Sat Jun 26 08:35:03 2021\"와 같은 형식으로 출력\n",
    "import time\n",
    "\n",
    "t=time.localtime(1609160537.371015)    #특정 시간\n",
    "print(time.asctime(t))\n",
    "\n",
    "print(time.asctime())    #현재 시간\n",
    "print(time.ctime())"
   ]
  },
  {
   "cell_type": "code",
   "execution_count": 7,
   "id": "d7fe0c69",
   "metadata": {},
   "outputs": [
    {
     "name": "stdout",
     "output_type": "stream",
     "text": [
      "1680487731.959345 <class 'float'>\n",
      "2023-04-03 11:08:51.959345 <class 'datetime.datetime'>\n"
     ]
    }
   ],
   "source": [
    "# timestamp -> datetime\n",
    "import time\n",
    "from datetime import datetime\n",
    "\n",
    "t=time.time()\n",
    "print(t, type(t))\n",
    "\n",
    "d=datetime.fromtimestamp(t)\n",
    "print(d,type(d))"
   ]
  },
  {
   "cell_type": "code",
   "execution_count": 8,
   "id": "6c6fbd4c",
   "metadata": {},
   "outputs": [
    {
     "name": "stdout",
     "output_type": "stream",
     "text": [
      "1680487732.0978308 <class 'float'>\n",
      "1680487732.0978308 <class 'str'>\n"
     ]
    }
   ],
   "source": [
    "#timestamp -> str\n",
    "import time\n",
    "\n",
    "t=time.time()\n",
    "print(t,type(t))\n",
    "\n",
    "s=str(t)\n",
    "print(s,type(s))"
   ]
  },
  {
   "cell_type": "code",
   "execution_count": 9,
   "id": "d528ab9c",
   "metadata": {},
   "outputs": [
    {
     "name": "stdout",
     "output_type": "stream",
     "text": [
      "1680487732.2429988\n",
      "2023-04-03 11:08:52.242999\n",
      "2023-04-03 11:08:52.242999 <class 'str'>\n",
      "2023-04-03 11:08:52 <class 'str'>\n"
     ]
    }
   ],
   "source": [
    "# timestamp -> datatime -> str\n",
    "import time\n",
    "from datetime import datetime\n",
    "\n",
    "t=time.time()\n",
    "d=datetime.fromtimestamp(t)\n",
    "print(t)\n",
    "print(d)\n",
    "\n",
    "a=str(d)\n",
    "s=d.strftime('%Y-%m-%d %X')\n",
    "print(a,type(a))\n",
    "print(s, type(s))"
   ]
  },
  {
   "cell_type": "code",
   "execution_count": 10,
   "id": "07454ee4",
   "metadata": {},
   "outputs": [
    {
     "name": "stdout",
     "output_type": "stream",
     "text": [
      "2023-04-03 11:08:52.377837 <class 'datetime.datetime'>\n",
      "2023-04-03 11:08:52.377837 <class 'str'>\n"
     ]
    }
   ],
   "source": [
    "# datetime -> str\n",
    "from datetime import datetime\n",
    "\n",
    "s=datetime.now()\n",
    "a=str(s)\n",
    "\n",
    "print(s, type(s))\n",
    "print(a, type(a))"
   ]
  },
  {
   "cell_type": "code",
   "execution_count": 11,
   "id": "bca8c5fc",
   "metadata": {},
   "outputs": [
    {
     "name": "stdout",
     "output_type": "stream",
     "text": [
      "2023-04-03 11:08:52.521715 <class 'datetime.datetime'>\n",
      "1680487732.0 <class 'float'>\n"
     ]
    }
   ],
   "source": [
    "#datetime -> timestamp\n",
    "d=datetime.today()\n",
    "print(d,type(d))\n",
    "\n",
    "t=time.mktime(d.timetuple())\n",
    "print(t,type(t))"
   ]
  },
  {
   "cell_type": "code",
   "execution_count": 12,
   "id": "35601935",
   "metadata": {},
   "outputs": [
    {
     "name": "stdout",
     "output_type": "stream",
     "text": [
      "2023-03-15 11:36:56 <class 'datetime.datetime'>\n"
     ]
    }
   ],
   "source": [
    "# str -> datetime\n",
    "from datetime import datetime\n",
    "\n",
    "a='2023-03-15 11:36:56'\n",
    "k=datetime.strptime(a,'%Y-%m-%d %H:%M:%S')\n",
    "print(k, type(k))"
   ]
  },
  {
   "cell_type": "code",
   "execution_count": 15,
   "id": "d8de2347",
   "metadata": {},
   "outputs": [
    {
     "name": "stdout",
     "output_type": "stream",
     "text": [
      "1678847816.0 <class 'float'>\n"
     ]
    }
   ],
   "source": [
    "# str -> datetime -> timestamp\n",
    "\n",
    "a='2023-03-15 11:36:56'\n",
    "t=time.mktime(datetime.strptime(a,'%Y-%m-%d %H:%M:%S').timetuple())\n",
    "\n",
    "print(t,type(t))"
   ]
  },
  {
   "cell_type": "code",
   "execution_count": 7,
   "id": "2154fa36",
   "metadata": {
    "scrolled": true
   },
   "outputs": [
    {
     "name": "stdout",
     "output_type": "stream",
     "text": [
      "2023-3-15 11:15:2\n",
      "2023-03-15 11:15:02.967993 \n",
      "\n",
      "2023-03-15 11:15:02\n"
     ]
    }
   ],
   "source": [
    "#날짜 연습\n",
    "import time\n",
    "from datetime import datetime\n",
    "\n",
    "t=time.localtime()\n",
    "print(f\"{t.tm_year}-{t.tm_mon}-{t.tm_mday} {t.tm_hour}:{t.tm_min}:{t.tm_sec}\")\n",
    "print(datetime.now(),'\\n')\n",
    "\n",
    "t=time.time()\n",
    "d=datetime.fromtimestamp(t)\n",
    "s=d.strftime('%Y-%m-%d %X')\n",
    "print(s)               #datetime.fromtimestamp(time.time()).strftime()"
   ]
  },
  {
   "cell_type": "code",
   "execution_count": 77,
   "id": "58a1730b",
   "metadata": {},
   "outputs": [
    {
     "name": "stdout",
     "output_type": "stream",
     "text": [
      "오늘은 2023-01-01 이후 74일째 되는 날입니다.\n"
     ]
    }
   ],
   "source": [
    "# 올해 경과된 날짜수 계산: yday\n",
    "import time\n",
    "t=time.localtime()\n",
    "\n",
    "start_day=f'{t.tm_year}-01-01'   #2023-01-01\n",
    "elapsed_day=t.tm_yday   #경과된 날짜 수 계산(yday) -> 67\n",
    "\n",
    "print(f'오늘은 {start_day} 이후 {elapsed_day}일째 되는 날입니다.')"
   ]
  },
  {
   "cell_type": "code",
   "execution_count": 79,
   "id": "5137ffe6",
   "metadata": {},
   "outputs": [
    {
     "name": "stdout",
     "output_type": "stream",
     "text": [
      "2023-03-15 오늘은 수요일입니다.\n",
      "2023-3-15 오늘은 수요일입니다.\n"
     ]
    }
   ],
   "source": [
    "# 현재 요일을 '2023-03-15 오늘은 수요일입니다.'의 형식으로 출력\n",
    "import time\n",
    "from datetime import datetime\n",
    "\n",
    "week=['월','화','수','목','금','토','일']\n",
    "\n",
    "t=time.localtime()     #t.tm_year 현재 시각\n",
    "\n",
    "k=time.time()          #d.strftime('%A') 현재 시각\n",
    "d=datetime.fromtimestamp(k)   #timesampt -> datetime 타입 변경\n",
    "#datetime.datetime.fromtimestamp(time.time()).strftime('%A')\n",
    "\n",
    "print(f\"{d.strftime('%Y-%m-%d')} 오늘은 {week[int(d.strftime('%w'))-1]}요일입니다.\")\n",
    "#(d.strftime('%w')) -> 요일을 숫자(str)로 받음(월요일=1)\n",
    "\n",
    "print(f\"{t.tm_year}-{t.tm_mon}-{t.tm_mday} 오늘은 {week[t.tm_wday]}요일입니다.\")\n",
    "#t.tm_wday -> 요일 숫자(int)로 받음(일요일=1)\n"
   ]
  },
  {
   "cell_type": "code",
   "execution_count": 85,
   "id": "6d2d4312",
   "metadata": {},
   "outputs": [
    {
     "name": "stdout",
     "output_type": "stream",
     "text": [
      "0:00:00.140933 <class 'datetime.timedelta'>\n",
      "1부터 100만까지 더하는데 걸리는 시간: 140.933(ms)\n"
     ]
    }
   ],
   "source": [
    "from datetime import datetime\n",
    "now1=datetime.now()\n",
    "\n",
    "sum=0\n",
    "for i in range(1000001):\n",
    "    sum+=i\n",
    "    \n",
    "now2=datetime.now()\n",
    "\n",
    "result=now2-now1\n",
    "print(result, type(result))\n",
    "print(f\"1부터 100만까지 더하는데 걸리는 시간: {result.microseconds/1000}(ms)\")"
   ]
  },
  {
   "cell_type": "code",
   "execution_count": 80,
   "id": "61a54538",
   "metadata": {},
   "outputs": [
    {
     "name": "stdout",
     "output_type": "stream",
     "text": [
      "2023-3-15 12:17:46\n",
      "2023-03-15 12:17:46.453167 \n",
      "\n",
      "2023-03-15 12:17:46\n"
     ]
    }
   ],
   "source": [
    "#날짜 연습\n",
    "import time\n",
    "from datetime import datetime\n",
    "\n",
    "t=time.localtime()\n",
    "print(f\"{t.tm_year}-{t.tm_mon}-{t.tm_mday} {t.tm_hour}:{t.tm_min}:{t.tm_sec}\")\n",
    "print(datetime.now(),'\\n')\n",
    "\n",
    "t=time.time()\n",
    "d=datetime.fromtimestamp(t)\n",
    "s=d.strftime('%Y-%m-%d %X')\n",
    "print(s)               #datetime.fromtimestamp(time.time()).strftime()"
   ]
  },
  {
   "cell_type": "markdown",
   "id": "15bf2b19",
   "metadata": {},
   "source": [
    "#### 함수\n",
    "- 특정 목적을 가진 독립된 코드 집합\n",
    "  - 두 수를 입력받아 더한 값을 계산하는 코드\n",
    "  - 더한 값을 계산하는 코드가 프로그램 여러 곳에서 사용된다고 할 때 이 부분만을 따로 구성하여 재사용하면 효율화할 수 있음\n",
    "- 사용자 함수는 def로 시작하여 정의"
   ]
  },
  {
   "cell_type": "code",
   "execution_count": null,
   "id": "89d13a8f",
   "metadata": {},
   "outputs": [],
   "source": [
    "def say():            #입력x 결과o\n",
    "    return 'Hi!'\n",
    "\n",
    "def add(a,b):         #입력o, 결과x\n",
    "    sum=a+b\n",
    "    print(f'{a}와 {b}의 합은 {sum}입니다.')\n",
    "\n",
    "def says():           #입력x, 결과x\n",
    "    print('Hello~')\n",
    "\n",
    "def max(a,b,c):       #입력o, 결과o\n",
    "    if a>b and a>c:\n",
    "        return a\n",
    "    elif b>a and b>c:\n",
    "        return b\n",
    "    elif c>a and c>b:\n",
    "        return c\n",
    "    \n",
    "print(say())\n",
    "add(5,9)\n",
    "says()\n",
    "print(f'최대값은 {max(6,9,21)}입니다.')"
   ]
  },
  {
   "cell_type": "code",
   "execution_count": null,
   "id": "4127bcdc",
   "metadata": {},
   "outputs": [],
   "source": [
    "def add_n(n1,n2):\n",
    "    if n1.isdigit() and n2.isdigit:\n",
    "        ret=n1+'+'+n2\n",
    "        return eval(ret)\n",
    "    else:\n",
    "        return n1+n2\n",
    "\n",
    "n1=input(\"더할 문자열 혹은 숫자를 입력하세요: \")\n",
    "n2=input(\": \")\n",
    "print(add_n(n1,n2))"
   ]
  },
  {
   "cell_type": "code",
   "execution_count": 1,
   "id": "10025796",
   "metadata": {},
   "outputs": [
    {
     "name": "stdout",
     "output_type": "stream",
     "text": [
      "베스트 : 파이썬\n",
      "1등 : 대한민국\n",
      "\n",
      "()\n",
      "(3, 5, 1, 5, 8)\n",
      "10 20 {}\n",
      "10 20 {'depth': 50, 'color': 'blue'}\n"
     ]
    }
   ],
   "source": [
    "def add_txt(t1,t2='파이썬'):\n",
    "    print(t1+' : '+t2)\n",
    "    \n",
    "add_txt(\"베스트\")\n",
    "add_txt(t2=\"대한민국\",t1='1등')\n",
    "\n",
    "def func1(*args):     #인자의 개수가 불명확한 경우 *args(튜플로 처리)\n",
    "    print(args)\n",
    "    \n",
    "def func2(width, height, **kwargs):    #키워드 인자가 불명확한 경우 **kwargs(사전으로 처리)\n",
    "    print(width, height, kwargs)\n",
    "\n",
    "print()  #걍 한 줄 띄기\n",
    "\n",
    "func1()    #빈 튜플 출력\n",
    "func1(3,5,1,5,8)    #(3,5,1,5) 출력\n",
    "func2(10,20)    #kwargs=빈 사전 { } 출력\n",
    "func2(10,20,depth=50,color='blue')    #kwargs={'depth':50, 'color':'blue'} 출력"
   ]
  },
  {
   "cell_type": "code",
   "execution_count": null,
   "id": "9c75ada4",
   "metadata": {},
   "outputs": [],
   "source": [
    "def add_mul(choice,*args):\n",
    "    sum=0\n",
    "    rlt=1\n",
    "    \n",
    "    if choice=='add':\n",
    "        for i in args:\n",
    "            sum+=i\n",
    "        print(sum)\n",
    "            \n",
    "    elif choice=='mul':\n",
    "        for i in args:\n",
    "            rlt*=i\n",
    "        print(rlt)\n",
    "\n",
    "add_mul('add',1,2,3,4,5)\n",
    "add_mul('mul',1,2,3,4,5)"
   ]
  },
  {
   "cell_type": "code",
   "execution_count": null,
   "id": "5e89a4e5",
   "metadata": {},
   "outputs": [],
   "source": [
    "#어려개의 입력값을 받는 함수\n",
    "#입력 변수명 앞에 '*'를 붙이면 입력값을 전부 모아 튜플로 만들어줌\n",
    "\n",
    "def add_many(*args):\n",
    "    add=0\n",
    "    print(args, type(args))\n",
    "    \n",
    "    for i in args:\n",
    "        add+=i\n",
    "    return add\n",
    "\n",
    "print(\"add_many 결과값:\",add_many(4,8,65,123,3,2,65,8,23))"
   ]
  },
  {
   "cell_type": "code",
   "execution_count": null,
   "id": "3b785679",
   "metadata": {},
   "outputs": [],
   "source": [
    "#함수의 반환값은 언제나 하나!!!!! (return)\n",
    "\n",
    "def add_and_mul(a,b):\n",
    "    return a+b, a*b       #이렇게 반환값이 여러개일 경우\n",
    "\n",
    "result127=add_and_mul(3,4)\n",
    "print(result127)              #묶어서 튜플 하나로 처리"
   ]
  },
  {
   "cell_type": "code",
   "execution_count": null,
   "id": "056e3e6b",
   "metadata": {},
   "outputs": [],
   "source": [
    "#add_mul함수로 덧셈 or 곱셈 연산 수행\n",
    "\n",
    "def add_mul(tf, *args):\n",
    "    if tf=='add':\n",
    "        sum=0\n",
    "        for i in args:\n",
    "            sum+=i\n",
    "        return sum\n",
    "    \n",
    "    else:\n",
    "        sum=1\n",
    "        for i in args:\n",
    "            sum*=i\n",
    "        return sum\n",
    "\n",
    "while True:\n",
    "    k=input(\"'add' or 'mul' 사용할 연산을 선택해주세요.\")\n",
    "    if k!='add' and k!='mul':\n",
    "        print(\"'add' or 'mul' 두 가지 중 하나를 선택해주세요.\")\n",
    "    else:\n",
    "        break\n",
    "        \n",
    "print(add_mul(k,1,2,3,4,5))"
   ]
  },
  {
   "cell_type": "code",
   "execution_count": null,
   "id": "de6bd973",
   "metadata": {},
   "outputs": [],
   "source": [
    "#남녀 5쌍 파트너 정하기\n",
    "\n",
    "import random\n",
    "\n",
    "def partn(lista, listb):\n",
    "    rd,part=[],[]\n",
    "    rd=random.sample(lista,5)\n",
    "    print(\"\\n-파트너가 성사되었습니다-\")\n",
    "    for i in range(5):\n",
    "        print(f\"{listb[i]}(남)-{rd[i]}(여)\")\n",
    "\n",
    "##############################################        \n",
    "        \n",
    "lista,listb=[],[]\n",
    "for i in range(5):\n",
    "    a=input(\"여성(5명)의 이름을 입력해주세요.\")\n",
    "    lista.append(a)\n",
    "for i in range(5):\n",
    "    a=input(\"남성(5명)의 이름을 입력해주세요.\")\n",
    "    listb.append(a)\n",
    "partn(lista,listb)"
   ]
  },
  {
   "cell_type": "code",
   "execution_count": null,
   "id": "4a556ab8",
   "metadata": {},
   "outputs": [],
   "source": [
    "#입력받은 문자들 한칸씩 땡기기\n",
    "\n",
    "def star(a):\n",
    "    mun=''\n",
    "    for i in range(1, len(a)):\n",
    "        mun+=a[i]\n",
    "    return mun+a[0]\n",
    "\n",
    "##########################################\n",
    "\n",
    "slist=list(input(\"문자를 입력해주세요: \"))\n",
    "print(star(slist))"
   ]
  },
  {
   "cell_type": "code",
   "execution_count": null,
   "id": "47ca2b17",
   "metadata": {},
   "outputs": [],
   "source": [
    "#음식점 가격 산출 프로그램\n",
    "\n",
    "def pr(sel,menu,m_ju,pri,*args):\n",
    "    sum=0\n",
    "    k=menu.index(sel)\n",
    "\n",
    "    if args:\n",
    "        print(f\"{args[0]}의 가격은 {pri[k]}원입니다.\\n\")\n",
    "    else:\n",
    "        print(f\"{sel}의 가격은 {pri[k]}원입니다.\\n\")\n",
    "        \n",
    "    return pri[k]\n",
    "\n",
    "#######################################################\n",
    "\n",
    "menu=['짜장면','짬뽕','볶음밥','탕수육','깐풍기','냉우동','음료','물']\n",
    "m_ju=['콜라','사이다','환타','제로콜라','제로사이다']\n",
    "price=[6500,7000,6000,13000,14000,7500,2000,0]\n",
    "sum=0     #총 결제가격 저장\n",
    "\n",
    "print(\"키오스크 종료를 원하실 경우 'n(N)'을 입력해주세요.\")\n",
    "print(\"\"\"=======================================================\n",
    "              [짜장면] [짬뽕] [볶음밥]\n",
    "             [탕수육] [깐풍기] [냉우동]\n",
    "                    [음료] [물]\n",
    "=======================================================\n",
    "      \"\"\")\n",
    "\n",
    "\n",
    "while True:\n",
    "    sel=input(\"메뉴를 선택해주세요: \")\n",
    "    \n",
    "    if sel=='n' or sel=='N':             #종료명령, 최종가격 출력\n",
    "        if sum==0:           #결제할 금액이 없을 경우 최종 금액 안내x\n",
    "            print(\"키오스크를 종료합니다.\")\n",
    "        else:\n",
    "            print(f\"이용해주셔서 감사합니다. 결제금액은 총 {sum}원입니다.\")\n",
    "        break\n",
    "        \n",
    "    elif sel not in menu:          #메뉴명 실수\n",
    "        print(\"선택하신 메뉴는 없는 메뉴입니다. 다시 선택해주세요.\\n\")\n",
    "        continue\n",
    "        \n",
    "    else:\n",
    "        if sel=='음료':\n",
    "            dr=input(\"어떤 음료를 선택하시겠습니까?\")       #음료 중 선택\n",
    "            sum+=pr(sel,menu,m_ju,price,dr)\n",
    "        else:                  #음료 안 고를 경우 drink 관련한 변수 전달x\n",
    "            sum+=pr(sel,menu,m_ju,price)\n",
    "\n"
   ]
  },
  {
   "cell_type": "code",
   "execution_count": null,
   "id": "efc9aba8",
   "metadata": {},
   "outputs": [],
   "source": [
    "#3승 할때까지 무한반복 가위바위보\n",
    "import random\n",
    "\n",
    "def rcp(player):\n",
    "    listk=['가위','바위','보']\n",
    "    a=random.sample(listk,1)\n",
    "    print(f\"컴퓨터(Computer):{a[0]}\")\n",
    "    \n",
    "    if a[0]==pl:\n",
    "        print(\"비겼습니다!\\n\")\n",
    "        return 0\n",
    "        \n",
    "    elif a[0]=='가위' and player=='바위':\n",
    "        print(\"이겼습니다!\\n\")\n",
    "        return 1\n",
    "            \n",
    "    elif a[0]=='바위' and player=='보':\n",
    "        print(\"이겼습니다!\\n\")\n",
    "        return 1\n",
    "            \n",
    "    elif a[0]=='보' and player=='가위':\n",
    "        print(\"이겼습니다!\\n\")\n",
    "        return 1\n",
    "    \n",
    "    else:\n",
    "        print(\"졌습니다!\\n\")\n",
    "        return 0\n",
    "            \n",
    "###################################################\n",
    "i=0\n",
    "\n",
    "while i<3:\n",
    "    pl=input(\"낼 것을 선택해주세요(가위/바위/보): \")\n",
    "    if pl=='가위' or pl=='바위' or pl=='보':\n",
    "        i+=rcp(pl)\n",
    "    else:\n",
    "        print(\"'가위/바위/보' 중 하나만 낼 수 있습니다.\\n\")\n",
    "\n",
    "print(\"플레이어가 3판을 승리했습니다! 프로그램을 종료합니다.\")"
   ]
  },
  {
   "cell_type": "code",
   "execution_count": null,
   "id": "71a5e00a",
   "metadata": {},
   "outputs": [],
   "source": [
    "#(1~100)랜덤 숫자 맞추기 게임\n",
    "\n",
    "import numpy as np\n",
    "\n",
    "n=int(input(\"랜덤 숫자 맞추기 프로그램입니다. \\n게임을 할 숫자의 범위를 정해주세요: \"))\n",
    "num=np.random.randint(1,n+1,size=1)\n",
    "\n",
    "while True:\n",
    "    user=int(input(\"숫자를 입력해주세요: \"))\n",
    "    \n",
    "    if user==num:\n",
    "        print(\"정답입니다!\")\n",
    "        break\n",
    "    \n",
    "    elif user>n+1:\n",
    "        print(\"DOWN! (범위를 벗어난 숫자입니다.)\")\n",
    "    \n",
    "    elif num>user:\n",
    "        print(\"UP!\")\n",
    "    \n",
    "    else:\n",
    "        print(\"DOWN!\")"
   ]
  },
  {
   "cell_type": "code",
   "execution_count": null,
   "id": "4b4bbc46",
   "metadata": {},
   "outputs": [],
   "source": [
    "e=0o172   #8진수: 0o로 시작\n",
    "f=0x7A    #16진수: 0x로 시작\n",
    "g=0b1111010   #2진수: 0b로 시작\n",
    "\n",
    "print(e,f,g)"
   ]
  },
  {
   "cell_type": "code",
   "execution_count": null,
   "id": "1b8b2168",
   "metadata": {},
   "outputs": [],
   "source": [
    "x=lambda a,b:a**b    #변수:식\n",
    "\n",
    "print(x(2,5))         #함수호출"
   ]
  },
  {
   "cell_type": "code",
   "execution_count": null,
   "id": "4a6d1336",
   "metadata": {},
   "outputs": [],
   "source": [
    "input_a='''                    it is true\n",
    "              \"python is fit for data analysis\"    \n",
    "           .   '''\n",
    "print(input_a)\n",
    "print()\n",
    "print(input_a.strip())    #문자 앞뒤 공백 제거 .strip()"
   ]
  },
  {
   "cell_type": "code",
   "execution_count": 2,
   "id": "a15d1866",
   "metadata": {},
   "outputs": [
    {
     "name": "stdout",
     "output_type": "stream",
     "text": [
      "['10', '20', '30', '40', '50']\n",
      "['10', '20', '30', '40', '50']\n"
     ]
    }
   ],
   "source": [
    "a=\"10/20/30/40/50\"\n",
    "b=\"10,20,30,40,50\"\n",
    "print(a.split(\"/\"))         #문자열 분리 .split('~')\n",
    "print(b.split(','))"
   ]
  },
  {
   "cell_type": "code",
   "execution_count": 3,
   "id": "75ba4e26",
   "metadata": {},
   "outputs": [
    {
     "name": "stdout",
     "output_type": "stream",
     "text": [
      "2500\n"
     ]
    }
   ],
   "source": [
    "#[1*99, 2*98, 3*97....98*2, 99*1] 중 가장 큰 값\n",
    "\n",
    "x=lambda a:a*(100-a)    #변수:식\n",
    "result=0\n",
    "\n",
    "for i in range(1,100):\n",
    "    if x(i) >= result:\n",
    "        result=x(i)\n",
    "\n",
    "print(result)"
   ]
  },
  {
   "cell_type": "code",
   "execution_count": 4,
   "id": "3bb568ad",
   "metadata": {},
   "outputs": [
    {
     "name": "stdout",
     "output_type": "stream",
     "text": [
      "2500\n"
     ]
    }
   ],
   "source": [
    "#[1*99, 2*98, 3*97....98*2, 99*1] 중 가장 큰 값\n",
    "\n",
    "x=lambda a:a*(100-a)    #변수:식\n",
    "result=[]\n",
    "\n",
    "for i in range(1,100):\n",
    "    result.append(x(i))\n",
    "\n",
    "print(max(result))"
   ]
  },
  {
   "cell_type": "code",
   "execution_count": null,
   "id": "fd5012b7",
   "metadata": {},
   "outputs": [],
   "source": [
    "num=[1,2,3,4,5,6,7,8,9]\n",
    "out=[num[0::3],num[1::3],num[2::3]]\n",
    "print(out)\n",
    "\n",
    "#=>  [1,4,7], [2,5,8], [3,6,9]"
   ]
  },
  {
   "cell_type": "code",
   "execution_count": null,
   "id": "ef12b688",
   "metadata": {},
   "outputs": [],
   "source": [
    "import numpy as np\n",
    "np.random.seed(0)     #sample 고정\n",
    "num=np.random.randint(20,size=20)\n",
    "num"
   ]
  },
  {
   "cell_type": "code",
   "execution_count": null,
   "id": "718ab0a3",
   "metadata": {},
   "outputs": [],
   "source": [
    "a=1\n",
    "\n",
    "def vartest(a):\n",
    "    a=a+1\n",
    "    \n",
    "print(vartest(a))\n",
    "print(a)"
   ]
  },
  {
   "cell_type": "code",
   "execution_count": null,
   "id": "dc14078b",
   "metadata": {},
   "outputs": [],
   "source": [
    "a=1\n",
    "\n",
    "def vartest(a):\n",
    "    a=a+1\n",
    "    return a\n",
    "\n",
    "a=vartest(a)\n",
    "print(a)"
   ]
  },
  {
   "cell_type": "code",
   "execution_count": null,
   "id": "80488d5d",
   "metadata": {},
   "outputs": [],
   "source": [
    "a=1\n",
    "\n",
    "def vartest():\n",
    "    global a\n",
    "    a=a+1\n",
    "    \n",
    "vartest()\n",
    "print(a)"
   ]
  },
  {
   "cell_type": "code",
   "execution_count": null,
   "id": "c1f27e48",
   "metadata": {},
   "outputs": [],
   "source": [
    "def add(a,b):\n",
    "    return a+b\n",
    "\n",
    "a=add(3,4)      #return이 있어야만 값이 반환됨\n",
    "print(a)"
   ]
  },
  {
   "cell_type": "markdown",
   "id": "4b86a57f",
   "metadata": {},
   "source": [
    "#### 지역변수와 전역변수\n",
    "- 지역변수는 함수 내부에서만 유효하고 \n",
    "- 전역변수는 코드 전반에 걸쳐 유효\n",
    "- 함수의 인자는 지역변수"
   ]
  },
  {
   "cell_type": "markdown",
   "id": "7d37134a",
   "metadata": {},
   "source": [
    "#### 함수 리턴값 : return\n",
    "- 함수는 한 개 이상의 값을 리턴할 수 있으며 리턴값이 없을 수도 있다.\n",
    "- 리턴 값이 여러 개인 경우에는 튜플로 리턴값을 만들어 리턴"
   ]
  },
  {
   "cell_type": "markdown",
   "id": "4d305289",
   "metadata": {},
   "source": [
    "#### 파이썬 패키지,  모듈, 함수, 클래스\n",
    "- 코드 작성 시 이미 만들어져 있는 함수들을 활용하면 보다 효율적이고 빠르게 개발 가능\n",
    "- 이미 만들어져 있고 안정성이 검증된 함수들을 성격에 맞게 하나의 파이썬 파일에 묶어 만들어 놓을 것을 모듈이라 함\n",
    "- 외부 모듈에 있는 함수들을 활용하려면 이 모듈을 먼저 가져와서 사용해야 하는데 이것을 모듈을 임포트한다고 한다.\n",
    "- 파이썬 모듈이 하나의 파이썬 파일이라면 패키지는 디렉토리로 볼 수 있다.\n",
    "\n",
    "패키지\n",
    "1. 라이브러리라고도 부름\n",
    "2. 특정 기능과 관련된 여러 모듈을 한 그룹으로 묶은 것\n",
    "3. 패키지 안에 패키지가 있을 수도 있다.\n",
    "4. import 모듈 from 패키지\n",
    "   (import 패키지도 가능)\n",
    "   \n",
    "모듈\n",
    "1. 여러 기능들이 뭉쳐진 하나의. py파일\n",
    "2. 함수, 클래스, 변수 등 포함\n",
    "3. import 모듈\n",
    "\n",
    "함수\n",
    "1. 하나의 기능을 가진 코드의 집합\n",
    "2. 함수를 사용한다 = 함수를 호출한다\n",
    "3. 함수 사용 형태: 함수( )\n",
    "   - 필요한 경우 () 안에 매개변수 또는 옵션\n",
    "4. 종류\n",
    "   - 내장 함수(built in function)\n",
    "   - 외장 함수: import 해주어야 함\n",
    "   \n",
    "클래스   \n",
    "- 파이썬은 객체 지향 언어로클래스를 기반으로 객체를 만들어 사용한다.\n",
    "- 한 파이썬 파일(. py) 내에서 \"class class명():\"을 통해 클래스 선언"
   ]
  },
  {
   "cell_type": "code",
   "execution_count": null,
   "id": "281ddba0",
   "metadata": {},
   "outputs": [],
   "source": [
    "mylist=[lambda a,b:a+b,lambda a,b:a-b,lambda a,b:a*b,lambda a,b:a/b]\n",
    "\n",
    "print(mylist[0](12,4))\n",
    "print(mylist[1](12,4))\n",
    "print(mylist[2](12,4))\n",
    "print(mylist[3](12,4))"
   ]
  },
  {
   "cell_type": "code",
   "execution_count": null,
   "id": "bfc05c32",
   "metadata": {},
   "outputs": [],
   "source": [
    "print(list(range(10)))   # -> 0부터 순서대로 나옴\n",
    "#print(alist(range(10)))   -> 오류\n",
    "\n",
    "print(divmod(7,3))   #몫,나머지 구하기"
   ]
  },
  {
   "cell_type": "code",
   "execution_count": null,
   "id": "bfc657ed",
   "metadata": {},
   "outputs": [],
   "source": [
    "for i, name in enumerate(['nayoung','emy','scol']):\n",
    "    print(i,name)\n",
    "    \n",
    "#인덱스와 값 둘 다 뽑기"
   ]
  },
  {
   "cell_type": "code",
   "execution_count": null,
   "id": "9840200b",
   "metadata": {},
   "outputs": [],
   "source": [
    "#문자열이 연산 가능하면 결과값 반환\n",
    "a,b=20,10\n",
    "\n",
    "print(eval('a+b'))       #숫자뿐 아니라 변수가 들어간 식도 가능\n",
    "print(eval('11+23'))"
   ]
  },
  {
   "cell_type": "code",
   "execution_count": 5,
   "id": "d1afbe66",
   "metadata": {},
   "outputs": [],
   "source": [
    "# 외장함수 : 전 세계 파이썬 사용자들이 만든 유용한 프로그램을 모아 놓은 파이썬 라이브러리. 파이썬을 설치할 때 자동으로 설치\n",
    "# pickle은 객체의 형태를 유지하면서 파일에 저장하고 불러올 수 있게 하는 모듈\n",
    "\n",
    "import pickle\n",
    "f = open('test.txt', 'wb')     # ->바이너리 파일로 저장\n",
    "data = {1:'python',2:'you need'}\n",
    "pickle.dump(data,f)\n",
    "f.close()"
   ]
  },
  {
   "cell_type": "code",
   "execution_count": 6,
   "id": "cde78cd9",
   "metadata": {},
   "outputs": [
    {
     "name": "stdout",
     "output_type": "stream",
     "text": [
      "{1: 'python', 2: 'you need'}\n"
     ]
    }
   ],
   "source": [
    "import pickle\n",
    "f = open('test.txt','rb')     #-> 바이너리 파일 읽기 오픈(rb)\n",
    "data = pickle.load(f)   #-> 바이너리 파일 읽기\n",
    "print(data)\n",
    "f.close()"
   ]
  },
  {
   "cell_type": "code",
   "execution_count": 3,
   "id": "81de2425",
   "metadata": {},
   "outputs": [
    {
     "data": {
      "text/plain": [
       "'C:\\\\Users\\\\h\\\\anaconda3;C:\\\\Users\\\\h\\\\anaconda3\\\\Library\\\\mingw-w64\\\\bin;C:\\\\Users\\\\h\\\\anaconda3\\\\Library\\\\usr\\\\bin;C:\\\\Users\\\\h\\\\anaconda3\\\\Library\\\\bin;C:\\\\Users\\\\h\\\\anaconda3\\\\Scripts;C:\\\\WINDOWS\\\\system32;C:\\\\WINDOWS;C:\\\\WINDOWS\\\\System32\\\\Wbem;C:\\\\WINDOWS\\\\System32\\\\WindowsPowerShell\\\\v1.0\\\\;C:\\\\WINDOWS\\\\System32\\\\OpenSSH\\\\;C:\\\\Users\\\\h\\\\anaconda3;C:\\\\Users\\\\h\\\\anaconda3\\\\Library\\\\mingw-w64\\\\bin;C:\\\\Users\\\\h\\\\anaconda3\\\\Library\\\\bin;C:\\\\Users\\\\h\\\\anaconda3\\\\Scripts;C:\\\\Users\\\\h\\\\AppData\\\\Local\\\\Microsoft\\\\WindowsApps;'"
      ]
     },
     "execution_count": 3,
     "metadata": {},
     "output_type": "execute_result"
    }
   ],
   "source": [
    "import os\n",
    "os.environ['PATH']"
   ]
  },
  {
   "cell_type": "code",
   "execution_count": 1,
   "id": "2120b9f4",
   "metadata": {},
   "outputs": [
    {
     "data": {
      "text/plain": [
       "'C:\\\\Users\\\\h\\\\hmkd1\\\\m1_programming'"
      ]
     },
     "execution_count": 1,
     "metadata": {},
     "output_type": "execute_result"
    }
   ],
   "source": [
    "%pwd"
   ]
  },
  {
   "cell_type": "code",
   "execution_count": null,
   "id": "1c2951e3",
   "metadata": {},
   "outputs": [],
   "source": [
    "# 폴더변경\n",
    "os.chdir('C:\\\\hmkd1')\n",
    "%pwd"
   ]
  },
  {
   "cell_type": "code",
   "execution_count": 5,
   "id": "c7f105c6",
   "metadata": {},
   "outputs": [
    {
     "data": {
      "text/plain": [
       "'C:\\\\Users\\\\h\\\\hmkd1\\\\m1_programming'"
      ]
     },
     "execution_count": 5,
     "metadata": {},
     "output_type": "execute_result"
    }
   ],
   "source": [
    "os.getcwd()       #현재 폴더 알려줌"
   ]
  },
  {
   "cell_type": "code",
   "execution_count": null,
   "id": "8b5700e1",
   "metadata": {},
   "outputs": [],
   "source": [
    "import os  \n",
    "os.rename('test1.txt','test_new.txt')   #파일명 변경"
   ]
  },
  {
   "cell_type": "code",
   "execution_count": null,
   "id": "b9433bec",
   "metadata": {},
   "outputs": [],
   "source": [
    "# glob() 함수: 패턴과 이름이 일치하는 모든 파일과 디렉토리 리스트를 반환\n",
    "import glob\n",
    "glob.glob('C:\\\\hmkd1\\\\m1_programming/*.txt')   #해당 경로의 모든 .txt 파일"
   ]
  },
  {
   "cell_type": "code",
   "execution_count": null,
   "id": "5de3b206",
   "metadata": {},
   "outputs": [],
   "source": [
    "import re\n",
    "import datetime\n",
    "import time\n",
    "\n",
    "while True:\n",
    "    date_pattern = re.compile(r'^\\d{4}/\\d{2}/\\d{2}$')\n",
    "    date_str = input(\"날짜를 yyyy/mm/dd 형식으로 입력하세요: \")\n",
    "    if not date_pattern.match(date_str):\n",
    "        print('잘못된 입력입니다.')\n",
    "        continue\n",
    "    try:\n",
    "        year, month, day = map(int, date_str.split('/'))\n",
    "        print(f'year = {year}, month = {month}, day = {day}')\n",
    "        now = time.localtime()\n",
    "        today = int(now.tm_year) * 10000 + int(now.tm_mon) * 100 + int(now.tm_mday)\n",
    "        inp_date = year * 10000\n",
    "        inp_date += month * 100\n",
    "        inp_date += day\n",
    "        if inp_date > today:\n",
    "            print('입력된 날짜가 오늘보다 미래입니다.')\n",
    "            continue\n",
    "        break\n",
    "    except ValueError:\n",
    "        print(\"잘못된 입력입니다. 다시 입력해주세요.\")\n",
    "\n",
    "print('End')"
   ]
  },
  {
   "cell_type": "code",
   "execution_count": null,
   "id": "aef7523f",
   "metadata": {},
   "outputs": [],
   "source": [
    "import re\n",
    "import datetime\n",
    "import time\n",
    "\n",
    "while True:\n",
    "    date_pattern = re.compile(r'^\\d{4}/\\d{2}/\\d{2}$')\n",
    "    date_str = input(\"날짜를 yyyy/mm/dd 형식으로 입력하세요: \")\n",
    "    if not date_pattern.match(date_str):\n",
    "        print('잘못된 입력입니다.')\n",
    "        continue\n",
    "    try:\n",
    "        year, month, day = map(int, date_str.split('/'))\n",
    "        print(f'year = {year}, month = {month}, day = {day}')\n",
    "        date = datetime.date(year, month, day)\n",
    "        now = time.localtime()\n",
    "        today = int(now.tm_year) * 10000 + int(now.tm_mon) * 100 + int(now.tm_mday)\n",
    "        inp_date = year * 10000 + month * 100 + day\n",
    "        if inp_date > today:\n",
    "            print('입력된 날짜가 오늘보다 미래입니다.')\n",
    "            continue\n",
    "        break\n",
    "    except ValueError:\n",
    "        print(\"잘못된 입력입니다. 다시 입력해주세요.\")\n",
    "\n",
    "print('End')"
   ]
  }
 ],
 "metadata": {
  "kernelspec": {
   "display_name": "Python 3 (ipykernel)",
   "language": "python",
   "name": "python3"
  },
  "language_info": {
   "codemirror_mode": {
    "name": "ipython",
    "version": 3
   },
   "file_extension": ".py",
   "mimetype": "text/x-python",
   "name": "python",
   "nbconvert_exporter": "python",
   "pygments_lexer": "ipython3",
   "version": "3.9.13"
  }
 },
 "nbformat": 4,
 "nbformat_minor": 5
}
