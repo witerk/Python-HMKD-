{
 "cells": [
  {
   "cell_type": "code",
   "execution_count": 2,
   "id": "d1d225ad",
   "metadata": {},
   "outputs": [
    {
     "ename": "SyntaxError",
     "evalue": "EOL while scanning string literal (2853550848.py, line 4)",
     "output_type": "error",
     "traceback": [
      "\u001b[1;36m  File \u001b[1;32m\"C:\\Users\\h\\AppData\\Local\\Temp\\ipykernel_10780\\2853550848.py\"\u001b[1;36m, line \u001b[1;32m4\u001b[0m\n\u001b[1;33m    print('구문오류 발생!)\u001b[0m\n\u001b[1;37m                    ^\u001b[0m\n\u001b[1;31mSyntaxError\u001b[0m\u001b[1;31m:\u001b[0m EOL while scanning string literal\n"
     ]
    }
   ],
   "source": [
    "#구문오류(문법): 프로그램 실행 전 발생하는 오류\n",
    "#예외/런타임 오류: 프로그램 실행 중 발생하는 오류\n",
    "\n",
    "print('구문오류 발생!)     #SyntaxError 문법오류"
   ]
  },
  {
   "cell_type": "code",
   "execution_count": 4,
   "id": "f618c1d3",
   "metadata": {},
   "outputs": [
    {
     "name": "stdout",
     "output_type": "stream",
     "text": [
      "정수입력: ㄹㅇㄶ\n"
     ]
    },
    {
     "ename": "ValueError",
     "evalue": "invalid literal for int() with base 10: 'ㄹㅇㄶ'",
     "output_type": "error",
     "traceback": [
      "\u001b[1;31m---------------------------------------------------------------------------\u001b[0m",
      "\u001b[1;31mValueError\u001b[0m                                Traceback (most recent call last)",
      "\u001b[1;32m~\\AppData\\Local\\Temp\\ipykernel_10780\\275720427.py\u001b[0m in \u001b[0;36m<module>\u001b[1;34m\u001b[0m\n\u001b[0;32m      1\u001b[0m \u001b[1;31m#정수를 입력하지 않은 경우 예외 발생\u001b[0m\u001b[1;33m\u001b[0m\u001b[1;33m\u001b[0m\u001b[0m\n\u001b[0;32m      2\u001b[0m \u001b[1;33m\u001b[0m\u001b[0m\n\u001b[1;32m----> 3\u001b[1;33m \u001b[0mnum_input\u001b[0m\u001b[1;33m=\u001b[0m\u001b[0mint\u001b[0m\u001b[1;33m(\u001b[0m\u001b[0minput\u001b[0m\u001b[1;33m(\u001b[0m\u001b[1;34m\"정수입력: \"\u001b[0m\u001b[1;33m)\u001b[0m\u001b[1;33m)\u001b[0m    \u001b[1;31m#ValueError 유효하지 않은 입력\u001b[0m\u001b[1;33m\u001b[0m\u001b[1;33m\u001b[0m\u001b[0m\n\u001b[0m\u001b[0;32m      4\u001b[0m \u001b[0mprint\u001b[0m\u001b[1;33m(\u001b[0m\u001b[1;34m'원의 반지름: '\u001b[0m\u001b[1;33m,\u001b[0m\u001b[0mnum_input\u001b[0m\u001b[1;33m)\u001b[0m\u001b[1;33m\u001b[0m\u001b[1;33m\u001b[0m\u001b[0m\n",
      "\u001b[1;31mValueError\u001b[0m: invalid literal for int() with base 10: 'ㄹㅇㄶ'"
     ]
    }
   ],
   "source": [
    "#정수를 입력하지 않은 경우 예외 발생\n",
    "\n",
    "num_input=int(input(\"정수입력: \"))    #ValueError 유효하지 않은 입력\n",
    "print('원의 반지름: ',num_input)"
   ]
  },
  {
   "cell_type": "code",
   "execution_count": 8,
   "id": "c4eff41a",
   "metadata": {},
   "outputs": [
    {
     "name": "stdout",
     "output_type": "stream",
     "text": [
      "정수입력: dg\n",
      "정수를 입력하지 않았습니다.\n"
     ]
    }
   ],
   "source": [
    "#조건문으로 예외처리 isdigit()\n",
    "\n",
    "user_in=input(\"정수입력: \")\n",
    "if user_in.isdigit():      #문자열 내의 모든 문자가 숫자면 True 반환\n",
    "    num_in=int(user_in)\n",
    "    print('원의 반지름:',num_in)\n",
    "else:\n",
    "    print(\"정수를 입력하지 않았습니다.\")"
   ]
  },
  {
   "cell_type": "code",
   "execution_count": 9,
   "id": "ad661c16",
   "metadata": {},
   "outputs": [
    {
     "name": "stdout",
     "output_type": "stream",
     "text": [
      "안녕하세요\n"
     ]
    },
    {
     "ename": "NameError",
     "evalue": "name 'param' is not defined",
     "output_type": "error",
     "traceback": [
      "\u001b[1;31m---------------------------------------------------------------------------\u001b[0m",
      "\u001b[1;31mNameError\u001b[0m                                 Traceback (most recent call last)",
      "\u001b[1;32m~\\AppData\\Local\\Temp\\ipykernel_10780\\54988031.py\u001b[0m in \u001b[0;36m<module>\u001b[1;34m\u001b[0m\n\u001b[0;32m      1\u001b[0m \u001b[0mprint\u001b[0m\u001b[1;33m(\u001b[0m\u001b[1;34m'안녕하세요'\u001b[0m\u001b[1;33m)\u001b[0m\u001b[1;33m\u001b[0m\u001b[1;33m\u001b[0m\u001b[0m\n\u001b[1;32m----> 2\u001b[1;33m \u001b[0mprint\u001b[0m\u001b[1;33m(\u001b[0m\u001b[0mparam\u001b[0m\u001b[1;33m)\u001b[0m\u001b[1;33m\u001b[0m\u001b[1;33m\u001b[0m\u001b[0m\n\u001b[0m",
      "\u001b[1;31mNameError\u001b[0m: name 'param' is not defined"
     ]
    }
   ],
   "source": [
    "print('안녕하세요')\n",
    "print(param)      #NameError 정의되지 않은 변수"
   ]
  },
  {
   "cell_type": "markdown",
   "id": "6e37667a",
   "metadata": {},
   "source": [
    "#### 예외\n",
    "- 프로그램 실행 중 오류가 발생해 더 이상 진행될 수 없는 상태\n",
    "- 예외가 발생해도 프로그램을 중단하지 않고 진행될 수 있게 적절한 예외처리 필요\n",
    "- try ~ except (~ else/ finally) 구문 (문법 오류에는 적용x)"
   ]
  },
  {
   "cell_type": "code",
   "execution_count": 10,
   "id": "6b7d50ae",
   "metadata": {},
   "outputs": [
    {
     "name": "stdout",
     "output_type": "stream",
     "text": [
      "안녕하세요.\n",
      "예외가 발생했습니다.\n"
     ]
    }
   ],
   "source": [
    "try:\n",
    "    print('안녕하세요.')\n",
    "    print(param)\n",
    "except:\n",
    "    print(\"예외가 발생했습니다.\")"
   ]
  },
  {
   "cell_type": "code",
   "execution_count": 11,
   "id": "1be3c258",
   "metadata": {},
   "outputs": [
    {
     "name": "stdout",
     "output_type": "stream",
     "text": [
      "안녕하세요.\n",
      "예외가 발생하지 않았습니다.\n"
     ]
    }
   ],
   "source": [
    "try:                      #try를 실행해서 except나 else 중 하나로 감\n",
    "    print('안녕하세요.')\n",
    "except:                   #구문오류에는 적용x 프로그램 실행중 오류에만 적용o\n",
    "    print(\"예외가 발생했습니다.\")\n",
    "else:\n",
    "    print(\"예외가 발생하지 않았습니다.\")"
   ]
  },
  {
   "cell_type": "code",
   "execution_count": 16,
   "id": "425ff6c6",
   "metadata": {},
   "outputs": [
    {
     "name": "stdout",
     "output_type": "stream",
     "text": [
      "안녕하세요.\n",
      "예외가 발생했습니다.\n",
      "예외와 관련 없이 무조건 실행되는 코드.\n"
     ]
    }
   ],
   "source": [
    "try:                  \n",
    "    print('안녕하세요.')\n",
    "    print(param)\n",
    "except:             \n",
    "    print(\"예외가 발생했습니다.\")\n",
    "finally:\n",
    "    print(\"예외와 관련 없이 무조건 실행되는 코드.\")"
   ]
  },
  {
   "cell_type": "code",
   "execution_count": 20,
   "id": "c84d4a83",
   "metadata": {},
   "outputs": [
    {
     "name": "stdout",
     "output_type": "stream",
     "text": [
      "name 'param' is not defined\n"
     ]
    }
   ],
   "source": [
    "#코드에서 예외발생 내용을 확인하고자 하는 경우\n",
    "try:\n",
    "    print(param)\n",
    "except Exception as f:    # as~ 삭제x\n",
    "    print(f)"
   ]
  },
  {
   "cell_type": "code",
   "execution_count": 23,
   "id": "cc32c2b0",
   "metadata": {},
   "outputs": [
    {
     "name": "stdout",
     "output_type": "stream",
     "text": [
      "1\n",
      "2\n",
      "3\n",
      "4\n",
      "5\n",
      "6\n",
      "7\n",
      "8\n",
      "9\n",
      "사용자에 의해 프로그램이 중단되었습니다.\n"
     ]
    }
   ],
   "source": [
    "import time\n",
    "count=1\n",
    "\n",
    "try:\n",
    "    while True:\n",
    "        print(count)\n",
    "        count+=1\n",
    "        time.sleep(0.5)    #일정 시간동안 프로세스 중지 (0.5초씩 딜레이되게)\n",
    "except KeyboardInterrupt:        #실행(run)중인 프로그램을 내가 중단(stop)\n",
    "    print(\"사용자에 의해 프로그램이 중단되었습니다.\")   #에러가 아닌 이 메세지가 출력"
   ]
  },
  {
   "cell_type": "code",
   "execution_count": 25,
   "id": "b2e95c54",
   "metadata": {},
   "outputs": [
    {
     "name": "stdout",
     "output_type": "stream",
     "text": [
      "['52', '273', '32', '103']\n"
     ]
    }
   ],
   "source": [
    "#리스트에서 숫자만 뽑기\n",
    "\n",
    "listi=['52','273','32','문자','103']\n",
    "listnum=[]\n",
    "\n",
    "for i in listi:\n",
    "    try:            #int형으로 바꿀 수 있으면 listnum에 추가해라\n",
    "        int(i)\n",
    "        listnum.append(i)\n",
    "    except:        #int로 바꿀 수 없는 문자는 pass해라\n",
    "        pass\n",
    "print(listnum)"
   ]
  },
  {
   "cell_type": "code",
   "execution_count": 3,
   "id": "cfffca8d",
   "metadata": {},
   "outputs": [
    {
     "name": "stdout",
     "output_type": "stream",
     "text": [
      "정수 입력: hbgf\n",
      "정수가 아닙니다. 정수를 입력해주세요.\n",
      "정수 입력: 2\n",
      "입력하신 숫자는 '2'입니다.\n"
     ]
    }
   ],
   "source": [
    "#정수를 입력하면 '정수', 아니면 '정수x'를 출력\n",
    "while 1:\n",
    "    try:\n",
    "        num_in=int(input(\"정수 입력: \"))\n",
    "    except:\n",
    "        print(\"정수가 아닙니다. 정수를 입력해주세요.\")\n",
    "    else:\n",
    "        print(\"입력하신 숫자는 '%d'입니다.\"%num_in)\n",
    "        break"
   ]
  },
  {
   "cell_type": "code",
   "execution_count": 6,
   "id": "a07cfc89",
   "metadata": {},
   "outputs": [
    {
     "name": "stdout",
     "output_type": "stream",
     "text": [
      "정수 입력: dwfgs\n",
      "입력하신 문자는 '23'입니다. \n",
      "정수가 아닙니다.\n",
      "\n",
      "프로그램을 종료합니다.\n"
     ]
    }
   ],
   "source": [
    "#정수를 입력하면 '입력 정수' -> 예외 발생하지 않음 -> 프로그램 종료\n",
    "#정수가 아니면 '입력 값' -> 정수 아님 -> 프로그램 종료\n",
    "\n",
    "try:\n",
    "    num_in=int(input(\"정수 입력: \"))    #글자를 넣으면 받기는 받음(단, 오류 발생)\n",
    "except:\n",
    "    print(\"입력하신 문자는 정수가 아닙니다.\")\n",
    "else:\n",
    "    print(\"입력하신 숫자는 '%s'입니다. \\n예외가 발생하지 않았습니다. \"%num_in)\n",
    "finally:\n",
    "    print(\"\\n프로그램을 종료합니다.\")"
   ]
  },
  {
   "cell_type": "code",
   "execution_count": 3,
   "id": "e29d7e2b",
   "metadata": {},
   "outputs": [
    {
     "ename": "SyntaxError",
     "evalue": "invalid syntax (402652765.py, line 7)",
     "output_type": "error",
     "traceback": [
      "\u001b[1;36m  File \u001b[1;32m\"C:\\Users\\h\\AppData\\Local\\Temp\\ipykernel_12888\\402652765.py\"\u001b[1;36m, line \u001b[1;32m7\u001b[0m\n\u001b[1;33m    except:\u001b[0m\n\u001b[1;37m    ^\u001b[0m\n\u001b[1;31mSyntaxError\u001b[0m\u001b[1;31m:\u001b[0m invalid syntax\n"
     ]
    }
   ],
   "source": [
    "arr=['b','i','o','g']\n",
    "\n",
    "try:\n",
    "    print(arr[8])        #값이 존재하지 않는 인덱스\n",
    "except:\n",
    "    print(\"오류가 발생했습니다.\")\n",
    "else:\n",
    "    print(f\"arr[8]의 값은 {arr[8]}입니다.\")\n",
    "finally:\n",
    "    print(\"무조건 실행되는 코드입니다~~\")"
   ]
  },
  {
   "cell_type": "code",
   "execution_count": 13,
   "id": "d2a522e2",
   "metadata": {},
   "outputs": [
    {
     "name": "stdout",
     "output_type": "stream",
     "text": [
      "전화번호를 입력해주세요: 010-7316-0681\n",
      "010 7316 0681\n",
      "전화번호부 입력을 종료합니다.\n"
     ]
    }
   ],
   "source": [
    "try:\n",
    "    num=input(\"전화번호를 입력해주세요: \")\n",
    "    int(num)\n",
    "except:\n",
    "    num=num.replace('-',' ')\n",
    "    print(num)\n",
    "else:\n",
    "    print(num)\n",
    "finally:\n",
    "    print(\"전화번호부 입력을 종료합니다.\")"
   ]
  },
  {
   "cell_type": "code",
   "execution_count": null,
   "id": "23f7c428",
   "metadata": {},
   "outputs": [],
   "source": []
  }
 ],
 "metadata": {
  "kernelspec": {
   "display_name": "Python 3 (ipykernel)",
   "language": "python",
   "name": "python3"
  },
  "language_info": {
   "codemirror_mode": {
    "name": "ipython",
    "version": 3
   },
   "file_extension": ".py",
   "mimetype": "text/x-python",
   "name": "python",
   "nbconvert_exporter": "python",
   "pygments_lexer": "ipython3",
   "version": "3.9.13"
  }
 },
 "nbformat": 4,
 "nbformat_minor": 5
}
