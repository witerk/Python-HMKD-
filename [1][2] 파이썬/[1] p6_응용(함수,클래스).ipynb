{
 "cells": [
  {
   "cell_type": "markdown",
   "id": "d05b9630",
   "metadata": {},
   "source": [
    "## 클래스\n",
    "\n",
    "클래스(class)란 똑같은 무엇인가를 계속해서 만들어 낼 수 있는 설계 도면이고(과자 틀), \n",
    "객체(object)란 클래스로 만든 피조물(과자 틀을 사용해 만든 과자)을 뜻한다.  \n",
    "과자 틀 → 클래스 (class)  \n",
    "과자 틀에 의해서 만들어진 과자 → 객체 (object)\n",
    "\n",
    "- class : 함수 + 변수 모아놓은 것\n",
    "- 오브젝트(object) : 클래스를 써서 만든 것\n",
    "- 오브젝트(object) == 인스턴스(instance)\n",
    "- 클래스를 정의한 후, 그 클래스를 사용해서 데이터 객체(인스턴스)를 만들 수 있다.\n",
    "- 동일한 클래스에 의해 만들어진 각 객체들은 유사한 특징을 공유한다.\n",
    "- 모든 인스턴스에서 메소드(=코드)는 동일하지만, 속성(데이터)는 다르다.\n",
    "  * 메소드 : 코드 \n",
    "  * 속성 : 데이터 \n",
    "  * 인스턴스 : 클래스에 의해 만들어진 데이터 객체\n",
    "  * a = 클래스() 이렇게 만든 a는 객체이다. 그리고 a 객체는 클래스의 인스턴스이다. 즉 인스턴스라는 말은 특정 객체(a)가 어떤 클래스의 객체인지를 관계 위주로 설명할 때 사용"
   ]
  },
  {
   "cell_type": "markdown",
   "id": "67101ae1",
   "metadata": {},
   "source": [
    "#### 객체(object) 개념 정리 ( 신원/타입/속성/메소드/클래스/OOP)\n",
    "- 파이썬 프로그램에서 모든 데이터는 객체(object)라는 개념을 사용하여 저장됩니다.\n",
    "- 가장 기본이 되는 데이터 타입인 숫자, 문자열, 리스트, 사전은 다 객체입니다.\n",
    "- 클래스를 사용해서 사용자 정의 객체를 생성할 수도 있습니다.\n",
    "- 또한 프로그램의 구조와 인터프리터의 내부 동작과 관련된 객체들도 있습니다\n",
    "- 객체(object) : 프로그램에서 저장되는 모든 데이터는 객체입니다. 각 객체는 신원(identity), 타입(클래스라고도 함)과 값을 가집니다.\n",
    "  - 객체의 신원(identity) : 객체가 메모리에 저장된 위치를 가리키는 포인터\n",
    "  - 객체의 타입(클래스) : 객체의 내부적인 표현 형태와 객체가 지원하는 메서드 및 연산들을 설명, 특정 타입의 객체가 생성되면 그 객체를 그 타입의 인스턴스(instance)라고 부른다.\n",
    "  - 객체의 속성(attribute)와 메서드(method) : 속성(attribute)은 객체에 연결된 값이고 메서드(method)는 호출될 때 객체에 대해 특정 연산을 수행하는 함수\n",
    "  \n",
    "https://happy-obok.tistory.com/22"
   ]
  },
  {
   "cell_type": "code",
   "execution_count": null,
   "id": "8e0ed7b8",
   "metadata": {},
   "outputs": [],
   "source": [
    "#클래스\n",
    "\n",
    "class MyClass:\n",
    "    var='hi~'\n",
    "    def sayhello(self):\n",
    "        print(self.var)\n",
    "        \n",
    "obj=MyClass()\n",
    "print(obj.var)\n",
    "print(obj.sayhello())"
   ]
  },
  {
   "cell_type": "code",
   "execution_count": null,
   "id": "4fab0152",
   "metadata": {},
   "outputs": [],
   "source": [
    "#생성자(Constructor)란 객체가 생성될 때 자동으로 호출되는 매서드를 의미\n",
    "#파이썬 메서드 이름으로 __init__을 사용하면 이 메서드는 생성자가 된다\n",
    "\n",
    "#클래스 생성자(인자가 없는 경우)\n",
    "class hmkd:\n",
    "    def __init__(self):\n",
    "        self.var=\"hmkd1\"   #인스턴스 멤버\n",
    "        print(\"hmkd 과정입니다.\")\n",
    "        \n",
    "hh=hmkd()\n",
    "print(hh.var)"
   ]
  },
  {
   "cell_type": "code",
   "execution_count": null,
   "id": "e2f1c699",
   "metadata": {},
   "outputs": [],
   "source": [
    "#클래스 생성자(인자가 있는 경우)\n",
    "class cake:\n",
    "    def __init__(self, name, age, major):\n",
    "        self.name=name\n",
    "        self.age=age\n",
    "        self.major=major\n",
    "        print(f\"{self.name}은 {self.age}세이며 {self.major}을 전공했습니다.\")\n",
    "        \n",
    "a=cake('홍길동',25,'computer')\n",
    "b=cake('홍길순',23,'bussiness')\n",
    "print(a.name)              #변수만 뽑기\n",
    "print(b.major)"
   ]
  },
  {
   "cell_type": "code",
   "execution_count": null,
   "id": "652d54bb",
   "metadata": {},
   "outputs": [],
   "source": [
    "#클래스 소멸자\n",
    "#클래스 인스턴스 객체가 메모리에서 제거될 때 자동으로 호출되는 클래스 메소드\n",
    "\n",
    "class hmkd:\n",
    "    def __del__(self):\n",
    "        print(\"hmkd 인스턴스 객체가 메모리에서 제거됩니다.\")\n",
    "        \n",
    "hh=hmkd()\n",
    "del hh"
   ]
  },
  {
   "cell_type": "markdown",
   "id": "9ff56d67",
   "metadata": {},
   "source": [
    "## 클래스 멤버, 클래스 메소드\n",
    "- 클래스를 구성하는 주요요소는 클래스 멤버(변수)와 클래스 메소드(함수)로 클래스 공간내에서 정의\n",
    "- 클래스 멤버는 클래스 메소드 내에서 정의되는 지역변수나 인스턴스 멤버와는 다름\n",
    "- 클래스 메소드는 첫번째 인자가 반드시 self로 시작\n",
    "- self는 이 클래스의 인스턴스 객체를 가리키는 참조자\n",
    "- 인스턴스 객체에서 클래스 메소드를 호출 시 첫번째 인자인 self 생략"
   ]
  },
  {
   "cell_type": "code",
   "execution_count": null,
   "id": "d14ae1f4",
   "metadata": {},
   "outputs": [],
   "source": [
    "class myclass:\n",
    "    var='안녕하세요'      #클래스 멤버\n",
    "    def sayhello(self):   #클래스 메소드\n",
    "        return self.var    #리턴 대신 글로벌 함수로 선언해서 밖에서 쓸 수도\n",
    "mc=myclass()    #아무것도 안 나옴(생성자가 없어서 기본으로 들어갔는데 뭐 정의된 값이 없음)\n",
    "print(mc.var)\n",
    "print(mc.sayhello())"
   ]
  },
  {
   "cell_type": "code",
   "execution_count": null,
   "id": "2029f2b0",
   "metadata": {},
   "outputs": [],
   "source": [
    "class mycafe:\n",
    "    hi='안녕하세요. 별별카페입니다.'\n",
    "    def __init__(self, tea, cake):   #생성자는 객체 만들때 자동으로 호출\n",
    "        self.tea=tea\n",
    "        self.cake=cake\n",
    "        self.to='포장/매장'        #지역변수, 인스턴스 멤버\n",
    "        print(f\"{self.tea}와 어울리는 추천 메뉴는 {self.cake}입니다.\")\n",
    "        print(f\"{self.to} 중 하나를 선택하실 수 있습니다.\")\n",
    "        \n",
    "    def say(self):   #클래스 메소드\n",
    "        return self.tea\n",
    "\n",
    "a=mycafe('아메리카노','티라미수')\n",
    "print(f\"{a.cake}를 함께 구매하시겠습니까?\")\n",
    "\n",
    "#b=mycafe('카페라떼','딸기케이크')\n",
    "#c=mycafe('밀크쉐이크','감자튀김')"
   ]
  },
  {
   "cell_type": "code",
   "execution_count": null,
   "id": "0762238e",
   "metadata": {},
   "outputs": [],
   "source": [
    "#클래스 멤버와 인스턴스 멤버\n",
    "#클래스 멤버는 클래스 메소드 밖에서 선언되고\n",
    "#인스턴스 멤버는 클래스 메소드 안에서 self와 함께 선언\n",
    "\n",
    "class myclass:\n",
    "    var='안녕하세요.'   #클래스 멤버\n",
    "\n",
    "    def sayhello(self):   #클래스 메소드\n",
    "        param1='안녕'    #지역변수\n",
    "        self.param2='하이'    #인스턴스 멤버\n",
    "        \n",
    "        print(param1)     #함수 안에 있으니 가져올 수 있음\n",
    "        print(self.var,'\\n')   #객체로 하면 가져올 수 있음 \n",
    "        #print(var)    -> 오류발생\n",
    "        \n",
    "hh=myclass()\n",
    "\n",
    "hh.sayhello()\n",
    "print(hh.var)\n",
    "#print(hh.param1)   -> 오류발생 (param2처럼 객체화하지도 않고 지역변수를 사용하려 해서)"
   ]
  },
  {
   "cell_type": "code",
   "execution_count": null,
   "id": "71ce1c43",
   "metadata": {},
   "outputs": [],
   "source": [
    "#클래스 메소드\n",
    "#클래스 내에서 정의되는 클래스 메소드는 첫 번째 인자가 반드시 self여야 함\n",
    "\n",
    "class myclass:\n",
    "    def sayhello(self):\n",
    "        print(\"안녕하세요.\") \n",
    "    def saybye(self,name):\n",
    "        print(f\"{name}! 잘가요, 다음에 또 봐요.\")\n",
    "        \n",
    "hh=myclass()\n",
    "\n",
    "hh.sayhello()\n",
    "hh.saybye('kevin')"
   ]
  },
  {
   "cell_type": "code",
   "execution_count": null,
   "id": "46e07715",
   "metadata": {},
   "outputs": [],
   "source": [
    "class printf:\n",
    "    def __init__(self):\n",
    "        print(\"생성자를 만들었습니다.\")\n",
    "    def sayhello(self):\n",
    "        print(\"안녕하세요.\") \n",
    "    def saybye(self,name):\n",
    "        print(f\"{name}! 잘가요, 다음에 또 봐요.\")\n",
    "        \n",
    "pf=printf()\n",
    "\n",
    "pf.sayhello()\n",
    "pf.saybye('kevin')"
   ]
  },
  {
   "cell_type": "code",
   "execution_count": null,
   "id": "1865a685",
   "metadata": {},
   "outputs": [],
   "source": [
    "#생성자, 객체를 생성하여 출력\n",
    "class printf:\n",
    "    def __init__(self,name):\n",
    "        self.name=name\n",
    "        \n",
    "    def sayhello(self):\n",
    "        print(f\"{self.name}, 안녕하세요.\")\n",
    "        \n",
    "    def saybye(self):\n",
    "        print(f\"{self.name}! 다음에 봐요.\")\n",
    "        \n",
    "pf1=printf('kevin')\n",
    "pf2=printf('Marry')\n",
    "\n",
    "pf1.sayhello()\n",
    "pf1.saybye()\n",
    "\n",
    "pf2.sayhello()\n",
    "pf2.saybye()"
   ]
  },
  {
   "cell_type": "markdown",
   "id": "c73b9502",
   "metadata": {},
   "source": [
    "\n",
    "## 객체 지향 프로그래밍 (Object-Oriented Programming)\n",
    "- 클래스 인스턴스는 객체(object)라고도 하며, 이렇게 클래스를 정의하고 객체를 만드는 패턴을 객체 지향 프로그래밍(OOP)이라고 함\n",
    "- 인스턴스를 불러온다는 건 클래스를 가져와 객체로 바꿔준다는 건데, type() 함수를 사용하는 건 그 반대\n",
    "- 객체의 type을 확인해보면 해당 객체가 어떤 클래스의 인스턴스인지를 확인\n",
    "- 파이썬에서 __main__은 “현재 실행 중인 파일”을 의미"
   ]
  },
  {
   "cell_type": "code",
   "execution_count": 1,
   "id": "c71e0265",
   "metadata": {},
   "outputs": [
    {
     "name": "stdout",
     "output_type": "stream",
     "text": [
      "<class '__main__.test'>\n"
     ]
    }
   ],
   "source": [
    "#임의의 클래스를 작성한 후 인스턴스를 생성하고 그것의 타입을 확인하세요.\n",
    "class test:\n",
    "    pass\n",
    "\n",
    "test=test()\n",
    "print(type(test))    #객체의 타입을 확인하면 클래스가 나옴"
   ]
  },
  {
   "cell_type": "markdown",
   "id": "f699ca36",
   "metadata": {},
   "source": [
    "## 클래스 상속\n",
    "- 어떤 클래스가 가지고 있는 모든 멤버나 메소드를 상속받는 클래스가 모두 사용할 수 있도록 해주는 것. \n",
    "- 상속을 해주는 클래스가 부모클래스(슈퍼), 상속을 받는 클래스가 자식클래스(서브)라 함: class 자식클래스(부모클래스)\n",
    "- 자식클래스는 여러 부모클래스로 부터 상속받을 수 있으며 다중상속이라 함. class 자식클래스(부모클래스1, 부모클래스2,..)\n"
   ]
  },
  {
   "cell_type": "code",
   "execution_count": null,
   "id": "2a34acbf",
   "metadata": {},
   "outputs": [],
   "source": [
    "class sumi:\n",
    "    def sumi(self, n1,n2):\n",
    "        return n1+n2\n",
    "    \n",
    "class mul:\n",
    "    def mul(self,n1,n2):\n",
    "        return n1*n2\n",
    "    \n",
    "class cal(sumi, mul):   #상속\n",
    "    def sub(self, n1,n2):\n",
    "        return n1-n2\n",
    "\n",
    "obj=cal()        #cal클래스(부모)를 불러서 sumi, mul클래스(자식)도 사용 가능\n",
    "print(obj.sumi(1,2))\n",
    "print(obj.mul(3,4))"
   ]
  },
  {
   "cell_type": "code",
   "execution_count": null,
   "id": "e2c8a598",
   "metadata": {},
   "outputs": [],
   "source": [
    "# 사용자 함수를 작성하여 기본가격 1000에 입력 받은 값을 추가한 가격을 산출 (지역변수, 전역변수 2가지 방법) \n",
    "\n",
    "# global 사용\n",
    "class sumi:\n",
    "    global a\n",
    "    def __init__(self):\n",
    "        print(\"기본가격 1000원에 값을 추가합니다.\")\n",
    "    def sum1(self):\n",
    "        print(f\"총 가격은 {1000+a}입니다.\")\n",
    "        \n",
    "a=int(input(\"추가할 가격을 입력해주세요: \"))\n",
    "b=sumi()\n",
    "b.sum1()"
   ]
  },
  {
   "cell_type": "code",
   "execution_count": null,
   "id": "6b037da0",
   "metadata": {},
   "outputs": [],
   "source": [
    "# return 사용\n",
    "class sumi:\n",
    "    def sum1(self):\n",
    "        a=int(input(\"추가할 가격을 입력해주세요: \"))\n",
    "        print(\"기본가격 1000원에 값을 추가합니다.\")\n",
    "        return a\n",
    "    \n",
    "n=sumi()\n",
    "b=n.sum1()\n",
    "print(f\"총 가격은 {1000+b}입니다.\")"
   ]
  },
  {
   "cell_type": "code",
   "execution_count": null,
   "id": "c2cc5293",
   "metadata": {},
   "outputs": [],
   "source": [
    "#임수현님 코드\n",
    "def tplusr():\n",
    "    plus = input(\"추가할 가격을 입력해 주세요.\")\n",
    "    if plus.isdigit():\n",
    "        price = 1000\n",
    "        price+=int(plus)\n",
    "        return price\n",
    "    else:\n",
    "        print(\"숫자를 입력해 주세요.\")\n",
    "        \n",
    "tr = tplusr()\n",
    "print(tr)\n",
    "\n",
    "#=======================================================\n",
    "\n",
    "price = 1000\n",
    "plus = input(\"추가할 가격을 입력해 주세요.\")\n",
    "def tplusg():\n",
    "    global price, plus\n",
    "    if plus.isdigit():\n",
    "        price = price + int(plus)\n",
    "        return(price)\n",
    "    else:\n",
    "        print(\"숫자를 입력해 주세요.\")\n",
    "        \n",
    "tg = tplusg()\n",
    "print(tg)"
   ]
  },
  {
   "cell_type": "code",
   "execution_count": null,
   "id": "60f69720",
   "metadata": {},
   "outputs": [],
   "source": [
    "#기본가격 1000원인 3개의 상품에 대하여 임의의 추가 가격을 인수로 대입시 더한 가격을 산출하세요 (클래스를 이용)\n",
    "\n",
    "class prod:\n",
    "    def plus(self,x,X):\n",
    "        p=int(input(f\"상품 {X}에 추가할 가격을 입력해주세요: \"))\n",
    "        return x+p\n",
    "\n",
    "a,b,c=1000,1000,1000        \n",
    "pd=prod()\n",
    "\n",
    "a=pd.plus(a,'A')\n",
    "b=pd.plus(b,'B')\n",
    "c=pd.plus(c,'C')\n",
    "\n",
    "print(f\"상품 A,B,C의 가격은 각 {a}, {b}, {c}입니다.\")"
   ]
  },
  {
   "cell_type": "code",
   "execution_count": null,
   "id": "0a789454",
   "metadata": {},
   "outputs": [],
   "source": [
    "# 기본가격 1000원인 2개의 상품에 대하여 임의의 추가 가격을 입력시 산출하세요 (class 이용)\n",
    "# - price1 : 기본가격 + 추가가격\n",
    "# - price2 : (기본가격 + 추가가격) * 90% \n",
    "\n",
    "#메소드를 이용한 방법\n",
    "class prod:\n",
    "    def plus(self,x,X):\n",
    "        p=int(input(f\"상품{X}(1,000원)에 추가할 가격을 입력하세요: \"))\n",
    "        return x+p\n",
    "    \n",
    "    def sales(self,x):\n",
    "        return x*0.9\n",
    "\n",
    "a=1000      \n",
    "pd=prod()\n",
    "\n",
    "a=pd.plus(a,'A')\n",
    "print(f\"상품A의 가격은 {a}입니다.\")\n",
    "a=pd.sales(a)\n",
    "print(f\"상품A의 세일가격은 {int(a)}입니다.\\n\")"
   ]
  },
  {
   "cell_type": "code",
   "execution_count": null,
   "id": "0aab0270",
   "metadata": {},
   "outputs": [],
   "source": [
    "#생성자를 이용한 방법\n",
    "class PlusPrice2:\n",
    "    def __init__(self, plus):\n",
    "        self.price1 = 1000+plus\n",
    "        self.price2 = (1000+plus)*0.9\n",
    "        \n",
    "a = int(input(\"상품에 대한 추가가격: \"))\n",
    "\n",
    "result = PlusPrice2(a)\n",
    "print(f\"-상품 가격 : {result.price1}\")\n",
    "print(f\"-세일가 : {result.price2 :.0f}\")"
   ]
  },
  {
   "cell_type": "code",
   "execution_count": 2,
   "id": "e14a381a",
   "metadata": {},
   "outputs": [
    {
     "name": "stdout",
     "output_type": "stream",
     "text": [
      "1번째 숫자를 입력해주세요: 8\n",
      "2번째 숫자를 입력해주세요: 5\n",
      "\n",
      "덧셈: 13\n",
      "뺄셈: 3\n",
      "곱셈: 40\n",
      "나눗셈: 1.6\n"
     ]
    }
   ],
   "source": [
    "# 4칙 연산 기능을 포함한 Cal4 클래스(생성자 이용)를 작성하고 이 클래스를 이용하여 cal 계산기 객체를 \n",
    "# 만든 후 두개의 수 1000, 200에 대한 사칙연산을 수행하세요.\n",
    "num=[]\n",
    "class cal4:\n",
    "    def __init__(self,a,b):\n",
    "        self.a=a\n",
    "        self.b=b\n",
    "    \n",
    "    def plus(self):\n",
    "        return self.a+self.b\n",
    "    \n",
    "    def minu(self):\n",
    "        return self.a-self.b\n",
    "        \n",
    "    def mul(self):\n",
    "        return self.a*self.b\n",
    "    \n",
    "    def div(self):\n",
    "        return self.a/self.b\n",
    "\n",
    "for i in range(2):\n",
    "    while True:\n",
    "        try:\n",
    "            n=int(input(f\"{i+1}번째 숫자를 입력해주세요: \"))\n",
    "            if n==0:\n",
    "                print(\"0은 입력할 수 없습니다.\")\n",
    "            else:\n",
    "                num.append(n)\n",
    "                break\n",
    "        except:\n",
    "            print(\"정수를 입력해주세요.\")\n",
    "        \n",
    "c=cal4(num[0],num[1])\n",
    "\n",
    "print(f\"\\n덧셈: {c.plus()}\")\n",
    "print(f\"뺄셈: {c.minu()}\")\n",
    "print(f\"곱셈: {c.mul()}\")\n",
    "print(f\"나눗셈: {c.div():0.1f}\")"
   ]
  },
  {
   "cell_type": "code",
   "execution_count": null,
   "id": "c25fee94",
   "metadata": {},
   "outputs": [],
   "source": [
    "class Cal4:\n",
    "    def __init__(self, num1, num2):\n",
    "        self.num1 = num1\n",
    "        self.num2 = num2\n",
    "    \n",
    "    def add(self):\n",
    "        return self.num1 + self.num2\n",
    "    def sub(self):\n",
    "        return self.num1 - self.num2\n",
    "    def mul(self):\n",
    "        return self.num1 * self.num2\n",
    "    def div(self):\n",
    "        return self.num1 / self.num2\n",
    "    \n",
    "cal = Cal4(1000, 200)\n",
    "print(f'덧셈: {cal.add()}')\n",
    "print(f'뺄셈: {cal.sub()}')\n",
    "print(f'곱셈: {cal.mul()}')\n",
    "print(f'나눗셈: {cal.div()}')"
   ]
  },
  {
   "cell_type": "code",
   "execution_count": null,
   "id": "8b19581c",
   "metadata": {},
   "outputs": [],
   "source": [
    "#생성자 사용\n",
    "class cal:\n",
    "    def __init__(self,a,b):\n",
    "        self.plus1 = a+b\n",
    "        self.minus1 = a-b\n",
    "        self.display1 = a*b\n",
    "        if b != 0:\n",
    "            self.division1 =a/b \n",
    "        else:\n",
    "            self.division1 = \"분모가 0입니다.\"\n",
    "    def plus(self):\n",
    "        return self.plus1\n",
    "    def minus(self):\n",
    "        return self.minus1\n",
    "    def display(self):\n",
    "        return self.display1\n",
    "    def division(self):\n",
    "        return self.division1\n",
    "\n",
    "c=cal(100,200)\n",
    "print(c.plus())\n",
    "print(c.minus())\n",
    "print(c.display())\n",
    "print(c.division())"
   ]
  },
  {
   "cell_type": "code",
   "execution_count": null,
   "id": "7e371cda",
   "metadata": {},
   "outputs": [],
   "source": [
    "#업무미팅 시간 자동발송 메일\n",
    "\n",
    "class AutoEmail:\n",
    "    def __init__(self, name, time):\n",
    "        self.name = name\n",
    "        self.time = time\n",
    "    def send(self):\n",
    "        print(f\"안녕하세요 {self.name}님, 업무미팅은 {self.time}시입니다.\")\n",
    "        \n",
    "        \n",
    "run = AutoEmail(\"Kevin\",2)\n",
    "run.send()"
   ]
  },
  {
   "cell_type": "code",
   "execution_count": 2,
   "id": "4b6226b3",
   "metadata": {},
   "outputs": [
    {
     "name": "stdout",
     "output_type": "stream",
     "text": [
      "1\n",
      "1 honux\n",
      "2\n",
      "2 crong\n",
      "2 2 2\n"
     ]
    }
   ],
   "source": [
    "#인슨턴스 변수\n",
    "class user:\n",
    "    num_users=0      #클래스 변수\n",
    "    def __init__(self,name):\n",
    "        self.name=name     #인스턴스 변수\n",
    "        user.num_users+=1\n",
    "        print(user.num_users)\n",
    "\n",
    "u=user('honux')\n",
    "print(user.num_users, u.name)\n",
    "\n",
    "u2=user('crong')\n",
    "print(user.num_users, u2.name)\n",
    "\n",
    "print(user.num_users, u.num_users, u2.num_users)"
   ]
  },
  {
   "cell_type": "markdown",
   "id": "b1021d64",
   "metadata": {},
   "source": [
    "## 연산자 오버로딩\n",
    "\n",
    "파이썬에서는 연산자 오버로딩(Operator Overloading)을 지원합니다. 이는 사용자 정의 객체에 대해 내장 연산자를 사용할 수 있게 해주는 기능입니다.\n",
    "\n",
    "예를 들어, 두 개의 객체를 더하는 경우 + 연산자를 사용합니다. 이때, 더하기 연산자는 내부적으로 __add__() 메소드를 호출합니다. 따라서, 클래스 내에 __add__() 메소드를 정의하여 객체 간 덧셈을 구현할 수 있습니다.\n",
    "\n",
    "- 연산자를 객체끼리 사용할 수 있게 하는 기법\n",
    "- $+$ 연산자를 객체에 사용하면 __add__ 라는 함수가 호출됨(* __mul__)\n",
    "\n",
    "https://planbs.tistory.com/entry/Python-%EC%97%B0%EC%82%B0%EC%9E%90-%EC%98%A4%EB%B2%84%EB%A1%9C%EB%94%A9"
   ]
  },
  {
   "cell_type": "markdown",
   "id": "62449229",
   "metadata": {},
   "source": [
    "- 어떤 값에 대해 ‘+’, ‘-‘, ‘*=’, ‘>>’ 등의 연산자를 취하는 것은 내부적으로 \n",
    "-‘__add__’, ‘__sub__’, ‘__imul__’, ‘__rshift__’ 메소드를 실행하는 것과 동일\n",
    "- 3 + 5  # 내부적으로 (3).__add__(5)를 실행"
   ]
  },
  {
   "cell_type": "code",
   "execution_count": 3,
   "id": "bd84c8ca",
   "metadata": {},
   "outputs": [
    {
     "name": "stdout",
     "output_type": "stream",
     "text": [
      "8\n",
      "8\n"
     ]
    }
   ],
   "source": [
    "# +’, ‘-‘, ‘*=’, ‘>>’ 등의 연산자\n",
    "#'__add__’,'__sub__’,'__imul__’,'__rshift__’ 내부적으로 메소드를 실행하는 것과 동일\n",
    "\n",
    "\n",
    "print(3+5)\n",
    "print((3).__add__(5))"
   ]
  },
  {
   "cell_type": "code",
   "execution_count": 8,
   "id": "d44ef555",
   "metadata": {},
   "outputs": [
    {
     "name": "stdout",
     "output_type": "stream",
     "text": [
      "이몽룡, 성춘향 사랑에 빠졌네.\n",
      "이몽룡, 성춘향 결혼했네.\n"
     ]
    }
   ],
   "source": [
    "#연산자 오버로딩: 연산자를 객체끼리 사용할 수 있게 하는 기법\n",
    "# '+'연산자를 객체에 사용하면 __add__라는 함수가 호출됨(*__mul__)\n",
    "\n",
    "#연산자 오버로딩을 이용해 출력\n",
    "class houselee:\n",
    "    lastname='이'\n",
    "    \n",
    "    def __init__(self, name):\n",
    "        self.fullname = self.lastname + name\n",
    "        \n",
    "    def travel(self, where):\n",
    "        print(f\"{self.fullname}, {where} 여행을 가다.\")\n",
    "    def love(self, other):\n",
    "        print(f\"{self.fullname}, {other.fullname} 사랑에 빠졌네.\")\n",
    "    def __add__(self, other):\n",
    "        print(f\"{self.fullname}, {other.fullname} 결혼했네.\")\n",
    "        \n",
    "class housesung(houselee):    #houselee를 상속받아 그 안에 있는 것들을 쓸 수 있음\n",
    "    lastname='성'\n",
    "    \n",
    "    def travel(self, where, day):\n",
    "        print(f\"{self.fullname}, {where} 여행 {day}일 가네.\")\n",
    "\n",
    "mr=houselee('몽룡')\n",
    "ch=housesung('춘향')     #부모 클래스의 init 자동 호출 '성 + 춘향'\n",
    "\n",
    "mr.love(ch)\n",
    "mr+ch     # '+'를 쓰면 자동으로 __add__ 함수 호출"
   ]
  },
  {
   "cell_type": "code",
   "execution_count": 10,
   "id": "a37fd9b2",
   "metadata": {},
   "outputs": [
    {
     "name": "stdout",
     "output_type": "stream",
     "text": [
      "x: 5, y: 7, z: 9\n"
     ]
    }
   ],
   "source": [
    "#내장된 특수한 함수와 변수를 나타낸다\n",
    "# init은 클래스의 생성자 함수이며, add 함수는 연산자 오버로드용으로 사용\n",
    "\n",
    "class vector:\n",
    "    def __init__(self, x,y,z):    #값 초기화만\n",
    "        self.x=x\n",
    "        self.y=y\n",
    "        self.z=z\n",
    "        \n",
    "    def __add__(self, other):     #각 값 더하기\n",
    "        x_= self.x + other.x\n",
    "        y_= self.y + other.y\n",
    "        z_= self.z + other.z\n",
    "        return vector(x_,y_,z_)\n",
    "    \n",
    "    def show(self):     #출력만\n",
    "        print(f'x: {self.x}, y: {self.y}, z: {self.z}')\n",
    "        \n",
    "v1=vector(1,2,3)\n",
    "v2=vector(4,5,6)\n",
    "v3=v1+v2\n",
    "v3.show()"
   ]
  },
  {
   "cell_type": "markdown",
   "id": "4d7e3e8a",
   "metadata": {},
   "source": [
    "## 메소드 오버라이딩\n",
    "파이썬에서 메소드 오버라이딩(overriding)은 자식 클래스(subclass)에서 부모 클래스(parent class)의 메소드를 재정의하는 것입니다. 자식 클래스에서 부모 클래스와 같은 이름과 파라미터를 가지는 메소드를 정의하면, 그 메소드는 부모 클래스의 메소드를 오버라이드합니다.\n",
    "- = 덮어쓰기"
   ]
  },
  {
   "cell_type": "code",
   "execution_count": 15,
   "id": "9d55a2b2",
   "metadata": {},
   "outputs": [
    {
     "name": "stdout",
     "output_type": "stream",
     "text": [
      "1000\n",
      "1000원\n"
     ]
    }
   ],
   "source": [
    "# order 클래스를 상속받아 extra 클래스에서 메소드 오버라이딩 하여\n",
    "# 출력가격에 원이 추가되도록 출력\n",
    "\n",
    "class Order:\n",
    "    def __init__(self, name):\n",
    "        self.customer=0\n",
    "        self.name=name\n",
    "    def order(self, price):\n",
    "        self.customer +=price\n",
    "        return str(self.customer)\n",
    "    \n",
    "class extra(Order):\n",
    "    def order(self,price):    #상속받아 재정의 (오버라이딩 = 덮어쓰기)\n",
    "        self.customer+=price\n",
    "        return str(self.customer)+'원'\n",
    "        \n",
    "    \n",
    "ord=Order('NA')\n",
    "print(ord.order(1000))\n",
    "\n",
    "eo=extra('NA')\n",
    "print(eo.order(1000))"
   ]
  },
  {
   "cell_type": "code",
   "execution_count": 25,
   "id": "1c92a4c8",
   "metadata": {},
   "outputs": [
    {
     "name": "stdout",
     "output_type": "stream",
     "text": [
      "동물이 소리를 냅니다.\n",
      "동물이 소리를 냅니다. 멍멍!\n",
      "동물이 소리를 냅니다. 야옹~\n"
     ]
    }
   ],
   "source": [
    "# 부모 클래스 animal에서 speak메소드 정의\n",
    "# 자식 클래스 dog와 cat에서 메소드 오버라이드, 각각 다른 메세지를 출력\n",
    "\n",
    "class animal:\n",
    "    def speak(self):\n",
    "        a=\"동물이 소리를 냅니다.\"\n",
    "        return a\n",
    "        \n",
    "class dog(animal):\n",
    "    def speak(self):\n",
    "        a=\"동물이 소리를 냅니다.\"\n",
    "        return a+' 멍멍!'\n",
    "    \n",
    "class cat(animal):\n",
    "    def speak(self):\n",
    "        a=\"동물이 소리를 냅니다.\"\n",
    "        return a+' 야옹~'\n",
    "\n",
    "an=animal()\n",
    "print(an.speak())\n",
    "\n",
    "d=dog()\n",
    "print(d.speak())\n",
    "\n",
    "c=cat()\n",
    "print(c.speak())"
   ]
  },
  {
   "cell_type": "code",
   "execution_count": 27,
   "id": "f396f3ae",
   "metadata": {},
   "outputs": [
    {
     "name": "stdout",
     "output_type": "stream",
     "text": [
      "동물이 소리를 냅니다.\n",
      "동물이 멍멍 소리를 냅니다.\n",
      "동물이 야옹 소리를 냅니다.\n"
     ]
    }
   ],
   "source": [
    "#임수현님 코드\n",
    "\n",
    "class Animal:\n",
    "    def speak(self):\n",
    "        print(\"동물이 소리를 냅니다.\")\n",
    "        \n",
    "class Dog(Animal):\n",
    "    def speak(self):\n",
    "        print(\"동물이 멍멍 소리를 냅니다.\")\n",
    "\n",
    "class Cat(Animal):\n",
    "    def speak(self):\n",
    "        print(\"동물이 야옹 소리를 냅니다.\")\n",
    "        \n",
    "        \n",
    "ani = Animal()\n",
    "\n",
    "ani.speak()      #이렇게 호출해도 되고\n",
    "dog = Dog().speak()    #이렇게 해도 됨\n",
    "cat = Cat().speak()"
   ]
  },
  {
   "cell_type": "code",
   "execution_count": 30,
   "id": "250d127b",
   "metadata": {},
   "outputs": [
    {
     "name": "stdout",
     "output_type": "stream",
     "text": [
      "박보검은(는) 배우입니다.\n",
      "아이유은(는) 가수입니다.\n"
     ]
    }
   ],
   "source": [
    "class actor:\n",
    "    def who(self, person):\n",
    "        print(f\"{person}은(는) 배우입니다.\")\n",
    "        \n",
    "class singer(actor):\n",
    "    def who(self, person):\n",
    "        print(f\"{person}은(는) 가수입니다.\")\n",
    "        \n",
    "a=actor().who('박보검')\n",
    "s=singer().who('아이유')"
   ]
  },
  {
   "cell_type": "code",
   "execution_count": 34,
   "id": "f1de95c9",
   "metadata": {},
   "outputs": [
    {
     "name": "stdout",
     "output_type": "stream",
     "text": [
      "숫자를 입력해주세요: 2.3\n",
      "정수를 입력해주세요.\n",
      "숫자를 입력해주세요: g\n",
      "정수를 입력해주세요.\n",
      "숫자를 입력해주세요: sa\n",
      "정수를 입력해주세요.\n",
      "숫자를 입력해주세요: 66\n",
      "66은(는) 짝수입니다.\n"
     ]
    }
   ],
   "source": [
    "class dou:\n",
    "    def qu(self, num):\n",
    "        print(f\"{num}은(는) 짝수입니다.\")\n",
    "        \n",
    "class sin(dou):\n",
    "    def qu(self, num):\n",
    "        print(f\"{num}은(는) 홀수입니다.\")\n",
    "\n",
    "while True:\n",
    "    try:\n",
    "        num=int(input(\"숫자를 입력해주세요: \"))\n",
    "        if num%2==0:\n",
    "            a=dou().qu(num)\n",
    "        else:\n",
    "            b=sin().qu(num)\n",
    "        break\n",
    "    except:\n",
    "        print(\"정수만 입력해주세요.\")"
   ]
  },
  {
   "cell_type": "code",
   "execution_count": 45,
   "id": "693bc247",
   "metadata": {},
   "outputs": [
    {
     "name": "stdout",
     "output_type": "stream",
     "text": [
      "이몽룡은 부산 클럽에 놀러간다.\n",
      "성춘향도 우연히 3일 동안 부산 클럽에 놀러 간다.\n",
      "이몽룡과 성춘향은 썸을 탄다.\n",
      "일정 때문에 각자 서울로 돌아간다.\n",
      "1년 뒤 강남 클럽에서 둘은 우연히 재회를 한다.\n",
      "연인이 된다.\n"
     ]
    }
   ],
   "source": [
    "# (과제) 두 클래스 및 연산자 오버로딩을 사용해 출력\n",
    "\n",
    "class houselee:\n",
    "    lastname='이'\n",
    "    def __init__(self, name):\n",
    "        self.fullname = self.lastname + name\n",
    "        \n",
    "    def travel(self, where):\n",
    "        print(f\"{self.fullname}은 {where}에 놀러간다.\")\n",
    "        \n",
    "    def comeback(self, where):\n",
    "        print(f\"일정 때문에 각자 {where}로 돌아간다.\")\n",
    "        \n",
    "    def __add__(self, other):\n",
    "        print(f\"{self.fullname}과 {other.fullname}은 썸을 탄다.\")\n",
    "        \n",
    "    def re(self, where):\n",
    "        print(f\"1년 뒤 {where}에서 둘은 우연히 재회를 한다.\")\n",
    "        \n",
    "    def love(self):\n",
    "        print(\"연인이 된다.\")\n",
    "        \n",
    "class housesung(houselee):    #houselee를 상속받아 그 안에 있는 것들을 쓸 수 있음\n",
    "    lastname='성'\n",
    "    \n",
    "    def travel(self, where, day):\n",
    "        print(f\"{self.fullname}도 우연히 {day}일 동안 {where}에 놀러 간다.\")\n",
    "\n",
    "mr=houselee('몽룡')\n",
    "ch=housesung('춘향')\n",
    "\n",
    "mr.travel('부산 클럽')\n",
    "ch.travel('부산 클럽',3)\n",
    "mr+ch\n",
    "ch.comeback('서울')     #mr.comeback('서울')로 써도 똑같음(재정의x)\n",
    "mr.re('강남 클럽')\n",
    "mr.love()"
   ]
  },
  {
   "cell_type": "code",
   "execution_count": 1,
   "id": "56a911a2",
   "metadata": {},
   "outputs": [
    {
     "name": "stdout",
     "output_type": "stream",
     "text": [
      "이몽룡은 부산 클럽에 놀러 간다. \n",
      "성춘향도 우연히 3일 동안 부산 클럽에 놀러 간다.\n",
      "이몽룡, 성춘향 둘은 썸을 탄다.\n",
      "일정 때문에 각자 서울로 돌아간다.\n",
      "1년 뒤, 강남 클럽에서 둘은 우연히 재회를 한다.\n",
      "이몽룡, 성춘향 둘은 연인이 된다.\n"
     ]
    }
   ],
   "source": [
    "#임수현님 코드\n",
    "\n",
    "class HouseLee:\n",
    "    lastname = '이'\n",
    "    def __init__(self, name):\n",
    "        self.fullname = self.lastname + name\n",
    "    def travel(self, where):\n",
    "        print(f\"{self.fullname}은 {where}에 놀러 간다. \")\n",
    "    def love(self, other):\n",
    "        print(f\"{self.fullname}, {other.fullname} 둘은 썸을 탄다.\")\n",
    "    def back(self):\n",
    "        print(\"일정 때문에 각자 서울로 돌아간다.\")\n",
    "    def meet(self,when,where):\n",
    "        print(f\"{when}년 뒤, {where}에서 둘은 우연히 재회를 한다.\")\n",
    "    def __add__(self, other):\n",
    "        print(f\"{self.fullname}, {other.fullname} 둘은 연인이 된다.\")\n",
    "        \n",
    "class HouseSung(HouseLee):\n",
    "    lastname = \"성\"\n",
    "    def travel(self, where, day):\n",
    "        print(f\"{self.fullname}도 우연히 {day}일 동안 {where}에 놀러 간다.\")\n",
    "        \n",
    "mr = HouseLee(\"몽룡\")\n",
    "ch = HouseSung(\"춘향\")\n",
    "\n",
    "\n",
    "mr.travel(\"부산 클럽\")\n",
    "ch.travel(\"부산 클럽\",3)\n",
    "mr.love(ch)\n",
    "mr.back()\n",
    "mr.meet(1,\"강남 클럽\")\n",
    "mr + ch"
   ]
  },
  {
   "cell_type": "code",
   "execution_count": 15,
   "id": "b18959bd",
   "metadata": {},
   "outputs": [
    {
     "name": "stdout",
     "output_type": "stream",
     "text": [
      "공부를 합니다.\n",
      "공부를 합니다.\n",
      "학생을 가르칩니다.\n",
      "공부를 합니다.\n",
      "공부를 합니다.\n"
     ]
    }
   ],
   "source": [
    "class student:\n",
    "    def study(self):\n",
    "        print(\"공부를 합니다.\")\n",
    "        \n",
    "class teacher:\n",
    "    def teach(self):\n",
    "        print(\"학생을 가르칩니다.\")\n",
    "        \n",
    "classroom = [student(), student(), teacher(), student(), student()]       #객체리스트\n",
    "\n",
    "for person in classroom:      #반복문을 이용해 적절한 함수를 호출\n",
    "    if isinstance(person, student):     #객체가 '있으면' 참을 반환(다른게 함께 있어도ok)\n",
    "        person.study()\n",
    "    elif isinstance(person, teacher):\n",
    "        person.teach()"
   ]
  },
  {
   "cell_type": "code",
   "execution_count": 19,
   "id": "49e5aa28",
   "metadata": {},
   "outputs": [
    {
     "name": "stdout",
     "output_type": "stream",
     "text": [
      "이름을 입력해주세요: 김나영\n",
      "국어, 수학, 영어, 과학 점수를 순서대로 입력해주세요(콤마로 구분): 78,98,56,43\n",
      "{'name': '김나영', 'korean': '78', 'math': '98', 'english': '56', 'science': '43'}\n"
     ]
    }
   ],
   "source": [
    "class grade:\n",
    "    def dic(self, name, gli):\n",
    "        mydic={'name':name, 'korean':gli[0], 'math':gli[1], 'english':gli[2], 'science':gli[3]}\n",
    "        return mydic\n",
    "####################################################################\n",
    "grade=grade()  \n",
    "\n",
    "name=input(\"이름을 입력해주세요: \")\n",
    "g=input(\"국어, 수학, 영어, 과학 점수를 순서대로 입력해주세요(콤마로 구분): \")\n",
    "g=g.replace(' ','').split(',')\n",
    "\n",
    "my1=grade.dic(name, g)\n",
    "print(my1)"
   ]
  },
  {
   "cell_type": "code",
   "execution_count": 41,
   "id": "8f3aa259",
   "metadata": {},
   "outputs": [
    {
     "name": "stdout",
     "output_type": "stream",
     "text": [
      "{'name': '강감찬', 'korean': 87, 'math': 98, 'english': 88, 'science': 95}\n",
      "{'name': '이순신', 'korean': 92, 'math': 98, 'english': 96, 'science': 98}\n",
      "{'name': '김유신', 'korean': 76, 'math': 96, 'english': 94, 'science': 90}\n",
      "{'name': '김홍도', 'korean': 98, 'math': 92, 'english': 96, 'science': 92}\n",
      "{'name': '이태백', 'korean': 95, 'math': 98, 'english': 98, 'science': 98}\n",
      "{'name': '임꺽정', 'korean': 64, 'math': 88, 'english': 92, 'science': 92}\n",
      "이름\t총점\t평균\n",
      "강감찬\t368\t92.0\n",
      "이순신\t384\t96.0\n",
      "김유신\t356\t89.0\n",
      "김홍도\t378\t94.5\n",
      "이태백\t389\t97.25\n",
      "임꺽정\t336\t84.0\n"
     ]
    }
   ],
   "source": [
    "class grade:\n",
    "    def dic(self, li):\n",
    "        mydic={'name':li[0], 'korean':li[1], 'math':li[2], 'english':li[3], 'science':li[4]}\n",
    "        return mydic\n",
    "    \n",
    "    def printf(self, listd):\n",
    "        print(\"이름\",\"총점\",\"평균\",sep='\\t')\n",
    "        for i in listd:\n",
    "            print(f\"{i['name']}\",f\"{i['korean']+i['math']+i['english']+i['science']}\",f\"{(i['korean']+i['math']+i['english']+i['science'])/4}\", sep='\\t')\n",
    "####################################################################\n",
    "li=[[\"강감찬\", 87, 98, 88, 95],[\"이순신\", 92, 98, 96, 98],[\"김유신\", 76, 96, 94, 90], [\"김홍도\", 98, 92, 96, 92], [\"이태백\", 95, 98, 98, 98], [\"임꺽정\", 64, 88, 92, 92]]\n",
    "grade=grade()\n",
    "mylist=[]\n",
    "\n",
    "for i in li:           #딕셔너리에 대입\n",
    "    mylist.append(grade.dic(i))\n",
    "    \n",
    "for i in mylist:     #딕셔너리만 보고 싶으면\n",
    "    print(i)\n",
    "    \n",
    "grade.printf(mylist)     #이름, 총점, 평균 별 출력"
   ]
  },
  {
   "cell_type": "code",
   "execution_count": 26,
   "id": "084b7eb6",
   "metadata": {},
   "outputs": [
    {
     "name": "stdout",
     "output_type": "stream",
     "text": [
      "첫 번째 숫자를 입력해주세요: 3\n",
      "두 번재 숫자를 입력해주세요: 9\n",
      "두 수의 합: 12\n"
     ]
    }
   ],
   "source": [
    "#####모듈 파일 생성해놓고 밖에서 가져와(import) 쓰기#####\n",
    "#매우 유용!!!!\n",
    "\n",
    "with open('mymodule.py','w') as f:\n",
    "    f.write(\"\"\"\n",
    "class calcul:\n",
    "    def add(self, a,b):\n",
    "        return a+b\n",
    "\"\"\")\n",
    "    \n",
    "# with open('mymodule.py','r') as f:            #그냥 잘 써졌는지 확인용\n",
    "#     data=f.read()\n",
    "#     print(data)\n",
    "\n",
    "#################################################\n",
    "\n",
    "from mymodule import calcul\n",
    "ad=calcul()\n",
    "\n",
    "a=int(input(\"첫 번째 숫자를 입력해주세요: \"))\n",
    "b=int(input(\"두 번재 숫자를 입력해주세요: \"))\n",
    "print(f\"두 수의 합: {ad.add(a,b)}\")"
   ]
  },
  {
   "cell_type": "code",
   "execution_count": null,
   "id": "a6316ebe",
   "metadata": {},
   "outputs": [],
   "source": [
    "#손아 언니 코드\n",
    "\n",
    "with open('mymodule.py','w',encoding='utf-8')as f:\n",
    "    f.write(\n",
    "'''\n",
    "class calculator:\n",
    "    def __init__(self):\n",
    "        self.a=int(input())\n",
    "        self.b=int(input())\n",
    "        \n",
    "    def add(self):\n",
    "        return self.a+self.b\n",
    "''')\n",
    "###########################################\n",
    "from mymodule import calculator\n",
    "\n",
    "cal=calculator()\n",
    "print('덧셈 :',cal.add())"
   ]
  },
  {
   "cell_type": "code",
   "execution_count": 27,
   "id": "a0ea1dd4",
   "metadata": {},
   "outputs": [
    {
     "name": "stdout",
     "output_type": "stream",
     "text": [
      "더하기: 9\n",
      "빼기: -3\n",
      "곱하기: 18\n",
      "나누기: 0.5\n"
     ]
    }
   ],
   "source": [
    "with open('mymodule.py','w') as f:\n",
    "    f.write(\"\"\"\n",
    "class calcul:\n",
    "    def add(self, a,b):\n",
    "        return a+b\n",
    "        \n",
    "    def minu(self, a,b):\n",
    "        return a-b\n",
    "        \n",
    "    def mul(self, a,b):\n",
    "        return a*b\n",
    "    \n",
    "    def div(self, a,b):\n",
    "        return a/b\n",
    "\"\"\")\n",
    "    \n",
    "# with open('mymodule.py','r') as f:      #그냥 잘 써졌는지 확인용\n",
    "#     data=f.read()\n",
    "#     print(data)\n",
    "\n",
    "################################################\n",
    "\n",
    "from mymodule import calcul\n",
    "cal=calcul()\n",
    "\n",
    "print(f\"더하기: {cal.add(3,6)}\")\n",
    "print(f\"빼기: {cal.minu(3,6)}\")\n",
    "print(f\"곱하기: {cal.mul(3,6)}\")\n",
    "print(f\"나누기: {cal.div(3,6)}\")"
   ]
  },
  {
   "cell_type": "code",
   "execution_count": null,
   "id": "4c1ace05",
   "metadata": {},
   "outputs": [],
   "source": [
    "# 사용자 함수 5개 이상을 사용하는 프로그램 작성 후 클래스로 묶기\n",
    "# 생성자 사용 미사용 2가지 버전으로 만들기"
   ]
  },
  {
   "cell_type": "code",
   "execution_count": null,
   "id": "10b8f0bc",
   "metadata": {},
   "outputs": [],
   "source": [
    "# 장부 프로그램\n",
    "# 1. 입출금 입력\n",
    "# 2. 내역 삭제\n",
    "# 3. 내역 보여주기 (+입금 합계, 출금 합계, 최종 금액)\n",
    "# 4. 파일로 저장\n",
    "# 5. 날짜별 조회"
   ]
  },
  {
   "cell_type": "code",
   "execution_count": null,
   "id": "ac57629f",
   "metadata": {},
   "outputs": [],
   "source": [
    "class money:\n",
    "    def __init__(self, ind, outd):\n",
    "        self.ind=ind\n",
    "        self.outd=outd\n",
    "        \n",
    "    def allshow(self):\n",
    "        print(\"전체 입출금 내역입니다.\")\n",
    "        \n",
    "        print(\"================입금================\")\n",
    "        print('날짜','금액','내역',sep='\\t')\n",
    "        for i in self.ind[1:]:\n",
    "            a=i.split(' ')\n",
    "            print(f\"{a[0]}\",f\"{a[1]}원\",f\"{a[2]}\",sep='\\t')\n",
    "            \n",
    "        print(\"================출금================\")\n",
    "        print('날짜','금액','내역',sep='\\t')\n",
    "        for i in self.outd[1:]:\n",
    "            a=i.split(' ')\n",
    "            print(f\"{a[0]}\",f\"{a[1]}원\",f\"{a[2]}\",sep='\\t')\n",
    "        \n",
    "    def add(self):\n",
    "        print(\"항목 추가를 선택하셨습니다. 입금 혹은 출금 항목을 추가하실 수 있습니다.\")\n",
    "        sel=input(\"(1)입금 or (2)출금 중 어느 것을 추가하시겠습니까?\")\n",
    "        inm=input(\"날짜(년도는 2자리만), 금액, 내역을 공백을 기준으로 입력해주세요(ex. 230322 66,000 해피아울렛_화이트데이): \")\n",
    "           \n",
    "        if sel=='1' or sel=='입금':\n",
    "            self.ind.append(inm)\n",
    "            \n",
    "        elif sel=='2' or sel=='출금':\n",
    "            self.outd.append(inm)\n",
    "            \n",
    "    def remv(self):\n",
    "        print(\"항목 삭제를 선택하셨습니다. 입금 혹은 출금 항목을 삭제하실 수 있습니다.\")\n",
    "        sel=input(\"(1)입금 or (2)출금 중 어느 것을 삭제하시겠습니까?\\n\")\n",
    "        \n",
    "        if sel=='1' or sel=='입금':\n",
    "            print(\"================입금================\")\n",
    "            print(' ','날짜','금액','내역',sep='\\t')\n",
    "            for i in range(1,len(self.ind)+1):\n",
    "                a=i.split(' ')\n",
    "                print(f\"{i}) {a[0]}\",f\"{a[1]}원\",f\"{a[2]}\",sep='\\t')\n",
    "            print(\"====================================\")\n",
    "            \n",
    "            while:\n",
    "                try:\n",
    "                    sel2=int(input(\"다음 중 몇 번 항목을 삭제하시겠습니까?\"))\n",
    "                    del(self.ind[sel2])\n",
    "                    print(f\"{sel2}번째 항목 삭제가 완료되었습니다. 메인으로 돌아갑니다.\\n\")\n",
    "                    break\n",
    "                except:\n",
    "                    print(\"해당하는 항목의 '번호'를 정확히 입력해주세요.\")\n",
    "            \n",
    "        elif sel=='2' or sel=='출금':\n",
    "            print(\"================출금================\")\n",
    "            print(' ', '날짜','금액','내역',sep='\\t')\n",
    "            for i in range(1,len(self.ind)+1):\n",
    "                a=i.split(' ')\n",
    "                print(f\"{i}) {a[0]}\",f\"{a[1]}원\",f\"{a[2]}\",sep='\\t')\n",
    "            print(\"====================================\")\n",
    "            \n",
    "            while:\n",
    "                try:\n",
    "                    sel2=int(input(\"다음 중 몇 번 항목을 삭제하시겠습니까?\"))\n",
    "                    del(self.ind[sel2])\n",
    "                    print(f\"{sel2}번재 항목 삭제가 완료되었습니다. 메인으로 돌아갑니다.\\n\")\n",
    "                    break\n",
    "                except:\n",
    "                    print(\"해당하는 항목의 '번호'를 정확히 입력해주세요.\")\n",
    "        \n",
    "    def find(self):\n",
    "        date=input(\"검색할 날짜를 입력해주세요 (ex.2023/3/22 -> 230322): \")\n",
    "        print(\"해당 날짜의 입출금 내역입니다.\\n\")\n",
    "        print(\"====================================\")\n",
    "        for i in self.ind:\n",
    "            if date in i:\n",
    "                print(i)\n",
    "        for i in self.outd:\n",
    "            if date in i:\n",
    "                print(i)\n",
    "        print(\"====================================\")\n",
    "        \n",
    "    def save(self):\n",
    "        "
   ]
  },
  {
   "cell_type": "code",
   "execution_count": 42,
   "id": "6306792a",
   "metadata": {},
   "outputs": [
    {
     "ename": "SyntaxError",
     "evalue": "unexpected EOF while parsing (3425772415.py, line 16)",
     "output_type": "error",
     "traceback": [
      "\u001b[1;36m  File \u001b[1;32m\"C:\\Users\\h\\AppData\\Local\\Temp\\ipykernel_12228\\3425772415.py\"\u001b[1;36m, line \u001b[1;32m16\u001b[0m\n\u001b[1;33m    int()\u001b[0m\n\u001b[1;37m         ^\u001b[0m\n\u001b[1;31mSyntaxError\u001b[0m\u001b[1;31m:\u001b[0m unexpected EOF while parsing\n"
     ]
    }
   ],
   "source": [
    "import time\n",
    "\n",
    "with open('C:/Users/h/hmkd1/m1_programming/money.txt','r', encoding='UTF8') as file:\n",
    "    data=file.read()\n",
    "    data=data.split('\\n\\n\\n\\n')    #입금/출금 나누기\n",
    "    ind=data[0].split('\\n')      #입금 각 줄별로\n",
    "    outd=data[1].split('\\n')     #출금 각 줄별로\n",
    "\n",
    "mo=money(ind,outd)\n",
    "\n",
    "while True:\n",
    "    print(\"[장부 프로그램입니다. 원하는 서비스를 선택하세요]\")\n",
    "    print(\"\"\"\n",
    "----------------------***----------------------\n",
    "1. 전체 내역 조회 (입금/출금/총결산)\n",
    "2. 항목 추가\n",
    "3. 항목 삭제\n",
    "4. 날짜별 항목 조회\n",
    "5. 파일에 저장\n",
    "----------------------***----------------------\n",
    "\"\"\")\n",
    "    \n",
    "    while True:\n",
    "        try:\n",
    "            sel=int(input(\"> \"))\n",
    "            if 1>sel or sel>5:\n",
    "                print(\"[1]-[5]번 중 하나를 선택해주세요.\")\n",
    "            else:\n",
    "                break\n",
    "        except:\n",
    "            print(\"서비스의 번호를 입력해주세요.\")\n",
    "            \n",
    "\n",
    "    if sel==1:\n",
    "        mo.allshow()\n",
    "        print(\"\\n입출금 내역 조회를 마쳤습니다. 메인으로 돌아갑니다.\\n\")\n",
    "    \n",
    "    elif sel==2:\n",
    "        mo.add()\n",
    "        print(\"\\n항목을 무사히 추가했습니다. 메인으로 돌아갑니다.\\n\")\n",
    "    \n",
    "    elif sel==3:\n",
    "        mo.remv()\n",
    "        \n",
    "    elif sel==4:\n",
    "        mo.find()\n",
    "        print(\"\\n날짜별 항목 조회를 마쳤습니다. 메인으로 돌아갑니다.\\n\")\n",
    "    \n",
    "    elif sel==5:\n",
    "        mo.save()\n",
    "        print(\"\\n변경 사항을 파일에 저장합니다. 잠시만 기다려주십시오.\")\n",
    "        \n",
    "        time.sleep(1)\n",
    "        print(\"저장이 완료되었습니다. 감사합니다.\\n\")"
   ]
  },
  {
   "cell_type": "markdown",
   "id": "9245e3ed",
   "metadata": {},
   "source": [
    "### 함수 응용"
   ]
  },
  {
   "cell_type": "code",
   "execution_count": null,
   "id": "b37c0566",
   "metadata": {},
   "outputs": [],
   "source": [
    "#주어진 문자열이 '문자'로만 이루어졌는지 검사(숫자, 공백, 기호 등x)\n",
    "txt1='A'\n",
    "txt2='안녕'\n",
    "txt3='sagdg trwg'\n",
    "txt4='3Po'\n",
    "\n",
    "print(txt1.isalpha())\n",
    "print(txt2.isalpha())    #한글로만 이루어진 문자열도 알파벳으로 취급\n",
    "print(txt3.isalpha())    #공백이 들어가서 False\n",
    "print(txt4.isalpha())"
   ]
  },
  {
   "cell_type": "code",
   "execution_count": null,
   "id": "c30478ef",
   "metadata": {},
   "outputs": [],
   "source": [
    "#주어진 문자열이 '숫자'로만 이루어졌는지 검사\n",
    "txt1='010-1234-5678'\n",
    "txt2='r3563'\n",
    "txt3='1212'\n",
    "txt4='3 2350 341'\n",
    "\n",
    "print(txt1.isdigit())\n",
    "print(txt2.isdigit())\n",
    "print(txt3.isdigit())\n",
    "print(txt4.isdigit())    #공백이 들어가서 False"
   ]
  },
  {
   "cell_type": "code",
   "execution_count": null,
   "id": "983e0788",
   "metadata": {},
   "outputs": [],
   "source": [
    "#문자열이 문자 or 숫자인지 검사\n",
    "txt1='안녕하세요?'\n",
    "txt2='1. 제목을 입력하세요(Title): '\n",
    "txt3='1212fadeR피피'\n",
    "\n",
    "print(txt1.isalnum())   # '?' 등의 기호x\n",
    "print(txt2.isalnum())   # . () 공백 등x\n",
    "print(txt3.isalnum())"
   ]
  },
  {
   "cell_type": "code",
   "execution_count": null,
   "id": "d7e26050",
   "metadata": {},
   "outputs": [],
   "source": [
    "t='A lot of Things occur each day.'\n",
    "re1=t.upper()    #모든 문자를 대문자로\n",
    "re2=t.lower()    #모든 문자를 소문자로\n",
    "print(re1)\n",
    "print(re2)"
   ]
  },
  {
   "cell_type": "code",
   "execution_count": 3,
   "id": "104ff939",
   "metadata": {},
   "outputs": [
    {
     "name": "stdout",
     "output_type": "stream",
     "text": [
      "공백~~~.\n",
      "           공백~~~.\n",
      "공백~~~                .\n"
     ]
    }
   ],
   "source": [
    "#문자열에서 좌우 공백제거\n",
    "txt='           공백~~~                '\n",
    "print(txt.strip()+'.')\n",
    "print(txt.rstrip()+'.')\n",
    "print(txt.lstrip()+'.')"
   ]
  },
  {
   "cell_type": "code",
   "execution_count": null,
   "id": "f9ad06d0",
   "metadata": {},
   "outputs": [],
   "source": [
    "x=input(\"찾고 싶은 제목을 입력해주세요: \").lower()     #받는 동시에 소문자로\n",
    "tlist=['Hello Word!','Nice Day','HappyBin','enDing_Story']\n",
    "n_tlist=[]\n",
    "\n",
    "for i in range(len(tlist)):\n",
    "    n_tlist.append(tlist[i].lower())\n",
    "    if x in n_tlist[i]:\n",
    "        print(tlist[i])"
   ]
  },
  {
   "cell_type": "code",
   "execution_count": null,
   "id": "5b560355",
   "metadata": {},
   "outputs": [],
   "source": [
    "#코드값에 대응하는 문자 얻기(chr) (ex. 65='A')\n",
    "val=int(input('문자 코드값을 입력하세요: '))\n",
    "\n",
    "try:\n",
    "    ch=chr(val)          #아스키코드를 문자로 바꿔주는 함수\n",
    "    print(f'코드값: {val}, 문자: {ch}]')\n",
    "except ValueError:\n",
    "    print(\"해당하는 문자가 존재하지 않는 코드값입니다.\")"
   ]
  },
  {
   "cell_type": "code",
   "execution_count": null,
   "id": "46168e83",
   "metadata": {},
   "outputs": [],
   "source": [
    "#문자 코드값 구하기(ord)\n",
    "ch=input(\"문자를 1개 입력하세요: \")\n",
    "if len(ch)!=0:\n",
    "    ch=ch[0]\n",
    "    chv=ord(ch)\n",
    "    print(f'문자: {ch}, 코드값: {chv}')   #맨 앞 글자 1개만 뽑음"
   ]
  },
  {
   "cell_type": "code",
   "execution_count": null,
   "id": "ca74e40b",
   "metadata": {},
   "outputs": [],
   "source": [
    "#문자열을 바이트 객체로바꾸기(encode)\n",
    "txt='I love python!'\n",
    "nt=txt.encode()\n",
    "\n",
    "print(txt)\n",
    "print(nt)\n",
    "\n",
    "re1='I'==txt[0]\n",
    "re2='I'==nt[0]\n",
    "\n",
    "print(txt[0])\n",
    "print(nt[0])\n",
    "print(re1)\n",
    "print(re2)"
   ]
  },
  {
   "cell_type": "code",
   "execution_count": null,
   "id": "3668254b",
   "metadata": {},
   "outputs": [],
   "source": [
    "#인자를 바꾸어 \"함수를 반복 호출\"하는 결과값 얻기(map)\n",
    "f=lambda x:x*x\n",
    "args=[1,2,3,4,5]\n",
    "\n",
    "ret=map(f,args)   #args 리스트 안의 각각의 원소들만큼 f함수 반복 호출\n",
    "\n",
    "print(ret,type(ret))    #map으로 뽑은 건 list로 바꿔줘야 함\n",
    "print(list(ret))"
   ]
  },
  {
   "cell_type": "code",
   "execution_count": null,
   "id": "8430d1fe",
   "metadata": {},
   "outputs": [],
   "source": [
    "# 인덱스 응용\n",
    "# 문자열 한 칸씩 앞으로 땡기기\n",
    "\n",
    "s='abcdefg'\n",
    "print(s[1:]+s[0])"
   ]
  },
  {
   "cell_type": "markdown",
   "id": "15691c3a",
   "metadata": {},
   "source": [
    "#### python random \n",
    "1. random.random() : 0.0에서부터 1.0 사이의 실수(float)를 반환\n",
    "2. random.uniform(a, b) : 인자로 들어온 a~b 사이의 실수(float)를 반환\n",
    "3. randint(a, b) : 인자로 들어온 a, b 사이의 랜덤한 정수(int)를 반환\n",
    "4. randrange(a, b), randrange(b) :  a <= x < b 의 범위 내에서의 랜덤한 정수(int)를 반환 / randrange(b)는 0 <= x < b 의 범위 내에서의 랜덤한 정수(int)를 반환\n",
    "5. random.choice(seq) : 인자로 받은 리스트, 튜플, 문자열, range 에서 무작위로 하나의 원소 반환\n",
    "6. random.sample(seq or set, N) : 첫번째 인자로 받은 시퀀스데이터 or set에서 N개의 랜덤하고, unique하고, 순서상관없이 인자를 뽑아서 리스트로 만들어서 반환\n",
    "7. random.shuffle(seq) : 데이터의 순서를 무작위로 랜덤하게 바꾸어 주는 함수"
   ]
  },
  {
   "cell_type": "code",
   "execution_count": null,
   "id": "fc70fa73",
   "metadata": {},
   "outputs": [],
   "source": [
    "import random\n",
    "random.random()*10   #0~100 사이 랜덤 실수값"
   ]
  },
  {
   "cell_type": "code",
   "execution_count": null,
   "id": "c980993f",
   "metadata": {},
   "outputs": [],
   "source": [
    "import random\n",
    "data=[1,2,3,4,5]\n",
    "random.shuffle(data)    #무작위로 섞어 줌 shuffle()\n",
    "print(data)"
   ]
  },
  {
   "cell_type": "code",
   "execution_count": null,
   "id": "d5b2371b",
   "metadata": {},
   "outputs": [],
   "source": [
    "import random\n",
    "m=['A','B','C','D','E']\n",
    "t=['당첨','꽝','꽝','꽝','꽝']\n",
    "\n",
    "random.shuffle(m)\n",
    "random.shuffle(t)\n",
    "print('%s가 당첨되었습니다 청소하세요!!' %m[t.index('당첨')])"
   ]
  },
  {
   "cell_type": "code",
   "execution_count": null,
   "id": "b8f1ba38",
   "metadata": {},
   "outputs": [],
   "source": [
    "# 1~100 사이 랜덤 홀수/짝수 출력\n",
    "\n",
    "print(random.randrange(1,100,2))   #1~99 홀수\n",
    "print(random.randrange(2,101,2))   #2~100 짝수"
   ]
  },
  {
   "cell_type": "code",
   "execution_count": null,
   "id": "e2a10fb0",
   "metadata": {},
   "outputs": [],
   "source": [
    "numbers=[3,6,2,8,7,7,4,2,3,6,8,3,2,1,0,5,9,5,3,3,1,6,8,4]\n",
    "counter={}\n",
    "\n",
    "for i in numbers:\n",
    "    if i in counter:   #이미 i가 카운트 된 적 있는 숫자면 값만 +1\n",
    "        counter[i]+=1\n",
    "    else:    #i가 한 번도 카운트 된 적 없으면 딕셔너리에 추가, 값은 1로\n",
    "        counter[i]=1\n",
    "print(counter)"
   ]
  },
  {
   "cell_type": "code",
   "execution_count": null,
   "id": "16ecbd55",
   "metadata": {},
   "outputs": [],
   "source": [
    "list=['a','b','c']\n",
    "for i,value in enumerate(list):\n",
    "    print(f\"{i+1}번째는 {value}입니다.\")"
   ]
  },
  {
   "cell_type": "code",
   "execution_count": null,
   "id": "d1a41ff5",
   "metadata": {},
   "outputs": [],
   "source": [
    "#★★3항 연산자★★\n",
    "\n",
    "a = [j**2 for j in range(0,20,2)]\n",
    "print(a)\n",
    "\n",
    "x=lambda a:a**2\n",
    "list = [x(i) for i in range(0,20,2)]   #이런 식으로 람다 함수 이용할 수도\n",
    "print(list)"
   ]
  },
  {
   "cell_type": "code",
   "execution_count": null,
   "id": "2a68c729",
   "metadata": {},
   "outputs": [],
   "source": [
    "a=list(map(lambda x:x**2, range(0,20,2)))\n",
    "print(a)    #리스트로 안 바꿔주면 알아볼 수 없는 글자(map타입)로 나옴"
   ]
  },
  {
   "cell_type": "code",
   "execution_count": null,
   "id": "eaf7f399",
   "metadata": {},
   "outputs": [],
   "source": [
    "indata=[]\n",
    "while True:\n",
    "    a=input(\"데이터를 입력하세요: \")\n",
    "    if a=='':\n",
    "        print(\"프로그램을 종료합니다.\")\n",
    "        break\n",
    "    else:\n",
    "        indata.append(a)\n",
    "        \n",
    "print(indata)"
   ]
  },
  {
   "cell_type": "code",
   "execution_count": null,
   "id": "576b0347",
   "metadata": {},
   "outputs": [],
   "source": [
    "# 팩토리얼\n",
    "\n",
    "def fac(n):\n",
    "    output=1\n",
    "    for i in range(1,n+1):\n",
    "        output*=i\n",
    "    return output\n",
    "\n",
    "print(fac(5))"
   ]
  },
  {
   "cell_type": "code",
   "execution_count": null,
   "id": "525b2bd9",
   "metadata": {},
   "outputs": [],
   "source": [
    "def fac(n):\n",
    "    if n==0:\n",
    "        return 1      # 종료 조건 및 n=0일 때는 팩토리얼 값이x\n",
    "    else:\n",
    "        return n*fac(n-1)    # fac()함수를 다시 호출\n",
    "    \n",
    "print(fac(1))\n",
    "print(fac(5))\n",
    "print(fac(10))"
   ]
  },
  {
   "cell_type": "code",
   "execution_count": null,
   "id": "6ae528be",
   "metadata": {},
   "outputs": [],
   "source": [
    "# 원의 면적과 둘레 길이 구하는 사용자 함수 (반지름=5,10일 때)\n",
    "\n",
    "def leng_we(r):\n",
    "    we=r*r*3.14\n",
    "    leng=2*r*3.14\n",
    "    print(f\"반지름이 {r}인 원의 둘레: {leng:.2f}, 넓이: {we:.2f}\")   #소수점 2째 자리까지만\n",
    "    print(f\"둘레: {round(leng,2)}, 넓이: {round(we,2)}\")   #반올림한 값(소수 2번째에서 반올림)\n",
    "\n",
    "leng_we(5)\n",
    "leng_we(10)"
   ]
  },
  {
   "cell_type": "code",
   "execution_count": null,
   "id": "8c3b3fad",
   "metadata": {},
   "outputs": [],
   "source": [
    "# 리스트의 모든 원수를 실수형으로 바꿔 출력\n",
    "a=[1,2,3,4,5]\n",
    "\n",
    "for i in range(len(a)):    #방법1\n",
    "    a[i]=float(a[i])\n",
    "print(a)\n",
    "\n",
    "print([float(i) for i in a])    #방법2"
   ]
  },
  {
   "cell_type": "code",
   "execution_count": null,
   "id": "853dd97e",
   "metadata": {},
   "outputs": [],
   "source": [
    "#문자 수정을 원하면 '수정'을, 문자 개수 찾기 및 삭제를 원하면 '찾기'\n",
    "mun=''\n",
    "\n",
    "while True:\n",
    "    ans=input(\"문자 수정을 원하면 '수정'을, 문자 개수 찾기 및 삭제를 원하면 '찾기'를 입력해주세요(프로그램 종료: 0): \")\n",
    "    \n",
    "    if ans=='0':\n",
    "        print(\"프로그램을 종료합니다. 감사합니다.\")\n",
    "        break\n",
    "        \n",
    "    elif ans =='수정':\n",
    "        if mun=='':\n",
    "            mun=input(\"\\n입력된 문장이 없습니다. 추가할 문장을 입력해주세요: \")\n",
    "    \n",
    "        print(f'\\n[ {mun} ]')\n",
    "        re=input(\"다음 문장 중 수정하고 싶은 문자를 입력해주세요: \")\n",
    "        re2=input(f\"'{re}'를 어떤 문자로 수정하시겠습니까? : \")\n",
    "        mun=mun.replace(re,re2)\n",
    "    \n",
    "        print(f\"\\n수정된 문장입니다. \\n[ {mun} ]\")\n",
    "    \n",
    "    elif ans=='찾기':\n",
    "        if mun=='':\n",
    "            mun=input(\"\\n입력된 문장이 없습니다. 추가할 문장을 입력해주세요: \")\n",
    "    \n",
    "        print(f'\\n=> [ {mun} ]')\n",
    "        re=input(\"글에서 찾고 싶은 문자를 입력해주세요: \")\n",
    "        print(f\"해당 글에 존재하는 '{re}'의 개수는 {mun.count(re)}개 입니다.\")\n",
    "    \n",
    "        re2=input(\"\\n해당 글에서 입력하신 문자를 전부 삭제하시겠습니까? (Y/N) \")\n",
    "        if re2.lower()=='y':\n",
    "            mun=mun.replace(re,'')\n",
    "        print(f'=> [ {mun} ]')"
   ]
  },
  {
   "cell_type": "code",
   "execution_count": null,
   "id": "d2b00dc3",
   "metadata": {},
   "outputs": [],
   "source": [
    "#게시물 총 건수, 한 페이지에 보여 줄 게시물 수 => 총 페이지 수 출력\n",
    "import math\n",
    "\n",
    "def page(a,b):\n",
    "    return math.ceil(a/b)\n",
    "    \n",
    "while 1:\n",
    "    try:\n",
    "        a=int(input(\"총 게시물의 수를 지정해주세요: \"))\n",
    "        b=int(input(\"한 페이지에 보이는 게시물의 수를 지정해주세요: \"))\n",
    "        print(f'\\n총 페이지 수는 {page(a,b)}입니다.')\n",
    "        break\n",
    "    except:\n",
    "        print(\"숫자만 입력해주세요.\\n\")"
   ]
  },
  {
   "cell_type": "code",
   "execution_count": null,
   "id": "74e59413",
   "metadata": {},
   "outputs": [],
   "source": [
    "import random\n",
    "\n",
    "hang1=list('김이박최정강조윤장임한오서신권황안송전홍유고문양손배조백허유남심노정하곽성차주우구신임전민유류나진지엄채원천방공강현함변염양변여추노도소신석선설마길주연위표명기반라왕금옥육인맹제모장남궁탁국여진어은편구용유태두빈호범전')\n",
    "hang2=list('가나다라마바사아자차카타파하')\n",
    "\n",
    "with open('member.txt','w') as file:\n",
    "    for i in range(1,1001):\n",
    "        name=random.choice(hang1)+random.choice(hang2)+random.choice(hang2)\n",
    "        high=random.randrange(110,231)\n",
    "        kg=random.randrange(30,150)\n",
    "        file.write(f'{name},{high},{kg}\\n')\n",
    "        \n",
    "with open('member.txt','r') as file:\n",
    "    data=file.read()\n",
    "    \n",
    "n_data=data.split('\\n')\n",
    "n2_data=[]\n",
    "for i in range(len(n_data)):\n",
    "    n2_data.append(n_data[i].split(\",\"))\n",
    "\n",
    "    bmi=round(int(n2_data[i][2]) / ((int(n2_data[i][1]) / 100) ** 2),2)\n",
    "    n2_data[i].append(bmi)\n",
    "    \n",
    "    if bmi<=18.5:\n",
    "        res='저체중'\n",
    "    elif 18.5< bmi<=23:\n",
    "        res='정상'\n",
    "    elif 23< bmi<=25:\n",
    "        res='과체중'\n",
    "    else:\n",
    "        res='비만'\n",
    "    n2_data[i].append(res)\n",
    "    \n",
    "    print(f\"\\n이름: {n2_data[i][0]} \\n몸무게 {n2_data[i][2]}\\n키: {n2_data[i][1]} \\nBMI:{n2_data[i][3]} \\n결과: {n2_data[i][4]}\")"
   ]
  },
  {
   "cell_type": "code",
   "execution_count": null,
   "id": "5e7e1936",
   "metadata": {},
   "outputs": [],
   "source": [
    "# 문자열 리스트 states를 정형화하여 아래와 같이 출력하세요\n",
    "states = ['   Alabama ', 'Georgia!', 'Georgia', 'georgia', 'FlOrIda','south   carolina##', 'West virginia?']\n",
    "\n",
    "#양측 공백 제거\n",
    "#첫글자만 대문자, 나머지 소문자 (공백 이후 글자는 대문자)\n",
    "#특수문자 제거\n",
    "\n",
    "for i in range(len(states)):\n",
    "    a=[]\n",
    "    states[i]=states[i].strip(' ')\n",
    "    states[i]=states[i].lower()\n",
    "    states[i]=states[i][0].upper()+states[i][1:]\n",
    "    \n",
    "    for j in range(1,len(states[i])):\n",
    "        if states[i][j-1]==' ':\n",
    "            states[i]=states[i].replace(states[i][j],states[i][j].upper())\n",
    "        \n",
    "        if not states[i][j].isalnum() and states[i][j]!=' ':\n",
    "            a.append(states[i][j])\n",
    "            \n",
    "    for k in states[i]:\n",
    "        if k in a:\n",
    "            states[i]=states[i].replace(k,'')\n",
    "\n",
    "print('\\n'.join(states))"
   ]
  },
  {
   "cell_type": "code",
   "execution_count": null,
   "id": "55b99e4c",
   "metadata": {},
   "outputs": [],
   "source": [
    "# 문자열 리스트 states를 정형화하여 아래와 같이 출력하세요\n",
    "\n",
    "# re.sub()정규표현식 문자열 치환\n",
    "# title() 함수 첫글자를 대문자로 변환\n",
    "\n",
    "import re\n",
    "states = ['  Alabama ', 'Georgia!', 'Georgia', 'georgia', 'FlOrIda','south   carolina##', 'West virginia?']\n",
    "\n",
    "def cleaning(strings):\n",
    "    result=[]\n",
    "    for value in strings:\n",
    "        value= value.strip()\n",
    "        value= re.sub('[!#?]','',value)\n",
    "        value= value.title()\n",
    "        result.append(value)\n",
    "    return result\n",
    "cleaning(states)"
   ]
  },
  {
   "cell_type": "code",
   "execution_count": null,
   "id": "433f12d6",
   "metadata": {},
   "outputs": [],
   "source": [
    "#파일 안의 단어 수 출력(공백을 기준으로)\n",
    "with open('mydata.txt','r') as f:\n",
    "    data=f.read()\n",
    "    tmp=data.split()\n",
    "    print(f\"단어 수: {len(tmp)}\")"
   ]
  },
  {
   "cell_type": "code",
   "execution_count": null,
   "id": "3c7f40ad",
   "metadata": {},
   "outputs": [],
   "source": [
    "# 파일 안 특정 문자 개수 세기\n",
    "# [ ] -> [177]회 나타남\n",
    "# [e] -> [97]회 나타남\n",
    "# [t] -> [85]회 나타남\n",
    "\n",
    "def textget(fname):\n",
    "    with open(fname,'r') as f:\n",
    "        data=f.read()\n",
    "        a=input(\"찾고싶은 문자를 입력해주세요: \")\n",
    "        print(f\"{a}: {data.count(a)}개\")\n",
    "        \n",
    "textget('mydata.txt')"
   ]
  },
  {
   "cell_type": "code",
   "execution_count": null,
   "id": "0939e3dd",
   "metadata": {},
   "outputs": [],
   "source": [
    "#파일 안의 특정 단어를 바꿔서 다른 파일로 저장\n",
    "\n",
    "def textget(fname):\n",
    "    with open(fname,'r') as f:\n",
    "        data=f.read()\n",
    "        a=input(\"변경하고 싶은 문자를 입력해주세요: \")\n",
    "        b=input(f\"{a}를 어떤 단어로 변경할까요?: \")\n",
    "        data=data.replace(a,b)\n",
    "        \n",
    "    with open('n_file.txt','r+') as f2:\n",
    "        f2.write(data)\n",
    "        print(f\"변경된 파일의 내용입니다.\\n\")\n",
    "        for i in f2.readlines():\n",
    "            print(i,end='')\n",
    "        \n",
    "textget('mydata.txt')"
   ]
  },
  {
   "cell_type": "code",
   "execution_count": null,
   "id": "455bbd7b",
   "metadata": {},
   "outputs": [],
   "source": [
    "with open('modex1.py','w') as f:\n",
    "    f.write(\n",
    "'''\n",
    "def add(a,b):\n",
    "    return a+b\n",
    "print(add(1,1))\n",
    "''')"
   ]
  },
  {
   "cell_type": "code",
   "execution_count": null,
   "id": "6f8e68ee",
   "metadata": {},
   "outputs": [],
   "source": [
    "with open('modex1.py','r+') as f:\n",
    "    data=f.read()\n",
    "    print(data)"
   ]
  },
  {
   "cell_type": "code",
   "execution_count": null,
   "id": "e34419d6",
   "metadata": {},
   "outputs": [],
   "source": [
    "import modex\n",
    "modex.add(1,1)"
   ]
  },
  {
   "cell_type": "code",
   "execution_count": null,
   "id": "228edb7d",
   "metadata": {},
   "outputs": [],
   "source": [
    "!python modex1.py"
   ]
  },
  {
   "cell_type": "markdown",
   "id": "69a32864",
   "metadata": {},
   "source": [
    "파이썬 if __name__ == \"__main__\" 의미\n",
    "\n",
    "- 메인 함수의 선언, 시작을 의미합니다. 해당 코드 밑에 main 등의 함수 호출 코드를 작성해서 함수의 기능을 수행\n",
    "- 직접 mod.py 파일을 실행하는 경우에는 __name___ 변수에 __main__ 이라는 값이 할당되고 이 조건절이 참이 되어 if문 다음 문장들이 수행\n",
    "- 모듈을 불러와서 사용하는 경우 __name__ 변수에는 모듈 이름이 저장되고 이 조건절이 거짓이 되어 if문 다음 문장들이 수행되지 않음\n",
    "- if __name__ == \"__main__\"와 같이 조건문을 사용하여 터미널에서와 같이 직접 호출되어 사용될 때는 그 자체로 기능을 수행하고, 동시에 다른 모듈에서 필요한 함수 등을 제공"
   ]
  },
  {
   "cell_type": "code",
   "execution_count": null,
   "id": "173c6e7a",
   "metadata": {},
   "outputs": [],
   "source": [
    "with open('modex2.py','w') as f:\n",
    "    f.write(\n",
    "'''\n",
    "def add(a,b):\n",
    "    return a+b\n",
    "    \n",
    "if __name__==\"__main__\":\n",
    "    print(add(1,1))\n",
    "''')\n",
    "    \n",
    "#실행하는 경우 __main__이 __name__으로 변하면서 조건 달성, 실행됨\n",
    "#실행이 아닐 경우 __name!__=__main__이므로 실행x\n",
    "#위 코드는 실행x"
   ]
  },
  {
   "cell_type": "code",
   "execution_count": null,
   "id": "bd5301d1",
   "metadata": {},
   "outputs": [],
   "source": [
    "!python modex2.py\n",
    "#실행o"
   ]
  },
  {
   "cell_type": "code",
   "execution_count": null,
   "id": "f8ca5629",
   "metadata": {},
   "outputs": [],
   "source": [
    "import modex2\n",
    "modex2.add(1,3)"
   ]
  },
  {
   "cell_type": "code",
   "execution_count": null,
   "id": "f659a52f",
   "metadata": {},
   "outputs": [],
   "source": [
    "# 사칙연산 기능을 포함하는 모듈\n",
    "with open('modex3.py','w') as f:\n",
    "    f.write(\n",
    "\"\"\"\n",
    "def yen(choice, a,b):\n",
    "    if choice=='+':\n",
    "        return a+b\n",
    "    elif choice=='-':\n",
    "        return a-b\n",
    "    elif choice=='*':\n",
    "        return a*b\n",
    "    elif choice=='/':\n",
    "        return a/b\n",
    "        \n",
    "if __name__=='__main__':\n",
    "    print(yen('+',10,2))\n",
    "    print(yen('-',10,2))\n",
    "    print(yen('*',10,2))\n",
    "    print(yen('/',10,2))\n",
    "\"\"\")"
   ]
  },
  {
   "cell_type": "code",
   "execution_count": null,
   "id": "95773c22",
   "metadata": {},
   "outputs": [],
   "source": [
    "!python modex3.py\n",
    "#실행o"
   ]
  },
  {
   "cell_type": "code",
   "execution_count": null,
   "id": "8d0738bf",
   "metadata": {},
   "outputs": [],
   "source": [
    "import modex3\n",
    "print(modex3.yen('-',8,6))"
   ]
  },
  {
   "cell_type": "code",
   "execution_count": null,
   "id": "a8debce1",
   "metadata": {},
   "outputs": [],
   "source": [
    "with open('sys1.py','w') as f:\n",
    "    f.write('''\n",
    "import sys\n",
    "\n",
    "args=sys.argv[1:]\n",
    "\n",
    "for i in args:\n",
    "    print(i)\n",
    "    ''')"
   ]
  },
  {
   "cell_type": "code",
   "execution_count": null,
   "id": "d5396801",
   "metadata": {},
   "outputs": [],
   "source": [
    "!python sys1.py a b c"
   ]
  },
  {
   "cell_type": "markdown",
   "id": "66f0fd87",
   "metadata": {},
   "source": [
    "#### 쓰레드 (Thread)\n",
    "\n",
    "파이썬 프로그램은 기본적으로 하나의 쓰레드(Single Thread)에서 실행된다. 즉, 하나의 메인 쓰레드가 파이썬 코드를 순차적으로 실행한다. 코드를 병렬로 실행하기 위해서는 별도의 쓰레드(Subthread)를 생성해야 하는데, 파이썬에서 쓰레드를 생성하기 위해서는 threading 모듈 (High 레벨) 혹은 thread 모듈 (Low 레벨)을 사용할 수 있다. 일반적으로 쓰레드 처리를 위해서는 thread 모듈 위에서 구현된 threading 모듈을 사용하고 있으며, thread 모듈은 (사장되어) 거의 사용하고 있지 않다."
   ]
  },
  {
   "cell_type": "code",
   "execution_count": null,
   "id": "aa4c4591",
   "metadata": {},
   "outputs": [],
   "source": [
    "# long_tast 수행하는데 5초의 시간이 걸리는 함수\n",
    "# 이 프로그램은 5초가 5번 반복되는 프로그램\n",
    "import time\n",
    "def long_tast():\n",
    "    for i in range(1,6):\n",
    "        time.sleep(1)\n",
    "        print(f\"time: {i}\")\n",
    "          \n",
    "print(\"start\")\n",
    "for i in range(5):\n",
    "    long_tast()          \n",
    "print(\"end\")"
   ]
  },
  {
   "cell_type": "markdown",
   "id": "f813dd8b",
   "metadata": {},
   "source": [
    "- 파이썬에서 쓰레드를 실행하기 위해서는, threading 모듈의 threading.Thread() 함수를 호출하여 \n",
    "- Thread 객체를 얻은 후 Thread 객체의 start() 메서드를 호출\n",
    "- 쓰레드가 실행할 함수 (혹은 메서드)를 작성하고 그 함수명을 threading.Thread() 함수의 target 아큐먼트에 지정\n",
    "- 프로그램을 수정하고 실행해 보면 25초 걸리던 작업이 5초 정도에 수행되는 것을 확인할 수 있다. \n",
    "- threading.Thread를 사용하여 만든 스레드 객체가 동시 작업을 가능하게 해 주기 때문임"
   ]
  },
  {
   "cell_type": "code",
   "execution_count": null,
   "id": "3df64568",
   "metadata": {},
   "outputs": [],
   "source": [
    "import time\n",
    "import threading\n",
    "\n",
    "def long_task():\n",
    "    for i in range(1,6):\n",
    "        time.sleep(1)\n",
    "        print(f\"work: {i}\")\n",
    "        \n",
    "print(\"start\")\n",
    "threads=[]\n",
    "\n",
    "for i in range(5):\n",
    "    t=threading.Thread(target=long_task)    #long_tast함수를 스레드로 돌리거다\n",
    "    threads.append(t)   #빈 리스트에 스레드 1~5를 넣어줌\n",
    "\n",
    "for t in threads:   #리스트에 담긴 1~5스레드 실행(start)\n",
    "    t.start()       #하나 끝나고 하나 돌아가는 거x 다른거 돌아가는 중에 시작\n",
    "\n",
    "for t in threads:\n",
    "    t.join()        #join으로 1~5 스레드가 종료될 때까지 기다린다\n",
    "    \n",
    "print(\"end\")    #위에 코드가 다 끝나야만 이 코드가 돌아감\n",
    "# join없으면 시작과 동시에 end 나오고 뒤늦게 스레드 결과 나옴"
   ]
  },
  {
   "cell_type": "markdown",
   "id": "b891d3cb",
   "metadata": {},
   "source": [
    "#### 파이썬에서 언더바/언더스코어(_) 의 의미와 역할\n",
    "\n",
    "일단 6개의 다른 용도\n",
    "- 인터프리터에서의 사용\n",
    "- 무시하는 값\n",
    "- 루프에서 사용\n",
    "- 숫자값의 분리\n",
    "- 명명용\n",
    "    - 앞에 하나가 쓰이는 경우\n",
    "    - 뒤에 하나가 쓰이는 경우\n",
    "    - 앞에 두개가 쓰이는 경우\n",
    "    - 앞 뒤로 두개씩 쓰이는 경우\n",
    "\n",
    "https://eine.tistory.com/entry/%ED%8C%8C%EC%9D%B4%EC%8D%AC%EC%97%90%EC%84%9C-%EC%96%B8%EB%8D%94%EB%B0%94%EC%96%B8%EB%8D%94%EC%8A%A4%EC%BD%94%EC%96%B4-%EC%9D%98-%EC%9D%98%EB%AF%B8%EC%99%80-%EC%97%AD%ED%95%A0"
   ]
  },
  {
   "cell_type": "code",
   "execution_count": null,
   "id": "b3f1d514",
   "metadata": {},
   "outputs": [],
   "source": [
    "#파이선 인터프리터에서 가장 마지막 표현식의 결과값을 자동적으로 '_'라는 변수에 저장\n",
    "5+4"
   ]
  },
  {
   "cell_type": "code",
   "execution_count": null,
   "id": "84bf45e8",
   "metadata": {},
   "outputs": [],
   "source": [
    "_"
   ]
  },
  {
   "cell_type": "code",
   "execution_count": null,
   "id": "f5de157d",
   "metadata": {},
   "outputs": [],
   "source": [
    "print(_)    #언더바"
   ]
  },
  {
   "cell_type": "code",
   "execution_count": null,
   "id": "ab825479",
   "metadata": {},
   "outputs": [],
   "source": [
    "#변수처럼 사용 가능\n",
    "\n",
    "for _ in range(5):\n",
    "    print(_)\n",
    "    \n",
    "language=['Python','JS','PHP']\n",
    "for _ in language:\n",
    "    print(_)"
   ]
  },
  {
   "cell_type": "code",
   "execution_count": null,
   "id": "12560188",
   "metadata": {},
   "outputs": [],
   "source": [
    "_=5\n",
    "while _<10:\n",
    "    print(_,end=' ')\n",
    "    _+=1"
   ]
  },
  {
   "cell_type": "code",
   "execution_count": null,
   "id": "1a3e55ce",
   "metadata": {},
   "outputs": [],
   "source": [
    "#숫자값이 길 때 자리수 구분을 위해 중간에 넣어줄 수도\n",
    "\n",
    "million=1_000_000\n",
    "binary=0b_0010\n",
    "octa=0o_64\n",
    "hexa=0x_23_ab\n",
    "print(million)\n",
    "print(binary)\n",
    "print(octa)\n",
    "print(hexa)"
   ]
  },
  {
   "cell_type": "code",
   "execution_count": null,
   "id": "880d9011",
   "metadata": {},
   "outputs": [],
   "source": [
    "#__init__ 메소드는 생성자\n",
    "#호출없이 초기화할 때 호출되는 함수\n",
    "#클래스의 인스턴스가 생성될 때 실행\n",
    "\n",
    "#앞에 하나의 언더바로 시작하는 이름은 <<내부 사용용>>\n",
    "#파이썬은 언더바 하나로 시작한 이름들은 import 하지 않는다\n",
    "\n",
    "class Test:\n",
    "    def __init__(self):\n",
    "        self.name='datacamp'\n",
    "        self._num=7\n",
    "obj=Test()\n",
    "print(obj.name)\n",
    "print(obj._num)"
   ]
  },
  {
   "cell_type": "code",
   "execution_count": null,
   "id": "f0a747c1",
   "metadata": {},
   "outputs": [],
   "source": [
    "#마지막 부분에 언더바를 하나 추가함으로써 파이썬의 기본 키워드들과 충돌 방지\n",
    "def function(class):\n",
    "    pass\n",
    "\n",
    "# def function(class_):        #이건 오류 안 남\n",
    "#     pass"
   ]
  },
  {
   "cell_type": "code",
   "execution_count": null,
   "id": "eaff43c9",
   "metadata": {},
   "outputs": [],
   "source": [
    "# 123456789를 입력하면 천 단위로 콤마로 구분하여 출력하세요.\n",
    "num=\"123456789\"\n",
    "a=[]\n",
    "k=0\n",
    "\n",
    "for i in range(len(num),0,-1):\n",
    "    a.append(num[i-1])\n",
    "    k+=1\n",
    "    if k%3==0 and i!=1:\n",
    "        a.append(',')\n",
    "        \n",
    "a.reverse()\n",
    "print(''.join(a))"
   ]
  },
  {
   "cell_type": "code",
   "execution_count": null,
   "id": "cd1d218c",
   "metadata": {},
   "outputs": [],
   "source": [
    "#example_list = [\"요소A\", \"요소B\", \"요소C\"]를 파이썬 내장함수를\n",
    "example_list = [\"요소A\", \"요소B\", \"요소C\"]\n",
    "\n",
    "for i, k in enumerate(example_list):\n",
    "    print(f\"{i}번째 요소는 {k}입니다.\")"
   ]
  },
  {
   "cell_type": "code",
   "execution_count": null,
   "id": "163d4dae",
   "metadata": {},
   "outputs": [],
   "source": [
    "# 500 ~ 1000사이의 정수 중 5와 7의 공배수의 합을 구하세요\n",
    "sum=0\n",
    "for i in range(500,1001):\n",
    "    if i%35==0:\n",
    "        sum+=i\n",
    "        #print(i)\n",
    "print(sum)"
   ]
  },
  {
   "cell_type": "code",
   "execution_count": null,
   "id": "a63b4099",
   "metadata": {},
   "outputs": [],
   "source": [
    "sum = 0\n",
    "for i in range(525, 1001, 35):    #어차피 35단위 미만으론 공배수가 나오지 않을 테니\n",
    "    sum += i            #500이상 5와 7의 첫 공배수가 525(그래서 for문도 525부터 시작)\n",
    "    print(i)\n",
    "print(sum)"
   ]
  },
  {
   "cell_type": "code",
   "execution_count": null,
   "id": "20abd6a9",
   "metadata": {},
   "outputs": [],
   "source": [
    "# 주어진 데이터에서 1880년에서 2015년까지 연도별 출생아 수를 출력하세요.\n",
    "\n",
    "count=[]\n",
    "for i in range(1880,2016):\n",
    "    sum=0\n",
    "    fname='names/yob'+str(i)+'.txt'\n",
    "    \n",
    "    with open(fname,'r') as f:\n",
    "        data = f.read()\n",
    "        a=data.split(\"\\n\")\n",
    "        \n",
    "        for j in a:\n",
    "            b=j.split(',')\n",
    "            try:\n",
    "                sum+=eval(b[2])\n",
    "            except:\n",
    "                pass\n",
    "            \n",
    "    count.append(sum)\n",
    "    \n",
    "for i,k in enumerate(count):\n",
    "    print(f\"{i+1880}년도 출생아 수는 {k}명입니다.\")"
   ]
  },
  {
   "cell_type": "code",
   "execution_count": null,
   "id": "bcd21176",
   "metadata": {},
   "outputs": [],
   "source": [
    "# 연도/성별/출생아수를 구하세요.\n",
    "count=[]\n",
    "FM=[]\n",
    "\n",
    "for i in range(1880,2016):\n",
    "    fm=[0,0]\n",
    "    sum=0\n",
    "    fname='names/yob'+str(i)+'.txt'\n",
    "    \n",
    "    with open(fname,'r') as f:\n",
    "        data = f.read()\n",
    "        a=data.split(\"\\n\")\n",
    "        \n",
    "        for h in a:\n",
    "            b=h.split(',')\n",
    "            try:\n",
    "                if b[1]=='F':\n",
    "                    fm[1]+=eval(b[2])\n",
    "                    sum+=eval(b[2])\n",
    "                else: \n",
    "                    fm[0]+=eval(b[2])\n",
    "                    sum+=eval(b[2])\n",
    "            except:\n",
    "                pass\n",
    "        FM.append([fm[0],fm[1]])\n",
    "        count.append(sum)\n",
    "\n",
    "for i,k in enumerate(count):\n",
    "    print(f\"{i+1880}년도 출생아 수는 {k}명(남:{FM[i][0]}/여:{FM[i][1]}) 입니다.\")"
   ]
  },
  {
   "cell_type": "code",
   "execution_count": null,
   "id": "9ed16520",
   "metadata": {},
   "outputs": [],
   "source": [
    "#거스름돈을 줄 때 필요한 \"최소한의 동전 개수\"\n",
    "\n",
    "money=int(input(\"거스름돈을 입력하세요: \"))\n",
    "count=0\n",
    "coin=[500,100,50,10]\n",
    "\n",
    "for i in coin:\n",
    "    if money==0:\n",
    "        break\n",
    "    else:\n",
    "        imsi=divmod(money,i)\n",
    "        count+=imsi[0]\n",
    "        money=imsi[1]\n",
    "print(f\"필요한 최소한의 동전 개수는 {count}개 입니다.\")"
   ]
  },
  {
   "cell_type": "code",
   "execution_count": null,
   "id": "f70d181e",
   "metadata": {},
   "outputs": [],
   "source": [
    "#파일 안에서 특정 단어 개수 찾기\n",
    "\n",
    "def ret(fname,word):\n",
    "    with open(fname+'.txt','r') as f:\n",
    "        data = f.read()\n",
    "        a=data.count(word)\n",
    "        print(f\"{fname}.txt 파일에 있는 '{word}'의 개수는 {a}개 입니다.\")\n",
    "\n",
    "a=input(\"검색할 텍스트 파일의 이름을 입력하세요: \")\n",
    "b=input(\"찾을 단어를 입력하세요: \")\n",
    "ret(a,b)"
   ]
  },
  {
   "cell_type": "code",
   "execution_count": null,
   "id": "bf7be9a6",
   "metadata": {},
   "outputs": [],
   "source": [
    "def ret(fname,word):\n",
    "    with open(fname+'.txt','r') as f:\n",
    "        data = f.read()\n",
    "        data = data.lower()\n",
    "        pos = data.find(word)\n",
    "        count = 0\n",
    "        \n",
    "        while data!=-1:\n",
    "            count += 1\n",
    "            pos = data.find(word, pos+1)\n",
    "        \n",
    "        print(f\"{fname}.txt 파일에 있는 '{word}'의 개수는 {count}개 입니다.\")\n",
    "\n",
    "a=input(\"검색할 텍스트 파일의 이름을 입력하세요: \")\n",
    "b=input(\"찾을 단어를 입력하세요: \")\n",
    "ret(a,b)"
   ]
  },
  {
   "cell_type": "markdown",
   "id": "bdd7917f",
   "metadata": {},
   "source": [
    "#### 파이썬에서 -1은 다양한 방식으로 사용됩니다. 다음은 일부 예시입니다:\n",
    "\n",
    "- 인덱스: 파이썬에서는 리스트, 문자열, 튜플 등의 시퀀스 자료형의 인덱스를 지정할 때 음수를 사용할 수 있습니다. 이때 -1은 시퀀스의 마지막 요소를 가리킵니다. 예를 들어, 리스트에서 my_list[-1]은 리스트의 마지막 요소를 반환합니다.\n",
    "\n",
    "- 슬라이스: 마찬가지로, 시퀀스 자료형의 슬라이스를 지정할 때도 음수를 사용할 수 있습니다. 이때 -1은 시퀀스의 마지막 요소를 가리킵니다. 예를 들어, 리스트에서 my_list[:-1]은 마지막 요소를 제외한 모든 요소를 반환합니다.\n",
    "\n",
    "- 반환 값: 일부 함수에서는 실패 또는 오류를 나타내는 값을 -1로 반환합니다. 예를 들어, 문자열에서 find() 메서드는 문자열에서 지정된 문자열을 찾을 수 없을 때 -1을 반환합니다.\n",
    "\n",
    "- 비트 연산: 비트 연산에서는 -1이 모든 비트가 1인 이진수로 사용됩니다. 예를 들어, 0b11111111은 10진수로 255이며, -1과 같습니다."
   ]
  }
 ],
 "metadata": {
  "kernelspec": {
   "display_name": "Python 3 (ipykernel)",
   "language": "python",
   "name": "python3"
  },
  "language_info": {
   "codemirror_mode": {
    "name": "ipython",
    "version": 3
   },
   "file_extension": ".py",
   "mimetype": "text/x-python",
   "name": "python",
   "nbconvert_exporter": "python",
   "pygments_lexer": "ipython3",
   "version": "3.9.13"
  }
 },
 "nbformat": 4,
 "nbformat_minor": 5
}
