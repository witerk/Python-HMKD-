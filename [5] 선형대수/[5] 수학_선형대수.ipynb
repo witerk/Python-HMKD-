{
 "cells": [
  {
   "cell_type": "code",
   "execution_count": 2,
   "id": "feb57469",
   "metadata": {},
   "outputs": [],
   "source": [
    "import warnings\n",
    "warnings.filterwarnings('ignore')\n",
    "\n",
    "import random\n",
    "import numpy as np\n",
    "from numpy import random as npr\n",
    "import pandas as pd\n",
    "import matplotlib.pyplot as plt\n",
    "import seaborn as sns\n",
    "from scipy import stats\n",
    "from scipy.stats import t, norm, chi2, chi2_contingency\n",
    "\n",
    "from matplotlib import rc\n",
    "rc('font', family='Malgun Gothic')      #한글 폰트설정\n",
    "plt.rcParams['axes.unicode_minus']=False      #마이너스 부호 출력 설정"
   ]
  },
  {
   "cell_type": "markdown",
   "id": "d9b6b72f",
   "metadata": {},
   "source": [
    "## 데이터와 행렬\n",
    "- 스칼라 값 : 숫자 하나만으로 이루어진 데이터 (문자도 가능)/ 숫자의 크기만 따짐\n",
    "    - 열과 행의 수가 각각 1인 행렬\n",
    "- 벡터 : 여러 숫자가 특정한 순서대로 모여 있는 것을 의미. 하나의 벡터를 이루는 데이터 수가 n개이면 n-차원 벡터라고 함/ 방향도 따짐\n",
    "    - 열의 수가 1인 행렬\n",
    "<br><br>\n",
    "- 열벡터는 열의 수가 1인 행렬\n",
    "- 하나의 데이터 레코드(단위 데이터 하나)를 단독으로 벡터로 나타낼 때는 하나의 열로 나타내고 복수의 데이터 레코드 집합을 행렬로 나타낼 때는 하나의 데이터 레코드가 하나의 행으로 표기하는 것은 데이터 분석에서 일반적인 관례\n",
    "- 스칼라와 벡터도 수학적으로는 행렬에 속한다."
   ]
  },
  {
   "cell_type": "code",
   "execution_count": 3,
   "id": "de3bc5be",
   "metadata": {},
   "outputs": [
    {
     "name": "stdout",
     "output_type": "stream",
     "text": [
      "5.1 \n",
      "[5.1 3.5 1.4 0.2] \n",
      "[5.1 4.9 4.7 4.6 5.  5.4 4.6 5.  4.4 4.9]\n"
     ]
    }
   ],
   "source": [
    "from sklearn.datasets import load_iris\n",
    "iris = load_iris()      #3차원 데이터셋\n",
    "\n",
    "x0 = iris.data[0,0]     #스칼라: 숫자 1개\n",
    "x1 = iris.data[0,:]     #행백터: 한 행을 가져옴(여러 개의 숫자/ 순서가 있음)\n",
    "x2 = iris.data[:,0]     #열백터: 한 열을 가져옴(여러 개의 숫자/ 순서가 있음)\n",
    "print(f\"{x0} \\n{x1} \\n{x2[:10]}\")"
   ]
  },
  {
   "cell_type": "code",
   "execution_count": 4,
   "id": "f2f9f17f",
   "metadata": {},
   "outputs": [
    {
     "data": {
      "text/plain": [
       "dict_keys(['data', 'target', 'frame', 'target_names', 'DESCR', 'feature_names', 'filename', 'data_module'])"
      ]
     },
     "execution_count": 4,
     "metadata": {},
     "output_type": "execute_result"
    }
   ],
   "source": [
    "iris.keys()"
   ]
  },
  {
   "cell_type": "code",
   "execution_count": 5,
   "id": "5234d0a5",
   "metadata": {},
   "outputs": [
    {
     "data": {
      "text/html": [
       "<div>\n",
       "<style scoped>\n",
       "    .dataframe tbody tr th:only-of-type {\n",
       "        vertical-align: middle;\n",
       "    }\n",
       "\n",
       "    .dataframe tbody tr th {\n",
       "        vertical-align: top;\n",
       "    }\n",
       "\n",
       "    .dataframe thead th {\n",
       "        text-align: right;\n",
       "    }\n",
       "</style>\n",
       "<table border=\"1\" class=\"dataframe\">\n",
       "  <thead>\n",
       "    <tr style=\"text-align: right;\">\n",
       "      <th></th>\n",
       "      <th>sepal length (cm)</th>\n",
       "      <th>sepal width (cm)</th>\n",
       "      <th>petal length (cm)</th>\n",
       "      <th>petal width (cm)</th>\n",
       "    </tr>\n",
       "  </thead>\n",
       "  <tbody>\n",
       "    <tr>\n",
       "      <th>0</th>\n",
       "      <td>5.1</td>\n",
       "      <td>3.5</td>\n",
       "      <td>1.4</td>\n",
       "      <td>0.2</td>\n",
       "    </tr>\n",
       "    <tr>\n",
       "      <th>1</th>\n",
       "      <td>4.9</td>\n",
       "      <td>3.0</td>\n",
       "      <td>1.4</td>\n",
       "      <td>0.2</td>\n",
       "    </tr>\n",
       "    <tr>\n",
       "      <th>2</th>\n",
       "      <td>4.7</td>\n",
       "      <td>3.2</td>\n",
       "      <td>1.3</td>\n",
       "      <td>0.2</td>\n",
       "    </tr>\n",
       "    <tr>\n",
       "      <th>3</th>\n",
       "      <td>4.6</td>\n",
       "      <td>3.1</td>\n",
       "      <td>1.5</td>\n",
       "      <td>0.2</td>\n",
       "    </tr>\n",
       "    <tr>\n",
       "      <th>4</th>\n",
       "      <td>5.0</td>\n",
       "      <td>3.6</td>\n",
       "      <td>1.4</td>\n",
       "      <td>0.2</td>\n",
       "    </tr>\n",
       "  </tbody>\n",
       "</table>\n",
       "</div>"
      ],
      "text/plain": [
       "   sepal length (cm)  sepal width (cm)  petal length (cm)  petal width (cm)\n",
       "0                5.1               3.5                1.4               0.2\n",
       "1                4.9               3.0                1.4               0.2\n",
       "2                4.7               3.2                1.3               0.2\n",
       "3                4.6               3.1                1.5               0.2\n",
       "4                5.0               3.6                1.4               0.2"
      ]
     },
     "execution_count": 5,
     "metadata": {},
     "output_type": "execute_result"
    }
   ],
   "source": [
    "df = pd.DataFrame(iris.data, columns=iris.feature_names)\n",
    "df.head()"
   ]
  },
  {
   "cell_type": "code",
   "execution_count": 48,
   "id": "778d40d3",
   "metadata": {},
   "outputs": [
    {
     "data": {
      "text/plain": [
       "array(['setosa', 'versicolor', 'virginica'], dtype='<U10')"
      ]
     },
     "execution_count": 48,
     "metadata": {},
     "output_type": "execute_result"
    }
   ],
   "source": [
    "iris.target_names"
   ]
  },
  {
   "cell_type": "code",
   "execution_count": 43,
   "id": "46a630cb",
   "metadata": {},
   "outputs": [
    {
     "data": {
      "text/plain": [
       "0    50\n",
       "1    50\n",
       "2    50\n",
       "Name: target, dtype: int64"
      ]
     },
     "execution_count": 43,
     "metadata": {},
     "output_type": "execute_result"
    }
   ],
   "source": [
    "df['target'].value_counts()    #target_names 3종류를 숫자로 구분해 놓은 거"
   ]
  },
  {
   "cell_type": "code",
   "execution_count": 42,
   "id": "67c0ff58",
   "metadata": {},
   "outputs": [
    {
     "data": {
      "text/html": [
       "<div>\n",
       "<style scoped>\n",
       "    .dataframe tbody tr th:only-of-type {\n",
       "        vertical-align: middle;\n",
       "    }\n",
       "\n",
       "    .dataframe tbody tr th {\n",
       "        vertical-align: top;\n",
       "    }\n",
       "\n",
       "    .dataframe thead th {\n",
       "        text-align: right;\n",
       "    }\n",
       "</style>\n",
       "<table border=\"1\" class=\"dataframe\">\n",
       "  <thead>\n",
       "    <tr style=\"text-align: right;\">\n",
       "      <th></th>\n",
       "      <th>sepal length (cm)</th>\n",
       "      <th>sepal width (cm)</th>\n",
       "      <th>petal length (cm)</th>\n",
       "      <th>petal width (cm)</th>\n",
       "      <th>target</th>\n",
       "    </tr>\n",
       "  </thead>\n",
       "  <tbody>\n",
       "    <tr>\n",
       "      <th>0</th>\n",
       "      <td>5.1</td>\n",
       "      <td>3.5</td>\n",
       "      <td>1.4</td>\n",
       "      <td>0.2</td>\n",
       "      <td>0</td>\n",
       "    </tr>\n",
       "    <tr>\n",
       "      <th>1</th>\n",
       "      <td>4.9</td>\n",
       "      <td>3.0</td>\n",
       "      <td>1.4</td>\n",
       "      <td>0.2</td>\n",
       "      <td>0</td>\n",
       "    </tr>\n",
       "    <tr>\n",
       "      <th>2</th>\n",
       "      <td>4.7</td>\n",
       "      <td>3.2</td>\n",
       "      <td>1.3</td>\n",
       "      <td>0.2</td>\n",
       "      <td>0</td>\n",
       "    </tr>\n",
       "    <tr>\n",
       "      <th>3</th>\n",
       "      <td>4.6</td>\n",
       "      <td>3.1</td>\n",
       "      <td>1.5</td>\n",
       "      <td>0.2</td>\n",
       "      <td>0</td>\n",
       "    </tr>\n",
       "    <tr>\n",
       "      <th>4</th>\n",
       "      <td>5.0</td>\n",
       "      <td>3.6</td>\n",
       "      <td>1.4</td>\n",
       "      <td>0.2</td>\n",
       "      <td>0</td>\n",
       "    </tr>\n",
       "  </tbody>\n",
       "</table>\n",
       "</div>"
      ],
      "text/plain": [
       "   sepal length (cm)  sepal width (cm)  petal length (cm)  petal width (cm)  \\\n",
       "0                5.1               3.5                1.4               0.2   \n",
       "1                4.9               3.0                1.4               0.2   \n",
       "2                4.7               3.2                1.3               0.2   \n",
       "3                4.6               3.1                1.5               0.2   \n",
       "4                5.0               3.6                1.4               0.2   \n",
       "\n",
       "   target  \n",
       "0       0  \n",
       "1       0  \n",
       "2       0  \n",
       "3       0  \n",
       "4       0  "
      ]
     },
     "execution_count": 42,
     "metadata": {},
     "output_type": "execute_result"
    }
   ],
   "source": [
    "df['target'] = iris.target\n",
    "df.head()"
   ]
  },
  {
   "cell_type": "code",
   "execution_count": 6,
   "id": "56eaf0d6",
   "metadata": {},
   "outputs": [
    {
     "data": {
      "text/plain": [
       "array([[5.1],\n",
       "       [3.5],\n",
       "       [1.4],\n",
       "       [0.2]])"
      ]
     },
     "execution_count": 6,
     "metadata": {},
     "output_type": "execute_result"
    }
   ],
   "source": [
    "# 넘파이를 사용한 벡터 표현: 벡터를 열 개수가 하나인 2차원 배열로 표현\n",
    "# 4차원 벡터, 2차원 배열: 배열의 차원은 벡터의 차원과 다른 의미\n",
    "x1 = np.array([[5.1],[3.5],[1.4],[0.2]])\n",
    "x1"
   ]
  },
  {
   "cell_type": "code",
   "execution_count": 7,
   "id": "6347caea",
   "metadata": {},
   "outputs": [
    {
     "data": {
      "text/plain": [
       "array([5.1, 3.5, 1.4, 0.2])"
      ]
     },
     "execution_count": 7,
     "metadata": {},
     "output_type": "execute_result"
    }
   ],
   "source": [
    "# 넘파이는 1차원 배열 객체도 벡터로 인정\n",
    "# (마찬가지로 4차원 벡터/ 원소의 개수가 4개이므로)\n",
    "x2 = np.array([5.1,3.5,1.4,0.2])\n",
    "x2"
   ]
  },
  {
   "cell_type": "code",
   "execution_count": 8,
   "id": "93ca0049",
   "metadata": {},
   "outputs": [
    {
     "data": {
      "text/plain": [
       "array([[1, 2, 3],\n",
       "       [4, 5, 6],\n",
       "       [7, 8, 9]])"
      ]
     },
     "execution_count": 8,
     "metadata": {},
     "output_type": "execute_result"
    }
   ],
   "source": [
    "# 9차원 벡터 ((3,3)리스트/ 2차원 배열)\n",
    "x3 = np.array([[1,2,3],[4,5,6],[7,8,9]])\n",
    "x3"
   ]
  },
  {
   "cell_type": "markdown",
   "id": "83ba60f6",
   "metadata": {},
   "source": [
    "- 행렬 : 복수의 차원을 가지는 데이터 레코드가 다시 여러 개 있는 경우의 데이터를 합쳐서 표기한 것\n",
    "- 붓꽃 예에서 붓꽃 6 송이에 대해 꽃잎과 꽃받침 크기를 측정했다면 4차원 붓꽃 데이터가 6개. 4 x 6 = 24개의 실수 숫자가 있은 것이며 이 숫자 집합을 행렬로 나타낼 수 있다.\n",
    "- 벡터는 열의 수가 1인 행렬이라고 볼 수 있으므로 열벡터라고도 한다.\n",
    "- 데이터를 행렬로 묶어서 표시할 때는 붓꽃 하나에 대한 데이터 레코드, 즉 하나의 벡터가 열이 아닌 행으로 표시한다.\n",
    "- 하나의 데이터 레코드를 단독으로 벡터로 나타낼 때는 하나의 열로 나타내고 복수의 데이터 레코드 집합을 행렬로 나타낼 때는 하나의 데이터 레코드가 하나의 행으로 표기하는 것은 일관성이 없어 보이지만 다른 연산 시 필요하여 데이터 분석에서 쓰는 일반적인 관례임을 유의해야 함"
   ]
  },
  {
   "cell_type": "code",
   "execution_count": 9,
   "id": "d0fffae8",
   "metadata": {},
   "outputs": [
    {
     "data": {
      "text/html": [
       "<div>\n",
       "<style scoped>\n",
       "    .dataframe tbody tr th:only-of-type {\n",
       "        vertical-align: middle;\n",
       "    }\n",
       "\n",
       "    .dataframe tbody tr th {\n",
       "        vertical-align: top;\n",
       "    }\n",
       "\n",
       "    .dataframe thead th {\n",
       "        text-align: right;\n",
       "    }\n",
       "</style>\n",
       "<table border=\"1\" class=\"dataframe\">\n",
       "  <thead>\n",
       "    <tr style=\"text-align: right;\">\n",
       "      <th></th>\n",
       "      <th>sepal length (cm)</th>\n",
       "      <th>sepal width (cm)</th>\n",
       "      <th>petal length (cm)</th>\n",
       "      <th>petal width (cm)</th>\n",
       "    </tr>\n",
       "  </thead>\n",
       "  <tbody>\n",
       "    <tr>\n",
       "      <th>0</th>\n",
       "      <td>5.1</td>\n",
       "      <td>3.5</td>\n",
       "      <td>1.4</td>\n",
       "      <td>0.2</td>\n",
       "    </tr>\n",
       "    <tr>\n",
       "      <th>1</th>\n",
       "      <td>4.9</td>\n",
       "      <td>3.0</td>\n",
       "      <td>1.4</td>\n",
       "      <td>0.2</td>\n",
       "    </tr>\n",
       "    <tr>\n",
       "      <th>2</th>\n",
       "      <td>4.7</td>\n",
       "      <td>3.2</td>\n",
       "      <td>1.3</td>\n",
       "      <td>0.2</td>\n",
       "    </tr>\n",
       "    <tr>\n",
       "      <th>3</th>\n",
       "      <td>4.6</td>\n",
       "      <td>3.1</td>\n",
       "      <td>1.5</td>\n",
       "      <td>0.2</td>\n",
       "    </tr>\n",
       "    <tr>\n",
       "      <th>4</th>\n",
       "      <td>5.0</td>\n",
       "      <td>3.6</td>\n",
       "      <td>1.4</td>\n",
       "      <td>0.2</td>\n",
       "    </tr>\n",
       "    <tr>\n",
       "      <th>5</th>\n",
       "      <td>5.4</td>\n",
       "      <td>3.9</td>\n",
       "      <td>1.7</td>\n",
       "      <td>0.4</td>\n",
       "    </tr>\n",
       "  </tbody>\n",
       "</table>\n",
       "</div>"
      ],
      "text/plain": [
       "   sepal length (cm)  sepal width (cm)  petal length (cm)  petal width (cm)\n",
       "0                5.1               3.5                1.4               0.2\n",
       "1                4.9               3.0                1.4               0.2\n",
       "2                4.7               3.2                1.3               0.2\n",
       "3                4.6               3.1                1.5               0.2\n",
       "4                5.0               3.6                1.4               0.2\n",
       "5                5.4               3.9                1.7               0.4"
      ]
     },
     "execution_count": 9,
     "metadata": {},
     "output_type": "execute_result"
    }
   ],
   "source": [
    "df.head(6)"
   ]
  },
  {
   "cell_type": "code",
   "execution_count": 10,
   "id": "0b354f43",
   "metadata": {},
   "outputs": [
    {
     "data": {
      "text/plain": [
       "sepal length (cm)    5.1\n",
       "sepal width (cm)     3.5\n",
       "petal length (cm)    1.4\n",
       "petal width (cm)     0.2\n",
       "Name: 0, dtype: float64"
      ]
     },
     "execution_count": 10,
     "metadata": {},
     "output_type": "execute_result"
    }
   ],
   "source": [
    "df.iloc[0,:]   #행 뽑기\n",
    "\n",
    "#하나의 데이터 레코드를 단독으로 벡터로 나타낼 때는 하나의 열로 나타내고~\n",
    "# -> 행을 뽑았지만 표기는 열처럼 해줌"
   ]
  },
  {
   "cell_type": "code",
   "execution_count": 11,
   "id": "8b94d4c1",
   "metadata": {},
   "outputs": [
    {
     "name": "stdout",
     "output_type": "stream",
     "text": [
      "[[11 12 13]\n",
      " [21 22 23]]\n"
     ]
    },
    {
     "data": {
      "text/plain": [
       "array([[11, 21],\n",
       "       [12, 22],\n",
       "       [13, 23]])"
      ]
     },
     "execution_count": 11,
     "metadata": {},
     "output_type": "execute_result"
    }
   ],
   "source": [
    "# 전치연산(행과 열을 뒤바꿔줌): 2행3열 -> 3열2행\n",
    "a = np.array([[11,12,13],[21,22,23]])\n",
    "print(a)\n",
    "a.T"
   ]
  },
  {
   "cell_type": "code",
   "execution_count": 12,
   "id": "829bbc8a",
   "metadata": {},
   "outputs": [
    {
     "data": {
      "text/plain": [
       "array([[0.],\n",
       "       [0.],\n",
       "       [0.]])"
      ]
     },
     "execution_count": 12,
     "metadata": {},
     "output_type": "execute_result"
    }
   ],
   "source": [
    "# 영벡터\n",
    "np.zeros((3,1))"
   ]
  },
  {
   "cell_type": "code",
   "execution_count": 13,
   "id": "33c31d43",
   "metadata": {},
   "outputs": [
    {
     "data": {
      "text/plain": [
       "array([[1.],\n",
       "       [1.],\n",
       "       [1.]])"
      ]
     },
     "execution_count": 13,
     "metadata": {},
     "output_type": "execute_result"
    }
   ],
   "source": [
    "# 일벡터\n",
    "np.ones((3,1))"
   ]
  },
  {
   "cell_type": "code",
   "execution_count": 14,
   "id": "4e62eff8",
   "metadata": {},
   "outputs": [
    {
     "data": {
      "text/plain": [
       "array([[0, 1, 2],\n",
       "       [3, 4, 5],\n",
       "       [6, 7, 8]])"
      ]
     },
     "execution_count": 14,
     "metadata": {},
     "output_type": "execute_result"
    }
   ],
   "source": [
    "# 정방행렬: 행,열 길이가 같음\n",
    "np.full((3,3),1)\n",
    "np.arange(9).reshape(3,3)"
   ]
  },
  {
   "cell_type": "code",
   "execution_count": 15,
   "id": "0eb2e1e5",
   "metadata": {},
   "outputs": [
    {
     "data": {
      "text/plain": [
       "array([[1, 0, 0],\n",
       "       [0, 3, 0],\n",
       "       [0, 0, 5]])"
      ]
     },
     "execution_count": 15,
     "metadata": {},
     "output_type": "execute_result"
    }
   ],
   "source": [
    "# 대각 정방행렬: 주대각선 1,3,5 (나머지는 전부 0)\n",
    "np.diag([1,3,5])"
   ]
  },
  {
   "cell_type": "code",
   "execution_count": 16,
   "id": "06c7bec1",
   "metadata": {},
   "outputs": [
    {
     "data": {
      "text/plain": [
       "array([[1., 0., 0.],\n",
       "       [0., 1., 0.],\n",
       "       [0., 0., 1.]])"
      ]
     },
     "execution_count": 16,
     "metadata": {},
     "output_type": "execute_result"
    }
   ],
   "source": [
    "# 항등행렬: 주대각선이 전부 1인 정방행렬 (나머지 전부 0)\n",
    "np.diag([1,1,1])\n",
    "np.identity(3)\n",
    "np.eye(3)"
   ]
  },
  {
   "cell_type": "code",
   "execution_count": 17,
   "id": "bf91e708",
   "metadata": {},
   "outputs": [],
   "source": [
    "# 벡터와 벡터의 곱셈, 내적\n",
    "from PIL import Image\n",
    "image = Image.open('내적.jpg')   # 그림 새 창에 띄우기\n",
    "image.show()"
   ]
  },
  {
   "cell_type": "code",
   "execution_count": 18,
   "id": "c5eea7b3",
   "metadata": {},
   "outputs": [],
   "source": [
    "# <img src ='곱셈.jpg' STYLE='width 800px;'>\n",
    "# 마크다운에서 이렇게 입력하면 아래처럼 이미지 뜸"
   ]
  },
  {
   "cell_type": "markdown",
   "id": "dfe2fe8d",
   "metadata": {},
   "source": [
    "<img src ='곱셈.jpg' STYLE='width 800px;'>"
   ]
  },
  {
   "cell_type": "markdown",
   "id": "eacf617b",
   "metadata": {},
   "source": [
    "X1(5) * (1,3,5) = a1,b1,c1 <br>\n",
    "X2(10) * (2,4,6) = a2,b2,c2 <br>\n",
    "=> 결과값: Y1(a1+a2), Y2(b1+b2), Y3(c1+c2)"
   ]
  },
  {
   "cell_type": "markdown",
   "id": "f2318d02",
   "metadata": {},
   "source": [
    "<img src ='내적.jpg' STYLE='width 800px;'>"
   ]
  },
  {
   "cell_type": "markdown",
   "id": "8451c295",
   "metadata": {},
   "source": [
    "방향이 다르면 곱셈이 안됨 -> 그래서 a를 b 방향으로 옮겨줌(정사영 시킴)\n",
    "\n",
    "- sin(theta(각도)) = 높이(c)/빗변(a)\n",
    "- cos(theta) = 밑변(b)/빗변(a)\n",
    "- tan(theta) = 높이(c)/밑변(b)\n",
    "\n",
    "-> a*b를 해준 다음, 각도에 맞게 sin/cos/tan 해주면 됨"
   ]
  },
  {
   "cell_type": "code",
   "execution_count": 19,
   "id": "47cbd290",
   "metadata": {},
   "outputs": [
    {
     "name": "stdout",
     "output_type": "stream",
     "text": [
      "[10 12 14 16 18]\n",
      "[10 10 10 10 10]\n"
     ]
    }
   ],
   "source": [
    "x = np.array([10,11,12,13,14])\n",
    "y = np.array([0,1,2,3,4])\n",
    "print(x+y)\n",
    "print(x-y)"
   ]
  },
  {
   "cell_type": "code",
   "execution_count": 20,
   "id": "ed645ccd",
   "metadata": {},
   "outputs": [
    {
     "data": {
      "text/plain": [
       "array([[60, 46],\n",
       "       [39, 48]])"
      ]
     },
     "execution_count": 20,
     "metadata": {},
     "output_type": "execute_result"
    }
   ],
   "source": [
    "x1 = np.random.randint(30,50,size=(2,2))\n",
    "x2 = np.random.randint(20,30,size=(2,2))\n",
    "x3 = np.random.randint(10,20,size=(2,2))\n",
    "x1+x2-x3"
   ]
  },
  {
   "cell_type": "code",
   "execution_count": 21,
   "id": "16a75731",
   "metadata": {},
   "outputs": [
    {
     "data": {
      "text/plain": [
       "array([0, 1, 2])"
      ]
     },
     "execution_count": 21,
     "metadata": {},
     "output_type": "execute_result"
    }
   ],
   "source": [
    "# 브로드캐스팅\n",
    "x1 = np.array([10,11,12])\n",
    "x1-10"
   ]
  },
  {
   "cell_type": "code",
   "execution_count": 22,
   "id": "252863a6",
   "metadata": {},
   "outputs": [
    {
     "data": {
      "text/plain": [
       "array([30, 33, 36])"
      ]
     },
     "execution_count": 22,
     "metadata": {},
     "output_type": "execute_result"
    }
   ],
   "source": [
    "np.dot(3, x1)   #내적계산(행렬곱) (앞에 변수 대신 숫자(3) 들어간 거)"
   ]
  },
  {
   "cell_type": "code",
   "execution_count": 23,
   "id": "e59d0f86",
   "metadata": {},
   "outputs": [
    {
     "name": "stdout",
     "output_type": "stream",
     "text": [
      "[[1 2 3]]\n",
      "[[4]\n",
      " [5]\n",
      " [6]]\n",
      "\n",
      "[[32]]\n",
      "[[32]]\n"
     ]
    }
   ],
   "source": [
    "# 넘파이에서 벡터와 행렬의 내적은 dot() 또는 @ 연산자로 계산\n",
    "x = np.array([[1],[2],[3]])   #3행1열\n",
    "y = np.array([[4],[5],[6]])   #3행1열\n",
    "\n",
    "print(x.T)    #연산을 위해 한쪽을 전치시킴 (3행1열 -> 1행3열)\n",
    "print(y)      #둘 중 하나는 반드시 행이 나열된 행벡터여야 함\n",
    "print()\n",
    "\n",
    "print(x.T@y)    # @: 행렬내적 계산 (다차원 행렬)\n",
    "print(np.dot(x.T, y))    # dot: 내적계산 (1차원 배열)"
   ]
  },
  {
   "cell_type": "code",
   "execution_count": 24,
   "id": "3c2cb9b4",
   "metadata": {},
   "outputs": [
    {
     "name": "stdout",
     "output_type": "stream",
     "text": [
      "[[1 2 3]\n",
      " [4 5 6]] \n",
      "\n",
      "[[ 6 23]\n",
      " [-1  7]\n",
      " [ 8  9]]\n"
     ]
    },
    {
     "data": {
      "text/plain": [
       "array([[ 28,  64],\n",
       "       [ 67, 181]])"
      ]
     },
     "execution_count": 24,
     "metadata": {},
     "output_type": "execute_result"
    }
   ],
   "source": [
    "x = np.arange(1,7).reshape(2,3)\n",
    "y = np.array([[6,23], [-1,7], [8,9]])\n",
    "print(x,'\\n')   #2행 3열\n",
    "print(y)   #3행 2열\n",
    "\n",
    "np.dot(x,y)\n",
    "x.dot(y)    #이렇게도 쓸 수 있음\n",
    "# => 결과는 2행 2열 (2행=x의 행, 2열=y의열)"
   ]
  },
  {
   "cell_type": "markdown",
   "id": "84563adc",
   "metadata": {},
   "source": [
    "결과 2행 2열 ->\n",
    "- 1행 1열: x의 1행(1,2,3)과 y의 1열(6,-1,8)을 각각 곱해서(6,-2,24) 합함(28)\n",
    "- 1행 2열: x의 1행(1,2,3)과 y의 2열(23,7,9)을 각각 곱해서(23,14,27) 합함(64)\n",
    "- 2행 1열: x의 1행(4,5,6)과 y의 1열(6,-1,8)을 각각 곱해서(24,-5,48) 합함(67)\n",
    "- 2행 2열: x의 1행(4,5,6)과 y의 1열(23,7,9)을 각각 곱해서(104,35,54) 합함(181)"
   ]
  },
  {
   "cell_type": "markdown",
   "id": "50b9b6f1",
   "metadata": {},
   "source": [
    "#### 행렬곱\n",
    "- 앞 행렬의 열의 수가 뒤 행렬의 행의 수와 일치해야 한다.\n",
    "- 교환 법칙이 성립하지 않음 : (A @ B) != (B @ A)\n",
    "- 분배법칙은 성립함 : A @ (B + C) = A @ B + A @ C\n",
    "- 전치 연산도 덧셈, 뺄셈에 대한 분배 법칙 성립 : (A + B).T = A.T + B.T\n",
    "- 전치 연산과 곱셈의 경우에는 분배 법칙이 성립하지만, 전치 연산이 분배되면서 곱셈의 순서가 바뀜 (A @ B).T = (B.T @ A.T) != (A.T @ B.T)"
   ]
  },
  {
   "cell_type": "code",
   "execution_count": 25,
   "id": "dd70dac7",
   "metadata": {},
   "outputs": [
    {
     "name": "stdout",
     "output_type": "stream",
     "text": [
      "[[1 2]\n",
      " [3 4]] \n",
      "[[1. 0.]\n",
      " [0. 1.]] \n",
      "\n",
      "[[1. 2.]\n",
      " [3. 4.]]\n"
     ]
    }
   ],
   "source": [
    "# 항등행렬의 곱셈\n",
    "a = np.array([[1,2],[3,4]])\n",
    "i = np.eye(2)    #행 방향(1,0)(1,0)/ 열방향(1,0)(1,0)\n",
    "\n",
    "print(f\"{a} \\n{i} \\n\")\n",
    "\n",
    "# print(a@i)    # 어느방향(행/열)으로 읽던 i가 같아서 순서상관x\n",
    "print(i@a)"
   ]
  },
  {
   "cell_type": "code",
   "execution_count": 26,
   "id": "271290f9",
   "metadata": {},
   "outputs": [
    {
     "name": "stdout",
     "output_type": "stream",
     "text": [
      "[[0.3305785  0.30578512 0.3305785  ... 0.3966942  0.37190083 0.28512397]\n",
      " [0.32231405 0.32231405 0.29752067 ... 0.41322315 0.338843   0.2603306 ]\n",
      " [0.3264463  0.30991736 0.30578512 ... 0.40495867 0.36363637 0.27272728]\n",
      " ...\n",
      " [0.16115703 0.16528925 0.1570248  ... 0.14049587 0.1570248  0.16115703]\n",
      " [0.1570248  0.17768595 0.16115703 ... 0.14049587 0.1570248  0.1570248 ]\n",
      " [0.17768595 0.1694215  0.16528925 ... 0.1446281  0.15289256 0.15289256]] \n",
      "\n"
     ]
    },
    {
     "data": {
      "text/plain": [
       "Text(0.5, 1.0, 'image 1: $x_1$')"
      ]
     },
     "execution_count": 26,
     "metadata": {},
     "output_type": "execute_result"
    },
    {
     "data": {
      "image/png": "[encoded data removed]",
      "text/plain": [
       "<Figure size 640x480 with 1 Axes>"
      ]
     },
     "metadata": {},
     "output_type": "display_data"
    }
   ],
   "source": [
    "from sklearn.datasets import fetch_olivetti_faces\n",
    "faces = fetch_olivetti_faces()\n",
    "print(faces.images[6],'\\n')   #해당 이미지를 이루는 픽셀 정보값\n",
    "\n",
    "f,ax = plt.subplots(1,1)\n",
    "ax.imshow(faces.images[6], cmap=plt.cm.bone)\n",
    "\n",
    "ax.grid(False)     #격자 표시 제거\n",
    "ax.set_xticks([])\n",
    "ax.set_yticks([])\n",
    "ax.set_title('image 1: $x_1$')"
   ]
  },
  {
   "cell_type": "code",
   "execution_count": 27,
   "id": "9f5ad139",
   "metadata": {},
   "outputs": [
    {
     "data": {
      "text/plain": [
       "Text(0.5, 1.0, 'image 1: $x_1$')"
      ]
     },
     "execution_count": 27,
     "metadata": {},
     "output_type": "execute_result"
    },
    {
     "data": {
      "image/png": "[encoded data removed]",
      "text/plain": [
       "<Figure size 640x480 with 1 Axes>"
      ]
     },
     "metadata": {},
     "output_type": "display_data"
    }
   ],
   "source": [
    "f,ax = plt.subplots(1,1)\n",
    "ax.imshow(faces.images[10], cmap=plt.cm.bone)\n",
    "\n",
    "ax.grid(False) \n",
    "ax.set_xticks([])\n",
    "ax.set_yticks([])\n",
    "ax.set_title('image 1: $x_1$')"
   ]
  },
  {
   "cell_type": "code",
   "execution_count": 28,
   "id": "e5361620",
   "metadata": {},
   "outputs": [
    {
     "data": {
      "text/plain": [
       "Text(0.5, 1.0, 'image 3: $0.7x_1 + 0.3x_2$')"
      ]
     },
     "execution_count": 28,
     "metadata": {},
     "output_type": "execute_result"
    },
    {
     "data": {
      "image/png": "[encoded data removed]",
      "text/plain": [
       "<Figure size 640x480 with 3 Axes>"
      ]
     },
     "metadata": {},
     "output_type": "display_data"
    }
   ],
   "source": [
    "faces = fetch_olivetti_faces()\n",
    "\n",
    "f,ax = plt.subplots(1,3)\n",
    "\n",
    "ax[0].imshow(faces.images[6], cmap=plt.cm.bone)\n",
    "ax[0].grid(False)\n",
    "ax[0].set_xticks([])\n",
    "ax[0].set_yticks([])\n",
    "ax[0].set_title('image 1: $x_1$')\n",
    "\n",
    "ax[1].imshow(faces.images[10], cmap=plt.cm.bone)\n",
    "ax[1].grid(False)\n",
    "ax[1].set_xticks([])\n",
    "ax[1].set_yticks([])\n",
    "ax[1].set_title('image 2: $x_2$')\n",
    "\n",
    "new_face = (0.7*faces.images[6]) + (0.3*faces.images[10])\n",
    "ax[2].imshow(new_face, cmap=plt.cm.bone)\n",
    "ax[2].grid(False)\n",
    "ax[2].set_xticks([])\n",
    "ax[2].set_yticks([])\n",
    "ax[2].set_title('image 3: $0.7x_1 + 0.3x_2$')"
   ]
  },
  {
   "cell_type": "markdown",
   "id": "3c807ffc",
   "metadata": {},
   "source": [
    "#### 벡터의 norm이란 \n",
    "- 벡터의 크기를 측정하는 방법 중 하나입니다. 벡터의 norm은 일반적으로 벡터의 길이 또는 크기를 의미합니다. 벡터의 norm은 벡터의 요소에 대한 제곱 합의 제곱근으로 계산됩니다. (싹 다 제곱해서 더한 다음 루트)\n",
    "\n",
    "만약, 벡터 $x = (x_1, x_2, ..., x_n)$ 이 있다면, $x$의 norm은 다음과 같이 정의됩니다.\n",
    "\n",
    "$$||x|| = \\sqrt{x_1^2 + x_2^2 + \\cdots + x_n^2}$$\n",
    "\n",
    "여기서 $||x||$는 벡터 $x$의 norm을 나타냅니다.\n",
    "\n",
    "- 벡터의 norm은 다음과 같은 성질을 가지고 있습니다.\n",
    "\n",
    "  - $||x|| \\geq 0$ (벡터의 norm은 항상 0 이상입니다.)\n",
    "  - $||x|| = 0$ if and only if $x = \\mathbf{0}$ (벡터의 norm이 0일 경우, 해당 벡터는 영 벡터입니다.)\n",
    "  - $||ax|| = |a| \\cdot ||x||$ (스칼라 $a$에 대해 벡터 $x$의 norm은 $a$의 절댓값과 $x$의 norm의 곱과 같습니다.)\n",
    "  - $||x+y|| \\leq ||x|| + ||y||$ (두 벡터의 합의 norm은 각 벡터의 norm의 합보다 작거나 같습니다. 이를 삼각 부등식이라고 합니다.) <br><br>\n",
    "- 벡터의 norm은 선형 대수학에서 매우 중요한 개념이며, 벡터 공간에서 거리와 관련된 개념을 다룰 때 자주 사용됩니다.\n",
    "\n",
    "- 위 4가지 성질을 만족하기만 하면 놈이라고 할 수 있는데, 많이 사용되는 놈은 다음 세 가지이다. 놈을 구별하기 위하여 아래 첨자를 사용하고, $||x||_1을 1-놈, ||x||_2 를 2-놈, ||x||_\\infty를 3-놈$이라고 한다.\n",
    "- 1-놈은 벡터 x의 성분의 절대값을 모두 더한 것으로, 2-놈은 벡터의 기하학적 길이로, $\\infty-놈$은 벡터 성분 중에서 크기가 제일 큰 값으로 정의한다.\n",
    "- p = 2인 경우가 가장 많이 쓰이므로 p값 표기가 없는 경우 p=2인 프로베니우스 놈을 사용한다.\n",
    "\n",
    "https://bskyvision.com/825  \n",
    "https://pasus.tistory.com/34"
   ]
  },
  {
   "cell_type": "markdown",
   "id": "8115c579",
   "metadata": {},
   "source": [
    "#### L1 norm: 절대값의 합\n",
    "벡터의 각 요소의 절댓값을 모두 더한 값으로, 벡터의 원소들의 절댓값의 합을 의미합니다. 예를 들어, 2차원 벡터 (3, -4)의 L1 norm은 |3| + |-4| = 7입니다.\n",
    "\n",
    "#### L2 norm: 피타고라스 방정식(대각선 거리)\n",
    "벡터의 각 요소의 제곱을 모두 더한 값을 제곱근으로 구한 값으로, 벡터의 원소들의 제곱의 합의 제곱근을 의미합니다. 예를 들어, 2차원 벡터 (3, -4)의 L2 norm은 √(3^2 + (-4)^2) = 5입니다.<br>\n",
    "가장 많이 쓰이는 norm. p값 표기가 따로 없는 경우 디폴트로 사용됨.\n",
    "\n",
    "#### L∞ norm: 가장 큰 절대값\n",
    "요소들 중에서 절댓값이 가장 큰 값을 나타내는 벡터의 크기 혹은 길이를 의미합니다. 예를 들어, 3차원 벡터 (1, -5, 3)의 L∞ norm은 |-5| = 5입니다. "
   ]
  },
  {
   "cell_type": "code",
   "execution_count": 29,
   "id": "7e323818",
   "metadata": {},
   "outputs": [
    {
     "data": {
      "text/plain": [
       "array([[-4, -3, -2],\n",
       "       [-1,  0,  1],\n",
       "       [ 2,  3,  4]])"
      ]
     },
     "execution_count": 29,
     "metadata": {},
     "output_type": "execute_result"
    }
   ],
   "source": [
    "a = (np.arange(9)-4).reshape(3,3)\n",
    "a"
   ]
  },
  {
   "cell_type": "code",
   "execution_count": 30,
   "id": "2457d20c",
   "metadata": {},
   "outputs": [
    {
     "data": {
      "text/plain": [
       "7.745966692414834"
      ]
     },
     "execution_count": 30,
     "metadata": {},
     "output_type": "execute_result"
    }
   ],
   "source": [
    "# 선형대수학(Linear algebra)\n",
    "np.linalg.norm(a)"
   ]
  },
  {
   "cell_type": "code",
   "execution_count": 31,
   "id": "a8f1f430",
   "metadata": {},
   "outputs": [
    {
     "name": "stdout",
     "output_type": "stream",
     "text": [
      "5.0\n",
      "3.605551275463989\n",
      "3.0\n"
     ]
    }
   ],
   "source": [
    "# norm\n",
    "x=[2,3]\n",
    "print(np.linalg.norm(x, 1))    # L1 norm 사용(요소들의 합)\n",
    "print(np.linalg.norm(x, 2))    # L2 norm 사용(피타고라스 정리)\n",
    "print(np.linalg.norm(x, np.inf))    # L∞ norm 사용(가장 큰 절댓값)"
   ]
  },
  {
   "cell_type": "markdown",
   "id": "eb43c498",
   "metadata": {},
   "source": [
    "#### 행렬식(determinant)은\n",
    "행렬식은 정방행렬에 대해서만 정의되는 값으로, 행렬의 성질(선환변형에 대한 부피변화율)을 나타내는 중요한 값 중 하나입니다. \n",
    "\n",
    "- 행렬식은 행렬의 크기에 상관없이 항상 하나의 스칼라값으로 계산됩니다.\n",
    "행렬 A의 행렬식은 $|A|$ 또는 det(A)로 표기합니다. 2x2 행렬의 경우, 다음과 같이 행렬식을 계산할 수 있습니다.$$det(A) = a11*a22 - a12*a21$$\n",
    "<br>\n",
    "- 행렬식의 결과를 가지고 역향렬의 존재여부를 탐색할 수 있음\n",
    "- 행렬식이 0이면, 해당 행렬은 역행렬을 가지지 않습니다.\n",
    "- 반대로, 행렬식이 0이 아니면, 해당 행렬은 역행렬을 가지며, 선형 변환의 크기와 방향을 보존하는 역행렬을 사용하여 역변환을 수행할 수 있습니다.\n",
    "<br><br>\n",
    "- 행렬식의 절댓값==1 인 행렬\n",
    ": 크기를 보존하는 선형 변환을 나타내며, 이러한 행렬은 회전 또는 반사와 같은 변환이 될 수 있습니다. \n",
    "- 행렬식의 절댓값 <= 1 인 행렬\n",
    ": 크기를 축소하는 선형 변환이며, 이러한 행렬은 변환 중심을 기준으로 축소가 됩니다.\n",
    "- 행렬식의 절댓값 >= 1 인 행렬\n",
    ": 크기를 확대하는 선형 변환을 나타내며, 이러한 행렬은 변환 중심을 기준으로 확대됩니다.\n",
    "<br><br>\n",
    "- 행렬식은 선형 방정식의 해를 구하는 데에도 사용됩니다 $Ax = b$에서 A는 n x n 행렬이며, x와 b는 n 차원 벡터입니다.\n",
    "- 만약 A의 행렬식이 0이 아니면, 이 방정식은 유일한 해(대응되는 값이 1개)를 가집니다. 그러나, A의 행렬식이 0이면(역행렬이 없으면), 이 방정식은 무수히 많은 해를 가질 수 있습니다.\n",
    "- 행렬식은 행렬식이 0이 아닌 행렬에 대한 Cramer의 법칙을 사용하여 역행렬을 구하는 데에도 사용됩니다. 역행렬은 선형 방정식의 해를 구하는 데 사용될 수 있으며, 행렬식이 0이 아닌 경우에만 존재합니다."
   ]
  },
  {
   "cell_type": "markdown",
   "id": "341a6574",
   "metadata": {},
   "source": [
    "#### 선형변환\n",
    "- 벡터 공간에서 한 벡터를 다른 벡터로 변환하는 선형 연산(벡터의 크기와 방향을 유지하면서 벡터를 변환시킴)\n",
    "- 선형성을 유지하는 연산\n",
    "- 함수와 비슷한 개념 -> 입력값을 넣었을 때 어떠한 행렬에 의해 '변환'을 거쳐 결과값이 나오는 것\n",
    "\n",
    "#### 선형성을 만족하는 조건\n",
    "- 덧셈에 대해 닫혀 있어야 합니다. 즉, 두 벡터를 더한 결과 역시 벡터 공간 내에 존재해야 합니다.\n",
    "- 스칼라배에 대해 닫혀 있어야 합니다. 즉, 어떤 벡터에 스칼라 값을 곱한 결과 역시 벡터 공간 내에 존재해야 합니다.\n",
    "- 분배법칙이 성립해야 합니다. 즉, 벡터와 벡터의 합에 대해 스칼라를 곱하거나, 벡터를 스칼라로 곱한 후 더한 결과가, 먼저 벡터 간의 합을 구한 후 스칼라를 곱한 결과와 같아야 합니다.\n",
    "- 영벡터(zero vector)에 대해 선형성이 성립해야 합니다. 즉, 어떤 벡터에 영벡터를 곱한 결과는 항상 영벡터가 되어야 합니다.\n",
    "\n",
    "#### 특징 3가지\n",
    "- 벡터의 덧셈과 스칼라 곱에 대해 분배법칙이 성립합니다.\n",
    "- 두 벡터의 합의 선형변환은 각각의 벡터를 선형변환한 후에 합하는 것과 같습니다.\n",
    "- 어떤 벡터를 스칼라로 곱한 후 선형변환하는 것은 스칼라와 선형변환을 교환할 수 있습니다."
   ]
  },
  {
   "cell_type": "markdown",
   "id": "b8693f42",
   "metadata": {},
   "source": [
    "#### 역행렬\n",
    "Ax = b : 계수행렬(A), 미지수벡터(x), 상수벡터(b)\n",
    "- A, x, b가 스칼라 실수인 경우 : x = b/A \n",
    "- 행렬에서는  나눗셈 대신 역행렬 사용 : x = $A^{-1}$b"
   ]
  },
  {
   "cell_type": "code",
   "execution_count": 32,
   "id": "4b9a9b4f",
   "metadata": {},
   "outputs": [
    {
     "name": "stdout",
     "output_type": "stream",
     "text": [
      "[[-2.   1. ]\n",
      " [ 1.5 -0.5]]\n"
     ]
    },
    {
     "data": {
      "text/plain": [
       "array([[1., 0.],\n",
       "       [0., 1.]])"
      ]
     },
     "execution_count": 32,
     "metadata": {},
     "output_type": "execute_result"
    }
   ],
   "source": [
    "# 역행렬은 특정한 행렬과 곱했을 때 항등행렬(대각선1, 나머지0인 행렬)이 나오는 행렬\n",
    "a = np.array([[1,2],[3,4]])    #역행렬을 구할 행렬\n",
    "a_inv = np.linalg.inv(a)       #a의 역행렬 계산\n",
    "print(a_inv)\n",
    "\n",
    "(a @ a_inv).round(2)   #항등행렬이 나옴(역행렬 검증)\n",
    "# [1, 0],\n",
    "# [0, 1]"
   ]
  },
  {
   "cell_type": "code",
   "execution_count": 33,
   "id": "dafd80b3",
   "metadata": {},
   "outputs": [
    {
     "name": "stdout",
     "output_type": "stream",
     "text": [
      "[[1 2 1]\n",
      " [2 2 3]\n",
      " [1 3 1]]\n",
      "\n",
      "[[ 7. -1. -4.]\n",
      " [-1.  0.  1.]\n",
      " [-4.  1.  2.]]\n",
      "\n",
      "[[1. 0. 0.]\n",
      " [0. 1. 0.]\n",
      " [0. 0. 1.]]\n"
     ]
    }
   ],
   "source": [
    "# 역행렬 확인 -> 항등행렬이 나옴\n",
    "np.random.seed(0)\n",
    "m1 = np.random.randint(1,4, size=(3,3))\n",
    "m2 = np.linalg.inv(m1)\n",
    "print(f\"{m1}\\n\\n{m2}\\n\")\n",
    "\n",
    "m3 = m1 @ m2\n",
    "print(m3)"
   ]
  },
  {
   "cell_type": "code",
   "execution_count": 34,
   "id": "ca231a59",
   "metadata": {},
   "outputs": [
    {
     "name": "stdout",
     "output_type": "stream",
     "text": [
      "[[1 2]\n",
      " [2 4]]\n",
      "\n",
      "행렬식: 0.0\n",
      "\n"
     ]
    }
   ],
   "source": [
    "# 역행렬이 존재하지 않는 경우는 행렬식 값==0\n",
    "n1 = np.array([[1,2],[2,4]])\n",
    "n2 = np.linalg.det(n1)\n",
    "print(f\"{n1}\\n\\n행렬식: {n2}\\n\")"
   ]
  },
  {
   "cell_type": "code",
   "execution_count": 35,
   "id": "d7fc567f",
   "metadata": {},
   "outputs": [
    {
     "name": "stdout",
     "output_type": "stream",
     "text": [
      "행렬식: -1.0\n"
     ]
    }
   ],
   "source": [
    "# 역행렬이 존재하는 경우는 행렬식 값!=0\n",
    "m4 = np.linalg.det(m1)\n",
    "print(f\"행렬식: {m4}\")"
   ]
  },
  {
   "cell_type": "markdown",
   "id": "40308fae",
   "metadata": {},
   "source": [
    "<img src ='행렬식계산.png' STYLE='width 800px;'>"
   ]
  },
  {
   "cell_type": "markdown",
   "id": "33e143fc",
   "metadata": {},
   "source": [
    "(a[0,0] * a(1행1열 제외한 나머지)) - (a[0,1] * a(1행2열 제외한 나머지)) + (a[0,2] * a(1행 3열 제외한 나머지))"
   ]
  },
  {
   "cell_type": "code",
   "execution_count": 36,
   "id": "204e8499",
   "metadata": {},
   "outputs": [
    {
     "name": "stdout",
     "output_type": "stream",
     "text": [
      "[[1 2 3]\n",
      " [4 5 6]\n",
      " [7 8 9]]\n"
     ]
    },
    {
     "data": {
      "text/plain": [
       "0.0"
      ]
     },
     "execution_count": 36,
     "metadata": {},
     "output_type": "execute_result"
    }
   ],
   "source": [
    "a = np.array([[1,2,3],[4,5,6],[7,8,9]])\n",
    "print(a)\n",
    "\n",
    "np.linalg.det(a)   #행렬식 함수"
   ]
  },
  {
   "cell_type": "markdown",
   "id": "b393b38f",
   "metadata": {},
   "source": [
    "#### 행렬식 계산 (1,2,3 기준)\n",
    ": 꼭 (1,2,3)기준이 아니어도 됨. (4,5,6)이나 (7,8,9)여도 됨\n",
    "\n",
    "1*[[5,6][8,9]] + 2*[[4,6],[7,9]] + 3[[4,5],[7,8]] <br>\n",
    "= (45-48) - (36-42) + (32-35)  //대각선끼리 곱해서 빼기(위에 그림 참고) <br>\n",
    "= -3 - (-6) + (-3) <br>\n",
    "= -3+6-3 <br>\n",
    "= 0"
   ]
  },
  {
   "cell_type": "markdown",
   "id": "b3bddda9",
   "metadata": {},
   "source": [
    "#### 선형예측모형\n",
    ": 입력데이터 벡터와 가중치 벡터의 내적으로 계산된 예측값이, 실제 출력 데이터와 유사한 값을 출력하도록 하는 모형\n",
    "- 선형예측모형을 통해, 새로운 독립 변수 값이 주어졌을 때 종속 변수의 값을 예측할 수 있습니다. "
   ]
  },
  {
   "cell_type": "markdown",
   "id": "f5a1be5c",
   "metadata": {},
   "source": [
    "<img src ='인공신경망.png' STYLE='width 800px;'>"
   ]
  },
  {
   "cell_type": "markdown",
   "id": "b4e7b8ea",
   "metadata": {},
   "source": [
    "(가중치 계산 -> 인공신경망을 구성할 때 각 신경별로 받아들이는 정도가 다를 것이므로, 각 감각기관에 서로 다른 가중치를 부여해 최적화함)"
   ]
  },
  {
   "cell_type": "markdown",
   "id": "82069b74",
   "metadata": {},
   "source": [
    "#### 행렬식은 선형 변환의 기하학적 특성을 나타내는 중요한 개념 중 하나\n",
    "\n",
    "- 선형 변환: 벡터 공간에서 하나의 벡터를 다른 벡터로 옮기는 함수입니다. 이 때, 선형 변환은 벡터 공간의 모양을 변경시키지 않습니다.\n",
    "\n",
    "- 행렬식: 이러한 선형 변환의 기하학적 특성 중 하나인 스케일링 및 회전을 나타냅니다.\n",
    "    - 스케일링: 벡터를 크기만 변경시키는 변환\n",
    "    - 회전: 벡터를 방향을 변경시키는 변환\n",
    "<br><br>\n",
    "- 행렬식은 선형 변환을 수행하는 행렬의 크기 변화를 나타내며, 변환 후의 공간의 부피를 결정합니다.\n",
    "    - 행렬식이 1보다 크면 공간이 확대되고,\n",
    "    - 행렬식이 1보다 작으면 공간이 축소됩니다.\n",
    "    - 행렬식==0이면 선형 변환은 벡터 공간의 모양을 변경시키지 않습니다.\n",
    "\n",
    "- 2차원 평면에서 2배 확대하는 선형 변환을 수행하는 행렬의 행렬식==2이며,\n",
    "- 90도 회전하는 선형 변환을 수행하는 행렬의 행렬식==-1입니다. <br><br>\n",
    "- 이러한 기하학적 의미는 컴퓨터 그래픽스, 물리학, 공학 등 다양한 분야에서 활용됩니다.\n",
    "    - 90도 회전하는 선형 변환을 수행하는 행렬의 행렬식이 -1이라는 것은, 이 변환이 공간의 부피를 음수로 변경시킨다는 의미\n",
    "    - 이러한 회전 변환이 적용되면, 양의 방향과 반대 방향으로 공간이 뒤집히게 되어 음수의 부피가 생기는 것\n",
    "    -  정사각형을 90도 회전하는 선형 변환을 적용하면, 정사각형은 기존과는 반대 방향으로 뒤집히게 됩니다. 이렇게 뒤집힌 정사각형은 양의 방향으로는 측정할 수 없는 음수의 부피를 가지게 됩니다.\n",
    "    \n",
    " 행렬식의 기하학적 의미 : https://angeloyeo.github.io/2019/08/06/determinant.html"
   ]
  },
  {
   "cell_type": "code",
   "execution_count": 50,
   "id": "cbb1a7ee",
   "metadata": {},
   "outputs": [
    {
     "data": {
      "image/png": "[encoded data removed]",
      "text/plain": [
       "<Figure size 640x480 with 1 Axes>"
      ]
     },
     "metadata": {},
     "output_type": "display_data"
    }
   ],
   "source": [
    "# 변환 전의 기준벡터\n",
    "v = np.array([1,0])\n",
    "\n",
    "# 선형변환 행렬\n",
    "A = np.array([[2,0],[0,1]])\n",
    "\n",
    "# 변환 후의 벡터\n",
    "Av = np.dot(A,v)\n",
    "\n",
    "# 그래프 그리기\n",
    "fig, ax = plt.subplots()\n",
    "\n",
    "# 변환 전 벡터 그리기\n",
    "ax.quiver([0], [0], v[0], v[1], color='b', angles='xy', scale_units='xy', scale=1)\n",
    "\n",
    "# 변환 후 벡터 그리기\n",
    "ax.quiver([0], [0], Av[0], Av[1], color='r', angles='xy', scale_units='xy', scale=1)\n",
    "\n",
    "# 축 설정\n",
    "ax.set_xlim([-2,2])\n",
    "ax.set_ylim([-2,2])\n",
    "ax.set_xlabel('x')\n",
    "ax.set_ylabel('y')\n",
    "ax.grid()\n",
    "plt.show()"
   ]
  },
  {
   "cell_type": "code",
   "execution_count": 57,
   "id": "3c4b9d12",
   "metadata": {},
   "outputs": [
    {
     "data": {
      "text/plain": [
       "(array([[2, 0],\n",
       "        [0, 1]]),\n",
       " 2.0)"
      ]
     },
     "execution_count": 57,
     "metadata": {},
     "output_type": "execute_result"
    }
   ],
   "source": [
    "A = np.array([[2,0],[0,1]])\n",
    "det_A = np.linalg.det(A)\n",
    "\n",
    "A, det_A    #행렬식==2 -> 면적이 2배가 된다는 뜻(0,0을 기준으로)"
   ]
  },
  {
   "cell_type": "code",
   "execution_count": 61,
   "id": "d03bf1ed",
   "metadata": {},
   "outputs": [
    {
     "data": {
      "image/png": "[encoded data removed]",
      "text/plain": [
       "<Figure size 600x600 with 1 Axes>"
      ]
     },
     "metadata": {},
     "output_type": "display_data"
    }
   ],
   "source": [
    "# 변환 전의 기준 벡터\n",
    "v = np.array([1,1])\n",
    "\n",
    "# 선형 변환 행렬\n",
    "A = np.array([[2,0],[0,1]])\n",
    "\n",
    "# 변환 후의 벡터\n",
    "Av = np.dot(A,v)\n",
    "\n",
    "# 그래프 그리기\n",
    "fig, ax = plt.subplots(figsize=(6,6))\n",
    "\n",
    "# 변환 전 벡터 그리기\n",
    "ax.quiver([0], [0], v[0], v[1], color='b', angles='xy', scale_units='xy', scale=1)\n",
    "\n",
    "# 변환 후 벡터 그리기\n",
    "ax.quiver([0], [0], Av[0], Av[1], color='r', angles='xy', scale_units='xy', scale=1)\n",
    "\n",
    "\n",
    "# 축 설정\n",
    "ax.set_xlim([-2,2])\n",
    "ax.set_ylim([-2,2])\n",
    "ax.set_xlabel('x')\n",
    "ax.set_ylabel('y')\n",
    "ax.grid()\n",
    "plt.show()\n",
    "\n",
    "# 선형 변환 후 면적이 2배가 됨"
   ]
  },
  {
   "cell_type": "code",
   "execution_count": 62,
   "id": "c77bd0da",
   "metadata": {},
   "outputs": [
    {
     "name": "stdout",
     "output_type": "stream",
     "text": [
      "[[2 0]\n",
      " [0 1]] \n",
      "\n",
      "2.0\n"
     ]
    }
   ],
   "source": [
    "A = np.array([[2,0],[0,1]])\n",
    "\n",
    "print(A,'\\n')\n",
    "det_A = np.linalg.det(A)\n",
    "print(det_A)\n",
    "\n",
    "# 정방행렬의 행렬식을 계산해주는 함수입니다.\n",
    "\n",
    "# 정방행렬의 행렬식은 해당 행렬이 선형 변환을 통해 얼마나 공간을 확대/축소하는지, \n",
    "# 또는 얼마나 공간을 회전시키는지 등을 나타내는 중요한 값 중 하나이다."
   ]
  },
  {
   "cell_type": "markdown",
   "id": "1f6cbdff",
   "metadata": {},
   "source": [
    "#### np.dot과 np.matmul의 차이\n",
    "\n",
    "- np.dot() 함수는 두 개의 배열을 인수로 받아서 내적(dot product)을 반환합니다. 내적은 두 배열의 대응하는 요소끼리 곱한 값을 모두 더한 것입니다. 즉, 두 배열이 1D 배열인 경우에는 벡터의 내적을 계산하고, 두 배열이 2D 배열인 경우에는 행렬 곱셈을 계산합니다. 이때 두 배열의 차원 수가 다르면 np.dot() 함수는 인수를 전치(transpose)하여 계산\n",
    "\n",
    "- np.matmul() 함수도 두 개의 배열을 인수로 받아서 행렬 곱셈을 반환합니다. 그러나 np.matmul() 함수는 3D 이상의 배열에 대해서도 계산이 가능합니다. 이때 np.matmul() 함수는 마지막 두 차원에 대해서만 행렬 곱셈을 수행\n",
    "\n",
    "- np.matmul() 함수는 첫 번째 배열의 마지막 차원(4)과 두 번째 배열의 두 번째 차원(4)을 곱하여 (2, 3, 3) 크기의 배열을 반환합니다.\n",
    "따라서, np.dot() 함수는 두 배열이 1차원 배열이거나 2차원 배열인 경우에 사용하고, np.matmul() 함수는 두 배열이 2차원 이상인 경우에 사용\n",
    "\n",
    "https://m.blog.naver.com/PostView.naver?isHttpsRedirect=true&blogId=cjh226&logNo=221356884894"
   ]
  },
  {
   "cell_type": "markdown",
   "id": "440b0ec0",
   "metadata": {},
   "source": [
    "#### np.matmul\n",
    "- A배열의 마지막 축과 B배열의 끝에서 두 번째 축이 일치해야 합니다.\n",
    "- 두 배열은 모두 2 차원 이상이어야 합니다.\n",
    "- 두 배열의 형상이 같아야 합니다(전체 차원의 수와, 각 차원의 크기가 같아야 함)\n",
    "- 형상이 다른 두 배열의 경우, 브로드캐스팅을 통해 함수가 실행됩니다. (단, 이때 결과값의 안정성을 보장하지는x)"
   ]
  },
  {
   "cell_type": "code",
   "execution_count": 60,
   "id": "340fff65",
   "metadata": {},
   "outputs": [
    {
     "name": "stdout",
     "output_type": "stream",
     "text": [
      "[[ 58  64]\n",
      " [139 154]]\n",
      "[[ 58  64]\n",
      " [139 154]]\n"
     ]
    }
   ],
   "source": [
    "a = np.array([[1,2,3],[4,5,6]])\n",
    "b = np.array([[7,8],[9,10],[11,12]])\n",
    "\n",
    "print(np.dot(a,b))\n",
    "print(np.matmul(a,b))\n",
    "# 2차원 이하에선 결과가 같음"
   ]
  },
  {
   "cell_type": "code",
   "execution_count": 65,
   "id": "bc0a839d",
   "metadata": {},
   "outputs": [
    {
     "name": "stdout",
     "output_type": "stream",
     "text": [
      "dot: \n",
      "[[[[1.12249702 0.87320088 0.91249548]\n",
      "   [1.36783759 1.18582109 1.43362093]]\n",
      "\n",
      "  [[1.36350216 1.00992384 1.04400778]\n",
      "   [1.94002893 1.38771518 1.82200745]]\n",
      "\n",
      "  [[1.31214344 0.98261192 1.15945369]\n",
      "   [1.37001972 1.30442385 1.43970593]]]\n",
      "\n",
      "\n",
      " [[[1.78583305 1.30693123 1.52309257]\n",
      "   [2.08850762 1.70671664 2.02416985]]\n",
      "\n",
      "  [[1.65933494 1.26316837 1.42468675]\n",
      "   [1.83644015 1.64608605 1.9109285 ]]\n",
      "\n",
      "  [[0.74774868 0.41310007 0.58395341]\n",
      "   [1.22401285 0.70738118 0.88709034]]]]\n",
      "matmul: \n",
      "[[[1.12249702 0.87320088 0.91249548]\n",
      "  [1.36350216 1.00992384 1.04400778]\n",
      "  [1.31214344 0.98261192 1.15945369]]\n",
      "\n",
      " [[2.08850762 1.70671664 2.02416985]\n",
      "  [1.83644015 1.64608605 1.9109285 ]\n",
      "  [1.22401285 0.70738118 0.88709034]]]\n"
     ]
    }
   ],
   "source": [
    "# 첫번째 배열의 마지막 차원(4)과 두번째 배열의 두번째 차원(4)을 곱하여\n",
    "# (2,3,3) 크기의 배열을 반환\n",
    "# a의 마지막 차원과 b의 2번째 차원이 같아야 함\n",
    "\n",
    "a = np.random.rand(2,3,4)\n",
    "b = np.random.rand(2,4,3)\n",
    "\n",
    "print(f\"dot: \\n{np.dot(a,b)}\")    # (2,3,2,3) 배열\n",
    "print(f\"matmul: \\n{np.matmul(a,b)}\")     # (2,3,3) 배열\n",
    "# 3차원 이상부턴 결과가 다르게 나옴"
   ]
  },
  {
   "cell_type": "code",
   "execution_count": null,
   "id": "5da95298",
   "metadata": {},
   "outputs": [],
   "source": []
  },
  {
   "cell_type": "code",
   "execution_count": null,
   "id": "d05bac4c",
   "metadata": {},
   "outputs": [],
   "source": []
  },
  {
   "cell_type": "markdown",
   "id": "21d5b026",
   "metadata": {},
   "source": [
    "#### 과제(1). 아래에 언급한 사항들의 사례를 작성해서 의미를 확인하고 설명하세요.\n",
    "\n",
    "<행렬곱>\n",
    "1. 앞 행렬의 열의 수가 뒤 행렬의 행의 수와 일치해야 한다.\n",
    "2. 교환 법칙이 성립하지 않음 : (A @ B) (B @ A)\n",
    "3. 분배법칙은 성립함 : A @ (B + C) = (A @ B) + (A @ C)\n",
    "4. 전치 연산도 덧셈, 뺄셈에 대한 분배 법칙 성립 : (A + B).T = A.T + B.T\n",
    "5. 전치 연산과 곱셈의 경우에는 분배 법칙이 성립하지만, 전치 연산이 분배되면서 곱셈의 순서가 바뀜 (A @ B).T vs B.T @ A.T"
   ]
  },
  {
   "cell_type": "code",
   "execution_count": 49,
   "id": "4b8c3da8",
   "metadata": {},
   "outputs": [
    {
     "name": "stdout",
     "output_type": "stream",
     "text": [
      "1번: 앞 행렬의 열과 뒤 행렬의 행 수가 일치해야 함\n",
      "[[ 76  82]\n",
      " [184 199]]\n",
      "\n",
      "2번: 두 행렬의 순서를 바꿔 곱했을 때 결과가 같지 않을 수 있음\n",
      "[[ 76  82]\n",
      " [184 199]]  -> a@b \n",
      "[[ 54  75  96]\n",
      " [ 64  89 114]\n",
      " [ 74 103 132]]  -> b@a \n",
      "\n",
      "3번: 행렬곱 분배법칙 가능: a@(b+d) = a@b + a@d\n",
      "[[188 200]\n",
      " [458 488]]\n",
      "\n",
      "4번: 전치연산 분배법칙 가능: (b+d).T = b.T + d.T\n",
      "[[26 30 34]\n",
      " [28 32 36]]\n",
      "\n",
      "5번: 행렬곱+전치연산 분배법칙 -> 곱셈 순서 바뀜: (a@b).T vs b.T@a.T\n",
      "[[ 76 184]\n",
      " [ 82 199]]  -> (a@b).T\n",
      "\n",
      "[[ 76  82]\n",
      " [184 199]]  -> (a@b)\n",
      "\n",
      "[[ 76 184]\n",
      " [ 82 199]]  -> b.T@a.T\n",
      "\n",
      "[[ 54  64  74]\n",
      " [ 75  89 103]\n",
      " [ 96 114 132]]  -> a.T@b.T\n"
     ]
    }
   ],
   "source": [
    "a = np.array([[1,2,3],[4,5,6]])    #2행3열\n",
    "b = np.array([[10,11],[12,13],[14,15]])   #3행2열\n",
    "c = np.array([[10,11],[12,13]])   #2행2열\n",
    "d = np.array([[16,17],[18,19],[20,21]])   #3행2열\n",
    "\n",
    "print(f\"1번: 앞 행렬의 열과 뒤 행렬의 행 수가 일치해야 함\")\n",
    "print(f\"{a@b}\\n\")\n",
    "# print(f\"{a@c}\")      # 앞행렬의 열과 뒤행렬의 행 수가 일치하지x\n",
    "\n",
    "print(f\"2번: 두 행렬의 순서를 바꿔 곱했을 때 결과가 같지 않을 수 있음\")\n",
    "print(f\"{a@b}  -> a@b \\n{b@a}  -> b@a \\n\")\n",
    "\n",
    "print(f\"3번: 행렬곱 분배법칙 가능: a@(b+d) = a@b + a@d\")\n",
    "print(f\"{a@(b+d)}\\n\")\n",
    "\n",
    "print(f\"4번: 전치연산 분배법칙 가능: (b+d).T = b.T + d.T\")\n",
    "print(f\"{(b+d).T}\\n\")\n",
    "\n",
    "print(f\"5번: 행렬곱+전치연산 분배법칙 -> 곱셈 순서 바뀜: (a@b).T vs b.T@a.T\")\n",
    "print(f\"{(a@b).T}  -> (a@b).T\\n\")\n",
    "print(f\"{(a@b)}  -> (a@b)\\n\")\n",
    "print(f\"{b.T@a.T}  -> b.T@a.T\\n\")\n",
    "print(f\"{a.T@b.T}  -> a.T@b.T\")\n",
    "# 행렬곱을 먼저 한 후, 결과값을 전치해서 행과 열을 뒤집음\n",
    "# 행렬곱은 순서에 따라 결과값이 달라지므로 b.T@a.T 와 a.T@b.T의 값은 같지 않음"
   ]
  },
  {
   "cell_type": "markdown",
   "id": "5ac39ea1",
   "metadata": {},
   "source": [
    "#### 과제(2): 아래 두 행렬을 생성해서 각각 a1, b1으로 저장하고 행렬 내적을 계산한 결과를 출력하세요\n",
    "\n",
    "- a1 = [[1,2,3],[4,5,6]]\n",
    "- b1 = [[10,11],[12,13],[14,15]]"
   ]
  },
  {
   "cell_type": "code",
   "execution_count": 38,
   "id": "7a27c0e8",
   "metadata": {},
   "outputs": [
    {
     "name": "stdout",
     "output_type": "stream",
     "text": [
      "[[1 2 3]\n",
      " [4 5 6]]\n",
      "\n",
      "[[10 11]\n",
      " [12 13]\n",
      " [14 15]]\n"
     ]
    },
    {
     "data": {
      "text/plain": [
       "array([[ 76,  82],\n",
       "       [184, 199]])"
      ]
     },
     "execution_count": 38,
     "metadata": {},
     "output_type": "execute_result"
    }
   ],
   "source": [
    "a1 = np.array([[1,2,3],[4,5,6]])    #2행3열\n",
    "b1 = np.array([[10,11],[12,13],[14,15]])   #3행2열\n",
    "# 행렬곱을 하려면 a1의 열과 b1의 행의 길이가 같아야 함\n",
    "\n",
    "# 내적계산(np.dot): 두 벡터간의 곱 (단, 1차원 배열인 경우만)\n",
    "# 행렬 내적계산(@): 두 벡터간의 곱 (2차원 이상의 행렬)\n",
    "\n",
    "print(f\"{a1}\\n\\n{b1}\")\n",
    "a1@b1     #리스트로는 연산 불가x 배열로 변환"
   ]
  },
  {
   "cell_type": "markdown",
   "id": "b75d4bff",
   "metadata": {},
   "source": [
    "#### 과제(3): 아래 행렬식이 왜 에러가 나는지, e행렬을 수정하여 다음 사항을 수행하세요.\n",
    "\n",
    "e = np.array([[1,0,0],[0,1,0]]) <br>\n",
    "np.linalg.det(e)\n",
    "\n",
    "- 행렬식을 계산하세요\n",
    "- 역행렬을 구하세요\n",
    "- 역행렬이 맞는지 검증하세요 (항등행렬과의 곱이 원래의 행렬과 같은지 확인)"
   ]
  },
  {
   "cell_type": "code",
   "execution_count": 39,
   "id": "10784583",
   "metadata": {
    "scrolled": false
   },
   "outputs": [
    {
     "name": "stdout",
     "output_type": "stream",
     "text": [
      "e: \n",
      "[[1 0 0]\n",
      " [0 1 0]\n",
      " [0 0 1]]\n",
      "\n",
      "행렬식: 1.0\n",
      "역행렬: \n",
      "[[1. 0. 0.]\n",
      " [0. 1. 0.]\n",
      " [0. 0. 1.]]\n",
      "역행렬이 맞는지 확인: \n",
      "[[1. 0. 0.]\n",
      " [0. 1. 0.]\n",
      " [0. 0. 1.]]\n"
     ]
    }
   ],
   "source": [
    "e1 = np.array([[1,0,0],[0,1,0],[0,0,1]])\n",
    "print(f\"e: \\n{e1}\\n\")\n",
    "print(f\"행렬식: {np.linalg.det(e1)}\")\n",
    "# linalg.det 는 정방행렬(n,n행렬)에만 사용가능\n",
    "\n",
    "e2 = np.linalg.inv(e1)\n",
    "print(f\"역행렬: \\n{e2}\")\n",
    "print(f\"역행렬이 맞는지 확인: \\n{e1@e2}\")"
   ]
  },
  {
   "cell_type": "markdown",
   "id": "6b4a17a4",
   "metadata": {},
   "source": [
    "#### 과제(1): 5차원 배열 2개를 생성하여 행렬곱을 계산하세요."
   ]
  },
  {
   "cell_type": "code",
   "execution_count": 85,
   "id": "fd90720e",
   "metadata": {},
   "outputs": [
    {
     "name": "stdout",
     "output_type": "stream",
     "text": [
      "행렬곱한 결과(형상): (2, 3, 4, 2, 2)\n",
      "\n",
      "[[[[[0.2463207  0.10736364]\n",
      "    [0.80393045 0.38913102]]\n",
      "\n",
      "   [[0.78880888 0.83342411]\n",
      "    [0.65538914 0.752829  ]]\n",
      "\n",
      "   [[1.21209944 1.22534586]\n",
      "    [0.82071189 1.21139017]]\n",
      "\n",
      "   [[1.47491751 0.58954027]\n",
      "    [0.48971815 0.33387888]]]\n",
      "\n",
      "\n",
      "  [[[0.51752877 0.45843956]\n",
      "    [1.21475312 1.44320389]]\n",
      "\n",
      "   [[0.17361592 0.51524863]\n",
      "    [0.14209454 0.45679233]]\n",
      "\n",
      "   [[0.26400696 0.97697797]\n",
      "    [0.37054129 0.8282029 ]]\n",
      "\n",
      "   [[0.5085619  1.48043069]\n",
      "    [0.58074799 1.07001818]]]\n",
      "\n",
      "\n",
      "  [[[0.42471655 0.15501805]\n",
      "    [1.1068181  0.92018823]]\n",
      "\n",
      "   [[0.83575425 0.97798032]\n",
      "    [0.69466745 0.76183992]]\n",
      "\n",
      "   [[1.33714412 1.00428668]\n",
      "    [0.94639052 0.78800642]]\n",
      "\n",
      "   [[1.40225127 1.27857807]\n",
      "    [1.08019317 0.41992771]]]]\n",
      "\n",
      "\n",
      "\n",
      " [[[[0.88125624 0.98340387]\n",
      "    [1.3788316  1.30172391]]\n",
      "\n",
      "   [[0.29803734 0.38139876]\n",
      "    [1.16909421 1.41831626]]\n",
      "\n",
      "   [[0.2978847  0.70638001]\n",
      "    [0.81425508 1.36882523]]\n",
      "\n",
      "   [[0.76343104 0.85436477]\n",
      "    [0.75419897 0.792176  ]]]\n",
      "\n",
      "\n",
      "  [[[0.39772042 1.17795295]\n",
      "    [0.75765888 0.75781088]]\n",
      "\n",
      "   [[0.20495651 0.17267423]\n",
      "    [1.13812624 0.89077702]]\n",
      "\n",
      "   [[1.46288319 0.46595691]\n",
      "    [2.52697899 1.12188936]]\n",
      "\n",
      "   [[0.33904404 0.47998377]\n",
      "    [0.32081744 0.4911486 ]]]\n",
      "\n",
      "\n",
      "  [[[0.34416808 0.69178268]\n",
      "    [0.60536225 0.71924139]]\n",
      "\n",
      "   [[0.23615219 0.13737045]\n",
      "    [0.78718204 0.24830618]]\n",
      "\n",
      "   [[1.02580734 0.74607927]\n",
      "    [1.98912641 1.27487324]]\n",
      "\n",
      "   [[0.71771425 0.40750176]\n",
      "    [0.67898095 0.4874974 ]]]]]\n"
     ]
    }
   ],
   "source": [
    "a = np.random.rand(2,1,4,2,3)\n",
    "b = np.random.rand(2,3,4,3,2)\n",
    "c = np.matmul(a,b)\n",
    "print(f\"행렬곱한 결과(형상): {c.shape}\\n\")\n",
    "print(c)\n",
    "\n",
    "# 5차원 행렬의 경우 결과값의 형상이 1~3차원까지는 같고,\n",
    "# (이때 두 배열의 1~3차원의 크기가 같지 않으므로 브로드캐스팅 됨,\n",
    "#  더 높은 차원 쪽(2,3,4)을 따름)\n",
    "# 4차원은 a의 4번째 차원(2), 5차원은 b의 마지막 차원(2) 값이 나옴\n",
    "# => (2,1,4,2,3)*(2,3,4,3,2) = (2,3,4,2,2)\n",
    "\n",
    "# 4차원 배열도 마찬가지\n",
    "# 맨 뒤 2개 행렬에 따라 결과값의 형상이 정해짐\n",
    "# 1~2차원은 동일하게, 3차원은 a의 3차원 크기, 4차원은 b의 마지막 차원 크기"
   ]
  },
  {
   "cell_type": "code",
   "execution_count": null,
   "id": "81c14438",
   "metadata": {},
   "outputs": [],
   "source": []
  },
  {
   "cell_type": "code",
   "execution_count": null,
   "id": "184fe6a4",
   "metadata": {},
   "outputs": [],
   "source": []
  },
  {
   "cell_type": "code",
   "execution_count": null,
   "id": "19da2caf",
   "metadata": {},
   "outputs": [],
   "source": []
  },
  {
   "cell_type": "markdown",
   "id": "800405e2",
   "metadata": {},
   "source": [
    "#### 문제(1): 다음을 수행하세요.\n",
    "1. np.arange(9)로 구성된 정방행렬\n",
    "2. 주대각선 원소가 [1,2,3]인 정방행렬\n",
    "3. 3행3열로 구성된 항등행렬(단위행렬)\n",
    "4. 3행1열로 구성된 영벡터"
   ]
  },
  {
   "cell_type": "code",
   "execution_count": 100,
   "id": "8f77b612",
   "metadata": {},
   "outputs": [
    {
     "name": "stdout",
     "output_type": "stream",
     "text": [
      "[[0 1 2]\n",
      " [3 4 5]\n",
      " [6 7 8]] \n",
      "\n",
      "[[1 0 0]\n",
      " [0 2 0]\n",
      " [0 0 3]] \n",
      "\n",
      "[[1. 0. 0.]\n",
      " [0. 1. 0.]\n",
      " [0. 0. 1.]] \n",
      "\n",
      "[[0.]\n",
      " [0.]\n",
      " [0.]] \n",
      "\n"
     ]
    }
   ],
   "source": [
    "a = np.arange(9).reshape(3,3)\n",
    "print(a,'\\n')\n",
    "\n",
    "b = np.diag([1,2,3])\n",
    "print(b,'\\n')\n",
    "\n",
    "c = np.identity(3)\n",
    "c = np.eye(3)\n",
    "print(c,'\\n')\n",
    "\n",
    "d = np.full((3,1),0)\n",
    "d = np.zeros((3,1))\n",
    "print(d,'\\n')"
   ]
  },
  {
   "cell_type": "markdown",
   "id": "29a58ff1",
   "metadata": {},
   "source": [
    "#### 문제(2): mt1행렬에 대해 다음을 수행하세요\n",
    "1. 역행렬 mt2를 구하고, \n",
    "2. mt1과 mt2를 내적하여 단위행렬을 출력"
   ]
  },
  {
   "cell_type": "code",
   "execution_count": 75,
   "id": "691ad7c6",
   "metadata": {},
   "outputs": [
    {
     "name": "stdout",
     "output_type": "stream",
     "text": [
      "역행렬: \n",
      "[[ 7. -1. -4.]\n",
      " [-1.  0.  1.]\n",
      " [-4.  1.  2.]]\n",
      "\n",
      "내적 단위행렬: \n",
      "[[1. 0. 0.]\n",
      " [0. 1. 0.]\n",
      " [0. 0. 1.]]\n"
     ]
    },
    {
     "data": {
      "text/plain": [
       "array([[1., 0., 0.],\n",
       "       [0., 1., 0.],\n",
       "       [0., 0., 1.]])"
      ]
     },
     "execution_count": 75,
     "metadata": {},
     "output_type": "execute_result"
    }
   ],
   "source": [
    "np.random.seed(0)\n",
    "mt1 = np.random.randint(1,4,size =(3,3))\n",
    "mt2 = np.linalg.inv(mt1)    #역행렬\n",
    "print(f\"역행렬: \\n{mt2}\\n\")\n",
    "print(f\"내적 단위행렬: \\n{mt1 @ mt2}\")    #내적계산1\n",
    "#내적계산2: np.dot(mt1,mt2)"
   ]
  },
  {
   "cell_type": "markdown",
   "id": "79122e44",
   "metadata": {},
   "source": [
    "#### 문제(3): 행렬식의 기하학적 성질은 부피를 의미하며 2* 2 행렬 A의 행렬식은 일종의 넓이로 이해할 수 있다.\n",
    "- [[2,0],[0,2]] 배열에 대하여 행렬식을 이용하여 면적을 구하세요."
   ]
  },
  {
   "cell_type": "code",
   "execution_count": 77,
   "id": "ef7b8e40",
   "metadata": {},
   "outputs": [
    {
     "data": {
      "text/plain": [
       "4.0"
      ]
     },
     "execution_count": 77,
     "metadata": {},
     "output_type": "execute_result"
    }
   ],
   "source": [
    "a = np.array([[2,0],[0,2]])\n",
    "a_inv = np.linalg.det(a)    #행렬식\n",
    "a_inv\n",
    "\n",
    "# 원래 면적(2*2) x 행렬식(4) = 스케일링 후 넓이(16)"
   ]
  },
  {
   "cell_type": "code",
   "execution_count": null,
   "id": "1df73990",
   "metadata": {},
   "outputs": [],
   "source": []
  },
  {
   "cell_type": "code",
   "execution_count": null,
   "id": "5480610e",
   "metadata": {},
   "outputs": [],
   "source": []
  },
  {
   "cell_type": "code",
   "execution_count": null,
   "id": "ae8590cc",
   "metadata": {},
   "outputs": [],
   "source": []
  }
 ],
 "metadata": {
  "kernelspec": {
   "display_name": "Python 3 (ipykernel)",
   "language": "python",
   "name": "python3"
  },
  "language_info": {
   "codemirror_mode": {
    "name": "ipython",
    "version": 3
   },
   "file_extension": ".py",
   "mimetype": "text/x-python",
   "name": "python",
   "nbconvert_exporter": "python",
   "pygments_lexer": "ipython3",
   "version": "3.9.13"
  }
 },
 "nbformat": 4,
 "nbformat_minor": 5
}
