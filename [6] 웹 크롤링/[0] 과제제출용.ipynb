{
 "cells": [
  {
   "cell_type": "code",
   "execution_count": 2,
   "id": "58298922",
   "metadata": {},
   "outputs": [],
   "source": [
    "import warnings\n",
    "warnings.filterwarnings('ignore')\n",
    "\n",
    "import random\n",
    "import numpy as np\n",
    "import pandas as pd\n",
    "\n",
    "import matplotlib.pyplot as plt\n",
    "import seaborn as sns\n",
    "\n",
    "from scipy import stats\n",
    "from scipy.stats import t, norm, chi2, chi2_contingency\n",
    "\n",
    "from matplotlib import rc\n",
    "rc('font', family='Malgun Gothic')      #한글 폰트설정\n",
    "plt.rcParams['axes.unicode_minus']=False      #마이너스 부호 출력 설정"
   ]
  },
  {
   "cell_type": "code",
   "execution_count": 3,
   "id": "e090766d",
   "metadata": {},
   "outputs": [],
   "source": [
    "import math, scipy, sympy\n",
    "from bs4 import BeautifulSoup as BS\n",
    "import requests, re, urllib\n",
    "\n",
    "from urllib import robotparser\n",
    "from urllib.request import urlopen\n",
    "import chardet\n",
    "\n",
    "import selenium\n",
    "from selenium import webdriver\n",
    "from selenium.webdriver.common.keys import Keys\n",
    "from selenium.webdriver.common.by import By\n",
    "from selenium.webdriver.support.ui import WebDriverWait as WDW\n",
    "from selenium.webdriver.support import expected_conditions as EC\n",
    "from time import sleep"
   ]
  },
  {
   "cell_type": "markdown",
   "id": "78059096",
   "metadata": {},
   "source": [
    "#### 과제(1): 네이버 뉴스 메인에서 연예, 날씨, 스포츠, 프리미엄을 찾아 출력"
   ]
  },
  {
   "cell_type": "code",
   "execution_count": 6,
   "id": "ea99f0eb",
   "metadata": {},
   "outputs": [
    {
     "name": "stdout",
     "output_type": "stream",
     "text": [
      "['연예']\n",
      "['스포츠']\n",
      "['날씨']\n",
      "['프리미엄']\n"
     ]
    }
   ],
   "source": [
    "headers = {\"User-Agent\":\"Mozilla/5.0 (Windows NT 10.0; Win64; x64) AppleWebKit/537.36 (KHTML, like Gecko) Chrome/96.0.4664.45 Safari/537.36\"}\n",
    "url ='https://news.naver.com/'\n",
    "html = requests.get(url, headers=headers).text\n",
    "bs = BS(html, 'lxml')\n",
    "\n",
    "for i in bs.find_all('span', class_='Nservice_subitem'):\n",
    "    print(i.text.split())    # 깔끔하게 글자만 출력하고 싶으면 [0]인덱스 붙이기\n",
    "#     print(i.text.split()[0])"
   ]
  },
  {
   "cell_type": "markdown",
   "id": "212ac55b",
   "metadata": {},
   "source": [
    "#### 과제(2):\n",
    "- 구글에서 '빅데이터' 검색 후 결과 가져와서 출력+파일로 저장\n",
    "- 네이버에서 원하는 내용 조회 후 결과 출력+파일로 저장"
   ]
  },
  {
   "cell_type": "code",
   "execution_count": 7,
   "id": "b0645975",
   "metadata": {},
   "outputs": [
    {
     "name": "stdout",
     "output_type": "stream",
     "text": [
      "빅데이터는 단지 데이터 양 때문이 아니라 특성의 다양성과 복잡성으로 인해 \"빅\"으로 정의됩니다. 일반적으로 빅데이터는 데이터를 수집, 관리, 처리하는 기존 데이터베이스의 용량을 초과합니다. 또한 빅데이터는 디지털로 모니터링할 수 있는 전 세계의 모든 사물과 장소에서 생성될 수 있습니다.\n"
     ]
    }
   ],
   "source": [
    "# 구글: 빅데이터(0502_2.txt 파일에 저장)\n",
    "path = r'C:\\Users\\h\\hmkd1\\chromedriver.exe'\n",
    "driver = webdriver.Chrome(path)\n",
    "driver.get('https://www.google.com/')\n",
    "\n",
    "search_box = driver.find_element(By.ID, 'APjFqb')\n",
    "search_box.send_keys('빅데이터')\n",
    "search_box.send_keys(Keys.ENTER)\n",
    "\n",
    "xpath = '//*[@id=\"Odp5De\"]/div/div/div/div/block-component/div/div/div/div/div/div/div/div/div/div/div/div/div/span/span'\n",
    "elements = driver.find_elements(By.XPATH, xpath)\n",
    "\n",
    "text = '\\n'.join([i.text for i in elements])\n",
    "print(text)\n",
    "with open('0502_2.txt','w', encoding='utf-8') as f:\n",
    "    f.write(text)\n",
    "\n",
    "sleep(2)\n",
    "driver.close()"
   ]
  },
  {
   "cell_type": "code",
   "execution_count": 8,
   "id": "66913534",
   "metadata": {},
   "outputs": [
    {
     "name": "stdout",
     "output_type": "stream",
     "text": [
      "강렬한 붉은빛으로 시선을 사로잡는 상큼한 악동. 산딸기 무스는 강렬한 붉은빛에 비해 산딸기의 맛을 강하게 표현하지는 못하는 편이다. 반대로 색이 주는 효과는 그만큼 다른 무스에 비해 크다고 볼 수 있는데, 데커레이션으로 산딸기 콤코트를 곁들이면 맛을 한층 살릴 수 있다. 나 딸기처럼 붉은색을 내는 과일류를 이용하여 를 만들 때는 이탈리안 머랭을...\n",
      "눈으로 먼저 즐기는 65가지 디저트 수첩\n"
     ]
    }
   ],
   "source": [
    "# 네이버: 빅데이터(0502_2.txt 파일에 저장)\n",
    "driver = webdriver.Chrome(path)\n",
    "driver.get('https://www.naver.com/')\n",
    "\n",
    "search_box = driver.find_element(By.ID, 'query')\n",
    "search_box.send_keys('산딸기 무스')\n",
    "search_box.send_keys(Keys.ENTER)\n",
    "\n",
    "xpath = '//*[@id=\"main_pack\"]/section/div/div/div/div/div/div'\n",
    "elements = driver.find_elements(By.XPATH, xpath)\n",
    "\n",
    "text = '\\n'.join([i.text for i in elements])\n",
    "print(text)\n",
    "with open('0502_3.txt','w', encoding='utf-8') as f:\n",
    "    f.write(text)\n",
    "\n",
    "sleep(2)\n",
    "driver.close()"
   ]
  },
  {
   "cell_type": "markdown",
   "id": "b5d5600f",
   "metadata": {},
   "source": [
    "#### 과제(3): 사이트에 업로드되는 실시간 뉴스 제목을 가져와서 출력\n",
    "- URL = 'https://news.naver.com/main/main.naver?mode=LSD&mid=shm&sid1=102' \n",
    "- 단, 사이트에 있는 뉴스와 일치해야 함"
   ]
  },
  {
   "cell_type": "code",
   "execution_count": 11,
   "id": "1d274355",
   "metadata": {},
   "outputs": [
    {
     "name": "stdout",
     "output_type": "stream",
     "text": [
      "\"3일 연속으로 쉰다\"… '부처님오신날' 대체공휴일 확정\n",
      "5월 연휴 아직 끝나지 않았다…정부, 석가탄신일·성탄절 대체공휴일 확정\n",
      "올해 부처님오신날 대체공휴일...29일 월요일 '빨간 날'\n",
      "부처님오신날 · 성탄절, 대체공휴일 확정…사흘 연휴 가능\n",
      "창원·거창·남해·창신대도 ‘천원의 아침밥’ 차린다\n",
      "울산대, ‘천 원의 아침밥’ 사업 재개\n",
      "배재대 학생들 “식대 5분의 1로 줄고 식단도 만족\"\n",
      "\"창원대도 천원 아침밥 시작, 싸고 맛있어 정말 좋아요\"\n",
      "'TV조선 재승인 의혹' 한상혁 방통위원장 불구속기소\n",
      "검찰, TV조선 재승인 의혹 한상혁 불구속 기소\n",
      "검찰, 'TV조선 재승인 의혹' 한상혁 불구속 기소\n",
      "'TV조선 재승인 점수 고의 조작 의혹'…한상혁 방통위원장, 불구속 재판 넘겨져\n",
      "성관계 유인 후 \"얘 미성년자\"…무릎 꿇리고 2억 뜯었다\n",
      "'메신저 통해' 미성년자와 성관계 유도…금품 뜯은 일당 붙잡혀\n",
      "남성 유인 미성년자와 성관계 유도 2억 갈취 일당 12명 검거\n",
      "“얘 오빠인데...” 미성년자 성관계 유도 후 합의금 뜯어낸 일당\n",
      "의협 등 17일 총파업 예고… 간호법 대통령 거부권 행사 압박\n",
      "간협 \"복지부, SNS에 '간호법 우려' 밝혀…갈등만 키워\"\n",
      "첫 논의 시작하는 최저임금위원회…'산식'대로 해도 1만원 돌파\n",
      "진통 끝 샅바싸움 시작…노동계 \"1만2천원\"에 경영계 되치기\n",
      "日 위안부 피해자 별세, 생존자 9명…여가부 장관 \"애도\"\n",
      "일본군 위안부 피해자 할머니 별세…생존자 9명뿐\n",
      "“검사님 면담 될까요? 전화라도…” 송영길 ‘셀프 출석’ 무산\n",
      "조사불발 송영길 \"정치 수사\" 맹비난…검찰 \"부적절\"\n"
     ]
    }
   ],
   "source": [
    "driver = webdriver.Chrome(path)\n",
    "driver.get('https://news.naver.com/main/main.naver?mode=LSD&mid=shm&sid1=102')\n",
    "\n",
    "xpath = '//*[@id=\"main_content\"]/div/div/div/div/div/ul/li/div/a'\n",
    "elements = driver.find_elements(By.XPATH, xpath)\n",
    "\n",
    "text = '\\n'.join([i.text for i in elements])\n",
    "print(text.strip())\n",
    "driver.quit()"
   ]
  },
  {
   "cell_type": "markdown",
   "id": "ea9a16fe",
   "metadata": {},
   "source": [
    "#### 과제(4): 네이버에서 뉴스->사회 카테고리를 클릭하고 뉴스 제목을 출력하세요\n",
    "url='https://news.naver.com/'"
   ]
  },
  {
   "cell_type": "code",
   "execution_count": 12,
   "id": "0687eec5",
   "metadata": {},
   "outputs": [
    {
     "name": "stdout",
     "output_type": "stream",
     "text": [
      "‘부처님오신날·성탄절’ 대체공휴일 확정…5월 27~29일 쉰다\n",
      "27~29일 ‘빨간 날’…부처님오신날 대체공휴일 확정\n",
      "사흘 꿀연휴 아쉬웠죠? 2번 더 와요…월말 석가탄신일 대휴 지정\n",
      "“이달 27~29일 사흘 연속 쉰다”… 석탄일·성탄절 대체공휴일 확정\n",
      "‘천 원의 아침밥’ 충북 대학 잇따라 동참\n",
      "\"이렇게 잘 먹는데\" 동신대 '천원의 아침밥' 매일 완판\n",
      "배재대 학생들 “식대 5분의 1로 줄고 식단도 만족\"\n",
      "원광대 '1000원의 아침밥 사업' 첫 날…17분 만에 '매진'\n",
      "금은방 업주 때리고 8000만원 빼앗은 10대 강도들\n",
      "여성 행세, 채팅앱으로 성매수男 공원으로 유인해 폭행한 10대\n",
      "금은방서 8000만원어치 빼앗은 10대들 실형…“도박빚 갚으려고”\n",
      "금은방 업주 폭행·7900만원 귀금속 턴 10대 2명 ‘실형’\n",
      "아내 살해 뒤 한 살 자녀 안고 극단선택…부친에게 \"내가 잘못한 게 있다\"\n",
      "아내 살해 후 한 살 딸 안고 투신…경찰 조사 중\n",
      "노원서 일가족 사망…30대男, 아내 살해 후 1살 아이와 투신\n",
      "아내 살해하고 한살배기 자녀와 동반 투신\n",
      "분신한 건설노조 강원지부 간부, 치료 받다 숨져\n",
      "분신 건설노조 간부 사망‥대정부 총력투쟁 예고\n",
      "송영길 \"나를 구속해 달라\"…민원실 앞에서 5분 만에 귀가 조치\n",
      "\"놀다 온 것 아냐\"…'檢 일방 출석' 송영길 가슴 치며 한 말\n",
      "손혜원, '목포 투기 의혹' 조선일보 상대 항소심도 패소\n",
      "손혜원 전 의원, ‘목포 투기의혹 보도’ 조선일보 상대 항소심도 패소\n",
      "남해안 외국인근로자에 마약 퍼져… 해경, 15명 검거\n",
      "통영·거제서 외국인 선원 상대 엑스터시 등 마약 유통한 일당 검거\n"
     ]
    }
   ],
   "source": [
    "url = 'https://www.naver.com/'\n",
    "driver = webdriver.Chrome(path)\n",
    "driver.get(url)\n",
    "\n",
    "path = '//*[@id=\"NM_NEWSSTAND_HEADER\"]/div[2]/a[1]'\n",
    "driver.find_element(By.XPATH, path).click()\n",
    "\n",
    "css = 'body > section > header > div.Nlnb._float_lnb > div > div > div.Nlnb_left._lnb_scroll > div > div > ul > li:nth-child(4) > a > span'\n",
    "driver.find_element(By.CSS_SELECTOR, css).click()\n",
    "\n",
    "path = '//*[@id=\"main_content\"]/div/div/div/div/div/ul/li/div/a'\n",
    "news = driver.find_elements(By.XPATH, path)\n",
    "\n",
    "text = '\\n'.join([i.text for i in news])\n",
    "print(text.strip())\n",
    "\n",
    "driver.close()"
   ]
  },
  {
   "cell_type": "markdown",
   "id": "ea28af37",
   "metadata": {},
   "source": [
    "#### 과제(5): 한빛출판네트워크 사이트에 로그인해서 마일리지 점수 출력"
   ]
  },
  {
   "cell_type": "code",
   "execution_count": null,
   "id": "18402dc6",
   "metadata": {},
   "outputs": [],
   "source": [
    "url = 'https://www.hanbit.co.kr/'\n",
    "driver = webdriver.Chrome(path)\n",
    "driver.get(url)\n",
    "\n",
    "driver.find_element(By.XPATH, '//*[@id=\"wrap_nav\"]/ul[2]/li[1]/a').click()\n",
    "\n",
    "driver.find_element(By.ID, 'm_id').send_keys('  ididididididid   ')\n",
    "driver.find_element(By.ID, 'm_passwd').send_keys('  fwfwfwfwfwfwfw   ')\n",
    "driver.find_element(By.ID, 'login_btn').click()\n",
    "\n",
    "driver.find_element(By.XPATH, '//*[@id=\"wrap_nav\"]/ul[2]/li[3]/a').click()\n",
    "coin = driver.find_element(By.XPATH, '//*[@id=\"container\"]/div/div[2]/dl[1]/dd/span')\n",
    "print('마일리지:',coin.text+'점')\n",
    "\n",
    "driver.quit()"
   ]
  },
  {
   "cell_type": "code",
   "execution_count": null,
   "id": "6d1d88c7",
   "metadata": {},
   "outputs": [],
   "source": [
    "driver.back()\n",
    "driver.forward()\n",
    "driver.maximize_window()\n",
    "driver.refresh()"
   ]
  },
  {
   "cell_type": "markdown",
   "id": "c6a8c10e",
   "metadata": {},
   "source": [
    "#### 과제(선택): 네이버 로그인 화면으로 이동해서 ID, FW 입력 후 로그인 실행\n",
    "- 로그인 방지 우회"
   ]
  },
  {
   "cell_type": "code",
   "execution_count": null,
   "id": "2d46009e",
   "metadata": {},
   "outputs": [],
   "source": [
    "a='    '    #아이디\n",
    "b='    '    #패스워드"
   ]
  },
  {
   "cell_type": "code",
   "execution_count": null,
   "id": "1f8a0a99",
   "metadata": {},
   "outputs": [],
   "source": [
    "!pip install pyperclip"
   ]
  },
  {
   "cell_type": "code",
   "execution_count": null,
   "id": "e08a1e49",
   "metadata": {},
   "outputs": [],
   "source": [
    "import pyperclip\n",
    "driver = webdriver.Chrome(path)\n",
    "driver.get('https://www.naver.com/')\n",
    "\n",
    "driver.find_element(By.XPATH, '//*[@id=\"account\"]/a').send_keys(Keys.ENTER)\n",
    "\n",
    "uid = driver.find_element(By.ID, 'id')\n",
    "uid.click()\n",
    "pyperclip.copy(a)\n",
    "uid.send_keys(Keys.CONTROL, 'v')\n",
    "sleep(1)\n",
    "\n",
    "fw = driver.find_element(By.ID, 'pw')\n",
    "fw.click()\n",
    "pyperclip.copy(b)\n",
    "fw.send_keys(Keys.CONTROL, 'v')\n",
    "sleep(1)\n",
    "\n",
    "driver.find_element(By.ID,'log.login').click()\n",
    "sleep(1)\n",
    "\n",
    "# driver.close()"
   ]
  }
 ],
 "metadata": {
  "kernelspec": {
   "display_name": "Python 3 (ipykernel)",
   "language": "python",
   "name": "python3"
  },
  "language_info": {
   "codemirror_mode": {
    "name": "ipython",
    "version": 3
   },
   "file_extension": ".py",
   "mimetype": "text/x-python",
   "name": "python",
   "nbconvert_exporter": "python",
   "pygments_lexer": "ipython3",
   "version": "3.9.13"
  }
 },
 "nbformat": 4,
 "nbformat_minor": 5
}
