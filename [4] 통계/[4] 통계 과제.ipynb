{
 "cells": [
  {
   "cell_type": "code",
   "execution_count": 69,
   "id": "81226ad7",
   "metadata": {},
   "outputs": [],
   "source": [
    "import warnings\n",
    "warnings.filterwarnings('ignore')\n",
    "\n",
    "import random\n",
    "import numpy as np\n",
    "from numpy import random as npr\n",
    "import pandas as pd\n",
    "import matplotlib.pyplot as plt\n",
    "import seaborn as sns\n",
    "\n",
    "from matplotlib import rc\n",
    "rc('font', family='Malgun Gothic')      #한글 폰트설정\n",
    "plt.rcParams['axes.unicode_minus']=False      #마이너스 부호 출력 설정"
   ]
  },
  {
   "cell_type": "code",
   "execution_count": 70,
   "id": "321e9b2d",
   "metadata": {},
   "outputs": [
    {
     "data": {
      "text/html": [
       "<div>\n",
       "<style scoped>\n",
       "    .dataframe tbody tr th:only-of-type {\n",
       "        vertical-align: middle;\n",
       "    }\n",
       "\n",
       "    .dataframe tbody tr th {\n",
       "        vertical-align: top;\n",
       "    }\n",
       "\n",
       "    .dataframe thead th {\n",
       "        text-align: right;\n",
       "    }\n",
       "</style>\n",
       "<table border=\"1\" class=\"dataframe\">\n",
       "  <thead>\n",
       "    <tr style=\"text-align: right;\">\n",
       "      <th></th>\n",
       "      <th>pclass</th>\n",
       "      <th>survived</th>\n",
       "      <th>name</th>\n",
       "      <th>sex</th>\n",
       "      <th>age</th>\n",
       "      <th>sibsp</th>\n",
       "      <th>parch</th>\n",
       "      <th>ticket</th>\n",
       "      <th>fare</th>\n",
       "      <th>cabin</th>\n",
       "      <th>embarked</th>\n",
       "      <th>boat</th>\n",
       "      <th>body</th>\n",
       "      <th>home.dest</th>\n",
       "    </tr>\n",
       "  </thead>\n",
       "  <tbody>\n",
       "    <tr>\n",
       "      <th>0</th>\n",
       "      <td>1</td>\n",
       "      <td>1</td>\n",
       "      <td>Allen, Miss. Elisabeth Walton</td>\n",
       "      <td>female</td>\n",
       "      <td>29.00</td>\n",
       "      <td>0</td>\n",
       "      <td>0</td>\n",
       "      <td>24160</td>\n",
       "      <td>211.3375</td>\n",
       "      <td>B5</td>\n",
       "      <td>S</td>\n",
       "      <td>2</td>\n",
       "      <td>NaN</td>\n",
       "      <td>St Louis, MO</td>\n",
       "    </tr>\n",
       "    <tr>\n",
       "      <th>1</th>\n",
       "      <td>1</td>\n",
       "      <td>1</td>\n",
       "      <td>Allison, Master. Hudson Trevor</td>\n",
       "      <td>male</td>\n",
       "      <td>0.92</td>\n",
       "      <td>1</td>\n",
       "      <td>2</td>\n",
       "      <td>113781</td>\n",
       "      <td>151.5500</td>\n",
       "      <td>C22 C26</td>\n",
       "      <td>S</td>\n",
       "      <td>11</td>\n",
       "      <td>NaN</td>\n",
       "      <td>Montreal, PQ / Chesterville, ON</td>\n",
       "    </tr>\n",
       "    <tr>\n",
       "      <th>2</th>\n",
       "      <td>1</td>\n",
       "      <td>0</td>\n",
       "      <td>Allison, Miss. Helen Loraine</td>\n",
       "      <td>female</td>\n",
       "      <td>2.00</td>\n",
       "      <td>1</td>\n",
       "      <td>2</td>\n",
       "      <td>113781</td>\n",
       "      <td>151.5500</td>\n",
       "      <td>C22 C26</td>\n",
       "      <td>S</td>\n",
       "      <td>NaN</td>\n",
       "      <td>NaN</td>\n",
       "      <td>Montreal, PQ / Chesterville, ON</td>\n",
       "    </tr>\n",
       "    <tr>\n",
       "      <th>3</th>\n",
       "      <td>1</td>\n",
       "      <td>0</td>\n",
       "      <td>Allison, Mr. Hudson Joshua Creighton</td>\n",
       "      <td>male</td>\n",
       "      <td>30.00</td>\n",
       "      <td>1</td>\n",
       "      <td>2</td>\n",
       "      <td>113781</td>\n",
       "      <td>151.5500</td>\n",
       "      <td>C22 C26</td>\n",
       "      <td>S</td>\n",
       "      <td>NaN</td>\n",
       "      <td>135.0</td>\n",
       "      <td>Montreal, PQ / Chesterville, ON</td>\n",
       "    </tr>\n",
       "    <tr>\n",
       "      <th>4</th>\n",
       "      <td>1</td>\n",
       "      <td>0</td>\n",
       "      <td>Allison, Mrs. Hudson J C (Bessie Waldo Daniels)</td>\n",
       "      <td>female</td>\n",
       "      <td>25.00</td>\n",
       "      <td>1</td>\n",
       "      <td>2</td>\n",
       "      <td>113781</td>\n",
       "      <td>151.5500</td>\n",
       "      <td>C22 C26</td>\n",
       "      <td>S</td>\n",
       "      <td>NaN</td>\n",
       "      <td>NaN</td>\n",
       "      <td>Montreal, PQ / Chesterville, ON</td>\n",
       "    </tr>\n",
       "  </tbody>\n",
       "</table>\n",
       "</div>"
      ],
      "text/plain": [
       "   pclass  survived                                             name     sex  \\\n",
       "0       1         1                    Allen, Miss. Elisabeth Walton  female   \n",
       "1       1         1                   Allison, Master. Hudson Trevor    male   \n",
       "2       1         0                     Allison, Miss. Helen Loraine  female   \n",
       "3       1         0             Allison, Mr. Hudson Joshua Creighton    male   \n",
       "4       1         0  Allison, Mrs. Hudson J C (Bessie Waldo Daniels)  female   \n",
       "\n",
       "     age  sibsp  parch  ticket      fare    cabin embarked boat   body  \\\n",
       "0  29.00      0      0   24160  211.3375       B5        S    2    NaN   \n",
       "1   0.92      1      2  113781  151.5500  C22 C26        S   11    NaN   \n",
       "2   2.00      1      2  113781  151.5500  C22 C26        S  NaN    NaN   \n",
       "3  30.00      1      2  113781  151.5500  C22 C26        S  NaN  135.0   \n",
       "4  25.00      1      2  113781  151.5500  C22 C26        S  NaN    NaN   \n",
       "\n",
       "                         home.dest  \n",
       "0                     St Louis, MO  \n",
       "1  Montreal, PQ / Chesterville, ON  \n",
       "2  Montreal, PQ / Chesterville, ON  \n",
       "3  Montreal, PQ / Chesterville, ON  \n",
       "4  Montreal, PQ / Chesterville, ON  "
      ]
     },
     "execution_count": 70,
     "metadata": {},
     "output_type": "execute_result"
    }
   ],
   "source": [
    "df = pd.read_csv('../dataset/titanic3.csv',encoding='euc-kr')\n",
    "df.head()"
   ]
  },
  {
   "cell_type": "code",
   "execution_count": 95,
   "id": "f268998c",
   "metadata": {},
   "outputs": [],
   "source": [
    "# 과제(2): 타이타닉 age, pclass, fare, sex, embarked 중 2개를 선택해\n",
    "# 각 칼럼 특징을 설명하고 종속변수 survived와의 관계를 서술\n",
    "# 전처리 후 기초통계량, 시각화를 통한 분포 및 특징 탐색, 이상치 여부 탐색\n",
    "# 선택한 컬럼을 잘 활용할 수 있는 형태로 변환"
   ]
  },
  {
   "cell_type": "code",
   "execution_count": 72,
   "id": "0c99d107",
   "metadata": {},
   "outputs": [
    {
     "data": {
      "text/plain": [
       "pclass          0\n",
       "survived        0\n",
       "name            0\n",
       "sex             0\n",
       "age           263\n",
       "sibsp           0\n",
       "parch           0\n",
       "ticket          0\n",
       "fare            1\n",
       "cabin        1014\n",
       "embarked        2\n",
       "boat          823\n",
       "body         1188\n",
       "home.dest     564\n",
       "dtype: int64"
      ]
     },
     "execution_count": 72,
     "metadata": {},
     "output_type": "execute_result"
    }
   ],
   "source": [
    "df.isnull().sum()"
   ]
  },
  {
   "cell_type": "code",
   "execution_count": 73,
   "id": "99d6f59e",
   "metadata": {
    "scrolled": false
   },
   "outputs": [
    {
     "data": {
      "text/html": [
       "<div>\n",
       "<style scoped>\n",
       "    .dataframe tbody tr th:only-of-type {\n",
       "        vertical-align: middle;\n",
       "    }\n",
       "\n",
       "    .dataframe tbody tr th {\n",
       "        vertical-align: top;\n",
       "    }\n",
       "\n",
       "    .dataframe thead th {\n",
       "        text-align: right;\n",
       "    }\n",
       "</style>\n",
       "<table border=\"1\" class=\"dataframe\">\n",
       "  <thead>\n",
       "    <tr style=\"text-align: right;\">\n",
       "      <th></th>\n",
       "      <th>pclass</th>\n",
       "      <th>survived</th>\n",
       "      <th>age</th>\n",
       "      <th>sibsp</th>\n",
       "      <th>parch</th>\n",
       "      <th>fare</th>\n",
       "      <th>body</th>\n",
       "    </tr>\n",
       "  </thead>\n",
       "  <tbody>\n",
       "    <tr>\n",
       "      <th>count</th>\n",
       "      <td>1309.000000</td>\n",
       "      <td>1309.000000</td>\n",
       "      <td>1046.000000</td>\n",
       "      <td>1309.000000</td>\n",
       "      <td>1309.000000</td>\n",
       "      <td>1308.000000</td>\n",
       "      <td>121.000000</td>\n",
       "    </tr>\n",
       "    <tr>\n",
       "      <th>mean</th>\n",
       "      <td>2.294882</td>\n",
       "      <td>0.381971</td>\n",
       "      <td>29.881138</td>\n",
       "      <td>0.498854</td>\n",
       "      <td>0.385027</td>\n",
       "      <td>33.295479</td>\n",
       "      <td>160.809917</td>\n",
       "    </tr>\n",
       "    <tr>\n",
       "      <th>std</th>\n",
       "      <td>0.837836</td>\n",
       "      <td>0.486055</td>\n",
       "      <td>14.413493</td>\n",
       "      <td>1.041658</td>\n",
       "      <td>0.865560</td>\n",
       "      <td>51.758668</td>\n",
       "      <td>97.696922</td>\n",
       "    </tr>\n",
       "    <tr>\n",
       "      <th>min</th>\n",
       "      <td>1.000000</td>\n",
       "      <td>0.000000</td>\n",
       "      <td>0.170000</td>\n",
       "      <td>0.000000</td>\n",
       "      <td>0.000000</td>\n",
       "      <td>0.000000</td>\n",
       "      <td>1.000000</td>\n",
       "    </tr>\n",
       "    <tr>\n",
       "      <th>25%</th>\n",
       "      <td>2.000000</td>\n",
       "      <td>0.000000</td>\n",
       "      <td>21.000000</td>\n",
       "      <td>0.000000</td>\n",
       "      <td>0.000000</td>\n",
       "      <td>7.895800</td>\n",
       "      <td>72.000000</td>\n",
       "    </tr>\n",
       "    <tr>\n",
       "      <th>50%</th>\n",
       "      <td>3.000000</td>\n",
       "      <td>0.000000</td>\n",
       "      <td>28.000000</td>\n",
       "      <td>0.000000</td>\n",
       "      <td>0.000000</td>\n",
       "      <td>14.454200</td>\n",
       "      <td>155.000000</td>\n",
       "    </tr>\n",
       "    <tr>\n",
       "      <th>75%</th>\n",
       "      <td>3.000000</td>\n",
       "      <td>1.000000</td>\n",
       "      <td>39.000000</td>\n",
       "      <td>1.000000</td>\n",
       "      <td>0.000000</td>\n",
       "      <td>31.275000</td>\n",
       "      <td>256.000000</td>\n",
       "    </tr>\n",
       "    <tr>\n",
       "      <th>max</th>\n",
       "      <td>3.000000</td>\n",
       "      <td>1.000000</td>\n",
       "      <td>80.000000</td>\n",
       "      <td>8.000000</td>\n",
       "      <td>9.000000</td>\n",
       "      <td>512.329200</td>\n",
       "      <td>328.000000</td>\n",
       "    </tr>\n",
       "  </tbody>\n",
       "</table>\n",
       "</div>"
      ],
      "text/plain": [
       "            pclass     survived          age        sibsp        parch  \\\n",
       "count  1309.000000  1309.000000  1046.000000  1309.000000  1309.000000   \n",
       "mean      2.294882     0.381971    29.881138     0.498854     0.385027   \n",
       "std       0.837836     0.486055    14.413493     1.041658     0.865560   \n",
       "min       1.000000     0.000000     0.170000     0.000000     0.000000   \n",
       "25%       2.000000     0.000000    21.000000     0.000000     0.000000   \n",
       "50%       3.000000     0.000000    28.000000     0.000000     0.000000   \n",
       "75%       3.000000     1.000000    39.000000     1.000000     0.000000   \n",
       "max       3.000000     1.000000    80.000000     8.000000     9.000000   \n",
       "\n",
       "              fare        body  \n",
       "count  1308.000000  121.000000  \n",
       "mean     33.295479  160.809917  \n",
       "std      51.758668   97.696922  \n",
       "min       0.000000    1.000000  \n",
       "25%       7.895800   72.000000  \n",
       "50%      14.454200  155.000000  \n",
       "75%      31.275000  256.000000  \n",
       "max     512.329200  328.000000  "
      ]
     },
     "execution_count": 73,
     "metadata": {},
     "output_type": "execute_result"
    }
   ],
   "source": [
    "df.describe()"
   ]
  },
  {
   "cell_type": "code",
   "execution_count": 93,
   "id": "c234e6f2",
   "metadata": {},
   "outputs": [
    {
     "data": {
      "text/html": [
       "<div>\n",
       "<style scoped>\n",
       "    .dataframe tbody tr th:only-of-type {\n",
       "        vertical-align: middle;\n",
       "    }\n",
       "\n",
       "    .dataframe tbody tr th {\n",
       "        vertical-align: top;\n",
       "    }\n",
       "\n",
       "    .dataframe thead th {\n",
       "        text-align: right;\n",
       "    }\n",
       "</style>\n",
       "<table border=\"1\" class=\"dataframe\">\n",
       "  <thead>\n",
       "    <tr style=\"text-align: right;\">\n",
       "      <th></th>\n",
       "      <th>pclass</th>\n",
       "      <th>survived</th>\n",
       "      <th>age</th>\n",
       "      <th>sibsp</th>\n",
       "      <th>parch</th>\n",
       "      <th>fare</th>\n",
       "      <th>body</th>\n",
       "    </tr>\n",
       "  </thead>\n",
       "  <tbody>\n",
       "    <tr>\n",
       "      <th>pclass</th>\n",
       "      <td>1.000000</td>\n",
       "      <td>-0.312469</td>\n",
       "      <td>-0.377758</td>\n",
       "      <td>0.060832</td>\n",
       "      <td>0.018322</td>\n",
       "      <td>-0.558477</td>\n",
       "      <td>-0.034642</td>\n",
       "    </tr>\n",
       "    <tr>\n",
       "      <th>survived</th>\n",
       "      <td>-0.312469</td>\n",
       "      <td>1.000000</td>\n",
       "      <td>-0.066598</td>\n",
       "      <td>-0.027825</td>\n",
       "      <td>0.082660</td>\n",
       "      <td>0.244208</td>\n",
       "      <td>NaN</td>\n",
       "    </tr>\n",
       "    <tr>\n",
       "      <th>age</th>\n",
       "      <td>-0.377758</td>\n",
       "      <td>-0.066598</td>\n",
       "      <td>1.000000</td>\n",
       "      <td>-0.220725</td>\n",
       "      <td>-0.138440</td>\n",
       "      <td>0.169963</td>\n",
       "      <td>0.058978</td>\n",
       "    </tr>\n",
       "    <tr>\n",
       "      <th>sibsp</th>\n",
       "      <td>0.060832</td>\n",
       "      <td>-0.027825</td>\n",
       "      <td>-0.220725</td>\n",
       "      <td>1.000000</td>\n",
       "      <td>0.373587</td>\n",
       "      <td>0.160224</td>\n",
       "      <td>-0.099961</td>\n",
       "    </tr>\n",
       "    <tr>\n",
       "      <th>parch</th>\n",
       "      <td>0.018322</td>\n",
       "      <td>0.082660</td>\n",
       "      <td>-0.138440</td>\n",
       "      <td>0.373587</td>\n",
       "      <td>1.000000</td>\n",
       "      <td>0.221522</td>\n",
       "      <td>0.051099</td>\n",
       "    </tr>\n",
       "    <tr>\n",
       "      <th>fare</th>\n",
       "      <td>-0.558477</td>\n",
       "      <td>0.244208</td>\n",
       "      <td>0.169963</td>\n",
       "      <td>0.160224</td>\n",
       "      <td>0.221522</td>\n",
       "      <td>1.000000</td>\n",
       "      <td>-0.042665</td>\n",
       "    </tr>\n",
       "    <tr>\n",
       "      <th>body</th>\n",
       "      <td>-0.034642</td>\n",
       "      <td>NaN</td>\n",
       "      <td>0.058978</td>\n",
       "      <td>-0.099961</td>\n",
       "      <td>0.051099</td>\n",
       "      <td>-0.042665</td>\n",
       "      <td>1.000000</td>\n",
       "    </tr>\n",
       "  </tbody>\n",
       "</table>\n",
       "</div>"
      ],
      "text/plain": [
       "            pclass  survived       age     sibsp     parch      fare      body\n",
       "pclass    1.000000 -0.312469 -0.377758  0.060832  0.018322 -0.558477 -0.034642\n",
       "survived -0.312469  1.000000 -0.066598 -0.027825  0.082660  0.244208       NaN\n",
       "age      -0.377758 -0.066598  1.000000 -0.220725 -0.138440  0.169963  0.058978\n",
       "sibsp     0.060832 -0.027825 -0.220725  1.000000  0.373587  0.160224 -0.099961\n",
       "parch     0.018322  0.082660 -0.138440  0.373587  1.000000  0.221522  0.051099\n",
       "fare     -0.558477  0.244208  0.169963  0.160224  0.221522  1.000000 -0.042665\n",
       "body     -0.034642       NaN  0.058978 -0.099961  0.051099 -0.042665  1.000000"
      ]
     },
     "execution_count": 93,
     "metadata": {},
     "output_type": "execute_result"
    }
   ],
   "source": [
    "df.corr()"
   ]
  },
  {
   "cell_type": "markdown",
   "id": "e8d505f3",
   "metadata": {},
   "source": [
    "#### fare\n",
    "- 평균(33.295479)과 중앙값(14.454200)의 차이가 큰 편\n",
    "    - 특히 max값이 512.329200로 평균과 차이가 많이 나는 것을 볼 수 있음\n",
    "    - 박스 플랏을 보면 upper whisker가 아주 많은 것을 볼 수 있음\n",
    "- 왼쪽으로 극적으로 치우친 그래프\n",
    "- 이상치 범위: 66.34 ~\n",
    "    - lower whisker는 없음/ upper whisker만 171개"
   ]
  },
  {
   "cell_type": "markdown",
   "id": "4cef6521",
   "metadata": {},
   "source": [
    "#### age\n",
    "- 평균(29.892983)과 중앙값(30)이 큰 차이가 없음\n",
    "- 최소, 최댓값을 고려하면 왼쪽으로 다소 치우친 그래프임을 알 수 있음\n",
    "- 이상치 범위: ~ 0.44 / 57.34 ~\n",
    "    - 최고령자가 80이라는 걸 생각하면 이상치가 생각보다 많이 나옴\n",
    "- 주로 20~40대에 사람들이 많이 몰렸다는 걸 볼 수 있음 (상대도수 그래프 참고)"
   ]
  },
  {
   "cell_type": "code",
   "execution_count": 75,
   "id": "9564c868",
   "metadata": {},
   "outputs": [],
   "source": [
    "#나이 nan처리\n",
    "df['age'].replace(np.nan, 1000, inplace=True)\n",
    "ix = df['age']!=1000\n",
    "ix2 = df['age']==1000\n",
    "ix3 = df['sex']=='female'\n",
    "ix4 = df['sex']=='male'\n",
    "\n",
    "idx1 = df['name'].str.contains('Miss. ')   #미혼 여성\n",
    "idx2 = df['name'].str.contains('Mrs. ')    #기혼 여성\n",
    "idx3 = df['name'].str.contains('Dr. ')     #의사\n",
    "idx4 = df['name'].str.contains('Master. ') #남자\n",
    "idx6 = df['name'].str.contains('Mr. ')     #남자\n",
    "idx7 = df['name'].str.contains('Ms. ')     #여자\n",
    "\n",
    "miss = df['age'][idx1&ix].mean()\n",
    "mrs = df['age'][idx2&ix].mean()\n",
    "dr1 = df['age'][idx3&ix&ix3].mean()\n",
    "dr2 = df['age'][idx3&ix&ix4].mean()\n",
    "master = df['age'][idx4&ix].mean()\n",
    "mr = df['age'][idx6&ix].mean()\n",
    "ms = df['age'][idx7&ix].mean()\n",
    "\n",
    "df['age'][idx1&ix2] = miss\n",
    "df['age'][idx2&ix2] = mrs\n",
    "df['age'][idx3&ix2&ix3] = dr1\n",
    "df['age'][idx3&ix2&ix4] = dr2\n",
    "df['age'][idx4&ix2] = master\n",
    "df['age'][idx6&ix2] = mr\n",
    "df['age'][idx7&ix2] = ms\n",
    "\n",
    "#요금 nan처리\n",
    "df.fare.replace(np.nan, df['fare'].mean(), inplace=True)"
   ]
  },
  {
   "cell_type": "code",
   "execution_count": 76,
   "id": "37fc4d57",
   "metadata": {},
   "outputs": [
    {
     "data": {
      "image/png": "[encoded data removed]",
      "text/plain": [
       "<Figure size 500x600 with 1 Axes>"
      ]
     },
     "metadata": {},
     "output_type": "display_data"
    }
   ],
   "source": [
    "plt.figure(figsize=(5,6))\n",
    "plt.boxplot(df.age, labels=['age'])\n",
    "plt.show()"
   ]
  },
  {
   "cell_type": "code",
   "execution_count": 77,
   "id": "b307c853",
   "metadata": {},
   "outputs": [
    {
     "name": "stdout",
     "output_type": "stream",
     "text": [
      "이상치: ~0.44 / 57.34~\n"
     ]
    },
    {
     "data": {
      "text/plain": [
       "52"
      ]
     },
     "execution_count": 77,
     "metadata": {},
     "output_type": "execute_result"
    }
   ],
   "source": [
    "#이상치 탐색 방법 2가지\n",
    "q1 = np.percentile(df.age,25)\n",
    "q3 = np.percentile(df.age,75)\n",
    "iqr15 = (q3-q1)*1.5\n",
    "abv = df[(df['age'] <= q1-iqr15) | (df['age'] >= q3+iqr15)]\n",
    "\n",
    "q1 = df.age.describe()['25%']\n",
    "q3 = df.age.describe()['75%']\n",
    "iqr = q3 - q1\n",
    "abv = df[(df['age'] <= q1-(iqr*1.5)) | (df['age'] >= q3+(iqr*1.5))]\n",
    "\n",
    "print(f\"이상치: ~{(q1-(iqr*1.5)).round(2)} / {(q3+(iqr*1.5)).round(2)}~\")\n",
    "len(abv)\n",
    "# 단, 이상치 개수가 많은 편이고, 부적절한 데이터라 생각될 정도의 이상치도 아니므로\n",
    "# 삭제 처리는 하지 않음\n",
    "# 그냥 타이타닉 평균 나이대~ 등을 파악할 때 참고하는 정도"
   ]
  },
  {
   "cell_type": "code",
   "execution_count": 78,
   "id": "4c762457",
   "metadata": {},
   "outputs": [
    {
     "data": {
      "image/png": "[encoded data removed]",
      "text/plain": [
       "<Figure size 800x600 with 1 Axes>"
      ]
     },
     "metadata": {},
     "output_type": "display_data"
    }
   ],
   "source": [
    "plt.figure(figsize=(8,6))\n",
    "freq, _, _ = plt.hist(df.age, bins=8, range=(0,80))\n",
    "\n",
    "freq, _ = np.histogram(df.age, bins=8, range=(0,80))   #각 구간 값 개수count"
   ]
  },
  {
   "cell_type": "code",
   "execution_count": 79,
   "id": "daed6f2a",
   "metadata": {},
   "outputs": [
    {
     "data": {
      "text/html": [
       "<div>\n",
       "<style scoped>\n",
       "    .dataframe tbody tr th:only-of-type {\n",
       "        vertical-align: middle;\n",
       "    }\n",
       "\n",
       "    .dataframe tbody tr th {\n",
       "        vertical-align: top;\n",
       "    }\n",
       "\n",
       "    .dataframe thead th {\n",
       "        text-align: right;\n",
       "    }\n",
       "</style>\n",
       "<table border=\"1\" class=\"dataframe\">\n",
       "  <thead>\n",
       "    <tr style=\"text-align: right;\">\n",
       "      <th></th>\n",
       "      <th>calss_v</th>\n",
       "      <th>frequency</th>\n",
       "      <th>rel_freq</th>\n",
       "      <th>cum_freq</th>\n",
       "    </tr>\n",
       "  </thead>\n",
       "  <tbody>\n",
       "    <tr>\n",
       "      <th>0</th>\n",
       "      <td>5</td>\n",
       "      <td>90</td>\n",
       "      <td>0.068755</td>\n",
       "      <td>0.068755</td>\n",
       "    </tr>\n",
       "    <tr>\n",
       "      <th>1</th>\n",
       "      <td>15</td>\n",
       "      <td>143</td>\n",
       "      <td>0.109244</td>\n",
       "      <td>0.177998</td>\n",
       "    </tr>\n",
       "    <tr>\n",
       "      <th>2</th>\n",
       "      <td>25</td>\n",
       "      <td>395</td>\n",
       "      <td>0.301757</td>\n",
       "      <td>0.479756</td>\n",
       "    </tr>\n",
       "    <tr>\n",
       "      <th>3</th>\n",
       "      <td>35</td>\n",
       "      <td>435</td>\n",
       "      <td>0.332315</td>\n",
       "      <td>0.812070</td>\n",
       "    </tr>\n",
       "    <tr>\n",
       "      <th>4</th>\n",
       "      <td>45</td>\n",
       "      <td>136</td>\n",
       "      <td>0.103896</td>\n",
       "      <td>0.915966</td>\n",
       "    </tr>\n",
       "    <tr>\n",
       "      <th>5</th>\n",
       "      <td>55</td>\n",
       "      <td>70</td>\n",
       "      <td>0.053476</td>\n",
       "      <td>0.969442</td>\n",
       "    </tr>\n",
       "    <tr>\n",
       "      <th>6</th>\n",
       "      <td>65</td>\n",
       "      <td>32</td>\n",
       "      <td>0.024446</td>\n",
       "      <td>0.993888</td>\n",
       "    </tr>\n",
       "    <tr>\n",
       "      <th>7</th>\n",
       "      <td>75</td>\n",
       "      <td>8</td>\n",
       "      <td>0.006112</td>\n",
       "      <td>1.000000</td>\n",
       "    </tr>\n",
       "  </tbody>\n",
       "</table>\n",
       "</div>"
      ],
      "text/plain": [
       "   calss_v  frequency  rel_freq  cum_freq\n",
       "0        5         90  0.068755  0.068755\n",
       "1       15        143  0.109244  0.177998\n",
       "2       25        395  0.301757  0.479756\n",
       "3       35        435  0.332315  0.812070\n",
       "4       45        136  0.103896  0.915966\n",
       "5       55         70  0.053476  0.969442\n",
       "6       65         32  0.024446  0.993888\n",
       "7       75          8  0.006112  1.000000"
      ]
     },
     "execution_count": 79,
     "metadata": {},
     "output_type": "execute_result"
    }
   ],
   "source": [
    "dfage = pd.DataFrame()\n",
    "dfage['calss_v'] = [(i+(i+10))//2 for i in range(0,80,10)]   #계급값\n",
    "\n",
    "freq, _ = np.histogram(df.age, bins=8, range=(0,80))   #각 구간 값 개수count\n",
    "dfage['frequency'] = freq   #각 계급별 빈도수(개수)\n",
    "\n",
    "dfage['rel_freq'] = freq/freq.sum()    #상대도수(해당 계급 데이터의 상대적인 비율)\n",
    "dfage['cum_freq'] = np.cumsum(dfage.rel_freq)   # 누적 상대도수\n",
    "\n",
    "dfage"
   ]
  },
  {
   "cell_type": "code",
   "execution_count": 80,
   "id": "aae3a6cb",
   "metadata": {},
   "outputs": [
    {
     "data": {
      "image/png": "[encoded data removed]",
      "text/plain": [
       "<Figure size 1000x600 with 2 Axes>"
      ]
     },
     "metadata": {},
     "output_type": "display_data"
    }
   ],
   "source": [
    "plt.figure(figsize=(10,6))\n",
    "\n",
    "freq, _, _ = plt.hist(df.age, bins=8, range=(0,80))\n",
    "plt.xlabel('score')\n",
    "plt.ylabel('person number')\n",
    "plt.xticks(np.linspace(0, 80, 8+1))\n",
    "plt.yticks(np.arange(0, freq.max()+1, 50))\n",
    "\n",
    "ax2=plt.twinx()\n",
    "x=np.linspace(0, 80, 8)\n",
    "y=dfage['cum_freq']\n",
    "ax2.plot(x,y, color='red', marker='o', markersize=4)    #누적상대도수\n",
    "\n",
    "plt.plot(x, dfage.rel_freq, color='gold', marker='o', markersize=4)   #상대도수\n",
    "\n",
    "plt.show()"
   ]
  },
  {
   "cell_type": "code",
   "execution_count": null,
   "id": "c23a3fe0",
   "metadata": {},
   "outputs": [],
   "source": []
  },
  {
   "cell_type": "code",
   "execution_count": 81,
   "id": "c4c64e00",
   "metadata": {},
   "outputs": [
    {
     "data": {
      "image/png": "[encoded data removed]",
      "text/plain": [
       "<Figure size 500x600 with 1 Axes>"
      ]
     },
     "metadata": {},
     "output_type": "display_data"
    }
   ],
   "source": [
    "plt.figure(figsize=(5,6))\n",
    "plt.boxplot(df.fare, labels=['fare'])\n",
    "plt.show()"
   ]
  },
  {
   "cell_type": "code",
   "execution_count": 82,
   "id": "c9a28d0d",
   "metadata": {},
   "outputs": [
    {
     "name": "stdout",
     "output_type": "stream",
     "text": [
      "이상치: ~-13.44 / 52.61~\n"
     ]
    },
    {
     "data": {
      "text/plain": [
       "255"
      ]
     },
     "execution_count": 82,
     "metadata": {},
     "output_type": "execute_result"
    }
   ],
   "source": [
    "#이상치 탐색\n",
    "q1 = np.percentile(df.fare,25)\n",
    "q3 = np.percentile(df.fare,75)\n",
    "iqr15 = (q3-q1)*1.5\n",
    "abv = df[(df['fare'] <= q1-iqr) | (df['fare'] >= q3+iqr)]\n",
    "\n",
    "print(f\"이상치: ~{(q1-(iqr*1.5)).round(2)} / {(q3+(iqr*1.5)).round(2)}~\")\n",
    "len(abv)\n",
    "# 이상치가 아주 많음\n",
    "# 특히 upper whisker 범위가 너무 넓음"
   ]
  },
  {
   "cell_type": "code",
   "execution_count": 107,
   "id": "032c190b",
   "metadata": {},
   "outputs": [
    {
     "data": {
      "text/plain": [
       "count    1309.000000\n",
       "mean       33.295479\n",
       "std        51.738879\n",
       "min         0.000000\n",
       "25%         7.895800\n",
       "50%        14.454200\n",
       "75%        31.275000\n",
       "max       512.329200\n",
       "Name: fare, dtype: float64"
      ]
     },
     "execution_count": 107,
     "metadata": {},
     "output_type": "execute_result"
    }
   ],
   "source": [
    "df.fare.describe()"
   ]
  },
  {
   "cell_type": "code",
   "execution_count": 108,
   "id": "35cb0f25",
   "metadata": {},
   "outputs": [
    {
     "data": {
      "text/plain": [
       "<AxesSubplot:ylabel='Frequency'>"
      ]
     },
     "execution_count": 108,
     "metadata": {},
     "output_type": "execute_result"
    },
    {
     "data": {
      "image/png": "[encoded data removed]",
      "text/plain": [
       "<Figure size 640x480 with 1 Axes>"
      ]
     },
     "metadata": {},
     "output_type": "display_data"
    }
   ],
   "source": [
    "df.fare.plot(kind='hist')"
   ]
  },
  {
   "cell_type": "code",
   "execution_count": 83,
   "id": "bbd986d7",
   "metadata": {},
   "outputs": [
    {
     "data": {
      "image/png": "[encoded data removed]",
      "text/plain": [
       "<Figure size 800x600 with 1 Axes>"
      ]
     },
     "metadata": {},
     "output_type": "display_data"
    }
   ],
   "source": [
    "plt.figure(figsize=(8,6))\n",
    "freq, _, _ = plt.hist(df.fare, bins=55, range=(0,550))\n",
    "\n",
    "freq, _ = np.histogram(df.fare, bins=11, range=(0,550))   #각 구간 값 개수count"
   ]
  },
  {
   "cell_type": "code",
   "execution_count": 84,
   "id": "608cc867",
   "metadata": {},
   "outputs": [
    {
     "data": {
      "text/html": [
       "<div>\n",
       "<style scoped>\n",
       "    .dataframe tbody tr th:only-of-type {\n",
       "        vertical-align: middle;\n",
       "    }\n",
       "\n",
       "    .dataframe tbody tr th {\n",
       "        vertical-align: top;\n",
       "    }\n",
       "\n",
       "    .dataframe thead th {\n",
       "        text-align: right;\n",
       "    }\n",
       "</style>\n",
       "<table border=\"1\" class=\"dataframe\">\n",
       "  <thead>\n",
       "    <tr style=\"text-align: right;\">\n",
       "      <th></th>\n",
       "      <th>calss_v</th>\n",
       "      <th>frequency</th>\n",
       "      <th>rel_freq</th>\n",
       "      <th>cum_freq</th>\n",
       "    </tr>\n",
       "  </thead>\n",
       "  <tbody>\n",
       "    <tr>\n",
       "      <th>0</th>\n",
       "      <td>25</td>\n",
       "      <td>1067</td>\n",
       "      <td>0.815126</td>\n",
       "      <td>0.815126</td>\n",
       "    </tr>\n",
       "    <tr>\n",
       "      <th>1</th>\n",
       "      <td>75</td>\n",
       "      <td>158</td>\n",
       "      <td>0.120703</td>\n",
       "      <td>0.935829</td>\n",
       "    </tr>\n",
       "    <tr>\n",
       "      <th>2</th>\n",
       "      <td>125</td>\n",
       "      <td>33</td>\n",
       "      <td>0.025210</td>\n",
       "      <td>0.961039</td>\n",
       "    </tr>\n",
       "    <tr>\n",
       "      <th>3</th>\n",
       "      <td>175</td>\n",
       "      <td>13</td>\n",
       "      <td>0.009931</td>\n",
       "      <td>0.970970</td>\n",
       "    </tr>\n",
       "    <tr>\n",
       "      <th>4</th>\n",
       "      <td>225</td>\n",
       "      <td>21</td>\n",
       "      <td>0.016043</td>\n",
       "      <td>0.987013</td>\n",
       "    </tr>\n",
       "    <tr>\n",
       "      <th>5</th>\n",
       "      <td>275</td>\n",
       "      <td>13</td>\n",
       "      <td>0.009931</td>\n",
       "      <td>0.996944</td>\n",
       "    </tr>\n",
       "    <tr>\n",
       "      <th>6</th>\n",
       "      <td>325</td>\n",
       "      <td>0</td>\n",
       "      <td>0.000000</td>\n",
       "      <td>0.996944</td>\n",
       "    </tr>\n",
       "    <tr>\n",
       "      <th>7</th>\n",
       "      <td>375</td>\n",
       "      <td>0</td>\n",
       "      <td>0.000000</td>\n",
       "      <td>0.996944</td>\n",
       "    </tr>\n",
       "    <tr>\n",
       "      <th>8</th>\n",
       "      <td>425</td>\n",
       "      <td>0</td>\n",
       "      <td>0.000000</td>\n",
       "      <td>0.996944</td>\n",
       "    </tr>\n",
       "    <tr>\n",
       "      <th>9</th>\n",
       "      <td>475</td>\n",
       "      <td>0</td>\n",
       "      <td>0.000000</td>\n",
       "      <td>0.996944</td>\n",
       "    </tr>\n",
       "    <tr>\n",
       "      <th>10</th>\n",
       "      <td>525</td>\n",
       "      <td>4</td>\n",
       "      <td>0.003056</td>\n",
       "      <td>1.000000</td>\n",
       "    </tr>\n",
       "  </tbody>\n",
       "</table>\n",
       "</div>"
      ],
      "text/plain": [
       "    calss_v  frequency  rel_freq  cum_freq\n",
       "0        25       1067  0.815126  0.815126\n",
       "1        75        158  0.120703  0.935829\n",
       "2       125         33  0.025210  0.961039\n",
       "3       175         13  0.009931  0.970970\n",
       "4       225         21  0.016043  0.987013\n",
       "5       275         13  0.009931  0.996944\n",
       "6       325          0  0.000000  0.996944\n",
       "7       375          0  0.000000  0.996944\n",
       "8       425          0  0.000000  0.996944\n",
       "9       475          0  0.000000  0.996944\n",
       "10      525          4  0.003056  1.000000"
      ]
     },
     "execution_count": 84,
     "metadata": {},
     "output_type": "execute_result"
    }
   ],
   "source": [
    "dfare = pd.DataFrame()\n",
    "dfare['calss_v'] = [(i+25) for i in range(0,550,50)]   #계급값\n",
    "\n",
    "freq, _ = np.histogram(df.fare, bins=11, range=(0,550))   #각 구간 값 개수count\n",
    "dfare['frequency'] = freq   #각 계급별 빈도수(개수)\n",
    "\n",
    "dfare['rel_freq'] = freq/freq.sum()    #상대도수(해당 계급 데이터의 상대적인 비율)\n",
    "dfare['cum_freq'] = np.cumsum(dfare.rel_freq)   # 누적 상대도수\n",
    "\n",
    "dfare"
   ]
  },
  {
   "cell_type": "code",
   "execution_count": 85,
   "id": "28b1344d",
   "metadata": {},
   "outputs": [
    {
     "data": {
      "image/png": "[encoded data removed]",
      "text/plain": [
       "<Figure size 1000x600 with 2 Axes>"
      ]
     },
     "metadata": {},
     "output_type": "display_data"
    }
   ],
   "source": [
    "plt.figure(figsize=(10,6))\n",
    "\n",
    "freq, _, _ = plt.hist(df.fare, bins=11, range=(0,550))\n",
    "plt.xlabel('score')\n",
    "plt.ylabel('person number')\n",
    "plt.xticks(np.linspace(0, 550, 11+1))\n",
    "plt.yticks(np.arange(0, freq.max()+1, 200))\n",
    "\n",
    "ax2=plt.twinx()\n",
    "x=np.linspace(0, 550, 11)\n",
    "y=dfare['cum_freq']\n",
    "ax2.plot(x,y, color='red', marker='o', markersize=4)    #누적상대도수\n",
    "\n",
    "plt.plot(x, dfare.rel_freq, color='gold', marker='o', markersize=4)   #상대도수\n",
    "\n",
    "plt.show()\n",
    "\n",
    "# 초반에 극히 치우친 데이터"
   ]
  },
  {
   "cell_type": "code",
   "execution_count": null,
   "id": "fd5b2c7f",
   "metadata": {},
   "outputs": [],
   "source": []
  },
  {
   "cell_type": "code",
   "execution_count": null,
   "id": "c4645f1d",
   "metadata": {},
   "outputs": [],
   "source": []
  },
  {
   "cell_type": "code",
   "execution_count": null,
   "id": "919afc3e",
   "metadata": {},
   "outputs": [],
   "source": []
  },
  {
   "cell_type": "code",
   "execution_count": 98,
   "id": "03b76033",
   "metadata": {},
   "outputs": [
    {
     "data": {
      "text/html": [
       "<div>\n",
       "<style scoped>\n",
       "    .dataframe tbody tr th:only-of-type {\n",
       "        vertical-align: middle;\n",
       "    }\n",
       "\n",
       "    .dataframe tbody tr th {\n",
       "        vertical-align: top;\n",
       "    }\n",
       "\n",
       "    .dataframe thead th {\n",
       "        text-align: right;\n",
       "    }\n",
       "</style>\n",
       "<table border=\"1\" class=\"dataframe\">\n",
       "  <thead>\n",
       "    <tr style=\"text-align: right;\">\n",
       "      <th></th>\n",
       "      <th>pclass</th>\n",
       "      <th>fare</th>\n",
       "      <th>survived</th>\n",
       "    </tr>\n",
       "  </thead>\n",
       "  <tbody>\n",
       "    <tr>\n",
       "      <th>0</th>\n",
       "      <td>1</td>\n",
       "      <td>211.3375</td>\n",
       "      <td>1</td>\n",
       "    </tr>\n",
       "    <tr>\n",
       "      <th>1</th>\n",
       "      <td>1</td>\n",
       "      <td>151.5500</td>\n",
       "      <td>1</td>\n",
       "    </tr>\n",
       "    <tr>\n",
       "      <th>2</th>\n",
       "      <td>1</td>\n",
       "      <td>151.5500</td>\n",
       "      <td>0</td>\n",
       "    </tr>\n",
       "    <tr>\n",
       "      <th>3</th>\n",
       "      <td>1</td>\n",
       "      <td>151.5500</td>\n",
       "      <td>0</td>\n",
       "    </tr>\n",
       "    <tr>\n",
       "      <th>4</th>\n",
       "      <td>1</td>\n",
       "      <td>151.5500</td>\n",
       "      <td>0</td>\n",
       "    </tr>\n",
       "  </tbody>\n",
       "</table>\n",
       "</div>"
      ],
      "text/plain": [
       "   pclass      fare  survived\n",
       "0       1  211.3375         1\n",
       "1       1  151.5500         1\n",
       "2       1  151.5500         0\n",
       "3       1  151.5500         0\n",
       "4       1  151.5500         0"
      ]
     },
     "execution_count": 98,
     "metadata": {},
     "output_type": "execute_result"
    }
   ],
   "source": [
    "# 과제(3): 타이타닉에서 2개 선택, 공분산 행렬 및 상관계수 행렬 탐색\n",
    "pclass = np.array(df['pclass'])\n",
    "fare = np.array(df['fare'])\n",
    "survived = np.array(df['survived'])\n",
    "\n",
    "tt = pd.DataFrame({'pclass':pclass, 'fare':fare, 'survived':survived})\n",
    "tt.head()"
   ]
  },
  {
   "cell_type": "code",
   "execution_count": 99,
   "id": "3eab2bc2",
   "metadata": {},
   "outputs": [
    {
     "data": {
      "text/html": [
       "<div>\n",
       "<style scoped>\n",
       "    .dataframe tbody tr th:only-of-type {\n",
       "        vertical-align: middle;\n",
       "    }\n",
       "\n",
       "    .dataframe tbody tr th {\n",
       "        vertical-align: top;\n",
       "    }\n",
       "\n",
       "    .dataframe thead th {\n",
       "        text-align: right;\n",
       "    }\n",
       "</style>\n",
       "<table border=\"1\" class=\"dataframe\">\n",
       "  <thead>\n",
       "    <tr style=\"text-align: right;\">\n",
       "      <th></th>\n",
       "      <th>pclass</th>\n",
       "      <th>fare</th>\n",
       "      <th>survived</th>\n",
       "      <th>pclass_deviation</th>\n",
       "      <th>fare_deviation</th>\n",
       "      <th>survived_deviation</th>\n",
       "      <th>pclass: pod</th>\n",
       "      <th>fare: pod</th>\n",
       "    </tr>\n",
       "  </thead>\n",
       "  <tbody>\n",
       "    <tr>\n",
       "      <th>0</th>\n",
       "      <td>1</td>\n",
       "      <td>211.3375</td>\n",
       "      <td>1</td>\n",
       "      <td>-1.294882</td>\n",
       "      <td>178.042021</td>\n",
       "      <td>0.618029</td>\n",
       "      <td>-0.800274</td>\n",
       "      <td>110.035137</td>\n",
       "    </tr>\n",
       "    <tr>\n",
       "      <th>1</th>\n",
       "      <td>1</td>\n",
       "      <td>151.5500</td>\n",
       "      <td>1</td>\n",
       "      <td>-1.294882</td>\n",
       "      <td>118.254521</td>\n",
       "      <td>0.618029</td>\n",
       "      <td>-0.800274</td>\n",
       "      <td>73.084727</td>\n",
       "    </tr>\n",
       "    <tr>\n",
       "      <th>2</th>\n",
       "      <td>1</td>\n",
       "      <td>151.5500</td>\n",
       "      <td>0</td>\n",
       "      <td>-1.294882</td>\n",
       "      <td>118.254521</td>\n",
       "      <td>-0.381971</td>\n",
       "      <td>0.494607</td>\n",
       "      <td>-45.169794</td>\n",
       "    </tr>\n",
       "    <tr>\n",
       "      <th>3</th>\n",
       "      <td>1</td>\n",
       "      <td>151.5500</td>\n",
       "      <td>0</td>\n",
       "      <td>-1.294882</td>\n",
       "      <td>118.254521</td>\n",
       "      <td>-0.381971</td>\n",
       "      <td>0.494607</td>\n",
       "      <td>-45.169794</td>\n",
       "    </tr>\n",
       "    <tr>\n",
       "      <th>4</th>\n",
       "      <td>1</td>\n",
       "      <td>151.5500</td>\n",
       "      <td>0</td>\n",
       "      <td>-1.294882</td>\n",
       "      <td>118.254521</td>\n",
       "      <td>-0.381971</td>\n",
       "      <td>0.494607</td>\n",
       "      <td>-45.169794</td>\n",
       "    </tr>\n",
       "  </tbody>\n",
       "</table>\n",
       "</div>"
      ],
      "text/plain": [
       "   pclass      fare  survived  pclass_deviation  fare_deviation  \\\n",
       "0       1  211.3375         1         -1.294882      178.042021   \n",
       "1       1  151.5500         1         -1.294882      118.254521   \n",
       "2       1  151.5500         0         -1.294882      118.254521   \n",
       "3       1  151.5500         0         -1.294882      118.254521   \n",
       "4       1  151.5500         0         -1.294882      118.254521   \n",
       "\n",
       "   survived_deviation  pclass: pod   fare: pod  \n",
       "0            0.618029    -0.800274  110.035137  \n",
       "1            0.618029    -0.800274   73.084727  \n",
       "2           -0.381971     0.494607  -45.169794  \n",
       "3           -0.381971     0.494607  -45.169794  \n",
       "4           -0.381971     0.494607  -45.169794  "
      ]
     },
     "execution_count": 99,
     "metadata": {},
     "output_type": "execute_result"
    }
   ],
   "source": [
    "tdf = tt.copy()\n",
    "\n",
    "tdf['pclass_deviation'] = tdf.pclass - tdf.pclass.mean()\n",
    "tdf['fare_deviation'] = tdf.fare - tdf.fare.mean()\n",
    "tdf['survived_deviation'] = tdf.survived - tdf.survived.mean()\n",
    "\n",
    "tdf['pclass: pod'] = tdf['pclass_deviation']*tdf['survived_deviation']\n",
    "tdf['fare: pod'] = tdf['fare_deviation']*tdf['survived_deviation']\n",
    "#두 편차를 곱한 값 -> 공분산\n",
    "\n",
    "tdf.head()"
   ]
  },
  {
   "cell_type": "code",
   "execution_count": 106,
   "id": "649656c6",
   "metadata": {},
   "outputs": [
    {
     "data": {
      "text/plain": [
       "6.136632665643437"
      ]
     },
     "execution_count": 106,
     "metadata": {},
     "output_type": "execute_result"
    }
   ],
   "source": [
    "tdf['pclass: pod'].mean()\n",
    "tdf['fare: pod'].mean()"
   ]
  },
  {
   "cell_type": "code",
   "execution_count": 101,
   "id": "3fbe0f77",
   "metadata": {},
   "outputs": [
    {
     "name": "stdout",
     "output_type": "stream",
     "text": [
      "[[ 0.70196919 -0.12724831]\n",
      " [-0.12724831  0.23624963]]\n"
     ]
    },
    {
     "data": {
      "text/plain": [
       "array([[2.67691160e+03, 6.14132428e+00],\n",
       "       [6.14132428e+00, 2.36249629e-01]])"
      ]
     },
     "execution_count": 101,
     "metadata": {},
     "output_type": "execute_result"
    }
   ],
   "source": [
    "print(np.cov(pclass, survived, ddof=1))\n",
    "np.cov(fare, survived, ddof=1)"
   ]
  },
  {
   "cell_type": "code",
   "execution_count": 102,
   "id": "6493c3ee",
   "metadata": {},
   "outputs": [
    {
     "data": {
      "text/plain": [
       "0.24420775279437396"
      ]
     },
     "execution_count": 102,
     "metadata": {},
     "output_type": "execute_result"
    }
   ],
   "source": [
    "np.cov(pclass, survived, ddof=0)[0,1] / (np.std(pclass) * np.std(survived))\n",
    "np.cov(fare, survived, ddof=0)[0,1] / (np.std(fare) * np.std(survived))"
   ]
  },
  {
   "cell_type": "code",
   "execution_count": 103,
   "id": "9e5d0ebd",
   "metadata": {},
   "outputs": [
    {
     "data": {
      "text/plain": [
       "array([[1.        , 0.24420775],\n",
       "       [0.24420775, 1.        ]])"
      ]
     },
     "execution_count": 103,
     "metadata": {},
     "output_type": "execute_result"
    }
   ],
   "source": [
    "np.corrcoef(pclass, survived)\n",
    "np.corrcoef(fare, survived)"
   ]
  },
  {
   "cell_type": "code",
   "execution_count": 104,
   "id": "ba0387d8",
   "metadata": {
    "scrolled": true
   },
   "outputs": [
    {
     "data": {
      "text/html": [
       "<div>\n",
       "<style scoped>\n",
       "    .dataframe tbody tr th:only-of-type {\n",
       "        vertical-align: middle;\n",
       "    }\n",
       "\n",
       "    .dataframe tbody tr th {\n",
       "        vertical-align: top;\n",
       "    }\n",
       "\n",
       "    .dataframe thead th {\n",
       "        text-align: right;\n",
       "    }\n",
       "</style>\n",
       "<table border=\"1\" class=\"dataframe\">\n",
       "  <thead>\n",
       "    <tr style=\"text-align: right;\">\n",
       "      <th></th>\n",
       "      <th>pclass</th>\n",
       "      <th>fare</th>\n",
       "      <th>survived</th>\n",
       "    </tr>\n",
       "  </thead>\n",
       "  <tbody>\n",
       "    <tr>\n",
       "      <th>pclass</th>\n",
       "      <td>1.000000</td>\n",
       "      <td>-0.558477</td>\n",
       "      <td>-0.312469</td>\n",
       "    </tr>\n",
       "    <tr>\n",
       "      <th>fare</th>\n",
       "      <td>-0.558477</td>\n",
       "      <td>1.000000</td>\n",
       "      <td>0.244208</td>\n",
       "    </tr>\n",
       "    <tr>\n",
       "      <th>survived</th>\n",
       "      <td>-0.312469</td>\n",
       "      <td>0.244208</td>\n",
       "      <td>1.000000</td>\n",
       "    </tr>\n",
       "  </tbody>\n",
       "</table>\n",
       "</div>"
      ],
      "text/plain": [
       "            pclass      fare  survived\n",
       "pclass    1.000000 -0.558477 -0.312469\n",
       "fare     -0.558477  1.000000  0.244208\n",
       "survived -0.312469  0.244208  1.000000"
      ]
     },
     "execution_count": 104,
     "metadata": {},
     "output_type": "execute_result"
    }
   ],
   "source": [
    "tdf[['pclass','fare','survived']].corr()"
   ]
  },
  {
   "cell_type": "code",
   "execution_count": null,
   "id": "ec1efd79",
   "metadata": {},
   "outputs": [],
   "source": []
  }
 ],
 "metadata": {
  "kernelspec": {
   "display_name": "Python 3 (ipykernel)",
   "language": "python",
   "name": "python3"
  },
  "language_info": {
   "codemirror_mode": {
    "name": "ipython",
    "version": 3
   },
   "file_extension": ".py",
   "mimetype": "text/x-python",
   "name": "python",
   "nbconvert_exporter": "python",
   "pygments_lexer": "ipython3",
   "version": "3.9.13"
  }
 },
 "nbformat": 4,
 "nbformat_minor": 5
}
