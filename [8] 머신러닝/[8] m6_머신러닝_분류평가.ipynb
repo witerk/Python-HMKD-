{
 "cells": [
  {
   "cell_type": "code",
   "execution_count": 71,
   "id": "29a70910",
   "metadata": {},
   "outputs": [],
   "source": [
    "import warnings\n",
    "warnings.filterwarnings('ignore')\n",
    "\n",
    "import random\n",
    "import numpy as np\n",
    "import pandas as pd\n",
    "\n",
    "import matplotlib.pyplot as plt\n",
    "%matplotlib inline\n",
    "#맷플랏립 그래프 주피터에서 바로 출력하기\n",
    "import seaborn as sns\n",
    "\n",
    "from scipy import stats\n",
    "from scipy.stats import t, norm, chi2, chi2_contingency\n",
    "\n",
    "from matplotlib import rc\n",
    "rc('font', family='Malgun Gothic')      #한글 폰트설정\n",
    "plt.rcParams['axes.unicode_minus']=False      #마이너스 부호 출력 설정"
   ]
  },
  {
   "cell_type": "code",
   "execution_count": 72,
   "id": "73fc5d89",
   "metadata": {},
   "outputs": [],
   "source": [
    "import math, scipy, sympy\n",
    "from bs4 import BeautifulSoup as BS\n",
    "import requests, re, urllib\n",
    "\n",
    "from urllib import robotparser, request\n",
    "from urllib.request import urlopen\n",
    "import chardet\n",
    "\n",
    "import selenium\n",
    "from selenium import webdriver\n",
    "from selenium.webdriver.common.keys import Keys\n",
    "from selenium.webdriver.common.by import By\n",
    "from selenium.webdriver.support.ui import WebDriverWait\n",
    "from selenium.webdriver.support import expected_conditions as EC\n",
    "from time import sleep\n",
    "\n",
    "import os, sys, json\n",
    "\n",
    "import cx_Oracle"
   ]
  },
  {
   "cell_type": "code",
   "execution_count": 73,
   "id": "261d6586",
   "metadata": {},
   "outputs": [],
   "source": [
    "from sklearn.datasets import load_iris\n",
    "from sklearn import datasets\n",
    "\n",
    "from sklearn.preprocessing import StandardScaler\n",
    "\n",
    "from sklearn.tree import DecisionTreeClassifier\n",
    "from sklearn.linear_model import LogisticRegression\n",
    "from sklearn.model_selection import train_test_split\n",
    "from sklearn.metrics import accuracy_score\n",
    "\n",
    "from sklearn.model_selection import KFold\n",
    "from sklearn.model_selection import StratifiedKFold\n",
    "from sklearn.model_selection import cross_val_score, cross_validate\n",
    "from sklearn.model_selection import GridSearchCV\n",
    "\n",
    "from sklearn.preprocessing import LabelEncoder\n",
    "from sklearn.preprocessing import OneHotEncoder\n",
    "from sklearn.preprocessing import Binarizer\n",
    "\n",
    "from sklearn.metrics import accuracy_score, precision_score, recall_score, confusion_matrix, f1_score\n",
    "from sklearn.metrics import precision_recall_curve\n",
    "from sklearn.metrics import roc_curve\n",
    "from sklearn.metrics import roc_auc_score"
   ]
  },
  {
   "cell_type": "markdown",
   "id": "133cfc14",
   "metadata": {},
   "source": [
    "## 분류 평가\n",
    "\n",
    "- 정확도(Accuracy): 가장 직관적으로 이해할 수 있는 지표로, 전체 예측 데이터 중 예측이 정확한 데이터의 비율을 의미합니다. 하지만 이는 불균형한 레이블 클래스를 가진 경우, 즉 특정 클래스의 데이터가 많을 때 모델의 성능을 왜곡할 수 있습니다.\n",
    "\n",
    "- 오차 행렬(Confusion Matrix): 이진 분류에서 성능을 나타내는 행렬로, FP, FN, TP, TN의 4분면으로 이루어져 있습니다. 각각은 다음과 같습니다.\n",
    "\n",
    "    - True Positive(TP): 실제 값과 예측 값이 모두 Positive(1)인 경우\n",
    "    - False Positive(FP): 실제 값은 Negative(0)인데 Positive(1)로 잘못 예측한 경우\n",
    "    - False Negative(FN): 실제 값은 Positive(1)인데 Negative(0)로 잘못 예측한 경우\n",
    "    - True Negative(TN): 실제 값과 예측 값이 모두 Negative(0)인 경우\n",
    "- 정밀도(Precision)와 재현율(Recall):\n",
    "\n",
    "    - 정밀도: TP / (FP + TP). Positive로 예측한 대상 중에 실제 값이 Positive인 데이터의 비율을 의미합니다.\n",
    "    - 재현율: TP / (FN + TP). 실제 값이 Positive인 대상 중에 예측과 실제 값이 모두 Positive인 데이터 비율을 의미합니다.\n",
    "    - F1 스코어: 정밀도와 재현율을 결합한 지표로, 이 두 값이 어느 한 쪽으로 치우치지 않을 때 높은 값을 가집니다.\n",
    "\n",
    "    - ROC-AUC: Receiver Operation Characteristic Curve와 이 곡선의 면적인 Area Under Curve를 의미합니다. 이진 분류의 예측 성능 측정에서 중요하게 사용되며, 1에 가까울수록 좋은 수치를 나타냅니다.\n",
    "\n",
    "- 위의 지표들은 sklearn.metrics 모듈에서 제공하는 다양한 API를 통해 쉽게 계산할 수 있습니다. 이 지표들을 통해 모델의 성능을 평가하고, 모델 간 성능을 비교하거나, 하이퍼파라미터 튜닝 등을 통해 모델을 개선할 수 있습니다.\n",
    "\n",
    "* TP, FP, FN, TP는 예측 클래스와 실제 클래스의 Positive 결정 값과 Negative 결정 값의 결합에 따라 결정\n",
    "* 앞문자 True/False는 예측값과 실제값이 같은가/틀린가를 의미하고 뒤 문자 Negative/Positive는 예측 결과 값이 부정/긍정을 의미\n",
    "* TN는 예측값을 Negative 값 0으로 예측했고 실제값 역시 Negative 값 0\n",
    "* FP는 예측값을 Positive 값 1로 예측했고 실제값은 Negative 값 0\n",
    "* FN은 예측값을 Negative 값 0으로 예측했고 실제값은 Positive 값 1\n",
    "* TP는 예측값을 Positive 값 1로 예측했고 실제값 역시 Positive 값 1\n",
    "* 정확도 = (TP + TN) / ( TP + TN + FP + FN)\n",
    "* 정밀도 = TP / ( TP + FP)\n",
    "* 재현율 = TP / ( TP + FN) : 정밀도와 재현율이 어느 한쪽으로 치우치지 않는 수치를 나타낼때 높아짐.\n",
    "* F1 = 2 * ( 정밀도 * 재현율) / (정밀도 + 재현율)\n",
    "* 정밀도와 재현율은 Positive 데이터 세트의 예측 성능에 좀 더 초점을 맞춘 평가 지표\n",
    "* 재현율이 중요 지표인 경우는 실제 Positive 양성 데이터를 Negative로 잘못 판단하게 되면 업무상 큰 영향이 발생하는 경우(ex. 보험사기, 암진단)\n",
    "* 정밀도가 더 중요한 지표인 사례는 스팸 메일 여부를 판단하는 경우로 스팸 메일이 아닌데 스팸 메일로 분류해서 업무 차질 발생"
   ]
  },
  {
   "cell_type": "code",
   "execution_count": 5,
   "id": "30805b4d",
   "metadata": {
    "scrolled": false
   },
   "outputs": [
    {
     "data": {
      "text/html": [
       "<div>\n",
       "<style scoped>\n",
       "    .dataframe tbody tr th:only-of-type {\n",
       "        vertical-align: middle;\n",
       "    }\n",
       "\n",
       "    .dataframe tbody tr th {\n",
       "        vertical-align: top;\n",
       "    }\n",
       "\n",
       "    .dataframe thead th {\n",
       "        text-align: right;\n",
       "    }\n",
       "</style>\n",
       "<table border=\"1\" class=\"dataframe\">\n",
       "  <thead>\n",
       "    <tr style=\"text-align: right;\">\n",
       "      <th></th>\n",
       "      <th>PassengerId</th>\n",
       "      <th>Survived</th>\n",
       "      <th>Pclass</th>\n",
       "      <th>Name</th>\n",
       "      <th>Sex</th>\n",
       "      <th>Age</th>\n",
       "      <th>SibSp</th>\n",
       "      <th>Parch</th>\n",
       "      <th>Ticket</th>\n",
       "      <th>Fare</th>\n",
       "      <th>Cabin</th>\n",
       "      <th>Embarked</th>\n",
       "    </tr>\n",
       "  </thead>\n",
       "  <tbody>\n",
       "    <tr>\n",
       "      <th>0</th>\n",
       "      <td>1</td>\n",
       "      <td>0</td>\n",
       "      <td>3</td>\n",
       "      <td>Braund, Mr. Owen Harris</td>\n",
       "      <td>male</td>\n",
       "      <td>22.0</td>\n",
       "      <td>1</td>\n",
       "      <td>0</td>\n",
       "      <td>A/5 21171</td>\n",
       "      <td>7.2500</td>\n",
       "      <td>NaN</td>\n",
       "      <td>S</td>\n",
       "    </tr>\n",
       "    <tr>\n",
       "      <th>1</th>\n",
       "      <td>2</td>\n",
       "      <td>1</td>\n",
       "      <td>1</td>\n",
       "      <td>Cumings, Mrs. John Bradley (Florence Briggs Th...</td>\n",
       "      <td>female</td>\n",
       "      <td>38.0</td>\n",
       "      <td>1</td>\n",
       "      <td>0</td>\n",
       "      <td>PC 17599</td>\n",
       "      <td>71.2833</td>\n",
       "      <td>C85</td>\n",
       "      <td>C</td>\n",
       "    </tr>\n",
       "    <tr>\n",
       "      <th>2</th>\n",
       "      <td>3</td>\n",
       "      <td>1</td>\n",
       "      <td>3</td>\n",
       "      <td>Heikkinen, Miss. Laina</td>\n",
       "      <td>female</td>\n",
       "      <td>26.0</td>\n",
       "      <td>0</td>\n",
       "      <td>0</td>\n",
       "      <td>STON/O2. 3101282</td>\n",
       "      <td>7.9250</td>\n",
       "      <td>NaN</td>\n",
       "      <td>S</td>\n",
       "    </tr>\n",
       "  </tbody>\n",
       "</table>\n",
       "</div>"
      ],
      "text/plain": [
       "   PassengerId  Survived  Pclass  \\\n",
       "0            1         0       3   \n",
       "1            2         1       1   \n",
       "2            3         1       3   \n",
       "\n",
       "                                                Name     Sex   Age  SibSp  \\\n",
       "0                            Braund, Mr. Owen Harris    male  22.0      1   \n",
       "1  Cumings, Mrs. John Bradley (Florence Briggs Th...  female  38.0      1   \n",
       "2                             Heikkinen, Miss. Laina  female  26.0      0   \n",
       "\n",
       "   Parch            Ticket     Fare Cabin Embarked  \n",
       "0      0         A/5 21171   7.2500   NaN        S  \n",
       "1      0          PC 17599  71.2833   C85        C  \n",
       "2      0  STON/O2. 3101282   7.9250   NaN        S  "
      ]
     },
     "execution_count": 5,
     "metadata": {},
     "output_type": "execute_result"
    }
   ],
   "source": [
    "df = pd.read_csv(r'C:\\Users\\h\\hmkd1\\mc_data\\train.csv')\n",
    "df.head(3)"
   ]
  },
  {
   "cell_type": "code",
   "execution_count": 6,
   "id": "5f098006",
   "metadata": {},
   "outputs": [
    {
     "data": {
      "text/plain": [
       "PassengerId      0\n",
       "Survived         0\n",
       "Pclass           0\n",
       "Name             0\n",
       "Sex              0\n",
       "Age            177\n",
       "SibSp            0\n",
       "Parch            0\n",
       "Ticket           0\n",
       "Fare             0\n",
       "Cabin          687\n",
       "Embarked         2\n",
       "dtype: int64"
      ]
     },
     "execution_count": 6,
     "metadata": {},
     "output_type": "execute_result"
    }
   ],
   "source": [
    "df.isnull().sum()"
   ]
  },
  {
   "cell_type": "code",
   "execution_count": 7,
   "id": "b94bac9b",
   "metadata": {
    "scrolled": true
   },
   "outputs": [
    {
     "data": {
      "text/html": [
       "<div>\n",
       "<style scoped>\n",
       "    .dataframe tbody tr th:only-of-type {\n",
       "        vertical-align: middle;\n",
       "    }\n",
       "\n",
       "    .dataframe tbody tr th {\n",
       "        vertical-align: top;\n",
       "    }\n",
       "\n",
       "    .dataframe thead th {\n",
       "        text-align: right;\n",
       "    }\n",
       "</style>\n",
       "<table border=\"1\" class=\"dataframe\">\n",
       "  <thead>\n",
       "    <tr style=\"text-align: right;\">\n",
       "      <th></th>\n",
       "      <th>Survived</th>\n",
       "      <th>Pclass</th>\n",
       "      <th>Sex</th>\n",
       "      <th>Age</th>\n",
       "      <th>Fare</th>\n",
       "      <th>Cabin</th>\n",
       "      <th>Embarked</th>\n",
       "      <th>Family</th>\n",
       "    </tr>\n",
       "  </thead>\n",
       "  <tbody>\n",
       "    <tr>\n",
       "      <th>0</th>\n",
       "      <td>0</td>\n",
       "      <td>3</td>\n",
       "      <td>1</td>\n",
       "      <td>0</td>\n",
       "      <td>1</td>\n",
       "      <td>7</td>\n",
       "      <td>2</td>\n",
       "      <td>1</td>\n",
       "    </tr>\n",
       "    <tr>\n",
       "      <th>1</th>\n",
       "      <td>1</td>\n",
       "      <td>1</td>\n",
       "      <td>0</td>\n",
       "      <td>0</td>\n",
       "      <td>0</td>\n",
       "      <td>2</td>\n",
       "      <td>0</td>\n",
       "      <td>1</td>\n",
       "    </tr>\n",
       "    <tr>\n",
       "      <th>2</th>\n",
       "      <td>1</td>\n",
       "      <td>3</td>\n",
       "      <td>0</td>\n",
       "      <td>0</td>\n",
       "      <td>1</td>\n",
       "      <td>7</td>\n",
       "      <td>2</td>\n",
       "      <td>0</td>\n",
       "    </tr>\n",
       "    <tr>\n",
       "      <th>3</th>\n",
       "      <td>1</td>\n",
       "      <td>1</td>\n",
       "      <td>0</td>\n",
       "      <td>0</td>\n",
       "      <td>2</td>\n",
       "      <td>2</td>\n",
       "      <td>2</td>\n",
       "      <td>1</td>\n",
       "    </tr>\n",
       "    <tr>\n",
       "      <th>4</th>\n",
       "      <td>0</td>\n",
       "      <td>3</td>\n",
       "      <td>1</td>\n",
       "      <td>0</td>\n",
       "      <td>1</td>\n",
       "      <td>7</td>\n",
       "      <td>2</td>\n",
       "      <td>0</td>\n",
       "    </tr>\n",
       "    <tr>\n",
       "      <th>...</th>\n",
       "      <td>...</td>\n",
       "      <td>...</td>\n",
       "      <td>...</td>\n",
       "      <td>...</td>\n",
       "      <td>...</td>\n",
       "      <td>...</td>\n",
       "      <td>...</td>\n",
       "      <td>...</td>\n",
       "    </tr>\n",
       "    <tr>\n",
       "      <th>886</th>\n",
       "      <td>0</td>\n",
       "      <td>2</td>\n",
       "      <td>1</td>\n",
       "      <td>0</td>\n",
       "      <td>1</td>\n",
       "      <td>7</td>\n",
       "      <td>2</td>\n",
       "      <td>0</td>\n",
       "    </tr>\n",
       "    <tr>\n",
       "      <th>887</th>\n",
       "      <td>1</td>\n",
       "      <td>1</td>\n",
       "      <td>0</td>\n",
       "      <td>5</td>\n",
       "      <td>2</td>\n",
       "      <td>1</td>\n",
       "      <td>2</td>\n",
       "      <td>0</td>\n",
       "    </tr>\n",
       "    <tr>\n",
       "      <th>888</th>\n",
       "      <td>0</td>\n",
       "      <td>3</td>\n",
       "      <td>0</td>\n",
       "      <td>0</td>\n",
       "      <td>2</td>\n",
       "      <td>7</td>\n",
       "      <td>2</td>\n",
       "      <td>3</td>\n",
       "    </tr>\n",
       "    <tr>\n",
       "      <th>889</th>\n",
       "      <td>1</td>\n",
       "      <td>1</td>\n",
       "      <td>1</td>\n",
       "      <td>0</td>\n",
       "      <td>2</td>\n",
       "      <td>2</td>\n",
       "      <td>0</td>\n",
       "      <td>0</td>\n",
       "    </tr>\n",
       "    <tr>\n",
       "      <th>890</th>\n",
       "      <td>0</td>\n",
       "      <td>3</td>\n",
       "      <td>1</td>\n",
       "      <td>0</td>\n",
       "      <td>1</td>\n",
       "      <td>7</td>\n",
       "      <td>1</td>\n",
       "      <td>0</td>\n",
       "    </tr>\n",
       "  </tbody>\n",
       "</table>\n",
       "<p>891 rows × 8 columns</p>\n",
       "</div>"
      ],
      "text/plain": [
       "     Survived  Pclass  Sex  Age  Fare  Cabin  Embarked  Family\n",
       "0           0       3    1    0     1      7         2       1\n",
       "1           1       1    0    0     0      2         0       1\n",
       "2           1       3    0    0     1      7         2       0\n",
       "3           1       1    0    0     2      2         2       1\n",
       "4           0       3    1    0     1      7         2       0\n",
       "..        ...     ...  ...  ...   ...    ...       ...     ...\n",
       "886         0       2    1    0     1      7         2       0\n",
       "887         1       1    0    5     2      1         2       0\n",
       "888         0       3    0    0     2      7         2       3\n",
       "889         1       1    1    0     2      2         0       0\n",
       "890         0       3    1    0     1      7         1       0\n",
       "\n",
       "[891 rows x 8 columns]"
      ]
     },
     "execution_count": 7,
     "metadata": {},
     "output_type": "execute_result"
    }
   ],
   "source": [
    "# 일괄 전처리\n",
    "df = pd.read_csv(r'C:\\Users\\h\\hmkd1\\mc_data\\train.csv')\n",
    "\n",
    "def nullskip(df):   #널값 처리\n",
    "    df['Age'].fillna(df['Age'].mean(), inplace=True)\n",
    "    df['Cabin'].fillna('N', inplace=True)\n",
    "    maxvalue = df['Embarked'].value_counts(dropna=True).idxmax()\n",
    "    df['Embarked'].fillna(maxvalue, inplace=True)\n",
    "    return df\n",
    "\n",
    "def get_age(age):\n",
    "    cat = ''\n",
    "    if age < 5: cat='Baby'\n",
    "    elif age < 15: cat= 'Child'\n",
    "    elif age < 21: cat= 'Young Adult'\n",
    "    elif age < 49: cat='Adult'\n",
    "    elif age < 70: cat='Old'\n",
    "    else: cat = 'Elder'\n",
    "    return cat\n",
    "\n",
    "def get_cate(fare):\n",
    "    cat=''\n",
    "    if fare<=15: cat='저가'\n",
    "    elif fare<=60: cat='중가'\n",
    "    elif fare<=200: cat='고가'\n",
    "    else: cat='프리미엄'\n",
    "    return cat\n",
    "\n",
    "def drop_col(df):   #불필요한 속성(칼럼) 제거\n",
    "    df['Family'] = df.SibSp + df.Parch\n",
    "    df['Cabin'] = df['Cabin'].str[:1]\n",
    "    \n",
    "    df.drop(['PassengerId','Ticket','SibSp','Name','Parch'], axis=1, inplace=True)\n",
    "    return df\n",
    "\n",
    "def format_enc(df):   #레이블 인코딩 수행\n",
    "    features = ['Cabin','Sex','Embarked', 'Family', 'Age','Fare']\n",
    "    for i in features:\n",
    "        le = LabelEncoder()\n",
    "        le = le.fit(df[i])\n",
    "        df[i] = le.transform(df[i])      \n",
    "    return df\n",
    "\n",
    "def trans(df):   #위에서 만들어둔 함수들 호출\n",
    "    df = nullskip(df)\n",
    "    df['Age'] = df.Age.apply(lambda x: get_age(x))\n",
    "    df['Fare'] = df.Fare.apply(lambda x: get_cate(x))\n",
    "    df = drop_col(df)\n",
    "    df = format_enc(df)\n",
    "    return df\n",
    "\n",
    "trans(df)"
   ]
  },
  {
   "cell_type": "markdown",
   "id": "f6054e02",
   "metadata": {},
   "source": [
    "#### 과제(1): 위에 전처리 함수들 수정/보완 + decisiontree사용해서 모델링 성능평가 수행"
   ]
  },
  {
   "cell_type": "code",
   "execution_count": 8,
   "id": "74877b9d",
   "metadata": {},
   "outputs": [
    {
     "name": "stdout",
     "output_type": "stream",
     "text": [
      "교차 검증별 정확도: [0.75555556 0.82022472 0.75280899 0.85393258 0.84269663 0.80898876\n",
      " 0.80898876 0.75280899 0.85393258 0.7752809 ]\n",
      "평균 검증 정확도: 0.802521847690387\n"
     ]
    }
   ],
   "source": [
    "dtree = DecisionTreeClassifier(random_state=156)\n",
    "\n",
    "data = df.drop('Survived', axis=1)\n",
    "label = df['Survived']\n",
    "\n",
    "scores = cross_val_score(dtree, data, label, scoring='accuracy', cv=10)\n",
    "print(f'교차 검증별 정확도: {scores}')\n",
    "print(f'평균 검증 정확도: {np.mean(scores)}')\n",
    "# 교차 검증을 통해 모델의 성능을 다양한 데이터(각각의 폴드)로 평가"
   ]
  },
  {
   "cell_type": "code",
   "execution_count": 32,
   "id": "aadfa251",
   "metadata": {},
   "outputs": [
    {
     "name": "stdout",
     "output_type": "stream",
     "text": [
      "모델의 정확도: 0.8268156424581006\n"
     ]
    }
   ],
   "source": [
    "X_titanic_df = df.drop('Survived', axis=1)\n",
    "y_titanic_df = df['Survived']\n",
    "\n",
    "X_train, X_test, y_train, y_test = train_test_split(X_titanic_df, y_titanic_df, test_size = 0.2, random_state=234)\n",
    "\n",
    "dt_clf = DecisionTreeClassifier()\n",
    "dt_clf.fit(X_train, y_train)\n",
    "\n",
    "pred = dt_clf.predict(X_test)\n",
    "accuracy_dt = accuracy_score(y_test,pred)\n",
    "print('모델의 정확도:',accuracy_dt)\n",
    "# 단일 테스트 세트(x_test)에서의 모델 성능"
   ]
  },
  {
   "cell_type": "code",
   "execution_count": null,
   "id": "ed25eed7",
   "metadata": {},
   "outputs": [],
   "source": []
  },
  {
   "cell_type": "code",
   "execution_count": null,
   "id": "d0d624c9",
   "metadata": {},
   "outputs": [],
   "source": []
  },
  {
   "cell_type": "code",
   "execution_count": null,
   "id": "5a3d6118",
   "metadata": {},
   "outputs": [],
   "source": []
  },
  {
   "cell_type": "code",
   "execution_count": 10,
   "id": "547e0307",
   "metadata": {},
   "outputs": [
    {
     "name": "stdout",
     "output_type": "stream",
     "text": [
      "dtc정확도: 0.8208955223880597\n"
     ]
    }
   ],
   "source": [
    "df = pd.read_csv(r'C:\\Users\\h\\hmkd1\\mc_data\\train.csv')\n",
    "\n",
    "dtree = DecisionTreeClassifier(random_state=231)\n",
    "\n",
    "xdf = df.drop('Survived', axis=1)\n",
    "xdf = trans(xdf)\n",
    "ydf = df['Survived']\n",
    "\n",
    "xtrain, xtest, ytrain, ytest = train_test_split(xdf, ydf, test_size=0.3, random_state=231)\n",
    "\n",
    "dtree.fit(xtrain, ytrain)\n",
    "pred = dtree.predict(xtest)\n",
    "acc =accuracy_score(ytest, pred)\n",
    "\n",
    "print(f'dtc정확도: {acc}')"
   ]
  },
  {
   "cell_type": "code",
   "execution_count": null,
   "id": "26f15b10",
   "metadata": {},
   "outputs": [],
   "source": []
  },
  {
   "cell_type": "code",
   "execution_count": null,
   "id": "1684b75f",
   "metadata": {},
   "outputs": [],
   "source": []
  },
  {
   "cell_type": "code",
   "execution_count": 11,
   "id": "240e2658",
   "metadata": {
    "scrolled": true
   },
   "outputs": [
    {
     "data": {
      "text/plain": [
       "0.8379888268156425"
      ]
     },
     "execution_count": 11,
     "metadata": {},
     "output_type": "execute_result"
    }
   ],
   "source": [
    "# 강사님 코드(로지스틱 회귀)\n",
    "# 원본 데이터를 재로딩, 데이터 가공, 학습데이터/테스트 데이터 분할 후 학습 및 예측\n",
    "titanic_df = pd.read_csv(r'C:\\Users\\h\\hmkd1\\mc_data\\train.csv')\n",
    "\n",
    "y_titanic_df = titanic_df['Survived']\n",
    "\n",
    "X_titanic_df = titanic_df.drop('Survived', axis=1)\n",
    "X_titanic_df = trans(X_titanic_df)\n",
    "\n",
    "X_train, X_test, y_train, y_test = train_test_split(X_titanic_df, y_titanic_df, \\\n",
    "                                                    test_size=0.20, random_state=11)\n",
    "lr_clf = LogisticRegression()\n",
    "# 로지스틱 회귀: 이진 분류 수행(0, 1)\n",
    "\n",
    "lr_clf.fit(X_train, y_train)\n",
    "pred = lr_clf.predict(X_test)\n",
    "accuracy_Ir = accuracy_score (y_test,pred)\n",
    "\n",
    "accuracy_Ir\n",
    "#len(X_test)"
   ]
  },
  {
   "cell_type": "code",
   "execution_count": 12,
   "id": "0a3775de",
   "metadata": {},
   "outputs": [
    {
     "name": "stdout",
     "output_type": "stream",
     "text": [
      "<class 'numpy.ndarray'>\n"
     ]
    },
    {
     "data": {
      "text/plain": [
       "array([[0.37879002, 0.62120998],\n",
       "       [0.88571347, 0.11428653],\n",
       "       [0.8647675 , 0.1352325 ]])"
      ]
     },
     "execution_count": 12,
     "metadata": {},
     "output_type": "execute_result"
    }
   ],
   "source": [
    "pred_proba = lr_clf.predict_proba(X_test)\n",
    "# pred_proba: 입력 데이터가 각 클래스(0(사망),1(생존))에 속할 확률을 반환\n",
    "pred = lr_clf.predict(X_test)\n",
    "\n",
    "print(type(pred_proba[:3]))\n",
    "\n",
    "type(pred.reshape(-1,1))\n",
    "pred.reshape(-1,1)[:3]\n",
    "\n",
    "pred_proba[:3]\n",
    "# pred_proba_result = np.concatenate([pred_proba, pred.reshape(-1,1)])"
   ]
  },
  {
   "cell_type": "code",
   "execution_count": 13,
   "id": "54304012",
   "metadata": {},
   "outputs": [
    {
     "name": "stdout",
     "output_type": "stream",
     "text": [
      "pred_proba) Shape (179, 2)\n",
      "pred_proba array에서 앞 3개만 샘플로 추출 \n",
      " [[0.37879002 0.62120998]\n",
      " [0.88571347 0.11428653]\n",
      " [0.8647675  0.1352325 ]]\n",
      "pred에서 앞 3개만 샘플로 추출\n",
      ": [1 0 0]\n",
      "pred.reshape(-1, 1)에서 앞 3개만 샘플로 추출 \n",
      ": [[1]\n",
      " [0]\n",
      " [0]]\n",
      "두개의 class 중에서 더 큰 확률을 클래스 값으로 예측 \n",
      " [[0.37879002 0.62120998 1.        ]\n",
      " [0.88571347 0.11428653 0.        ]\n",
      " [0.8647675  0.1352325  0.        ]]\n"
     ]
    },
    {
     "data": {
      "text/plain": [
       "numpy.ndarray"
      ]
     },
     "execution_count": 13,
     "metadata": {},
     "output_type": "execute_result"
    }
   ],
   "source": [
    "# 타이타닉 생존 데이터를 학습한 Logistichegression 객체에서 predict_proba() 메서드 수행\n",
    "# 수행한 뒤 반환 값을 확인하고 predict() 메서드와 비교\n",
    "#predict() 메서드는 predict_proba() 메서드에 기반해 생성된 API\n",
    "\n",
    "pred_proba = lr_clf.predict_proba(X_test)\n",
    "pred = lr_clf.predict(X_test)\n",
    "print('pred_proba) Shape {0}'.format(pred_proba.shape))\n",
    "print('pred_proba array에서 앞 3개만 샘플로 추출 \\n', pred_proba[:3])\n",
    "\n",
    "# 예측 확률 array 와 예측 결과값 array 를 concatenate 하여 예측 확률과 결과값을 한눈에 확인\n",
    "print('pred에서 앞 3개만 샘플로 추출\\n:', pred[:3])\n",
    "print('pred.reshape(-1, 1)에서 앞 3개만 샘플로 추출 \\n:',pred.reshape(-1, 1)[:3])\n",
    "pred_proba_result = np.concatenate([pred_proba, pred.reshape(-1,1)], axis=1)\n",
    "print('두개의 class 중에서 더 큰 확률을 클래스 값으로 예측 \\n',pred_proba_result[:3])\n",
    "type(pred_proba_result)"
   ]
  },
  {
   "cell_type": "code",
   "execution_count": 14,
   "id": "edf1b478",
   "metadata": {},
   "outputs": [
    {
     "name": "stdout",
     "output_type": "stream",
     "text": [
      "[[0. 0. 1.]\n",
      " [1. 0. 0.]\n",
      " [0. 0. 1.]]\n"
     ]
    }
   ],
   "source": [
    "# 사이킷런은 분류 결정 임곗값을 조절해 정밀도와 재현율의 성능 수치를 상호보완적으로 조정 \n",
    "\n",
    "# threshold 변수를 특정 값으로 설정 -> 사이킷런의 Binarizer 클래스를 객체로 생성\n",
    "# -> fit_transform() 메서드를 이용해 넘파이 배열 입력\n",
    "# -> threshold보다 같거나 작으면 0, 크면 1값 반환\n",
    "x = [[ 1, -1, 2],[ 2, 0, 0],[0, 1.1, 1.2]]\n",
    "     \n",
    "# threshold 기준값보다 같거나 작으면 0을, 크면 1을 반환 \n",
    "binarizer = Binarizer(threshold=1.1)\n",
    "print(binarizer.fit_transform(x))"
   ]
  },
  {
   "cell_type": "markdown",
   "id": "9f49304a",
   "metadata": {},
   "source": [
    "#### 과제(2): 랜덤하게 2차원 배열을 생성한 후 임계값을 0.5로 지정하고, 임계값보다 크면 1, 작으면 0으로 변환"
   ]
  },
  {
   "cell_type": "code",
   "execution_count": 15,
   "id": "86636ce0",
   "metadata": {},
   "outputs": [
    {
     "name": "stdout",
     "output_type": "stream",
     "text": [
      "[[0.56404066 0.05790836 0.39624716]\n",
      " [0.69990328 0.35429058 0.63649716]\n",
      " [0.42505278 0.21662691 0.92387273]\n",
      " [0.63603424 0.85128768 0.56840966]\n",
      " [0.3664868  0.23376202 0.15404827]\n",
      " [0.11356569 0.2304632  0.2880025 ]\n",
      " [0.89963265 0.76113253 0.68909653]]\n"
     ]
    },
    {
     "data": {
      "text/plain": [
       "array([[1., 0., 0.],\n",
       "       [1., 0., 1.],\n",
       "       [0., 0., 1.],\n",
       "       [1., 1., 1.],\n",
       "       [0., 0., 0.],\n",
       "       [0., 0., 0.],\n",
       "       [1., 1., 1.]])"
      ]
     },
     "execution_count": 15,
     "metadata": {},
     "output_type": "execute_result"
    }
   ],
   "source": [
    "arr = np.random.rand(7,3)\n",
    "print(arr)\n",
    "\n",
    "binarizer = Binarizer(threshold=0.5)\n",
    "binarizer.fit_transform(arr)"
   ]
  },
  {
   "cell_type": "code",
   "execution_count": 16,
   "id": "14fe8a18",
   "metadata": {},
   "outputs": [
    {
     "name": "stdout",
     "output_type": "stream",
     "text": [
      "pred_proba: \n",
      " [[0.37879002 0.62120998]\n",
      " [0.88571347 0.11428653]\n",
      " [0.8647675  0.1352325 ]\n",
      " [0.76045228 0.23954772]\n",
      " [0.85784085 0.14215915]] \n",
      "\n",
      "생존확률: \n",
      " [[0.62120998]\n",
      " [0.11428653]\n",
      " [0.1352325 ]\n",
      " [0.23954772]\n",
      " [0.14215915]]\n"
     ]
    },
    {
     "data": {
      "text/plain": [
       "array([[1.],\n",
       "       [0.],\n",
       "       [0.],\n",
       "       [0.],\n",
       "       [0.]])"
      ]
     },
     "execution_count": 16,
     "metadata": {},
     "output_type": "execute_result"
    }
   ],
   "source": [
    "#### 생존 확률을 선택해서 임곗값 0.5를 기준과 비교하여 예측\n",
    "print('pred_proba: \\n', pred_proba[0:5], '\\n')\n",
    "\n",
    "# 생존 확률 추출 후 2차원 배열로 변환\n",
    "pred_proba_1 = pred_proba[:,1].reshape(-1,1)   #생존확률만 뽑기\n",
    "print('생존확률: \\n', pred_proba_1[0:5])\n",
    "\n",
    "custom_threshold = 0.5   #임계값\n",
    "binarizer = Binarizer(threshold=custom_threshold).fit(pred_proba_1)\n",
    "\n",
    "custom_predict = binarizer.transform(pred_proba_1)\n",
    "custom_predict[0:5]"
   ]
  },
  {
   "cell_type": "code",
   "execution_count": 17,
   "id": "8744b541",
   "metadata": {},
   "outputs": [
    {
     "name": "stdout",
     "output_type": "stream",
     "text": [
      "오차 행렬\n",
      "[[102  16]\n",
      " [ 13  48]] \n",
      "\n",
      "정확도: 0.8380, \n",
      "정밀도 : 0.7500, \n",
      "재현율 : 0.7869, \n",
      "f1 score: 0.7680\n"
     ]
    }
   ],
   "source": [
    "# get_clf_eval 평가 사용자 정의 함수\n",
    "from sklearn.metrics import accuracy_score, precision_score, recall_score, confusion_matrix, f1_score\n",
    "\n",
    "def get_clf_eval(y_test, pred):\n",
    "    confusion = confusion_matrix(y_test, pred)\n",
    "    # (TN) (FP)  혼동행렬 분류 결과 순서\n",
    "    # (FN) (TP)\n",
    "    \n",
    "    accuracy = accuracy_score(y_test, pred)   #정확도((TP+TN) / (TP+TN+FP+FN))\n",
    "    precision = precision_score(y_test, pred)   #정밀도(TP / (TP+FP)):\n",
    "    recall = recall_score(y_test, pred)   #재현율(TP / (TP+FN)):\n",
    "    f1 = f1_score (y_test, pred)   #f1 score(2 * (정밀도*재현율) / (정밀도+재현율))\n",
    "    \n",
    "    print('오차 행렬')\n",
    "    print(confusion,'\\n')\n",
    "    \n",
    "    print(f'''정확도: {accuracy:.4f}, \n",
    "정밀도 : {precision:.4f}, \n",
    "재현율 : {recall:.4f}, \n",
    "f1 score: {f1:.4f}''')\n",
    "# f1 = 2 * ((55/(29+55)) * (55/(6+55))) / ((55/(29+55)) + (55/(6+55)))\n",
    "                                                             \n",
    "get_clf_eval(y_test, custom_predict)"
   ]
  },
  {
   "cell_type": "code",
   "execution_count": 18,
   "id": "5f0cf667",
   "metadata": {},
   "outputs": [
    {
     "name": "stdout",
     "output_type": "stream",
     "text": [
      "오차 행렬\n",
      "[[94 24]\n",
      " [ 9 52]] \n",
      "\n",
      "정확도: 0.8156, \n",
      "정밀도 : 0.6842, \n",
      "재현율 : 0.8525, \n",
      "f1 score: 0.7591\n"
     ]
    }
   ],
   "source": [
    "# 분류 결정 임곗값은 positive 예측값을 결정하는 확률의 기준\n",
    "# 임곗값을 낮출수록 True값이 많아지게 되며, positive 예측값이 많아지면\n",
    "# FN은 하락해서 재현율은 올라감\n",
    "# Binarizer의 threshold 설정값=0.4(분류 결정 임곗값을 0.5 -> 0.4 낮춤)\n",
    "\n",
    "pred_proba_1 = pred_proba[:,1].reshape(-1,1)\n",
    "\n",
    "custom_threshold = 0.4\n",
    "binarizer = Binarizer(threshold=custom_threshold).fit(pred_proba_1)\n",
    "custom_predict = binarizer.transform(pred_proba_1)\n",
    "\n",
    "get_clf_eval(y_test, custom_predict)   #위에 사용자정의 함수 호출"
   ]
  },
  {
   "cell_type": "code",
   "execution_count": 19,
   "id": "618bd663",
   "metadata": {
    "scrolled": true
   },
   "outputs": [
    {
     "name": "stdout",
     "output_type": "stream",
     "text": [
      "임계값: 0.4\n",
      "오차 행렬\n",
      "[[94 24]\n",
      " [ 9 52]] \n",
      "\n",
      "정확도: 0.8156, \n",
      "정밀도 : 0.6842, \n",
      "재현율 : 0.8525, \n",
      "f1 score: 0.7591\n",
      "--------------------------------\n",
      "임계값: 0.45\n",
      "오차 행렬\n",
      "[[94 24]\n",
      " [ 9 52]] \n",
      "\n",
      "정확도: 0.8156, \n",
      "정밀도 : 0.6842, \n",
      "재현율 : 0.8525, \n",
      "f1 score: 0.7591\n",
      "--------------------------------\n",
      "임계값: 0.5\n",
      "오차 행렬\n",
      "[[94 24]\n",
      " [ 9 52]] \n",
      "\n",
      "정확도: 0.8156, \n",
      "정밀도 : 0.6842, \n",
      "재현율 : 0.8525, \n",
      "f1 score: 0.7591\n",
      "--------------------------------\n",
      "임계값: 0.55\n",
      "오차 행렬\n",
      "[[94 24]\n",
      " [ 9 52]] \n",
      "\n",
      "정확도: 0.8156, \n",
      "정밀도 : 0.6842, \n",
      "재현율 : 0.8525, \n",
      "f1 score: 0.7591\n",
      "--------------------------------\n",
      "임계값: 0.6\n",
      "오차 행렬\n",
      "[[94 24]\n",
      " [ 9 52]] \n",
      "\n",
      "정확도: 0.8156, \n",
      "정밀도 : 0.6842, \n",
      "재현율 : 0.8525, \n",
      "f1 score: 0.7591\n",
      "--------------------------------\n"
     ]
    }
   ],
   "source": [
    "# 테스트를 수행할 모든 임곗값을 리스트 객체로 저장\n",
    "thresholds = [0.4, 0.45, 0.50, 0.55, 0.60]   #임계값\n",
    "\n",
    "def get_eval_by_threshold(y_test, pred_proba_c1, thresholds):\n",
    "    # 리스트 내 값을 차례로 반복하며 평가 수행\n",
    "    for i in thresholds:\n",
    "        binarizer = Binarizer(threshold = custom_threshold).fit(pred_proba_c1)\n",
    "        custom_predict = binarizer.transform(pred_proba_c1)\n",
    "        \n",
    "        print(f'임계값: {i}')\n",
    "        get_clf_eval(y_test, custom_predict)\n",
    "        print('--------------------------------')\n",
    "    \n",
    "get_eval_by_threshold(y_test, pred_proba[:,1].reshape(-1,1), thresholds)\n",
    "#사용자 함수 호출 (임계치 바꿔가며 결과 조회)"
   ]
  },
  {
   "cell_type": "code",
   "execution_count": 20,
   "id": "038792f9",
   "metadata": {},
   "outputs": [
    {
     "name": "stdout",
     "output_type": "stream",
     "text": [
      "(90,)\n",
      "[ 0 15 30 45 60 75]\n"
     ]
    },
    {
     "data": {
      "text/plain": [
       "array([0.11, 0.22, 0.45, 0.57, 0.68, 0.88])"
      ]
     },
     "execution_count": 20,
     "metadata": {},
     "output_type": "execute_result"
    }
   ],
   "source": [
    "from sklearn.metrics import precision_recall_curve\n",
    "pred_proba_class1 = lr_clf.predict_proba(X_test)[:,1]\n",
    "\n",
    "precision, recalls, thresholds = precision_recall_curve(y_test, pred_proba_class1)\n",
    "# 정밀도, 재현율, 임계값\n",
    "type(thresholds)    # numpy.ndarray\n",
    "print(thresholds.shape)   #143개\n",
    "pd.Series(thresholds).value_counts   #143개 전부 다른 값\n",
    "\n",
    "thr_index = np.arange(0, thresholds.shape[0], 15)\n",
    "#배열 -> 0부터 thresholds길이만큼, 15씩 건너뛰기\n",
    "print(thr_index)\n",
    "np.round(thresholds[thr_index], 2)"
   ]
  },
  {
   "cell_type": "code",
   "execution_count": 21,
   "id": "a4a501a4",
   "metadata": {},
   "outputs": [
    {
     "name": "stdout",
     "output_type": "stream",
     "text": [
      "[0.62120998 0.11428653 0.1352325  0.23954772 0.14215915 0.23876006\n",
      " 0.11428653 0.6947319  0.21678054 0.76763262] \n",
      "\n",
      "반환된 분류 결정 임곗값 배열의 Shape: (90,)\n",
      "정밀도: [0.37195122 0.44615385 0.4496124  0.453125   0.46280992]\n",
      "재현율: [1.         0.95081967 0.95081967 0.95081967 0.91803279]\n",
      "임곗값: [0.11428653 0.12543939 0.13472707 0.1352325  0.14127545] \n",
      "\n",
      "<bound method IndexOpsMixin.value_counts of 0     0.114287\n",
      "1     0.125439\n",
      "2     0.134727\n",
      "3     0.135232\n",
      "4     0.141275\n",
      "        ...   \n",
      "85    0.930833\n",
      "86    0.941519\n",
      "87    0.944705\n",
      "88    0.946556\n",
      "89    0.953200\n",
      "Length: 90, dtype: float64> \n",
      "\n",
      "[ 0 15 30 45 60 75] \n",
      "\n",
      "[0.11 0.22 0.45 0.57 0.68 0.88]\n"
     ]
    }
   ],
   "source": [
    "# 임곗값, 정밀도, 재현율 비교 (임곗값을 15 step으로 추출)\n",
    "pred_proba_class1 = lr_clf.predict_proba(X_test)[:, 1]   # X_test셋에 대한 예측 확률 반환\n",
    "print (pred_proba_class1[0:10], '\\n')\n",
    "\n",
    "precisions, recalls, thresholds = precision_recall_curve(y_test, pred_proba_class1 )\n",
    "# 정밀도, 재현율, 임계값\n",
    "\n",
    "print('반환된 분류 결정 임곗값 배열의 Shape:', thresholds.shape)\n",
    "print('정밀도:', precisions [0:5])\n",
    "print('재현율:', recalls[0:5])\n",
    "print('임곗값:', thresholds [0:5], '\\n')\n",
    "\n",
    "print(pd.Series(thresholds).value_counts, '\\n')\n",
    "\n",
    "thr_index = np.arange(0, thresholds.shape[0], 15)\n",
    "print(thr_index, '\\n')\n",
    "\n",
    "print(np.round(thresholds [ thr_index],2))\n",
    "# len(pred_proba_class1)"
   ]
  },
  {
   "cell_type": "code",
   "execution_count": 22,
   "id": "1d4d7d96",
   "metadata": {},
   "outputs": [
    {
     "name": "stdout",
     "output_type": "stream",
     "text": [
      "[0.62120998 0.11428653 0.1352325  0.23954772 0.14215915 0.23876006\n",
      " 0.11428653 0.6947319  0.21678054 0.76763262]\n"
     ]
    },
    {
     "data": {
      "image/png": "[encoded data removed]",
      "text/plain": [
       "<Figure size 800x600 with 1 Axes>"
      ]
     },
     "metadata": {},
     "output_type": "display_data"
    }
   ],
   "source": [
    "pred_proba_class1 = lr_clf.predict_proba(X_test)[:, 1]\n",
    "print(pred_proba_class1[0:10])\n",
    "\n",
    "precisions, recalls, thresholds = precision_recall_curve(y_test, pred_proba_class1)\n",
    "# 임계값에 따른 정밀도, 임계값에 따른 재현율, 임계값\n",
    "# 임계값에 따른 정밀도와 재현율을 보는 곡선 그래프에 사용\n",
    "\n",
    "def precision_recall_curve_plot(y_test, pred_proba_c1):\n",
    "    precisions, recalls, thresholds = precision_recall_curve (y_test, pred_proba_c1)\n",
    "#     print(list(thresholds))\n",
    "\n",
    "    # X축을 threshold값으로, Y축은 정밀도, 재현율 값으로 각각 Plot 수행\n",
    "    # 정밀도는 점선으로 표시\n",
    "    plt.figure(figsize=(8,6))\n",
    "    threshold_boundary = thresholds.shape[0]   #thresholds 길이만큼\n",
    "    \n",
    "#     print(threshold_boundary)\n",
    "    plt.plot(thresholds, precisions[0:threshold_boundary], linestyle='--', label='precision')\n",
    "    # 정밀도(precisions)\n",
    "    plt.plot(thresholds, recalls[0:threshold_boundary], label='recall')\n",
    "    # 재현율(recalls)\n",
    "    \n",
    "    # threshold 값 X 축의 Scale을 0.1 단위로 변경\n",
    "    start, end = plt.xlim()   # x축 범위만큼\n",
    "    plt.xticks(np.round(np.arange(start, end, 0.1),2))\n",
    "    \n",
    "    # x축, y축 label과 legend, 그리고 grid 설정\n",
    "    plt.xlabel('Threshold value')\n",
    "    plt.ylabel('Precision and Recall value')\n",
    "    plt.legend()\n",
    "    plt.grid()\n",
    "    plt.show()\n",
    "\n",
    "precision_recall_curve_plot(y_test, lr_clf.predict_proba(X_test)[:,1])\n",
    "# 그래프 함수 호출"
   ]
  },
  {
   "cell_type": "markdown",
   "id": "02c1c87a",
   "metadata": {},
   "source": [
    "### 결과 해석\n",
    "- 임계값이 낮을수록 많은 수의 양성 예측으로 인해 재현율 값이 극도로 높아지고 정밀도 값이 낮아짐. (FN이 작아지고 FP가 커짐)\n",
    "- 로지스틱 회귀 기반의 타이타닉 생존자 예측 모델의 경우 임곗값이 약 0.5 지점에서 재현율과 정밀도가 비슷해지는 모습 을 보임.\n",
    "- 단순히 하나의 성능 지표 수치를 높이기 위한 수단으로 사용하는 것은 지양하고 업무 환경에 맞게 두 개의 수치를 상호 보 완할 수 있는 수준에서 적용\n",
    "\n",
    "### 정밀도 및 재현율 활용시 유의 사항\n",
    "- 정밀도와 재현율 성능 수치는 어느 한쪽만 참조하면 극단적인 수치 조작이 가능.\n",
    "- 정밀도 100%가 되는 방법: 확실한 기준이 되는 경우만 Positive로 예측하고 나머지는 모두 Negative로 예측 전체 환자\n",
    "1000명중 확실한 Positive 징후만 가진 환자는 단 1명이라고 하면 이 한 명만 P로 예측하고 나머지는 모두 N으로 예측 FP 는 0, TP는 1이 되며 정밀도(TP/(TP+FP)는 1/(1+0)= 1\n",
    "- 재현율이 100%가 되는 방법: 모든 환자를 Positive로 예측 1000명의 환자중 실제 양성인 사람이 30명 정도라도 TN이 수치에 포함되지 않고 FN은 0이므로 재현율(TP/(TP+FN))은 30/(30+0)=1\n",
    "- 분류가 정밀도, 재현율 중 하나에 상대적인 중요도를 부여할 수 있지만 하나만 강조해서는 안됨\n",
    "- 암 예측 모델에서 재현율을 높인다고 주로 양성만 판정한다면 환자의 부담과 불평이 커지게 됨"
   ]
  },
  {
   "cell_type": "code",
   "execution_count": 23,
   "id": "8085ab5a",
   "metadata": {},
   "outputs": [
    {
     "name": "stdout",
     "output_type": "stream",
     "text": [
      "F1 스코어: 0.7680\n"
     ]
    }
   ],
   "source": [
    "# F1 스코어: 정밀도와 재현율을 결합한 지표\n",
    "# F1 스코어는 정밀도와 재현율이 어느 한쪽으로 치우치지 않는 수치를 나타낼 때 상대적으로 높은 값을 가짐\n",
    "from sklearn.metrics import f1_score \n",
    "f1 = f1_score(y_test , pred)\n",
    "print('F1 스코어: {0:.4f}'.format(f1))"
   ]
  },
  {
   "cell_type": "code",
   "execution_count": 24,
   "id": "90fb892d",
   "metadata": {},
   "outputs": [
    {
     "name": "stdout",
     "output_type": "stream",
     "text": [
      "임계값: 0.4\n",
      "오차 행렬 \n",
      "[[94 24]\n",
      " [ 9 52]]\n",
      "\n",
      "정확도: 0.8156, \n",
      "정밀도 : 0.6842, \n",
      "재현율 : 0.8525, \n",
      "f1 score: 0.7591\n",
      "--------------------------------\n",
      "임계값: 0.45\n",
      "오차 행렬 \n",
      "[[94 24]\n",
      " [ 9 52]]\n",
      "\n",
      "정확도: 0.8156, \n",
      "정밀도 : 0.6842, \n",
      "재현율 : 0.8525, \n",
      "f1 score: 0.7591\n",
      "--------------------------------\n",
      "임계값: 0.5\n",
      "오차 행렬 \n",
      "[[94 24]\n",
      " [ 9 52]]\n",
      "\n",
      "정확도: 0.8156, \n",
      "정밀도 : 0.6842, \n",
      "재현율 : 0.8525, \n",
      "f1 score: 0.7591\n",
      "--------------------------------\n",
      "임계값: 0.55\n",
      "오차 행렬 \n",
      "[[94 24]\n",
      " [ 9 52]]\n",
      "\n",
      "정확도: 0.8156, \n",
      "정밀도 : 0.6842, \n",
      "재현율 : 0.8525, \n",
      "f1 score: 0.7591\n",
      "--------------------------------\n",
      "임계값: 0.6\n",
      "오차 행렬 \n",
      "[[94 24]\n",
      " [ 9 52]]\n",
      "\n",
      "정확도: 0.8156, \n",
      "정밀도 : 0.6842, \n",
      "재현율 : 0.8525, \n",
      "f1 score: 0.7591\n",
      "--------------------------------\n"
     ]
    }
   ],
   "source": [
    "# 임계값을 변화시키면서 F1 스코어를 포함한평가 지표 산출\n",
    "# get_eval_by_threshold() 선실행\n",
    "\n",
    "def get_clf_eval(y_test , pred):\n",
    "    confusion = confusion_matrix( y_test, pred)\n",
    "    accuracy = accuracy_score(y_test , pred)\n",
    "    precision = precision_score(y_test , pred)\n",
    "    recall = recall_score(y_test , pred)\n",
    "    f1 = f1_score(y_test,pred)    # F1 스코어 추가\n",
    "    \n",
    "    print(f'오차 행렬 \\n{confusion}\\n')\n",
    "    print(f'''정확도: {accuracy:.4f}, \n",
    "정밀도 : {precision:.4f}, \n",
    "재현율 : {recall:.4f}, \n",
    "f1 score: {f1:.4f}''')\n",
    "    \n",
    "thresholds = [0.4 , 0.45 , 0.50 , 0.55 , 0.60]\n",
    "pred_proba = lr_clf.predict_proba(X_test)\n",
    "\n",
    "get_eval_by_threshold(y_test, pred_proba[:,1].reshape(-1,1), thresholds)\n",
    "\n",
    "# F1 스코어는 임곗값이  0.6일때 가장 좋은 값을 보여주지만 재현율이 크게 감소하는 점 유의"
   ]
  },
  {
   "cell_type": "markdown",
   "id": "a40891fa",
   "metadata": {},
   "source": [
    "#### ROC 곡선과 AUC\n",
    "* 수신자 판단 곡선이라고 하며 ML의 이진 분류 모델의 예측 성능을 판단하는 중요한 평가 지표.\n",
    "* FPR이 변할 때 TPR이 어떻게 변하는지를 나타내는 곡선으로 FPR은 1- 특이성(TNR), TPR은 재현율(민감도)를 나타냄.\n",
    "* TNR은 TN/(TN+FP)이며 FPR은 FP/(TN+FP)임\n",
    "* ROC 곡선은 FPR을 0부터 1까지 변경하면서 FPR을 구하고 이 FPR값의 변화에 따른 TPR의 변화 값을 구함.\n",
    "* FPR을 0에서 1까지 변경하는 것은 Positive 예측값을 결정하는 기준인 분류 결정 임곗값을 변경하면 됨. \n",
    "* FPR을 0으로 만들려면 임곗값을 1로 지정하고 반대로 FPR을 1로 만들려면 임곗값을 0으로 지정하면 됨."
   ]
  },
  {
   "cell_type": "markdown",
   "id": "558d8aa7",
   "metadata": {},
   "source": [
    "#### ROC 곡선(Receiver Operating Characteristic curve), AUC\n",
    "- 분류 모델의 성능을 시각화하는 데 사용되는 그래프입니다.\n",
    "- 이 그래프는 분류 모델의 임계값(threshold)을 변화시키면서, True Positive Rate(TPR)에 대한 FPR의 변화를 나타냅니다.\n",
    "- FPR은 \"False Positive Rate\"의 약자로, 거짓 양성 비율을 나타내는 지표입니다. \n",
    "    - TPR = TP / (TP + FN)\n",
    "    - FPR = FP / (FP + TN) = 1 - 특이도(TN/(FP + TN))\n",
    "- FPR은 0부터 1까지의 값을 가지며, 분류 모델의 임계값에 따라 변화합니다. \n",
    "- 임계값이 낮을수록 모델은 더 많은 샘플을 양성으로 분류하며, 이로 인해 FPR은 증가합니다. \n",
    "- 임계값이 높을수록 모델은 더 많은 샘플을 음성으로 분류하며, FPR은 감소합니다.\n",
    "- ROC 곡선은 FPR을 x축에, TPR(민감도, True Positive Rate)를 y축에 나타냅니다. 따라서 ROC 곡선은 임계값 변화에 따른 모델의 TPR과 FPR의 관계를 보여줍니다. \n",
    "- 좋은 분류 모델은 FPR이 낮은 상태에서 높은 TPR을 유지하는 곡선이 되어야 합니다. \n",
    "- ROC 곡선의 아래쪽 면적인 AUC(Area Under the Curve)는 분류 모델의 성능을 종합적으로 평가하는 지표로 사용됩니다. \n",
    "- AUC가 1에 가까울수록 모델의 성능이 우수하다고 판단할 수 있습니다."
   ]
  },
  {
   "cell_type": "markdown",
   "id": "1b0113b2",
   "metadata": {},
   "source": [
    "#### 과제(3): 타이타닉 데이터셋으로 모델링한 후, ROC AUC를 포함한 모든 분류 평가지표를 사용해 평가를 수행 + ROC AUC 시각화"
   ]
  },
  {
   "cell_type": "code",
   "execution_count": 25,
   "id": "80e23220",
   "metadata": {},
   "outputs": [
    {
     "data": {
      "text/html": [
       "<div>\n",
       "<style scoped>\n",
       "    .dataframe tbody tr th:only-of-type {\n",
       "        vertical-align: middle;\n",
       "    }\n",
       "\n",
       "    .dataframe tbody tr th {\n",
       "        vertical-align: top;\n",
       "    }\n",
       "\n",
       "    .dataframe thead th {\n",
       "        text-align: right;\n",
       "    }\n",
       "</style>\n",
       "<table border=\"1\" class=\"dataframe\">\n",
       "  <thead>\n",
       "    <tr style=\"text-align: right;\">\n",
       "      <th></th>\n",
       "      <th>Survived</th>\n",
       "      <th>Pclass</th>\n",
       "      <th>Sex</th>\n",
       "      <th>Age</th>\n",
       "      <th>Fare</th>\n",
       "      <th>Cabin</th>\n",
       "      <th>Embarked</th>\n",
       "      <th>Family</th>\n",
       "    </tr>\n",
       "  </thead>\n",
       "  <tbody>\n",
       "    <tr>\n",
       "      <th>0</th>\n",
       "      <td>0</td>\n",
       "      <td>3</td>\n",
       "      <td>1</td>\n",
       "      <td>0</td>\n",
       "      <td>1</td>\n",
       "      <td>7</td>\n",
       "      <td>2</td>\n",
       "      <td>1</td>\n",
       "    </tr>\n",
       "    <tr>\n",
       "      <th>1</th>\n",
       "      <td>1</td>\n",
       "      <td>1</td>\n",
       "      <td>0</td>\n",
       "      <td>0</td>\n",
       "      <td>0</td>\n",
       "      <td>2</td>\n",
       "      <td>0</td>\n",
       "      <td>1</td>\n",
       "    </tr>\n",
       "    <tr>\n",
       "      <th>2</th>\n",
       "      <td>1</td>\n",
       "      <td>3</td>\n",
       "      <td>0</td>\n",
       "      <td>0</td>\n",
       "      <td>1</td>\n",
       "      <td>7</td>\n",
       "      <td>2</td>\n",
       "      <td>0</td>\n",
       "    </tr>\n",
       "    <tr>\n",
       "      <th>3</th>\n",
       "      <td>1</td>\n",
       "      <td>1</td>\n",
       "      <td>0</td>\n",
       "      <td>0</td>\n",
       "      <td>2</td>\n",
       "      <td>2</td>\n",
       "      <td>2</td>\n",
       "      <td>1</td>\n",
       "    </tr>\n",
       "    <tr>\n",
       "      <th>4</th>\n",
       "      <td>0</td>\n",
       "      <td>3</td>\n",
       "      <td>1</td>\n",
       "      <td>0</td>\n",
       "      <td>1</td>\n",
       "      <td>7</td>\n",
       "      <td>2</td>\n",
       "      <td>0</td>\n",
       "    </tr>\n",
       "    <tr>\n",
       "      <th>...</th>\n",
       "      <td>...</td>\n",
       "      <td>...</td>\n",
       "      <td>...</td>\n",
       "      <td>...</td>\n",
       "      <td>...</td>\n",
       "      <td>...</td>\n",
       "      <td>...</td>\n",
       "      <td>...</td>\n",
       "    </tr>\n",
       "    <tr>\n",
       "      <th>886</th>\n",
       "      <td>0</td>\n",
       "      <td>2</td>\n",
       "      <td>1</td>\n",
       "      <td>0</td>\n",
       "      <td>1</td>\n",
       "      <td>7</td>\n",
       "      <td>2</td>\n",
       "      <td>0</td>\n",
       "    </tr>\n",
       "    <tr>\n",
       "      <th>887</th>\n",
       "      <td>1</td>\n",
       "      <td>1</td>\n",
       "      <td>0</td>\n",
       "      <td>5</td>\n",
       "      <td>2</td>\n",
       "      <td>1</td>\n",
       "      <td>2</td>\n",
       "      <td>0</td>\n",
       "    </tr>\n",
       "    <tr>\n",
       "      <th>888</th>\n",
       "      <td>0</td>\n",
       "      <td>3</td>\n",
       "      <td>0</td>\n",
       "      <td>0</td>\n",
       "      <td>2</td>\n",
       "      <td>7</td>\n",
       "      <td>2</td>\n",
       "      <td>3</td>\n",
       "    </tr>\n",
       "    <tr>\n",
       "      <th>889</th>\n",
       "      <td>1</td>\n",
       "      <td>1</td>\n",
       "      <td>1</td>\n",
       "      <td>0</td>\n",
       "      <td>2</td>\n",
       "      <td>2</td>\n",
       "      <td>0</td>\n",
       "      <td>0</td>\n",
       "    </tr>\n",
       "    <tr>\n",
       "      <th>890</th>\n",
       "      <td>0</td>\n",
       "      <td>3</td>\n",
       "      <td>1</td>\n",
       "      <td>0</td>\n",
       "      <td>1</td>\n",
       "      <td>7</td>\n",
       "      <td>1</td>\n",
       "      <td>0</td>\n",
       "    </tr>\n",
       "  </tbody>\n",
       "</table>\n",
       "<p>891 rows × 8 columns</p>\n",
       "</div>"
      ],
      "text/plain": [
       "     Survived  Pclass  Sex  Age  Fare  Cabin  Embarked  Family\n",
       "0           0       3    1    0     1      7         2       1\n",
       "1           1       1    0    0     0      2         0       1\n",
       "2           1       3    0    0     1      7         2       0\n",
       "3           1       1    0    0     2      2         2       1\n",
       "4           0       3    1    0     1      7         2       0\n",
       "..        ...     ...  ...  ...   ...    ...       ...     ...\n",
       "886         0       2    1    0     1      7         2       0\n",
       "887         1       1    0    5     2      1         2       0\n",
       "888         0       3    0    0     2      7         2       3\n",
       "889         1       1    1    0     2      2         0       0\n",
       "890         0       3    1    0     1      7         1       0\n",
       "\n",
       "[891 rows x 8 columns]"
      ]
     },
     "execution_count": 25,
     "metadata": {},
     "output_type": "execute_result"
    }
   ],
   "source": [
    "# 일괄 전처리\n",
    "df = pd.read_csv(r'C:\\Users\\h\\hmkd1\\mc_data\\train.csv')\n",
    "\n",
    "def nullskip(df):   #널값 처리\n",
    "    df['Age'].fillna(df['Age'].mean(), inplace=True)\n",
    "    df['Cabin'].fillna('N', inplace=True)\n",
    "    maxvalue = df['Embarked'].value_counts(dropna=True).idxmax()\n",
    "    df['Embarked'].fillna(maxvalue, inplace=True)\n",
    "    return df\n",
    "\n",
    "def get_age(age):\n",
    "    cat = ''\n",
    "    if age < 5: cat='Baby'\n",
    "    elif age < 15: cat= 'Child'\n",
    "    elif age < 21: cat= 'Young Adult'\n",
    "    elif age < 49: cat='Adult'\n",
    "    elif age < 70: cat='Old'\n",
    "    else: cat = 'Elder'\n",
    "    return cat\n",
    "\n",
    "    cat=''\n",
    "    if fare<=15: cat='저가'\n",
    "    elif fare<=60: cat='중가'\n",
    "    elif fare<=200: cat='고가'\n",
    "    else: cat='프리미엄'\n",
    "    return cat\n",
    "\n",
    "def drop_col(df):   #불필요한 속성(칼럼) 제거\n",
    "    df['Family'] = df.SibSp + df.Parch\n",
    "    df['Cabin'] = df['Cabin'].str[:1]\n",
    "    \n",
    "    df.drop(['PassengerId','Ticket','SibSp','Name','Parch'], axis=1, inplace=True)\n",
    "    return df\n",
    "\n",
    "def format_enc(df):   #레이블 인코딩 수행\n",
    "    features = ['Cabin','Sex','Embarked', 'Family', 'Age','Fare']\n",
    "    for i in features:\n",
    "        le = LabelEncoder()\n",
    "        le = le.fit(df[i])\n",
    "        df[i] = le.transform(df[i])      \n",
    "    return df\n",
    "\n",
    "def trans(df):   #위에서 만들어둔 함수들 호출\n",
    "    df = nullskip(df)\n",
    "    df['Age'] = df.Age.apply(lambda x: get_age(x))\n",
    "    df['Fare'] = df.Fare.apply(lambda x: get_cate(x))\n",
    "    df = drop_col(df)\n",
    "    df = format_enc(df)\n",
    "    return df\n",
    "\n",
    "trans(df)"
   ]
  },
  {
   "cell_type": "code",
   "execution_count": 26,
   "id": "335cd534",
   "metadata": {},
   "outputs": [
    {
     "name": "stdout",
     "output_type": "stream",
     "text": [
      "교차 검증별 정확도: [0.75555556 0.82022472 0.75280899 0.85393258 0.84269663 0.80898876\n",
      " 0.80898876 0.75280899 0.85393258 0.7752809 ]\n",
      "평균 검증 정확도: 0.802521847690387\n"
     ]
    }
   ],
   "source": [
    "dtree = DecisionTreeClassifier(random_state=156)\n",
    "\n",
    "data = df.drop('Survived', axis=1)\n",
    "label = df['Survived']\n",
    "\n",
    "scores = cross_val_score(dtree, data, label, scoring='accuracy', cv=10)\n",
    "print(f'교차 검증별 정확도: {scores}')\n",
    "print(f'평균 검증 정확도: {np.mean(scores)}')"
   ]
  },
  {
   "cell_type": "code",
   "execution_count": 27,
   "id": "682a5f11",
   "metadata": {},
   "outputs": [],
   "source": [
    "def get_lg_eval(ytest, pred, pred_proba):\n",
    "    confusion = confusion_matrix(ytest, pred)\n",
    "    \n",
    "    acc = accuracy_score(ytest, pred)\n",
    "    precision = precision_score(ytest, pred)\n",
    "    recall = recall_score(ytest, pred)\n",
    "    f1 = f1_score(ytest, pred)\n",
    "    \n",
    "    roc_auc = roc_auc_score(ytest, pred_proba[:, 1])\n",
    "    \n",
    "    print(f'오차행렬:\\n{confusion}\\n')\n",
    "    print(f'정확도: {acc}')\n",
    "    print(f'정밀도: {precision}')\n",
    "    print(f'재현율: {recall}')\n",
    "    print(f'f1_score: {f1}')\n",
    "    print(f'roc_auc: {roc_auc}')"
   ]
  },
  {
   "cell_type": "code",
   "execution_count": 28,
   "id": "c359c1f5",
   "metadata": {},
   "outputs": [
    {
     "name": "stdout",
     "output_type": "stream",
     "text": [
      "오차행렬:\n",
      "[[89 19]\n",
      " [19 52]]\n",
      "\n",
      "정확도: 0.7877094972067039\n",
      "정밀도: 0.7323943661971831\n",
      "재현율: 0.7323943661971831\n",
      "f1_score: 0.7323943661971831\n",
      "roc_auc: 0.8343114241001566\n"
     ]
    }
   ],
   "source": [
    "ydf = df['Survived']\n",
    "xdf = df.drop('Survived', axis=1)\n",
    "\n",
    "xtrain, xtest, ytrain, ytest = train_test_split(xdf, ydf, test_size=0.2, random_state=1231)\n",
    "\n",
    "lg = LogisticRegression()\n",
    "lg.fit(xtrain,ytrain)\n",
    "\n",
    "pred_proba = lg.predict_proba(xtest)\n",
    "pred = lg.predict(xtest)\n",
    "\n",
    "get_lg_eval(ytest, pred, pred_proba)"
   ]
  },
  {
   "cell_type": "code",
   "execution_count": 29,
   "id": "ce450814",
   "metadata": {},
   "outputs": [
    {
     "name": "stdout",
     "output_type": "stream",
     "text": [
      "샘플 추출을 위한 임계값 배열의 index: [ 1  6 11 16 21 26 31 36 41 46 51 56]\n",
      "샘플 인덱스로 추출한 임계값: [0.96  0.805 0.698 0.635 0.581 0.52  0.432 0.356 0.224 0.16  0.092 0.065]\n",
      "샘플 임계값별 FPR: [0.    0.    0.056 0.083 0.139 0.176 0.231 0.287 0.324 0.509 0.87  0.944]\n",
      "샘플 임계값별 TPR: [0.014 0.352 0.479 0.521 0.648 0.732 0.789 0.817 0.873 0.887 0.944 1.   ]\n"
     ]
    }
   ],
   "source": [
    "from sklearn.metrics import roc_curve\n",
    "\n",
    "pred_proba_c1 = lg.predict_proba(xtest)[:,1]\n",
    "fprs, tprs, thresholds = roc_curve(ytest, pred_proba_c1)\n",
    "\n",
    "thr_index = np.arange(1, thresholds.shape[0], 5)   # 5단위로 추출\n",
    "print(f'샘플 추출을 위한 임계값 배열의 index: {thr_index}')\n",
    "print(f'샘플 인덱스로 추출한 임계값: {np.round(thresholds[thr_index],3)}')\n",
    "\n",
    "#임계값에 따른 FPR, TPR값\n",
    "print(f'샘플 임계값별 FPR: {np.round(fprs[thr_index],3)}')\n",
    "print(f'샘플 임계값별 TPR: {np.round(tprs[thr_index],3)}')"
   ]
  },
  {
   "cell_type": "code",
   "execution_count": 62,
   "id": "ad27796f",
   "metadata": {
    "scrolled": true
   },
   "outputs": [
    {
     "data": {
      "image/png": "[encoded data removed]",
      "text/plain": [
       "<Figure size 640x480 with 1 Axes>"
      ]
     },
     "metadata": {},
     "output_type": "display_data"
    }
   ],
   "source": [
    "pred_proba_c1 = lg.predict_proba(xtest)[:,1]\n",
    "fprs, tprs, thresholds = roc_curve(ytest, pred_proba_c1)\n",
    "\n",
    "thr_index = np.arange(1, thresholds.shape[0], 1)   #인덱스값을 1단위로 추출\n",
    "# thresholds[thr_index]   #임계값\n",
    "# fprs[thr_index]   # FPR값\n",
    "# tprs[thr_index]   # TPR값\n",
    "\n",
    "plt.plot(thresholds[thr_index], fprs[thr_index], linestyle='--', label='FPR')\n",
    "plt.plot(thresholds[thr_index], tprs[thr_index], label='TPR')\n",
    "\n",
    "plt.xlabel('임계값'); plt.ylabel('TPR / FPR')\n",
    "plt.legend(); plt.grid()\n",
    "plt.xlim([0, 1]); plt.ylim([0, 1])\n",
    "plt.show()"
   ]
  },
  {
   "cell_type": "markdown",
   "id": "2215a60d",
   "metadata": {},
   "source": [
    "- ROC_Curve는 임계값이 작아질 수록 FPR이 점점 커짐\n",
    "- FPR이 조금씩 커질 때 TPR은 가파르게 커짐\n",
    "- AUC가 커지려면 -> FPR이 작을 때 TPR을 키워야 함\n",
    "- 일반적으로 분류모델의 성능은 AUC값이 0.5 이상일 때 좋은 것으로 간주됨"
   ]
  },
  {
   "cell_type": "code",
   "execution_count": 59,
   "id": "44b03afc",
   "metadata": {},
   "outputs": [
    {
     "data": {
      "image/png": "[encoded data removed]",
      "text/plain": [
       "<Figure size 640x480 with 1 Axes>"
      ]
     },
     "metadata": {},
     "output_type": "display_data"
    }
   ],
   "source": [
    "pred_proba_c1 = lg.predict_proba(xtest)[:,1]\n",
    "fprs, tprs, thresholds = roc_curve(ytest, pred_proba_c1)\n",
    "thr_index = np.arange(1, thresholds.shape[0], 1)\n",
    "\n",
    "plt.plot(fprs[thr_index], tprs[thr_index], label='ROC곡선')\n",
    "# ROC = 임계값 변화에 따른 모델의 TPR, FPR관계\n",
    "# AUC = ROC곡선의 아래쪽 면적\n",
    "# 일반적으로 분류모델의 성능은 AUC값이 0.5 이상일 때 좋은 것으로 간주됨\n",
    "\n",
    "plt.xlabel('FPR'); plt.ylabel('TPR')\n",
    "plt.legend(); plt.grid(); \n",
    "plt.plot([0,1],[0,1],'k--')  #그냥 보조 직선\n",
    "plt.xlim([0, 1]); plt.ylim([0, 1])\n",
    "\n",
    "plt.show()"
   ]
  },
  {
   "cell_type": "code",
   "execution_count": 68,
   "id": "fff948cc",
   "metadata": {},
   "outputs": [
    {
     "name": "stdout",
     "output_type": "stream",
     "text": [
      "임계값: [0.95 0.87 0.77 0.67 0.65 0.61 0.53 0.48 0.27 0.2  0.13 0.09]\n",
      "FPR: [0.   0.   0.02 0.03 0.07 0.12 0.21 0.28 0.34 0.45 0.55 0.94]\n",
      "TPR: [0.02 0.3  0.45 0.58 0.69 0.73 0.77 0.78 0.88 0.89 0.92 0.98]\n"
     ]
    },
    {
     "data": {
      "image/png": "[encoded data removed]",
      "text/plain": [
       "<Figure size 640x480 with 1 Axes>"
      ]
     },
     "metadata": {},
     "output_type": "display_data"
    }
   ],
   "source": [
    "# 강사님 코드\n",
    "from sklearn.metrics import roc_curve\n",
    "pred_proba_c1 = lr_clf.predict_proba(X_test)[:,1]\n",
    "fprs, tprs, thresholds = roc_curve (y_test, pred_proba_c1)\n",
    "thr_index = np.arange(1, thresholds.shape[0],5)\n",
    "\n",
    "print('임계값:',np.round(thresholds[thr_index],2))\n",
    "print('FPR:',np.round(fprs[thr_index],2))\n",
    "print('TPR:',np.round(tprs[thr_index],2))\n",
    "\n",
    "def roc_curve_plot(y_test, pred_proba_c1):\n",
    "    #임곗값에 따른 FPR, TPR 값을 반환 받음.\n",
    "    fprs, tprs, thresholds = roc_curve (y_test,pred_proba_c1)\n",
    "    \n",
    "    #ROC Curve를 plot 곡선으로 그림\n",
    "    plt.plot(fprs, tprs, label='ROC')\n",
    "    # 가운데 대각선 직선을 그림\n",
    "    plt.plot([0, 1], [0, 1], 'k-', label='Random')\n",
    "    \n",
    "    # FPR X 축의 Scale을 0.1 단위로 변경, X,Y 축명 설정등\n",
    "    start, end = plt.xlim()\n",
    "    plt.xticks(np.round(np.arange(start, end, 0.1),2))\n",
    "    plt.xlim(0,1); plt.ylim(0,1)\n",
    "    plt.xlabel('FPR 1 - specificity )'); plt.ylabel('TPR( Recall )')\n",
    "    plt.legend(); plt.show()\n",
    "    \n",
    "roc_curve_plot(y_test, lr_clf.predict_proba(X_test) [:, 1])"
   ]
  },
  {
   "cell_type": "code",
   "execution_count": 83,
   "id": "f2eceb7a",
   "metadata": {
    "scrolled": true
   },
   "outputs": [
    {
     "name": "stdout",
     "output_type": "stream",
     "text": [
      "ROC AUC값: 0.8630\n"
     ]
    }
   ],
   "source": [
    "pred = lr_clf.predict(X_test)\n",
    "pred_proba = lr_clf.predict_proba(X_test)[:,1]\n",
    "\n",
    "roc_score = roc_auc_score(y_test, pred_proba)\n",
    "print(f'ROC AUC값: {roc_score:0.4f}')"
   ]
  },
  {
   "cell_type": "code",
   "execution_count": 81,
   "id": "c7a48c93",
   "metadata": {},
   "outputs": [
    {
     "name": "stdout",
     "output_type": "stream",
     "text": [
      "오차행렬: \n",
      "[[99 16]\n",
      " [15 49]]\n",
      "\n",
      "정확도: 0.8268\n",
      "정밀도: 0.7538\n",
      "재현율: 0.7656\n",
      "f1_score: 0.7597\n",
      "AUC: 0.8630\n"
     ]
    }
   ],
   "source": [
    "def get_clf_eval(y_test, pred, pred_proba):\n",
    "    confusion = confusion_matrix(y_test, pred)\n",
    "    acc = accuracy_score(y_test, pred)\n",
    "    precision = precision_score(y_test, pred)\n",
    "    recall = recall_score(y_test, pred)\n",
    "    f1 = f1_score(y_test, pred)\n",
    "    roc_auc = roc_auc_score(y_test, pred_proba)\n",
    "    \n",
    "    print(f'오차행렬: \\n{confusion}')\n",
    "    print(f'''\n",
    "정확도: {acc:0.4f}\n",
    "정밀도: {precision:0.4f}\n",
    "재현율: {recall:0.4f}\n",
    "f1_score: {f1:0.4f}\n",
    "AUC: {roc_auc:0.4f}''')\n",
    "    \n",
    "get_clf_eval(y_test, pred, pred_proba)"
   ]
  },
  {
   "cell_type": "code",
   "execution_count": null,
   "id": "611fc33c",
   "metadata": {},
   "outputs": [],
   "source": []
  },
  {
   "cell_type": "markdown",
   "id": "41513ed0",
   "metadata": {},
   "source": [
    "(교재 172p 까지가 과제나온 것들 범위)"
   ]
  },
  {
   "cell_type": "code",
   "execution_count": null,
   "id": "dc58396c",
   "metadata": {},
   "outputs": [],
   "source": []
  },
  {
   "cell_type": "code",
   "execution_count": null,
   "id": "d2392965",
   "metadata": {},
   "outputs": [],
   "source": []
  },
  {
   "cell_type": "code",
   "execution_count": null,
   "id": "ed11a4f4",
   "metadata": {},
   "outputs": [],
   "source": []
  }
 ],
 "metadata": {
  "kernelspec": {
   "display_name": "Python 3 (ipykernel)",
   "language": "python",
   "name": "python3"
  },
  "language_info": {
   "codemirror_mode": {
    "name": "ipython",
    "version": 3
   },
   "file_extension": ".py",
   "mimetype": "text/x-python",
   "name": "python",
   "nbconvert_exporter": "python",
   "pygments_lexer": "ipython3",
   "version": "3.9.13"
  }
 },
 "nbformat": 4,
 "nbformat_minor": 5
}
