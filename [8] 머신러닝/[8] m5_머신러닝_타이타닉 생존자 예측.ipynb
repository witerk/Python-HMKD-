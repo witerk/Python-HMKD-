{
 "cells": [
  {
   "cell_type": "markdown",
   "id": "937bf9ff",
   "metadata": {},
   "source": [
    "#### 과제(3): 타이타닉 생존자 예측 모델을 아래 사항을 참조하여 개선하세요\n",
    "- null값 처리\n",
    "- 범주화\n",
    "- 인코딩(원핫/레이블)"
   ]
  },
  {
   "cell_type": "code",
   "execution_count": 86,
   "id": "79c92580",
   "metadata": {},
   "outputs": [],
   "source": [
    "import warnings\n",
    "warnings.filterwarnings('ignore')\n",
    "\n",
    "import random\n",
    "import numpy as np\n",
    "import pandas as pd\n",
    "\n",
    "import matplotlib.pyplot as plt\n",
    "%matplotlib inline\n",
    "#맷플랏립 그래프 주피터에서 바로 출력하기\n",
    "import seaborn as sns\n",
    "\n",
    "from scipy import stats\n",
    "from scipy.stats import t, norm, chi2, chi2_contingency\n",
    "import re\n",
    "\n",
    "from matplotlib import rc\n",
    "rc('font', family='Malgun Gothic')      #한글 폰트설정\n",
    "plt.rcParams['axes.unicode_minus']=False      #마이너스 부호 출력 설정"
   ]
  },
  {
   "cell_type": "code",
   "execution_count": 87,
   "id": "8e20ccd8",
   "metadata": {},
   "outputs": [],
   "source": [
    "from sklearn.datasets import load_iris\n",
    "from sklearn import datasets\n",
    "\n",
    "from sklearn.preprocessing import StandardScaler\n",
    "\n",
    "from sklearn.tree import DecisionTreeClassifier\n",
    "from sklearn.linear_model import LogisticRegression\n",
    "from sklearn.model_selection import train_test_split\n",
    "from sklearn.metrics import accuracy_score\n",
    "\n",
    "from sklearn.model_selection import KFold\n",
    "from sklearn.model_selection import StratifiedKFold\n",
    "from sklearn.model_selection import cross_val_score, cross_validate\n",
    "from sklearn.model_selection import GridSearchCV\n",
    "\n",
    "from sklearn.preprocessing import LabelEncoder\n",
    "from sklearn.preprocessing import OneHotEncoder\n",
    "from sklearn.preprocessing import Binarizer\n",
    "\n",
    "from sklearn.metrics import accuracy_score, precision_score, recall_score, confusion_matrix, f1_score\n",
    "from sklearn.metrics import classification_report\n",
    "from sklearn.metrics import precision_recall_curve\n",
    "from sklearn.metrics import roc_auc_score"
   ]
  },
  {
   "cell_type": "code",
   "execution_count": 88,
   "id": "a391469b",
   "metadata": {},
   "outputs": [],
   "source": [
    "from sklearn import tree\n",
    "from sklearn.datasets import make_classification\n",
    "\n",
    "from sklearn.datasets import load_breast_cancer\n",
    "from sklearn.neighbors import KNeighborsClassifier\n",
    "from sklearn.ensemble import VotingClassifier\n",
    "\n",
    "from sklearn.ensemble import RandomForestClassifier"
   ]
  },
  {
   "cell_type": "code",
   "execution_count": 89,
   "id": "fa7d4020",
   "metadata": {},
   "outputs": [
    {
     "data": {
      "text/html": [
       "<div>\n",
       "<style scoped>\n",
       "    .dataframe tbody tr th:only-of-type {\n",
       "        vertical-align: middle;\n",
       "    }\n",
       "\n",
       "    .dataframe tbody tr th {\n",
       "        vertical-align: top;\n",
       "    }\n",
       "\n",
       "    .dataframe thead th {\n",
       "        text-align: right;\n",
       "    }\n",
       "</style>\n",
       "<table border=\"1\" class=\"dataframe\">\n",
       "  <thead>\n",
       "    <tr style=\"text-align: right;\">\n",
       "      <th></th>\n",
       "      <th>PassengerId</th>\n",
       "      <th>Survived</th>\n",
       "      <th>Pclass</th>\n",
       "      <th>Name</th>\n",
       "      <th>Sex</th>\n",
       "      <th>Age</th>\n",
       "      <th>SibSp</th>\n",
       "      <th>Parch</th>\n",
       "      <th>Ticket</th>\n",
       "      <th>Fare</th>\n",
       "      <th>Cabin</th>\n",
       "      <th>Embarked</th>\n",
       "    </tr>\n",
       "  </thead>\n",
       "  <tbody>\n",
       "    <tr>\n",
       "      <th>0</th>\n",
       "      <td>1</td>\n",
       "      <td>0</td>\n",
       "      <td>3</td>\n",
       "      <td>Braund, Mr. Owen Harris</td>\n",
       "      <td>male</td>\n",
       "      <td>22.0</td>\n",
       "      <td>1</td>\n",
       "      <td>0</td>\n",
       "      <td>A/5 21171</td>\n",
       "      <td>7.2500</td>\n",
       "      <td>NaN</td>\n",
       "      <td>S</td>\n",
       "    </tr>\n",
       "    <tr>\n",
       "      <th>1</th>\n",
       "      <td>2</td>\n",
       "      <td>1</td>\n",
       "      <td>1</td>\n",
       "      <td>Cumings, Mrs. John Bradley (Florence Briggs Th...</td>\n",
       "      <td>female</td>\n",
       "      <td>38.0</td>\n",
       "      <td>1</td>\n",
       "      <td>0</td>\n",
       "      <td>PC 17599</td>\n",
       "      <td>71.2833</td>\n",
       "      <td>C85</td>\n",
       "      <td>C</td>\n",
       "    </tr>\n",
       "    <tr>\n",
       "      <th>2</th>\n",
       "      <td>3</td>\n",
       "      <td>1</td>\n",
       "      <td>3</td>\n",
       "      <td>Heikkinen, Miss. Laina</td>\n",
       "      <td>female</td>\n",
       "      <td>26.0</td>\n",
       "      <td>0</td>\n",
       "      <td>0</td>\n",
       "      <td>STON/O2. 3101282</td>\n",
       "      <td>7.9250</td>\n",
       "      <td>NaN</td>\n",
       "      <td>S</td>\n",
       "    </tr>\n",
       "  </tbody>\n",
       "</table>\n",
       "</div>"
      ],
      "text/plain": [
       "   PassengerId  Survived  Pclass  \\\n",
       "0            1         0       3   \n",
       "1            2         1       1   \n",
       "2            3         1       3   \n",
       "\n",
       "                                                Name     Sex   Age  SibSp  \\\n",
       "0                            Braund, Mr. Owen Harris    male  22.0      1   \n",
       "1  Cumings, Mrs. John Bradley (Florence Briggs Th...  female  38.0      1   \n",
       "2                             Heikkinen, Miss. Laina  female  26.0      0   \n",
       "\n",
       "   Parch            Ticket     Fare Cabin Embarked  \n",
       "0      0         A/5 21171   7.2500   NaN        S  \n",
       "1      0          PC 17599  71.2833   C85        C  \n",
       "2      0  STON/O2. 3101282   7.9250   NaN        S  "
      ]
     },
     "execution_count": 89,
     "metadata": {},
     "output_type": "execute_result"
    }
   ],
   "source": [
    "df = pd.read_csv(r'C:\\Users\\h\\hmkd1\\mc_data\\train.csv')\n",
    "df.head(3)"
   ]
  },
  {
   "cell_type": "code",
   "execution_count": 90,
   "id": "83b456da",
   "metadata": {},
   "outputs": [
    {
     "name": "stdout",
     "output_type": "stream",
     "text": [
      "### train 데이터 정보 ###  \n",
      "\n",
      "<class 'pandas.core.frame.DataFrame'>\n",
      "RangeIndex: 891 entries, 0 to 890\n",
      "Data columns (total 12 columns):\n",
      " #   Column       Non-Null Count  Dtype  \n",
      "---  ------       --------------  -----  \n",
      " 0   PassengerId  891 non-null    int64  \n",
      " 1   Survived     891 non-null    int64  \n",
      " 2   Pclass       891 non-null    int64  \n",
      " 3   Name         891 non-null    object \n",
      " 4   Sex          891 non-null    object \n",
      " 5   Age          714 non-null    float64\n",
      " 6   SibSp        891 non-null    int64  \n",
      " 7   Parch        891 non-null    int64  \n",
      " 8   Ticket       891 non-null    object \n",
      " 9   Fare         891 non-null    float64\n",
      " 10  Cabin        204 non-null    object \n",
      " 11  Embarked     889 non-null    object \n",
      "dtypes: float64(2), int64(5), object(5)\n",
      "memory usage: 83.7+ KB\n"
     ]
    }
   ],
   "source": [
    "print('### train 데이터 정보 ###  \\n')\n",
    "df.info()"
   ]
  },
  {
   "cell_type": "code",
   "execution_count": 91,
   "id": "427e6560",
   "metadata": {
    "scrolled": true
   },
   "outputs": [
    {
     "data": {
      "text/plain": [
       "PassengerId      0\n",
       "Survived         0\n",
       "Pclass           0\n",
       "Name             0\n",
       "Sex              0\n",
       "Age            177\n",
       "SibSp            0\n",
       "Parch            0\n",
       "Ticket           0\n",
       "Fare             0\n",
       "Cabin          687\n",
       "Embarked         2\n",
       "dtype: int64"
      ]
     },
     "execution_count": 91,
     "metadata": {},
     "output_type": "execute_result"
    }
   ],
   "source": [
    "df.isnull().sum()"
   ]
  },
  {
   "cell_type": "markdown",
   "id": "897f8a9a",
   "metadata": {},
   "source": [
    "### 일괄 전처리 사용자 함수: trans()"
   ]
  },
  {
   "cell_type": "code",
   "execution_count": 92,
   "id": "5527a3f3",
   "metadata": {},
   "outputs": [],
   "source": [
    "### 일괄 전처리 ###\n",
    "\n",
    "def name(df):\n",
    "    arr = df.Name.values\n",
    "    df['Name'] = [re.search(',\\s([A-Za-z\\s]+)[.]\\s*', i)[1] for i in arr]   #직업/특징 데이터 뽑기\n",
    "    return df\n",
    "\n",
    "def nullskip(df):   #널값 처리\n",
    "    df['Age'].fillna(df['Age'].mean(), inplace=True)\n",
    "    df['Cabin'].fillna('N', inplace=True)\n",
    "    maxvalue = df['Embarked'].value_counts(dropna=True).idxmax()\n",
    "    df['Embarked'].fillna(maxvalue, inplace=True)\n",
    "    return df\n",
    "\n",
    "def get_age(age):\n",
    "    cat = ''\n",
    "    if age < 5: cat='Baby'\n",
    "    elif age < 15: cat= 'Child'\n",
    "    elif age < 21: cat= 'Young Adult'\n",
    "    elif age < 49: cat='Adult'\n",
    "    elif age < 70: cat='Old'\n",
    "    else: cat = 'Elder'\n",
    "    return cat\n",
    "\n",
    "def get_cate(fare):\n",
    "    cat=''\n",
    "    if fare<=15: cat='저가'\n",
    "    elif fare<=60: cat='중가'\n",
    "    elif fare<=200: cat='고가'\n",
    "    else: cat='프리미엄'\n",
    "    return cat\n",
    "\n",
    "def drop_col(df):   #불필요한 속성(칼럼) 제거\n",
    "    df['Family'] = df.SibSp + df.Parch\n",
    "    df['Cabin'] = df['Cabin'].str[:1]\n",
    "    \n",
    "    df.drop(['PassengerId','Ticket','SibSp','Parch'], axis=1, inplace=True)\n",
    "    return df\n",
    "\n",
    "def format_enc(df):   #레이블 인코딩 수행\n",
    "    features = ['Cabin','Sex','Embarked', 'Family', 'Age','Fare','Name']\n",
    "    for i in features:\n",
    "        le = LabelEncoder()\n",
    "        le = le.fit(df[i])\n",
    "        df[i] = le.transform(df[i])      \n",
    "    return df\n",
    "####################################################################\n",
    "def trans(df):   #위에서 만들어둔 함수들 호출\n",
    "    df = name(df)\n",
    "    df = nullskip(df)\n",
    "    df['Age'] = df.Age.apply(lambda x: get_age(x))\n",
    "    df['Fare'] = df.Fare.apply(lambda x: get_cate(x))\n",
    "    df = drop_col(df)\n",
    "    df = format_enc(df)\n",
    "    return df"
   ]
  },
  {
   "cell_type": "markdown",
   "id": "75572677",
   "metadata": {},
   "source": [
    "### 필요없는 데이터 삭제 or 유효한 데이터로 변환"
   ]
  },
  {
   "cell_type": "code",
   "execution_count": 93,
   "id": "cafe18f1",
   "metadata": {},
   "outputs": [],
   "source": [
    "df['family'] = df.SibSp + df.Parch    #동승 가족 칼럼 생성\n",
    "df.drop(['PassengerId','Ticket','SibSp','Parch'], axis=1, inplace=True)    #승객, 티켓번호 삭제"
   ]
  },
  {
   "cell_type": "code",
   "execution_count": 94,
   "id": "16e0dc1c",
   "metadata": {},
   "outputs": [
    {
     "data": {
      "text/html": [
       "<div>\n",
       "<style scoped>\n",
       "    .dataframe tbody tr th:only-of-type {\n",
       "        vertical-align: middle;\n",
       "    }\n",
       "\n",
       "    .dataframe tbody tr th {\n",
       "        vertical-align: top;\n",
       "    }\n",
       "\n",
       "    .dataframe thead th {\n",
       "        text-align: right;\n",
       "    }\n",
       "</style>\n",
       "<table border=\"1\" class=\"dataframe\">\n",
       "  <thead>\n",
       "    <tr style=\"text-align: right;\">\n",
       "      <th></th>\n",
       "      <th>Survived</th>\n",
       "      <th>Pclass</th>\n",
       "      <th>Name</th>\n",
       "      <th>Sex</th>\n",
       "      <th>Age</th>\n",
       "      <th>Fare</th>\n",
       "      <th>Cabin</th>\n",
       "      <th>Embarked</th>\n",
       "      <th>family</th>\n",
       "    </tr>\n",
       "  </thead>\n",
       "  <tbody>\n",
       "    <tr>\n",
       "      <th>0</th>\n",
       "      <td>0</td>\n",
       "      <td>3</td>\n",
       "      <td>Braund, Mr. Owen Harris</td>\n",
       "      <td>male</td>\n",
       "      <td>22.0</td>\n",
       "      <td>7.2500</td>\n",
       "      <td>NaN</td>\n",
       "      <td>S</td>\n",
       "      <td>1</td>\n",
       "    </tr>\n",
       "    <tr>\n",
       "      <th>1</th>\n",
       "      <td>1</td>\n",
       "      <td>1</td>\n",
       "      <td>Cumings, Mrs. John Bradley (Florence Briggs Th...</td>\n",
       "      <td>female</td>\n",
       "      <td>38.0</td>\n",
       "      <td>71.2833</td>\n",
       "      <td>C85</td>\n",
       "      <td>C</td>\n",
       "      <td>1</td>\n",
       "    </tr>\n",
       "    <tr>\n",
       "      <th>2</th>\n",
       "      <td>1</td>\n",
       "      <td>3</td>\n",
       "      <td>Heikkinen, Miss. Laina</td>\n",
       "      <td>female</td>\n",
       "      <td>26.0</td>\n",
       "      <td>7.9250</td>\n",
       "      <td>NaN</td>\n",
       "      <td>S</td>\n",
       "      <td>0</td>\n",
       "    </tr>\n",
       "    <tr>\n",
       "      <th>3</th>\n",
       "      <td>1</td>\n",
       "      <td>1</td>\n",
       "      <td>Futrelle, Mrs. Jacques Heath (Lily May Peel)</td>\n",
       "      <td>female</td>\n",
       "      <td>35.0</td>\n",
       "      <td>53.1000</td>\n",
       "      <td>C123</td>\n",
       "      <td>S</td>\n",
       "      <td>1</td>\n",
       "    </tr>\n",
       "    <tr>\n",
       "      <th>4</th>\n",
       "      <td>0</td>\n",
       "      <td>3</td>\n",
       "      <td>Allen, Mr. William Henry</td>\n",
       "      <td>male</td>\n",
       "      <td>35.0</td>\n",
       "      <td>8.0500</td>\n",
       "      <td>NaN</td>\n",
       "      <td>S</td>\n",
       "      <td>0</td>\n",
       "    </tr>\n",
       "  </tbody>\n",
       "</table>\n",
       "</div>"
      ],
      "text/plain": [
       "   Survived  Pclass                                               Name  \\\n",
       "0         0       3                            Braund, Mr. Owen Harris   \n",
       "1         1       1  Cumings, Mrs. John Bradley (Florence Briggs Th...   \n",
       "2         1       3                             Heikkinen, Miss. Laina   \n",
       "3         1       1       Futrelle, Mrs. Jacques Heath (Lily May Peel)   \n",
       "4         0       3                           Allen, Mr. William Henry   \n",
       "\n",
       "      Sex   Age     Fare Cabin Embarked  family  \n",
       "0    male  22.0   7.2500   NaN        S       1  \n",
       "1  female  38.0  71.2833   C85        C       1  \n",
       "2  female  26.0   7.9250   NaN        S       0  \n",
       "3  female  35.0  53.1000  C123        S       1  \n",
       "4    male  35.0   8.0500   NaN        S       0  "
      ]
     },
     "execution_count": 94,
     "metadata": {},
     "output_type": "execute_result"
    }
   ],
   "source": [
    "df.head()"
   ]
  },
  {
   "cell_type": "code",
   "execution_count": 95,
   "id": "8b96e6f9",
   "metadata": {},
   "outputs": [],
   "source": [
    "arr = df.Name.values\n",
    "df['job'] = [re.search(',\\s([A-Za-z\\s]+)[.]\\s*', i)[1] for i in arr]   #직업/특징 데이터 뽑기\n",
    "df.drop(['Name'], axis=1, inplace=True)   #이름 칼럼 삭제\n",
    "\n",
    "# df.job.value_counts()     #직업/특징 종류"
   ]
  },
  {
   "cell_type": "code",
   "execution_count": 96,
   "id": "f6739af7",
   "metadata": {
    "scrolled": true
   },
   "outputs": [
    {
     "data": {
      "text/html": [
       "<div>\n",
       "<style scoped>\n",
       "    .dataframe tbody tr th:only-of-type {\n",
       "        vertical-align: middle;\n",
       "    }\n",
       "\n",
       "    .dataframe tbody tr th {\n",
       "        vertical-align: top;\n",
       "    }\n",
       "\n",
       "    .dataframe thead th {\n",
       "        text-align: right;\n",
       "    }\n",
       "</style>\n",
       "<table border=\"1\" class=\"dataframe\">\n",
       "  <thead>\n",
       "    <tr style=\"text-align: right;\">\n",
       "      <th></th>\n",
       "      <th>Survived</th>\n",
       "      <th>Pclass</th>\n",
       "      <th>Sex</th>\n",
       "      <th>Age</th>\n",
       "      <th>Fare</th>\n",
       "      <th>Cabin</th>\n",
       "      <th>Embarked</th>\n",
       "      <th>family</th>\n",
       "      <th>job</th>\n",
       "    </tr>\n",
       "  </thead>\n",
       "  <tbody>\n",
       "    <tr>\n",
       "      <th>0</th>\n",
       "      <td>0</td>\n",
       "      <td>3</td>\n",
       "      <td>male</td>\n",
       "      <td>22.0</td>\n",
       "      <td>7.2500</td>\n",
       "      <td>NaN</td>\n",
       "      <td>S</td>\n",
       "      <td>1</td>\n",
       "      <td>Mr</td>\n",
       "    </tr>\n",
       "    <tr>\n",
       "      <th>1</th>\n",
       "      <td>1</td>\n",
       "      <td>1</td>\n",
       "      <td>female</td>\n",
       "      <td>38.0</td>\n",
       "      <td>71.2833</td>\n",
       "      <td>C85</td>\n",
       "      <td>C</td>\n",
       "      <td>1</td>\n",
       "      <td>Mrs</td>\n",
       "    </tr>\n",
       "    <tr>\n",
       "      <th>2</th>\n",
       "      <td>1</td>\n",
       "      <td>3</td>\n",
       "      <td>female</td>\n",
       "      <td>26.0</td>\n",
       "      <td>7.9250</td>\n",
       "      <td>NaN</td>\n",
       "      <td>S</td>\n",
       "      <td>0</td>\n",
       "      <td>Miss</td>\n",
       "    </tr>\n",
       "    <tr>\n",
       "      <th>3</th>\n",
       "      <td>1</td>\n",
       "      <td>1</td>\n",
       "      <td>female</td>\n",
       "      <td>35.0</td>\n",
       "      <td>53.1000</td>\n",
       "      <td>C123</td>\n",
       "      <td>S</td>\n",
       "      <td>1</td>\n",
       "      <td>Mrs</td>\n",
       "    </tr>\n",
       "    <tr>\n",
       "      <th>4</th>\n",
       "      <td>0</td>\n",
       "      <td>3</td>\n",
       "      <td>male</td>\n",
       "      <td>35.0</td>\n",
       "      <td>8.0500</td>\n",
       "      <td>NaN</td>\n",
       "      <td>S</td>\n",
       "      <td>0</td>\n",
       "      <td>Mr</td>\n",
       "    </tr>\n",
       "  </tbody>\n",
       "</table>\n",
       "</div>"
      ],
      "text/plain": [
       "   Survived  Pclass     Sex   Age     Fare Cabin Embarked  family   job\n",
       "0         0       3    male  22.0   7.2500   NaN        S       1    Mr\n",
       "1         1       1  female  38.0  71.2833   C85        C       1   Mrs\n",
       "2         1       3  female  26.0   7.9250   NaN        S       0  Miss\n",
       "3         1       1  female  35.0  53.1000  C123        S       1   Mrs\n",
       "4         0       3    male  35.0   8.0500   NaN        S       0    Mr"
      ]
     },
     "execution_count": 96,
     "metadata": {},
     "output_type": "execute_result"
    }
   ],
   "source": [
    "df.head()"
   ]
  },
  {
   "cell_type": "code",
   "execution_count": 97,
   "id": "56d95a4f",
   "metadata": {},
   "outputs": [
    {
     "data": {
      "text/html": [
       "<div>\n",
       "<style scoped>\n",
       "    .dataframe tbody tr th:only-of-type {\n",
       "        vertical-align: middle;\n",
       "    }\n",
       "\n",
       "    .dataframe tbody tr th {\n",
       "        vertical-align: top;\n",
       "    }\n",
       "\n",
       "    .dataframe thead th {\n",
       "        text-align: right;\n",
       "    }\n",
       "</style>\n",
       "<table border=\"1\" class=\"dataframe\">\n",
       "  <thead>\n",
       "    <tr style=\"text-align: right;\">\n",
       "      <th></th>\n",
       "      <th>Survived</th>\n",
       "      <th>Pclass</th>\n",
       "      <th>Sex</th>\n",
       "      <th>Age</th>\n",
       "      <th>Fare</th>\n",
       "      <th>Embarked</th>\n",
       "      <th>family</th>\n",
       "      <th>job</th>\n",
       "    </tr>\n",
       "  </thead>\n",
       "  <tbody>\n",
       "    <tr>\n",
       "      <th>0</th>\n",
       "      <td>0</td>\n",
       "      <td>3</td>\n",
       "      <td>male</td>\n",
       "      <td>22.0</td>\n",
       "      <td>7.2500</td>\n",
       "      <td>S</td>\n",
       "      <td>1</td>\n",
       "      <td>Mr</td>\n",
       "    </tr>\n",
       "    <tr>\n",
       "      <th>1</th>\n",
       "      <td>1</td>\n",
       "      <td>1</td>\n",
       "      <td>female</td>\n",
       "      <td>38.0</td>\n",
       "      <td>71.2833</td>\n",
       "      <td>C</td>\n",
       "      <td>1</td>\n",
       "      <td>Mrs</td>\n",
       "    </tr>\n",
       "    <tr>\n",
       "      <th>2</th>\n",
       "      <td>1</td>\n",
       "      <td>3</td>\n",
       "      <td>female</td>\n",
       "      <td>26.0</td>\n",
       "      <td>7.9250</td>\n",
       "      <td>S</td>\n",
       "      <td>0</td>\n",
       "      <td>Miss</td>\n",
       "    </tr>\n",
       "    <tr>\n",
       "      <th>3</th>\n",
       "      <td>1</td>\n",
       "      <td>1</td>\n",
       "      <td>female</td>\n",
       "      <td>35.0</td>\n",
       "      <td>53.1000</td>\n",
       "      <td>S</td>\n",
       "      <td>1</td>\n",
       "      <td>Mrs</td>\n",
       "    </tr>\n",
       "    <tr>\n",
       "      <th>4</th>\n",
       "      <td>0</td>\n",
       "      <td>3</td>\n",
       "      <td>male</td>\n",
       "      <td>35.0</td>\n",
       "      <td>8.0500</td>\n",
       "      <td>S</td>\n",
       "      <td>0</td>\n",
       "      <td>Mr</td>\n",
       "    </tr>\n",
       "  </tbody>\n",
       "</table>\n",
       "</div>"
      ],
      "text/plain": [
       "   Survived  Pclass     Sex   Age     Fare Embarked  family   job\n",
       "0         0       3    male  22.0   7.2500        S       1    Mr\n",
       "1         1       1  female  38.0  71.2833        C       1   Mrs\n",
       "2         1       3  female  26.0   7.9250        S       0  Miss\n",
       "3         1       1  female  35.0  53.1000        S       1   Mrs\n",
       "4         0       3    male  35.0   8.0500        S       0    Mr"
      ]
     },
     "execution_count": 97,
     "metadata": {},
     "output_type": "execute_result"
    }
   ],
   "source": [
    "# 객실 정보 삭제\n",
    "af = df.drop(['Cabin'], axis=1)\n",
    "af.head()"
   ]
  },
  {
   "cell_type": "code",
   "execution_count": 98,
   "id": "ee080835",
   "metadata": {},
   "outputs": [
    {
     "data": {
      "text/html": [
       "<div>\n",
       "<style scoped>\n",
       "    .dataframe tbody tr th:only-of-type {\n",
       "        vertical-align: middle;\n",
       "    }\n",
       "\n",
       "    .dataframe tbody tr th {\n",
       "        vertical-align: top;\n",
       "    }\n",
       "\n",
       "    .dataframe thead th {\n",
       "        text-align: right;\n",
       "    }\n",
       "</style>\n",
       "<table border=\"1\" class=\"dataframe\">\n",
       "  <thead>\n",
       "    <tr style=\"text-align: right;\">\n",
       "      <th></th>\n",
       "      <th>Survived</th>\n",
       "      <th>Pclass</th>\n",
       "      <th>Sex</th>\n",
       "      <th>Age</th>\n",
       "      <th>Fare</th>\n",
       "      <th>Embarked</th>\n",
       "      <th>family</th>\n",
       "      <th>job</th>\n",
       "    </tr>\n",
       "  </thead>\n",
       "  <tbody>\n",
       "    <tr>\n",
       "      <th>0</th>\n",
       "      <td>0</td>\n",
       "      <td>3</td>\n",
       "      <td>male</td>\n",
       "      <td>22.0</td>\n",
       "      <td>7.2500</td>\n",
       "      <td>S</td>\n",
       "      <td>1</td>\n",
       "      <td>Mr</td>\n",
       "    </tr>\n",
       "    <tr>\n",
       "      <th>1</th>\n",
       "      <td>1</td>\n",
       "      <td>1</td>\n",
       "      <td>female</td>\n",
       "      <td>38.0</td>\n",
       "      <td>71.2833</td>\n",
       "      <td>C</td>\n",
       "      <td>1</td>\n",
       "      <td>Mrs</td>\n",
       "    </tr>\n",
       "    <tr>\n",
       "      <th>2</th>\n",
       "      <td>1</td>\n",
       "      <td>3</td>\n",
       "      <td>female</td>\n",
       "      <td>26.0</td>\n",
       "      <td>7.9250</td>\n",
       "      <td>S</td>\n",
       "      <td>0</td>\n",
       "      <td>Miss</td>\n",
       "    </tr>\n",
       "    <tr>\n",
       "      <th>3</th>\n",
       "      <td>1</td>\n",
       "      <td>1</td>\n",
       "      <td>female</td>\n",
       "      <td>35.0</td>\n",
       "      <td>53.1000</td>\n",
       "      <td>S</td>\n",
       "      <td>1</td>\n",
       "      <td>Mrs</td>\n",
       "    </tr>\n",
       "    <tr>\n",
       "      <th>4</th>\n",
       "      <td>0</td>\n",
       "      <td>3</td>\n",
       "      <td>male</td>\n",
       "      <td>35.0</td>\n",
       "      <td>8.0500</td>\n",
       "      <td>S</td>\n",
       "      <td>0</td>\n",
       "      <td>Mr</td>\n",
       "    </tr>\n",
       "  </tbody>\n",
       "</table>\n",
       "</div>"
      ],
      "text/plain": [
       "   Survived  Pclass     Sex   Age     Fare Embarked  family   job\n",
       "0         0       3    male  22.0   7.2500        S       1    Mr\n",
       "1         1       1  female  38.0  71.2833        C       1   Mrs\n",
       "2         1       3  female  26.0   7.9250        S       0  Miss\n",
       "3         1       1  female  35.0  53.1000        S       1   Mrs\n",
       "4         0       3    male  35.0   8.0500        S       0    Mr"
      ]
     },
     "execution_count": 98,
     "metadata": {},
     "output_type": "execute_result"
    }
   ],
   "source": [
    "# 항구 최빈값으로 대체\n",
    "maxvalue = af['Embarked'].value_counts(dropna=True).idxmax()\n",
    "af['Embarked'].fillna(maxvalue, inplace=True)\n",
    "af.head()"
   ]
  },
  {
   "cell_type": "code",
   "execution_count": 99,
   "id": "0089db5c",
   "metadata": {},
   "outputs": [],
   "source": [
    "#### 나이 범주화\n",
    "def get_age(age):\n",
    "    cat = ''\n",
    "    if age < 5: cat='Baby'\n",
    "    elif age < 15: cat= 'Child'\n",
    "    elif age < 21: cat= 'Young Adult'\n",
    "    elif age < 49: cat='Adult'\n",
    "    elif age < 70: cat='Old'\n",
    "    else: cat = 'Elder'\n",
    "    return cat\n",
    "\n",
    "af['Age'] = af.Age.apply(lambda x: get_age(x))\n",
    "\n",
    "#### 가격 범주화\n",
    "def get_cate(fare):\n",
    "    cat=''\n",
    "    if fare<=15: cat='저가'\n",
    "    elif fare<=60: cat='중가'\n",
    "    elif fare<=200: cat='고가'\n",
    "    else: cat='프리미엄'\n",
    "    return cat\n",
    "\n",
    "af['Fare']=af.Fare.apply(lambda x: get_cate(x))"
   ]
  },
  {
   "cell_type": "code",
   "execution_count": 100,
   "id": "2e73f430",
   "metadata": {},
   "outputs": [
    {
     "data": {
      "text/html": [
       "<div>\n",
       "<style scoped>\n",
       "    .dataframe tbody tr th:only-of-type {\n",
       "        vertical-align: middle;\n",
       "    }\n",
       "\n",
       "    .dataframe tbody tr th {\n",
       "        vertical-align: top;\n",
       "    }\n",
       "\n",
       "    .dataframe thead th {\n",
       "        text-align: right;\n",
       "    }\n",
       "</style>\n",
       "<table border=\"1\" class=\"dataframe\">\n",
       "  <thead>\n",
       "    <tr style=\"text-align: right;\">\n",
       "      <th></th>\n",
       "      <th>Survived</th>\n",
       "      <th>Pclass</th>\n",
       "      <th>Sex</th>\n",
       "      <th>Age</th>\n",
       "      <th>Fare</th>\n",
       "      <th>Embarked</th>\n",
       "      <th>family</th>\n",
       "      <th>job</th>\n",
       "    </tr>\n",
       "  </thead>\n",
       "  <tbody>\n",
       "    <tr>\n",
       "      <th>0</th>\n",
       "      <td>0</td>\n",
       "      <td>3</td>\n",
       "      <td>male</td>\n",
       "      <td>Adult</td>\n",
       "      <td>저가</td>\n",
       "      <td>S</td>\n",
       "      <td>1</td>\n",
       "      <td>Mr</td>\n",
       "    </tr>\n",
       "    <tr>\n",
       "      <th>1</th>\n",
       "      <td>1</td>\n",
       "      <td>1</td>\n",
       "      <td>female</td>\n",
       "      <td>Adult</td>\n",
       "      <td>고가</td>\n",
       "      <td>C</td>\n",
       "      <td>1</td>\n",
       "      <td>Mrs</td>\n",
       "    </tr>\n",
       "    <tr>\n",
       "      <th>2</th>\n",
       "      <td>1</td>\n",
       "      <td>3</td>\n",
       "      <td>female</td>\n",
       "      <td>Adult</td>\n",
       "      <td>저가</td>\n",
       "      <td>S</td>\n",
       "      <td>0</td>\n",
       "      <td>Miss</td>\n",
       "    </tr>\n",
       "    <tr>\n",
       "      <th>3</th>\n",
       "      <td>1</td>\n",
       "      <td>1</td>\n",
       "      <td>female</td>\n",
       "      <td>Adult</td>\n",
       "      <td>중가</td>\n",
       "      <td>S</td>\n",
       "      <td>1</td>\n",
       "      <td>Mrs</td>\n",
       "    </tr>\n",
       "    <tr>\n",
       "      <th>4</th>\n",
       "      <td>0</td>\n",
       "      <td>3</td>\n",
       "      <td>male</td>\n",
       "      <td>Adult</td>\n",
       "      <td>저가</td>\n",
       "      <td>S</td>\n",
       "      <td>0</td>\n",
       "      <td>Mr</td>\n",
       "    </tr>\n",
       "    <tr>\n",
       "      <th>...</th>\n",
       "      <td>...</td>\n",
       "      <td>...</td>\n",
       "      <td>...</td>\n",
       "      <td>...</td>\n",
       "      <td>...</td>\n",
       "      <td>...</td>\n",
       "      <td>...</td>\n",
       "      <td>...</td>\n",
       "    </tr>\n",
       "    <tr>\n",
       "      <th>886</th>\n",
       "      <td>0</td>\n",
       "      <td>2</td>\n",
       "      <td>male</td>\n",
       "      <td>Adult</td>\n",
       "      <td>저가</td>\n",
       "      <td>S</td>\n",
       "      <td>0</td>\n",
       "      <td>Rev</td>\n",
       "    </tr>\n",
       "    <tr>\n",
       "      <th>887</th>\n",
       "      <td>1</td>\n",
       "      <td>1</td>\n",
       "      <td>female</td>\n",
       "      <td>Young Adult</td>\n",
       "      <td>중가</td>\n",
       "      <td>S</td>\n",
       "      <td>0</td>\n",
       "      <td>Miss</td>\n",
       "    </tr>\n",
       "    <tr>\n",
       "      <th>888</th>\n",
       "      <td>0</td>\n",
       "      <td>3</td>\n",
       "      <td>female</td>\n",
       "      <td>Elder</td>\n",
       "      <td>중가</td>\n",
       "      <td>S</td>\n",
       "      <td>3</td>\n",
       "      <td>Miss</td>\n",
       "    </tr>\n",
       "    <tr>\n",
       "      <th>889</th>\n",
       "      <td>1</td>\n",
       "      <td>1</td>\n",
       "      <td>male</td>\n",
       "      <td>Adult</td>\n",
       "      <td>중가</td>\n",
       "      <td>C</td>\n",
       "      <td>0</td>\n",
       "      <td>Mr</td>\n",
       "    </tr>\n",
       "    <tr>\n",
       "      <th>890</th>\n",
       "      <td>0</td>\n",
       "      <td>3</td>\n",
       "      <td>male</td>\n",
       "      <td>Adult</td>\n",
       "      <td>저가</td>\n",
       "      <td>Q</td>\n",
       "      <td>0</td>\n",
       "      <td>Mr</td>\n",
       "    </tr>\n",
       "  </tbody>\n",
       "</table>\n",
       "<p>891 rows × 8 columns</p>\n",
       "</div>"
      ],
      "text/plain": [
       "     Survived  Pclass     Sex          Age Fare Embarked  family   job\n",
       "0           0       3    male        Adult   저가        S       1    Mr\n",
       "1           1       1  female        Adult   고가        C       1   Mrs\n",
       "2           1       3  female        Adult   저가        S       0  Miss\n",
       "3           1       1  female        Adult   중가        S       1   Mrs\n",
       "4           0       3    male        Adult   저가        S       0    Mr\n",
       "..        ...     ...     ...          ...  ...      ...     ...   ...\n",
       "886         0       2    male        Adult   저가        S       0   Rev\n",
       "887         1       1  female  Young Adult   중가        S       0  Miss\n",
       "888         0       3  female        Elder   중가        S       3  Miss\n",
       "889         1       1    male        Adult   중가        C       0    Mr\n",
       "890         0       3    male        Adult   저가        Q       0    Mr\n",
       "\n",
       "[891 rows x 8 columns]"
      ]
     },
     "execution_count": 100,
     "metadata": {},
     "output_type": "execute_result"
    }
   ],
   "source": [
    "af"
   ]
  },
  {
   "cell_type": "code",
   "execution_count": 101,
   "id": "88086c9a",
   "metadata": {},
   "outputs": [],
   "source": [
    "# 원핫 인코딩\n",
    "ef = pd.get_dummies(af, columns=['job'])\n",
    "ef = pd.get_dummies(ef, columns=['Sex'])\n",
    "ef = pd.get_dummies(ef, columns=['Embarked'])\n",
    "ef = pd.get_dummies(ef, columns=['Age'])\n",
    "ef = pd.get_dummies(ef, columns=['Fare'])"
   ]
  },
  {
   "cell_type": "code",
   "execution_count": 102,
   "id": "40309a21",
   "metadata": {},
   "outputs": [
    {
     "data": {
      "text/html": [
       "<div>\n",
       "<style scoped>\n",
       "    .dataframe tbody tr th:only-of-type {\n",
       "        vertical-align: middle;\n",
       "    }\n",
       "\n",
       "    .dataframe tbody tr th {\n",
       "        vertical-align: top;\n",
       "    }\n",
       "\n",
       "    .dataframe thead th {\n",
       "        text-align: right;\n",
       "    }\n",
       "</style>\n",
       "<table border=\"1\" class=\"dataframe\">\n",
       "  <thead>\n",
       "    <tr style=\"text-align: right;\">\n",
       "      <th></th>\n",
       "      <th>Survived</th>\n",
       "      <th>Pclass</th>\n",
       "      <th>family</th>\n",
       "      <th>job_Capt</th>\n",
       "      <th>job_Col</th>\n",
       "      <th>job_Don</th>\n",
       "      <th>job_Dr</th>\n",
       "      <th>job_Jonkheer</th>\n",
       "      <th>job_Lady</th>\n",
       "      <th>job_Major</th>\n",
       "      <th>...</th>\n",
       "      <th>Age_Adult</th>\n",
       "      <th>Age_Baby</th>\n",
       "      <th>Age_Child</th>\n",
       "      <th>Age_Elder</th>\n",
       "      <th>Age_Old</th>\n",
       "      <th>Age_Young Adult</th>\n",
       "      <th>Fare_고가</th>\n",
       "      <th>Fare_저가</th>\n",
       "      <th>Fare_중가</th>\n",
       "      <th>Fare_프리미엄</th>\n",
       "    </tr>\n",
       "  </thead>\n",
       "  <tbody>\n",
       "    <tr>\n",
       "      <th>0</th>\n",
       "      <td>0</td>\n",
       "      <td>3</td>\n",
       "      <td>1</td>\n",
       "      <td>0</td>\n",
       "      <td>0</td>\n",
       "      <td>0</td>\n",
       "      <td>0</td>\n",
       "      <td>0</td>\n",
       "      <td>0</td>\n",
       "      <td>0</td>\n",
       "      <td>...</td>\n",
       "      <td>1</td>\n",
       "      <td>0</td>\n",
       "      <td>0</td>\n",
       "      <td>0</td>\n",
       "      <td>0</td>\n",
       "      <td>0</td>\n",
       "      <td>0</td>\n",
       "      <td>1</td>\n",
       "      <td>0</td>\n",
       "      <td>0</td>\n",
       "    </tr>\n",
       "    <tr>\n",
       "      <th>1</th>\n",
       "      <td>1</td>\n",
       "      <td>1</td>\n",
       "      <td>1</td>\n",
       "      <td>0</td>\n",
       "      <td>0</td>\n",
       "      <td>0</td>\n",
       "      <td>0</td>\n",
       "      <td>0</td>\n",
       "      <td>0</td>\n",
       "      <td>0</td>\n",
       "      <td>...</td>\n",
       "      <td>1</td>\n",
       "      <td>0</td>\n",
       "      <td>0</td>\n",
       "      <td>0</td>\n",
       "      <td>0</td>\n",
       "      <td>0</td>\n",
       "      <td>1</td>\n",
       "      <td>0</td>\n",
       "      <td>0</td>\n",
       "      <td>0</td>\n",
       "    </tr>\n",
       "    <tr>\n",
       "      <th>2</th>\n",
       "      <td>1</td>\n",
       "      <td>3</td>\n",
       "      <td>0</td>\n",
       "      <td>0</td>\n",
       "      <td>0</td>\n",
       "      <td>0</td>\n",
       "      <td>0</td>\n",
       "      <td>0</td>\n",
       "      <td>0</td>\n",
       "      <td>0</td>\n",
       "      <td>...</td>\n",
       "      <td>1</td>\n",
       "      <td>0</td>\n",
       "      <td>0</td>\n",
       "      <td>0</td>\n",
       "      <td>0</td>\n",
       "      <td>0</td>\n",
       "      <td>0</td>\n",
       "      <td>1</td>\n",
       "      <td>0</td>\n",
       "      <td>0</td>\n",
       "    </tr>\n",
       "    <tr>\n",
       "      <th>3</th>\n",
       "      <td>1</td>\n",
       "      <td>1</td>\n",
       "      <td>1</td>\n",
       "      <td>0</td>\n",
       "      <td>0</td>\n",
       "      <td>0</td>\n",
       "      <td>0</td>\n",
       "      <td>0</td>\n",
       "      <td>0</td>\n",
       "      <td>0</td>\n",
       "      <td>...</td>\n",
       "      <td>1</td>\n",
       "      <td>0</td>\n",
       "      <td>0</td>\n",
       "      <td>0</td>\n",
       "      <td>0</td>\n",
       "      <td>0</td>\n",
       "      <td>0</td>\n",
       "      <td>0</td>\n",
       "      <td>1</td>\n",
       "      <td>0</td>\n",
       "    </tr>\n",
       "    <tr>\n",
       "      <th>4</th>\n",
       "      <td>0</td>\n",
       "      <td>3</td>\n",
       "      <td>0</td>\n",
       "      <td>0</td>\n",
       "      <td>0</td>\n",
       "      <td>0</td>\n",
       "      <td>0</td>\n",
       "      <td>0</td>\n",
       "      <td>0</td>\n",
       "      <td>0</td>\n",
       "      <td>...</td>\n",
       "      <td>1</td>\n",
       "      <td>0</td>\n",
       "      <td>0</td>\n",
       "      <td>0</td>\n",
       "      <td>0</td>\n",
       "      <td>0</td>\n",
       "      <td>0</td>\n",
       "      <td>1</td>\n",
       "      <td>0</td>\n",
       "      <td>0</td>\n",
       "    </tr>\n",
       "    <tr>\n",
       "      <th>...</th>\n",
       "      <td>...</td>\n",
       "      <td>...</td>\n",
       "      <td>...</td>\n",
       "      <td>...</td>\n",
       "      <td>...</td>\n",
       "      <td>...</td>\n",
       "      <td>...</td>\n",
       "      <td>...</td>\n",
       "      <td>...</td>\n",
       "      <td>...</td>\n",
       "      <td>...</td>\n",
       "      <td>...</td>\n",
       "      <td>...</td>\n",
       "      <td>...</td>\n",
       "      <td>...</td>\n",
       "      <td>...</td>\n",
       "      <td>...</td>\n",
       "      <td>...</td>\n",
       "      <td>...</td>\n",
       "      <td>...</td>\n",
       "      <td>...</td>\n",
       "    </tr>\n",
       "    <tr>\n",
       "      <th>886</th>\n",
       "      <td>0</td>\n",
       "      <td>2</td>\n",
       "      <td>0</td>\n",
       "      <td>0</td>\n",
       "      <td>0</td>\n",
       "      <td>0</td>\n",
       "      <td>0</td>\n",
       "      <td>0</td>\n",
       "      <td>0</td>\n",
       "      <td>0</td>\n",
       "      <td>...</td>\n",
       "      <td>1</td>\n",
       "      <td>0</td>\n",
       "      <td>0</td>\n",
       "      <td>0</td>\n",
       "      <td>0</td>\n",
       "      <td>0</td>\n",
       "      <td>0</td>\n",
       "      <td>1</td>\n",
       "      <td>0</td>\n",
       "      <td>0</td>\n",
       "    </tr>\n",
       "    <tr>\n",
       "      <th>887</th>\n",
       "      <td>1</td>\n",
       "      <td>1</td>\n",
       "      <td>0</td>\n",
       "      <td>0</td>\n",
       "      <td>0</td>\n",
       "      <td>0</td>\n",
       "      <td>0</td>\n",
       "      <td>0</td>\n",
       "      <td>0</td>\n",
       "      <td>0</td>\n",
       "      <td>...</td>\n",
       "      <td>0</td>\n",
       "      <td>0</td>\n",
       "      <td>0</td>\n",
       "      <td>0</td>\n",
       "      <td>0</td>\n",
       "      <td>1</td>\n",
       "      <td>0</td>\n",
       "      <td>0</td>\n",
       "      <td>1</td>\n",
       "      <td>0</td>\n",
       "    </tr>\n",
       "    <tr>\n",
       "      <th>888</th>\n",
       "      <td>0</td>\n",
       "      <td>3</td>\n",
       "      <td>3</td>\n",
       "      <td>0</td>\n",
       "      <td>0</td>\n",
       "      <td>0</td>\n",
       "      <td>0</td>\n",
       "      <td>0</td>\n",
       "      <td>0</td>\n",
       "      <td>0</td>\n",
       "      <td>...</td>\n",
       "      <td>0</td>\n",
       "      <td>0</td>\n",
       "      <td>0</td>\n",
       "      <td>1</td>\n",
       "      <td>0</td>\n",
       "      <td>0</td>\n",
       "      <td>0</td>\n",
       "      <td>0</td>\n",
       "      <td>1</td>\n",
       "      <td>0</td>\n",
       "    </tr>\n",
       "    <tr>\n",
       "      <th>889</th>\n",
       "      <td>1</td>\n",
       "      <td>1</td>\n",
       "      <td>0</td>\n",
       "      <td>0</td>\n",
       "      <td>0</td>\n",
       "      <td>0</td>\n",
       "      <td>0</td>\n",
       "      <td>0</td>\n",
       "      <td>0</td>\n",
       "      <td>0</td>\n",
       "      <td>...</td>\n",
       "      <td>1</td>\n",
       "      <td>0</td>\n",
       "      <td>0</td>\n",
       "      <td>0</td>\n",
       "      <td>0</td>\n",
       "      <td>0</td>\n",
       "      <td>0</td>\n",
       "      <td>0</td>\n",
       "      <td>1</td>\n",
       "      <td>0</td>\n",
       "    </tr>\n",
       "    <tr>\n",
       "      <th>890</th>\n",
       "      <td>0</td>\n",
       "      <td>3</td>\n",
       "      <td>0</td>\n",
       "      <td>0</td>\n",
       "      <td>0</td>\n",
       "      <td>0</td>\n",
       "      <td>0</td>\n",
       "      <td>0</td>\n",
       "      <td>0</td>\n",
       "      <td>0</td>\n",
       "      <td>...</td>\n",
       "      <td>1</td>\n",
       "      <td>0</td>\n",
       "      <td>0</td>\n",
       "      <td>0</td>\n",
       "      <td>0</td>\n",
       "      <td>0</td>\n",
       "      <td>0</td>\n",
       "      <td>1</td>\n",
       "      <td>0</td>\n",
       "      <td>0</td>\n",
       "    </tr>\n",
       "  </tbody>\n",
       "</table>\n",
       "<p>891 rows × 35 columns</p>\n",
       "</div>"
      ],
      "text/plain": [
       "     Survived  Pclass  family  job_Capt  job_Col  job_Don  job_Dr  \\\n",
       "0           0       3       1         0        0        0       0   \n",
       "1           1       1       1         0        0        0       0   \n",
       "2           1       3       0         0        0        0       0   \n",
       "3           1       1       1         0        0        0       0   \n",
       "4           0       3       0         0        0        0       0   \n",
       "..        ...     ...     ...       ...      ...      ...     ...   \n",
       "886         0       2       0         0        0        0       0   \n",
       "887         1       1       0         0        0        0       0   \n",
       "888         0       3       3         0        0        0       0   \n",
       "889         1       1       0         0        0        0       0   \n",
       "890         0       3       0         0        0        0       0   \n",
       "\n",
       "     job_Jonkheer  job_Lady  job_Major  ...  Age_Adult  Age_Baby  Age_Child  \\\n",
       "0               0         0          0  ...          1         0          0   \n",
       "1               0         0          0  ...          1         0          0   \n",
       "2               0         0          0  ...          1         0          0   \n",
       "3               0         0          0  ...          1         0          0   \n",
       "4               0         0          0  ...          1         0          0   \n",
       "..            ...       ...        ...  ...        ...       ...        ...   \n",
       "886             0         0          0  ...          1         0          0   \n",
       "887             0         0          0  ...          0         0          0   \n",
       "888             0         0          0  ...          0         0          0   \n",
       "889             0         0          0  ...          1         0          0   \n",
       "890             0         0          0  ...          1         0          0   \n",
       "\n",
       "     Age_Elder  Age_Old  Age_Young Adult  Fare_고가  Fare_저가  Fare_중가  Fare_프리미엄  \n",
       "0            0        0                0        0        1        0          0  \n",
       "1            0        0                0        1        0        0          0  \n",
       "2            0        0                0        0        1        0          0  \n",
       "3            0        0                0        0        0        1          0  \n",
       "4            0        0                0        0        1        0          0  \n",
       "..         ...      ...              ...      ...      ...      ...        ...  \n",
       "886          0        0                0        0        1        0          0  \n",
       "887          0        0                1        0        0        1          0  \n",
       "888          1        0                0        0        0        1          0  \n",
       "889          0        0                0        0        0        1          0  \n",
       "890          0        0                0        0        1        0          0  \n",
       "\n",
       "[891 rows x 35 columns]"
      ]
     },
     "execution_count": 102,
     "metadata": {},
     "output_type": "execute_result"
    }
   ],
   "source": [
    "ef"
   ]
  },
  {
   "cell_type": "code",
   "execution_count": 103,
   "id": "c006e954",
   "metadata": {},
   "outputs": [],
   "source": [
    "# 원본 데이터를 재로딩 하고, feature데이터 셋과 Label 데이터 셋 추출. \n",
    "df = pd.read_csv(r'C:\\Users\\h\\hmkd1\\mc_data\\train.csv')\n",
    "\n",
    "ydf = df['Survived']\n",
    "xdf = ef.drop('Survived',axis=1)"
   ]
  },
  {
   "cell_type": "code",
   "execution_count": 104,
   "id": "7260263f",
   "metadata": {},
   "outputs": [],
   "source": [
    "from sklearn.model_selection import train_test_split\n",
    "\n",
    "x_train, x_test, y_train, y_test = train_test_split(xdf, ydf,\n",
    "                              test_size=0.2, random_state=121)"
   ]
  },
  {
   "cell_type": "code",
   "execution_count": 105,
   "id": "b7610155",
   "metadata": {},
   "outputs": [
    {
     "name": "stdout",
     "output_type": "stream",
     "text": [
      "DecisionTreeClassifier 정확도: 0.7877\n"
     ]
    }
   ],
   "source": [
    "dtree = DecisionTreeClassifier(random_state=121)\n",
    "\n",
    "dtree.fit(x_train , y_train)\n",
    "pred = dtree.predict(x_test)\n",
    "\n",
    "acc = accuracy_score(y_test, pred)\n",
    "print(f'DecisionTreeClassifier 정확도: {acc:.4f}')"
   ]
  },
  {
   "cell_type": "code",
   "execution_count": 106,
   "id": "96dbb273",
   "metadata": {
    "scrolled": true
   },
   "outputs": [
    {
     "name": "stdout",
     "output_type": "stream",
     "text": [
      "교차 검증 1. 정확도: 0.7709\n",
      "교차 검증 2. 정확도: 0.7865\n",
      "교차 검증 3. 정확도: 0.7978\n",
      "교차 검증 4. 정확도: 0.7865\n",
      "교차 검증 5. 정확도: 0.7978\n",
      "평균 정확도: 0.7879\n"
     ]
    }
   ],
   "source": [
    "from sklearn.model_selection import cross_val_score\n",
    "\n",
    "scores = cross_val_score(dtree, xdf , ydf , cv=5)\n",
    "count=0\n",
    "\n",
    "for acc in scores:\n",
    "    count+=1\n",
    "    accuracy = accuracy_score(y_test, pred)\n",
    "    print(\"교차 검증 {0}. 정확도: {1:.4f}\".format(count, acc))\n",
    "\n",
    "print(\"평균 정확도: {0:.4f}\".format(np.mean(scores)))"
   ]
  },
  {
   "cell_type": "code",
   "execution_count": 107,
   "id": "00431910",
   "metadata": {
    "scrolled": true
   },
   "outputs": [
    {
     "name": "stdout",
     "output_type": "stream",
     "text": [
      "GridSearchCV 최적 파라미터: {'max_depth': 5, 'min_samples_split': 2}\n",
      "GridSearchCV 최고 정확도: 0.8104\n",
      "테스트 데이터 세트 정확도: 0.7877\n"
     ]
    },
    {
     "data": {
      "text/html": [
       "<div>\n",
       "<style scoped>\n",
       "    .dataframe tbody tr th:only-of-type {\n",
       "        vertical-align: middle;\n",
       "    }\n",
       "\n",
       "    .dataframe tbody tr th {\n",
       "        vertical-align: top;\n",
       "    }\n",
       "\n",
       "    .dataframe thead th {\n",
       "        text-align: right;\n",
       "    }\n",
       "</style>\n",
       "<table border=\"1\" class=\"dataframe\">\n",
       "  <thead>\n",
       "    <tr style=\"text-align: right;\">\n",
       "      <th></th>\n",
       "      <th>params</th>\n",
       "      <th>mean_test_score</th>\n",
       "      <th>rank_test_score</th>\n",
       "      <th>split0_test_score</th>\n",
       "      <th>split1_test_score</th>\n",
       "      <th>split2_test_score</th>\n",
       "    </tr>\n",
       "  </thead>\n",
       "  <tbody>\n",
       "    <tr>\n",
       "      <th>0</th>\n",
       "      <td>{'max_depth': 1, 'min_samples_split': 2}</td>\n",
       "      <td>0.800577</td>\n",
       "      <td>5</td>\n",
       "      <td>0.789916</td>\n",
       "      <td>0.810127</td>\n",
       "      <td>0.801688</td>\n",
       "    </tr>\n",
       "    <tr>\n",
       "      <th>1</th>\n",
       "      <td>{'max_depth': 1, 'min_samples_split': 3}</td>\n",
       "      <td>0.800577</td>\n",
       "      <td>5</td>\n",
       "      <td>0.789916</td>\n",
       "      <td>0.810127</td>\n",
       "      <td>0.801688</td>\n",
       "    </tr>\n",
       "    <tr>\n",
       "      <th>2</th>\n",
       "      <td>{'max_depth': 5, 'min_samples_split': 2}</td>\n",
       "      <td>0.810404</td>\n",
       "      <td>1</td>\n",
       "      <td>0.802521</td>\n",
       "      <td>0.801688</td>\n",
       "      <td>0.827004</td>\n",
       "    </tr>\n",
       "    <tr>\n",
       "      <th>3</th>\n",
       "      <td>{'max_depth': 5, 'min_samples_split': 3}</td>\n",
       "      <td>0.810404</td>\n",
       "      <td>1</td>\n",
       "      <td>0.802521</td>\n",
       "      <td>0.801688</td>\n",
       "      <td>0.827004</td>\n",
       "    </tr>\n",
       "    <tr>\n",
       "      <th>4</th>\n",
       "      <td>{'max_depth': 10, 'min_samples_split': 2}</td>\n",
       "      <td>0.804778</td>\n",
       "      <td>4</td>\n",
       "      <td>0.802521</td>\n",
       "      <td>0.810127</td>\n",
       "      <td>0.801688</td>\n",
       "    </tr>\n",
       "    <tr>\n",
       "      <th>5</th>\n",
       "      <td>{'max_depth': 10, 'min_samples_split': 3}</td>\n",
       "      <td>0.806185</td>\n",
       "      <td>3</td>\n",
       "      <td>0.802521</td>\n",
       "      <td>0.814346</td>\n",
       "      <td>0.801688</td>\n",
       "    </tr>\n",
       "  </tbody>\n",
       "</table>\n",
       "</div>"
      ],
      "text/plain": [
       "                                      params  mean_test_score  \\\n",
       "0   {'max_depth': 1, 'min_samples_split': 2}         0.800577   \n",
       "1   {'max_depth': 1, 'min_samples_split': 3}         0.800577   \n",
       "2   {'max_depth': 5, 'min_samples_split': 2}         0.810404   \n",
       "3   {'max_depth': 5, 'min_samples_split': 3}         0.810404   \n",
       "4  {'max_depth': 10, 'min_samples_split': 2}         0.804778   \n",
       "5  {'max_depth': 10, 'min_samples_split': 3}         0.806185   \n",
       "\n",
       "   rank_test_score  split0_test_score  split1_test_score  split2_test_score  \n",
       "0                5           0.789916           0.810127           0.801688  \n",
       "1                5           0.789916           0.810127           0.801688  \n",
       "2                1           0.802521           0.801688           0.827004  \n",
       "3                1           0.802521           0.801688           0.827004  \n",
       "4                4           0.802521           0.810127           0.801688  \n",
       "5                3           0.802521           0.814346           0.801688  "
      ]
     },
     "execution_count": 107,
     "metadata": {},
     "output_type": "execute_result"
    }
   ],
   "source": [
    "parameters = {'max_depth':[1,5,10], 'min_samples_split':[2,3]}\n",
    "gtree = GridSearchCV(dtree, param_grid=parameters, cv=3, refit=True)\n",
    "\n",
    "x_train, x_test, y_train, y_test = train_test_split(xdf, ydf,\n",
    "                              test_size=0.2, random_state=121)\n",
    "gtree.fit(x_train, y_train)\n",
    "\n",
    "estimator = gtree.best_estimator_\n",
    "pred = estimator.predict(x_test)\n",
    "acc = accuracy_score(y_test,pred)\n",
    "\n",
    "print('GridSearchCV 최적 파라미터:', gtree.best_params_)\n",
    "print('GridSearchCV 최고 정확도: {0:.4f}'.format(gtree.best_score_))\n",
    "print(f'테스트 데이터 세트 정확도: {acc:.4f}')\n",
    "\n",
    "df = pd.DataFrame(gtree.cv_results_)\n",
    "df[['params', 'mean_test_score', 'rank_test_score',\n",
    "           'split0_test_score', 'split1_test_score', 'split2_test_score']]"
   ]
  },
  {
   "cell_type": "code",
   "execution_count": null,
   "id": "a0c427de",
   "metadata": {},
   "outputs": [],
   "source": []
  },
  {
   "cell_type": "code",
   "execution_count": null,
   "id": "99ce7d1c",
   "metadata": {},
   "outputs": [],
   "source": []
  },
  {
   "cell_type": "code",
   "execution_count": null,
   "id": "f6a9cb28",
   "metadata": {},
   "outputs": [],
   "source": []
  },
  {
   "cell_type": "code",
   "execution_count": null,
   "id": "463937a4",
   "metadata": {},
   "outputs": [],
   "source": []
  },
  {
   "cell_type": "code",
   "execution_count": null,
   "id": "ad6969ab",
   "metadata": {},
   "outputs": [],
   "source": []
  },
  {
   "cell_type": "markdown",
   "id": "2629ce06",
   "metadata": {},
   "source": [
    "#### 과제(1): 타이타닉 타이타닉 데이터셋에 대해 필요한 전처리 수행 후 랜덤포레스트 알고리즘을 적용, 평가, 성능개선(하이퍼 파라미터 튜닝/ 교재 218p)을 수행"
   ]
  },
  {
   "cell_type": "code",
   "execution_count": 144,
   "id": "fb75458e",
   "metadata": {},
   "outputs": [
    {
     "data": {
      "text/html": [
       "<div>\n",
       "<style scoped>\n",
       "    .dataframe tbody tr th:only-of-type {\n",
       "        vertical-align: middle;\n",
       "    }\n",
       "\n",
       "    .dataframe tbody tr th {\n",
       "        vertical-align: top;\n",
       "    }\n",
       "\n",
       "    .dataframe thead th {\n",
       "        text-align: right;\n",
       "    }\n",
       "</style>\n",
       "<table border=\"1\" class=\"dataframe\">\n",
       "  <thead>\n",
       "    <tr style=\"text-align: right;\">\n",
       "      <th></th>\n",
       "      <th>Survived</th>\n",
       "      <th>Pclass</th>\n",
       "      <th>Name</th>\n",
       "      <th>Sex</th>\n",
       "      <th>Age</th>\n",
       "      <th>Fare</th>\n",
       "      <th>Cabin</th>\n",
       "      <th>Embarked</th>\n",
       "      <th>Family</th>\n",
       "    </tr>\n",
       "  </thead>\n",
       "  <tbody>\n",
       "    <tr>\n",
       "      <th>0</th>\n",
       "      <td>0</td>\n",
       "      <td>3</td>\n",
       "      <td>11</td>\n",
       "      <td>1</td>\n",
       "      <td>0</td>\n",
       "      <td>1</td>\n",
       "      <td>7</td>\n",
       "      <td>2</td>\n",
       "      <td>1</td>\n",
       "    </tr>\n",
       "    <tr>\n",
       "      <th>1</th>\n",
       "      <td>1</td>\n",
       "      <td>1</td>\n",
       "      <td>12</td>\n",
       "      <td>0</td>\n",
       "      <td>0</td>\n",
       "      <td>0</td>\n",
       "      <td>2</td>\n",
       "      <td>0</td>\n",
       "      <td>1</td>\n",
       "    </tr>\n",
       "    <tr>\n",
       "      <th>2</th>\n",
       "      <td>1</td>\n",
       "      <td>3</td>\n",
       "      <td>8</td>\n",
       "      <td>0</td>\n",
       "      <td>0</td>\n",
       "      <td>1</td>\n",
       "      <td>7</td>\n",
       "      <td>2</td>\n",
       "      <td>0</td>\n",
       "    </tr>\n",
       "    <tr>\n",
       "      <th>3</th>\n",
       "      <td>1</td>\n",
       "      <td>1</td>\n",
       "      <td>12</td>\n",
       "      <td>0</td>\n",
       "      <td>0</td>\n",
       "      <td>2</td>\n",
       "      <td>2</td>\n",
       "      <td>2</td>\n",
       "      <td>1</td>\n",
       "    </tr>\n",
       "    <tr>\n",
       "      <th>4</th>\n",
       "      <td>0</td>\n",
       "      <td>3</td>\n",
       "      <td>11</td>\n",
       "      <td>1</td>\n",
       "      <td>0</td>\n",
       "      <td>1</td>\n",
       "      <td>7</td>\n",
       "      <td>2</td>\n",
       "      <td>0</td>\n",
       "    </tr>\n",
       "    <tr>\n",
       "      <th>...</th>\n",
       "      <td>...</td>\n",
       "      <td>...</td>\n",
       "      <td>...</td>\n",
       "      <td>...</td>\n",
       "      <td>...</td>\n",
       "      <td>...</td>\n",
       "      <td>...</td>\n",
       "      <td>...</td>\n",
       "      <td>...</td>\n",
       "    </tr>\n",
       "    <tr>\n",
       "      <th>886</th>\n",
       "      <td>0</td>\n",
       "      <td>2</td>\n",
       "      <td>14</td>\n",
       "      <td>1</td>\n",
       "      <td>0</td>\n",
       "      <td>1</td>\n",
       "      <td>7</td>\n",
       "      <td>2</td>\n",
       "      <td>0</td>\n",
       "    </tr>\n",
       "    <tr>\n",
       "      <th>887</th>\n",
       "      <td>1</td>\n",
       "      <td>1</td>\n",
       "      <td>8</td>\n",
       "      <td>0</td>\n",
       "      <td>5</td>\n",
       "      <td>2</td>\n",
       "      <td>1</td>\n",
       "      <td>2</td>\n",
       "      <td>0</td>\n",
       "    </tr>\n",
       "    <tr>\n",
       "      <th>888</th>\n",
       "      <td>0</td>\n",
       "      <td>3</td>\n",
       "      <td>8</td>\n",
       "      <td>0</td>\n",
       "      <td>0</td>\n",
       "      <td>2</td>\n",
       "      <td>7</td>\n",
       "      <td>2</td>\n",
       "      <td>3</td>\n",
       "    </tr>\n",
       "    <tr>\n",
       "      <th>889</th>\n",
       "      <td>1</td>\n",
       "      <td>1</td>\n",
       "      <td>11</td>\n",
       "      <td>1</td>\n",
       "      <td>0</td>\n",
       "      <td>2</td>\n",
       "      <td>2</td>\n",
       "      <td>0</td>\n",
       "      <td>0</td>\n",
       "    </tr>\n",
       "    <tr>\n",
       "      <th>890</th>\n",
       "      <td>0</td>\n",
       "      <td>3</td>\n",
       "      <td>11</td>\n",
       "      <td>1</td>\n",
       "      <td>0</td>\n",
       "      <td>1</td>\n",
       "      <td>7</td>\n",
       "      <td>1</td>\n",
       "      <td>0</td>\n",
       "    </tr>\n",
       "  </tbody>\n",
       "</table>\n",
       "<p>891 rows × 9 columns</p>\n",
       "</div>"
      ],
      "text/plain": [
       "     Survived  Pclass  Name  Sex  Age  Fare  Cabin  Embarked  Family\n",
       "0           0       3    11    1    0     1      7         2       1\n",
       "1           1       1    12    0    0     0      2         0       1\n",
       "2           1       3     8    0    0     1      7         2       0\n",
       "3           1       1    12    0    0     2      2         2       1\n",
       "4           0       3    11    1    0     1      7         2       0\n",
       "..        ...     ...   ...  ...  ...   ...    ...       ...     ...\n",
       "886         0       2    14    1    0     1      7         2       0\n",
       "887         1       1     8    0    5     2      1         2       0\n",
       "888         0       3     8    0    0     2      7         2       3\n",
       "889         1       1    11    1    0     2      2         0       0\n",
       "890         0       3    11    1    0     1      7         1       0\n",
       "\n",
       "[891 rows x 9 columns]"
      ]
     },
     "execution_count": 144,
     "metadata": {},
     "output_type": "execute_result"
    }
   ],
   "source": [
    "# 일괄 전처리: trans() 함수\n",
    "df = pd.read_csv(r'C:\\Users\\h\\hmkd1\\mc_data\\train.csv')\n",
    "df = trans(df)\n",
    "df"
   ]
  },
  {
   "cell_type": "code",
   "execution_count": 145,
   "id": "d630faad",
   "metadata": {},
   "outputs": [
    {
     "name": "stdout",
     "output_type": "stream",
     "text": [
      "랜덤포레스트 정확도: 0.7989\n"
     ]
    }
   ],
   "source": [
    "from sklearn.ensemble import RandomForestClassifier\n",
    "\n",
    "ydf = df.Survived\n",
    "xdf = df.drop('Survived', axis=1)\n",
    "\n",
    "x_train, x_test, y_train, y_test = train_test_split(xdf, ydf, test_size=0.2, random_state=21)\n",
    "\n",
    "rf = RandomForestClassifier()\n",
    "rf.fit(x_train, y_train)\n",
    "\n",
    "pred = rf.predict(x_test)\n",
    "acc = accuracy_score(y_test, pred)\n",
    "print(f'랜덤포레스트 정확도: {acc:.4f}')"
   ]
  },
  {
   "cell_type": "code",
   "execution_count": 110,
   "id": "39969917",
   "metadata": {},
   "outputs": [
    {
     "name": "stdout",
     "output_type": "stream",
     "text": [
      "최적 하이퍼 파라미터: \n",
      "{'max_depth': 6, 'min_samples_leaf': 3, 'min_samples_split': 13, 'n_estimators': 7}\n",
      "최고 예측 정확도: 0.8440953412784399\n"
     ]
    }
   ],
   "source": [
    "from sklearn.model_selection import GridSearchCV\n",
    "\n",
    "params = {\n",
    "    'max_depth': [4,6,8,10],\n",
    "    'min_samples_leaf': [1,3,5,6],\n",
    "    'min_samples_split': [5,9,13,16],\n",
    "    'n_estimators': [i for i in range(1,21)]  }\n",
    "\n",
    "rf = RandomForestClassifier(random_state=21, n_jobs=-1)\n",
    "grid = GridSearchCV(rf, param_grid=params, cv=5, n_jobs=-1)\n",
    "grid.fit(x_train, y_train)\n",
    "\n",
    "print(f'최적 하이퍼 파라미터: \\n{grid.best_params_}')\n",
    "# 각 파라미터 리스트 중 가장 최적의 값을 알려줌\n",
    "\n",
    "print(f'최고 예측 정확도: {grid.best_score_}')"
   ]
  },
  {
   "cell_type": "markdown",
   "id": "74cba158",
   "metadata": {},
   "source": [
    "#### 위에서 n_estimators값을 변화시켜 가며 출력\n",
    "- 첫 번째 결과 -> 6,1,16,50\n",
    "- 두 번재 결과 -> 8,3,5,10\n",
    "- 세 번재 결과 -> 6,5,13,20\n",
    "- 네 번째 결과 -> 6,3,13,7"
   ]
  },
  {
   "cell_type": "code",
   "execution_count": 146,
   "id": "29017e18",
   "metadata": {
    "scrolled": true
   },
   "outputs": [
    {
     "name": "stdout",
     "output_type": "stream",
     "text": [
      "#<1> [50, 6, 1, 16]일때, accuracy=0.8044692737430168\n",
      "#<2> [10, 8, 3, 5]일때, accuracy=0.8100558659217877\n",
      "#<3> [20, 6, 5, 13]일때, accuracy=0.8156424581005587\n",
      "#<4> [7, 6, 3, 13]일때, accuracy=0.8212290502793296\n",
      "\n",
      "4번 세트에서 accuracy=0.8212290502793296로 가장 큰 값을 가짐\n"
     ]
    }
   ],
   "source": [
    "# 위에서 나온 결과들 중 최적 찾기\n",
    "hipa = [[50,6,1,16],[10,8,3,5],[20,6,5,13],[7,6,3,13]]\n",
    "acc_li=[]\n",
    "\n",
    "for i in hipa:\n",
    "    new_rf = RandomForestClassifier(n_estimators=i[0],\n",
    "                    max_depth=i[1], min_samples_leaf=i[2], min_samples_split=i[3],\n",
    "                    random_state=21, n_jobs=-1)\n",
    "    new_rf.fit(x_train, y_train)\n",
    "    pred = new_rf.predict(x_test)\n",
    "\n",
    "    acc = accuracy_score(y_test, pred)\n",
    "    acc_li.append(acc)\n",
    "    print(f'#<{len(acc_li)}> {i}일때, accuracy={acc}')\n",
    "\n",
    "print(f'\\n{acc_li.index(max(acc_li))+1}번 세트에서 accuracy={max(acc_li)}로 가장 큰 값을 가짐')"
   ]
  },
  {
   "cell_type": "code",
   "execution_count": 112,
   "id": "5c87ff12",
   "metadata": {},
   "outputs": [
    {
     "name": "stdout",
     "output_type": "stream",
     "text": [
      "#<1> max_features=3일때, accuracy=0.8212290502793296로 가장 높음\n",
      "#<2> max_features=1일때, accuracy=0.8268156424581006로 가장 높음\n",
      "#<3> max_features=3일때, accuracy=0.8379888268156425로 가장 높음\n",
      "#<4> max_features=4일때, accuracy=0.8268156424581006로 가장 높음\n"
     ]
    }
   ],
   "source": [
    "# max_features 조정하기 (1~8개)\n",
    "for index,k in enumerate(hipa):\n",
    "    acc_li=[]\n",
    "    for i in range(1,8):\n",
    "        new_rf = RandomForestClassifier(n_estimators=k[0], max_features=i,\n",
    "                        max_depth=k[1], min_samples_leaf=k[2], min_samples_split=k[3],\n",
    "                        random_state=21, n_jobs=-1)\n",
    "        new_rf.fit(x_train, y_train)\n",
    "        pred = new_rf.predict(x_test)\n",
    "\n",
    "        acc_li.append(accuracy_score(y_test, pred))\n",
    "    print(f\"#<{index+1}> max_features={acc_li.index(max(acc_li))+1}일때, accuracy={max(acc_li)}로 가장 높음\")\n",
    "    \n",
    "# 3번 세트의 max_features=3일때 정확도가 가장 높음"
   ]
  },
  {
   "cell_type": "code",
   "execution_count": 147,
   "id": "5a70eb5a",
   "metadata": {},
   "outputs": [
    {
     "name": "stdout",
     "output_type": "stream",
     "text": [
      "최적화를 마친 랜덤포레스트 정확도: 0.8380\n"
     ]
    }
   ],
   "source": [
    "# 최종(3번 세트/ max_features=3)\n",
    "new_rf = RandomForestClassifier(n_estimators=20, max_features=3,\n",
    "            max_depth=6, min_samples_leaf=5, min_samples_split=13,\n",
    "            random_state=21, n_jobs=-1)\n",
    "new_rf.fit(x_train, y_train)\n",
    "pred = new_rf.predict(x_test)\n",
    "\n",
    "acc = accuracy_score(y_test, pred)\n",
    "print(f'최적화를 마친 랜덤포레스트 정확도: {acc:.4f}')"
   ]
  },
  {
   "cell_type": "markdown",
   "id": "949853c1",
   "metadata": {},
   "source": [
    "- n_estimators: 랜덤포레스트에서 결정트리 개수를 지정(디폴트=10)\n",
    "    - 높을수록 성능 향상/ 단, 무조건은x 학습 수행시간이 오래 걸림\n",
    "- max_features: 결정트리의 max_features 파라미터와 같음\n",
    "    - 각 트리에서 분할할 때 고려할 특성(데이터의 열)의 최대 개수 지정\n",
    "    - 정수로 주면 개수, 소수로 주면 %\n",
    "    - 단, 랜덤포레스트 max_features는 디폴트값이 전체 피처의 sqrt(루트)\n",
    "    - 클수록 더 복잡한 결정경계 설정이 가능하지만, 과적합 위험up\n",
    "    - 작으면 모델의 안정성을 높이지만, 유용한 특성을 무시하게 될 수도\n",
    "<br><br>\n",
    "\n",
    "- max_depth: 트리의 최대 깊이를 제한\n",
    "    - 너무 깊으면 과적합의 가능성o\n",
    "    - 작은 값이 선택될수록, 모델이 더 일반화되어 예측 성능이 향상\n",
    "- min_samples_leaf: 리프 노드가 가져야 하는 최소 샘플 수 지정\n",
    "    - 큰 값을 설정할 수록 트리의 가지가 더 많이 생성 -> 세부적인 규칙이 생성되는 것을 방지 (트리의 복잡도 제어)\n",
    "- min_samples_split: 노드를 분할하기 위해 필요한 최소 샘플 수 지정\n",
    "    - 작게 설정할수록 모델이 더 복잡한 규칙을 학습할 수 있음\n",
    "    - 너무 작으면 과적합 가능성o"
   ]
  },
  {
   "cell_type": "markdown",
   "id": "6aaa3d09",
   "metadata": {},
   "source": [
    "### 유의!!!!\n",
    "1. 학습할 때 정확도가 높았어도 검증 때 낮아질 수 있음\n",
    "2. 튜닝 종류에 따라 정확도가 학습에서 높고, 검증에서 낮을 수 있음. 반대로 학습에서 낮고 검증에서 낮을 수도 있음\n",
    "    - 학습세트 정확도만 보고 튜닝을 끝내지 말 것\n",
    "3. 모델에 따라 같은 데이터셋이어도 정확도가 다 다름\n",
    "    - 데이터 성격에 맞는, 데이터 분석 목적에 맞는, 튜닝 후 정확도에 따른 -> 모델을 적절히 선택"
   ]
  },
  {
   "cell_type": "markdown",
   "id": "d11d960c",
   "metadata": {},
   "source": [
    "#### 과제(2): 과제1로부터 변수 중요도(feature_importances_ 5개만)를 도출하고 시각화하세요"
   ]
  },
  {
   "cell_type": "code",
   "execution_count": 148,
   "id": "e945653e",
   "metadata": {
    "scrolled": true
   },
   "outputs": [
    {
     "name": "stdout",
     "output_type": "stream",
     "text": [
      "# 변수 중요도(feature_importances) 상위 5개\n",
      "Sex: 0.3932\n",
      "Name: 0.2082\n",
      "Cabin: 0.1180\n",
      "Pclass: 0.1027\n",
      "Family: 0.0906\n"
     ]
    }
   ],
   "source": [
    "new_rf = RandomForestClassifier(n_estimators=20, max_features=3,\n",
    "                     max_depth=6, min_samples_leaf=5, min_samples_split=13,\n",
    "                    random_state=21, n_jobs=-1)\n",
    "new_rf.fit(x_train, y_train)\n",
    "pred = new_rf.predict(x_test)\n",
    "\n",
    "fi = new_rf.feature_importances_   #각 피처별 중요도 배열\n",
    "dic = {}\n",
    "for col, importances in zip(xdf.columns, fi):\n",
    "    dic[col]=importances    #딕셔너리에 각 칼럼명-importance 넣기\n",
    "top5 = sorted(dic.items(), key=lambda x: x[1], reverse=True)[:5]   #상위 5개 칼럼만\n",
    "\n",
    "x=[]; y=[]\n",
    "print('# 변수 중요도(feature_importances) 상위 5개')\n",
    "for i in top5:\n",
    "    print(f'{i[0]}: {i[1]:.4f}')\n",
    "    x.append(i[0]); y.append(i[1])"
   ]
  },
  {
   "cell_type": "code",
   "execution_count": 149,
   "id": "98e27424",
   "metadata": {
    "scrolled": false
   },
   "outputs": [
    {
     "data": {
      "text/plain": [
       "<AxesSubplot:>"
      ]
     },
     "execution_count": 149,
     "metadata": {},
     "output_type": "execute_result"
    },
    {
     "data": {
      "image/png": "[encoded data removed]",
      "text/plain": [
       "<Figure size 640x480 with 1 Axes>"
      ]
     },
     "metadata": {},
     "output_type": "display_data"
    }
   ],
   "source": [
    "# 시각화\n",
    "sns.barplot(x=x, y=y, palette=\"pastel\")"
   ]
  },
  {
   "cell_type": "markdown",
   "id": "76d86f76",
   "metadata": {},
   "source": [
    "#### 그래프 그리기(강사님)"
   ]
  },
  {
   "cell_type": "code",
   "execution_count": 154,
   "id": "4c4617ab",
   "metadata": {},
   "outputs": [
    {
     "data": {
      "text/plain": [
       "<AxesSubplot:>"
      ]
     },
     "execution_count": 154,
     "metadata": {},
     "output_type": "execute_result"
    },
    {
     "data": {
      "image/png": "[encoded data removed]",
      "text/plain": [
       "<Figure size 640x480 with 1 Axes>"
      ]
     },
     "metadata": {},
     "output_type": "display_data"
    }
   ],
   "source": [
    "new_rf = RandomForestClassifier(n_estimators=20, max_features=3,\n",
    "                     max_depth=6, min_samples_leaf=5, min_samples_split=13,\n",
    "                    random_state=21, n_jobs=-1)\n",
    "new_rf.fit(x_train, y_train)\n",
    "pred = new_rf.predict(x_test)\n",
    "\n",
    "fi_values = new_rf.feature_importances_   #각 피처별 중요도 배열\n",
    "\n",
    "fi = pd.Series(fi_values, index=xdf.columns)   #각 값과 칼럼명\n",
    "top5 = fi.sort_values(ascending=False)[:5]   #정렬해서 상위 5개\n",
    "\n",
    "sns.barplot(x=top5, y=top5.index, palette=\"pastel\")"
   ]
  },
  {
   "cell_type": "code",
   "execution_count": null,
   "id": "3f5defc6",
   "metadata": {},
   "outputs": [],
   "source": []
  },
  {
   "cell_type": "code",
   "execution_count": null,
   "id": "755c0e4c",
   "metadata": {},
   "outputs": [],
   "source": []
  },
  {
   "cell_type": "code",
   "execution_count": null,
   "id": "7b618fae",
   "metadata": {},
   "outputs": [],
   "source": []
  },
  {
   "cell_type": "code",
   "execution_count": null,
   "id": "269e86b9",
   "metadata": {},
   "outputs": [],
   "source": []
  },
  {
   "cell_type": "code",
   "execution_count": null,
   "id": "e2c59972",
   "metadata": {},
   "outputs": [],
   "source": []
  },
  {
   "cell_type": "code",
   "execution_count": null,
   "id": "c2842cb3",
   "metadata": {},
   "outputs": [],
   "source": []
  },
  {
   "cell_type": "markdown",
   "id": "7e0ffe93",
   "metadata": {},
   "source": [
    "#### 원래 과제 했던 방식(위에는 과제 점검하며 수정한 코드)"
   ]
  },
  {
   "cell_type": "code",
   "execution_count": 116,
   "id": "fe338559",
   "metadata": {},
   "outputs": [
    {
     "name": "stdout",
     "output_type": "stream",
     "text": [
      "랜덤포레스트 정확도: 0.8101\n"
     ]
    }
   ],
   "source": [
    "df = pd.read_csv(r'C:\\Users\\h\\hmkd1\\mc_data\\train.csv')\n",
    "df = trans(df)\n",
    "\n",
    "ydf = df.Survived\n",
    "xdf = df.drop('Survived', axis=1)\n",
    "\n",
    "x_train, x_test, y_train, y_test = train_test_split(xdf, ydf, test_size=0.2, random_state=21)\n",
    "\n",
    "rf = RandomForestClassifier()\n",
    "rf.fit(x_train, y_train)\n",
    "\n",
    "pred = rf.predict(x_test)\n",
    "acc = accuracy_score(y_test, pred)\n",
    "print(f'랜덤포레스트 정확도: {acc:.4f}')"
   ]
  },
  {
   "cell_type": "code",
   "execution_count": 117,
   "id": "45e86148",
   "metadata": {},
   "outputs": [
    {
     "name": "stdout",
     "output_type": "stream",
     "text": [
      "최적 하이퍼 파라미터: \n",
      "{'max_depth': 6, 'min_samples_leaf': 1, 'min_samples_split': 9}\n",
      "최고 예측 정확도: 0.8384831460674157\n"
     ]
    }
   ],
   "source": [
    "params = {\n",
    "    'max_depth': [4,6,8,10],\n",
    "    'min_samples_leaf': [1,3,5,6],\n",
    "    'min_samples_split': [5,9,13,16]  }\n",
    "\n",
    "rf = RandomForestClassifier(n_estimators=100, max_features=0.5,\n",
    "                           random_state=21, n_jobs=-1)\n",
    "grid = GridSearchCV(rf, param_grid=params, cv=2, n_jobs=-1)\n",
    "grid.fit(x_train, y_train)\n",
    "\n",
    "print(f'최적 하이퍼 파라미터: \\n{grid.best_params_}')\n",
    "# 각 파라미터 리스트 중 가장 최적의 값을 알려줌\n",
    "\n",
    "print(f'최고 예측 정확도: {grid.best_score_}')"
   ]
  },
  {
   "cell_type": "code",
   "execution_count": 118,
   "id": "3c275fb7",
   "metadata": {},
   "outputs": [
    {
     "name": "stdout",
     "output_type": "stream",
     "text": [
      "n_estimators=5일때, accuracy=0.8324022346368715로 가장 높음\n"
     ]
    }
   ],
   "source": [
    "# 다양하게 줘 가며 params값 조정 -> 나온 결과로 rf 수정함\n",
    "acc_li = []\n",
    "\n",
    "# n_estimators 조정하기\n",
    "for i in range(1,20):\n",
    "    new_rf = RandomForestClassifier(n_estimators=i, max_features=0.5,\n",
    "                    max_depth=6, min_samples_leaf=1, min_samples_split=9,\n",
    "                    random_state=21, n_jobs=-1)\n",
    "    new_rf.fit(x_train, y_train)\n",
    "    pred = new_rf.predict(x_test)\n",
    "    \n",
    "    acc_li.append(accuracy_score(y_test, pred))\n",
    "print(f\"n_estimators={acc_li.index(max(acc_li))+1}일때, accuracy={max(acc_li)}로 가장 높음\")\n",
    "\n",
    "# 10~100까지 10씩 돌렸을 때 -> 10이 가장 높았음\n",
    "# 1~20 돌렸을 때 -> 5, 7에서 가장 높음"
   ]
  },
  {
   "cell_type": "code",
   "execution_count": 119,
   "id": "40e2a26a",
   "metadata": {},
   "outputs": [
    {
     "data": {
      "text/plain": [
       "[0.8044692737430168,\n",
       " 0.8100558659217877,\n",
       " 0.8268156424581006,\n",
       " 0.8268156424581006,\n",
       " 0.8324022346368715,\n",
       " 0.8212290502793296,\n",
       " 0.8324022346368715,\n",
       " 0.8268156424581006,\n",
       " 0.8268156424581006,\n",
       " 0.8268156424581006,\n",
       " 0.8268156424581006,\n",
       " 0.8212290502793296,\n",
       " 0.8156424581005587,\n",
       " 0.8100558659217877,\n",
       " 0.8100558659217877,\n",
       " 0.8156424581005587,\n",
       " 0.8100558659217877,\n",
       " 0.8100558659217877,\n",
       " 0.8156424581005587]"
      ]
     },
     "execution_count": 119,
     "metadata": {},
     "output_type": "execute_result"
    }
   ],
   "source": [
    "acc_li"
   ]
  },
  {
   "cell_type": "code",
   "execution_count": 120,
   "id": "bae0273c",
   "metadata": {},
   "outputs": [
    {
     "name": "stdout",
     "output_type": "stream",
     "text": [
      "max_features=1일때, accuracy=0.8324022346368715로 가장 높음\n"
     ]
    }
   ],
   "source": [
    "# max_features 조정하기 (1~8개)\n",
    "acc_li=[]\n",
    "for i in range(1,9):\n",
    "    new_rf = RandomForestClassifier(n_estimators=5, max_features=i,\n",
    "                    max_depth=6, min_samples_leaf=1, min_samples_split=9,\n",
    "                    random_state=21, n_jobs=-1)\n",
    "    new_rf.fit(x_train, y_train)\n",
    "    pred = new_rf.predict(x_test)\n",
    "    \n",
    "    acc_li.append(accuracy_score(y_test, pred))\n",
    "print(f\"max_features={acc_li.index(max(acc_li))+1}일때, accuracy={max(acc_li)}로 가장 높음\")\n",
    "# 1~8 돌렸을 때 -> 1,2,4에서 가장 높음"
   ]
  },
  {
   "cell_type": "code",
   "execution_count": 121,
   "id": "d0549a0a",
   "metadata": {},
   "outputs": [
    {
     "data": {
      "text/plain": [
       "[0.8324022346368715,\n",
       " 0.8324022346368715,\n",
       " 0.8156424581005587,\n",
       " 0.8324022346368715,\n",
       " 0.8156424581005587,\n",
       " 0.8044692737430168,\n",
       " 0.8044692737430168,\n",
       " 0.8044692737430168]"
      ]
     },
     "execution_count": 121,
     "metadata": {},
     "output_type": "execute_result"
    }
   ],
   "source": [
    "acc_li"
   ]
  },
  {
   "cell_type": "code",
   "execution_count": 122,
   "id": "5c7737cb",
   "metadata": {},
   "outputs": [
    {
     "name": "stdout",
     "output_type": "stream",
     "text": [
      "max_features=1일때, accuracy=0.8324022346368715로 가장 높음\n"
     ]
    }
   ],
   "source": [
    "# max_features 조정하기 (1~8개)\n",
    "acc_li=[]\n",
    "for i in range(1,9):\n",
    "    new_rf = RandomForestClassifier(n_estimators=5, max_features=i,\n",
    "                    max_depth=6, min_samples_leaf=1, min_samples_split=9,\n",
    "                    random_state=21, n_jobs=-1)\n",
    "    new_rf.fit(x_train, y_train)\n",
    "    pred = new_rf.predict(x_test)\n",
    "    \n",
    "    acc_li.append(accuracy_score(y_test, pred))\n",
    "print(f\"max_features={acc_li.index(max(acc_li))+1}일때, accuracy={max(acc_li)}로 가장 높음\")\n",
    "# 1~8 돌렸을 때 -> 1,2,4에서 가장 높음"
   ]
  },
  {
   "cell_type": "code",
   "execution_count": 123,
   "id": "8a42bd03",
   "metadata": {},
   "outputs": [
    {
     "name": "stdout",
     "output_type": "stream",
     "text": [
      "n_estimators=5, max_features=1일 때, 정확도=0.8324022346368715\n",
      "n_estimators=5, max_features=2일 때, 정확도=0.8324022346368715\n",
      "n_estimators=5, max_features=4일 때, 정확도=0.8324022346368715\n",
      "n_estimators=7, max_features=1일 때, 정확도=0.8044692737430168\n",
      "n_estimators=7, max_features=2일 때, 정확도=0.8212290502793296\n",
      "n_estimators=7, max_features=4일 때, 정확도=0.8324022346368715\n"
     ]
    }
   ],
   "source": [
    "# n_estimators = 5,7\n",
    "# max_features = 1,2,4\n",
    "# 위 조합들 중 최종 값 뽑기\n",
    "\n",
    "for i in [5,7]:\n",
    "    for j in [1,2,4]:\n",
    "        new_rf = RandomForestClassifier(n_estimators=i, max_features=j,\n",
    "                        max_depth=6, min_samples_leaf=1, min_samples_split=9,\n",
    "                        random_state=21, n_jobs=-1)\n",
    "        new_rf.fit(x_train, y_train)\n",
    "        pred = new_rf.predict(x_test)\n",
    "\n",
    "        acc = accuracy_score(y_test, pred)\n",
    "        print(f'n_estimators={i}, max_features={j}일 때, 정확도={acc}')\n",
    "        \n",
    "# (5,1) (5,2) (5,4), (7,4) 일때 acc=0.8324022346368715 로 가장 높음\n",
    "# n_estimators -> 높을수록 성능up -> 7\n",
    "# max_features -> 클수록 복잡한 결정경계 설정 가능 -> 4"
   ]
  },
  {
   "cell_type": "markdown",
   "id": "579d2228",
   "metadata": {},
   "source": [
    "#### 과제(2): 과제1로부터 변수 중요도(feature_importances_ 5개만)를 도출하고 시각화하세요"
   ]
  },
  {
   "cell_type": "code",
   "execution_count": 124,
   "id": "598941fa",
   "metadata": {
    "scrolled": true
   },
   "outputs": [
    {
     "name": "stdout",
     "output_type": "stream",
     "text": [
      "# 변수 중요도(feature_importances) 상위 5개\n",
      "Sex: 0.3654\n",
      "Name: 0.2110\n",
      "Family: 0.1179\n",
      "Pclass: 0.1124\n",
      "Cabin: 0.0950\n"
     ]
    }
   ],
   "source": [
    "new_rf = RandomForestClassifier(n_estimators=7, max_features=4,\n",
    "                     max_depth=6, min_samples_leaf=1, min_samples_split=9,\n",
    "                    random_state=21, n_jobs=-1)\n",
    "new_rf.fit(x_train, y_train)\n",
    "pred = new_rf.predict(x_test)\n",
    "\n",
    "fi = new_rf.feature_importances_   #각 피처별 중요도 배열\n",
    "dic = {}\n",
    "for col, importances in zip(xdf.columns, fi):\n",
    "    dic[col]=importances    #딕셔너리에 각 칼럼명-importance 넣기\n",
    "top5 = sorted(dic.items(), key=lambda x: x[1], reverse=True)[:5]   #상위 5개 칼럼만\n",
    "\n",
    "x=[]; y=[]\n",
    "print('# 변수 중요도(feature_importances) 상위 5개')\n",
    "for i in top5:\n",
    "    print(f'{i[0]}: {i[1]:.4f}')\n",
    "    x.append(i[0]); y.append(i[1])"
   ]
  },
  {
   "cell_type": "code",
   "execution_count": 125,
   "id": "e6be522a",
   "metadata": {
    "scrolled": true
   },
   "outputs": [
    {
     "data": {
      "text/plain": [
       "<AxesSubplot:>"
      ]
     },
     "execution_count": 125,
     "metadata": {},
     "output_type": "execute_result"
    },
    {
     "data": {
      "image/png": "[encoded data removed]",
      "text/plain": [
       "<Figure size 640x480 with 1 Axes>"
      ]
     },
     "metadata": {},
     "output_type": "display_data"
    }
   ],
   "source": [
    "# 시각화\n",
    "sns.barplot(x=x, y=y, palette=\"pastel\")"
   ]
  },
  {
   "cell_type": "code",
   "execution_count": null,
   "id": "93ee8ad8",
   "metadata": {},
   "outputs": [],
   "source": []
  },
  {
   "cell_type": "code",
   "execution_count": null,
   "id": "e4405a8a",
   "metadata": {},
   "outputs": [],
   "source": []
  },
  {
   "cell_type": "code",
   "execution_count": null,
   "id": "5de1d074",
   "metadata": {},
   "outputs": [],
   "source": []
  },
  {
   "cell_type": "code",
   "execution_count": null,
   "id": "9edf3df6",
   "metadata": {},
   "outputs": [],
   "source": []
  },
  {
   "cell_type": "code",
   "execution_count": null,
   "id": "e9ae381a",
   "metadata": {},
   "outputs": [],
   "source": []
  },
  {
   "cell_type": "markdown",
   "id": "ef6345e7",
   "metadata": {},
   "source": [
    "#### 강사님 코드"
   ]
  },
  {
   "cell_type": "code",
   "execution_count": 126,
   "id": "4f6d5949",
   "metadata": {},
   "outputs": [],
   "source": [
    "titanic_df = pd.read_csv(r'C:\\Users\\h\\hmkd1\\mc_data\\train.csv')"
   ]
  },
  {
   "cell_type": "code",
   "execution_count": 127,
   "id": "fcf8e7a7",
   "metadata": {},
   "outputs": [
    {
     "name": "stdout",
     "output_type": "stream",
     "text": [
      "데이터 세트 Null 값 갯수  0\n"
     ]
    }
   ],
   "source": [
    "titanic_df['Age'].fillna(titanic_df['Age'].mean(),inplace=True)\n",
    "titanic_df['Cabin'].fillna('N',inplace=True)\n",
    "titanic_df['Embarked'].fillna('N',inplace=True)\n",
    "print('데이터 세트 Null 값 갯수 ',titanic_df.isnull().sum().sum())"
   ]
  },
  {
   "cell_type": "code",
   "execution_count": 128,
   "id": "d789e2ad",
   "metadata": {},
   "outputs": [
    {
     "name": "stdout",
     "output_type": "stream",
     "text": [
      " Sex 값 분포 :\n",
      " male      577\n",
      "female    314\n",
      "Name: Sex, dtype: int64\n",
      "\n",
      " Cabin 값 분포 :\n",
      " N              687\n",
      "C23 C25 C27      4\n",
      "G6               4\n",
      "B96 B98          4\n",
      "C22 C26          3\n",
      "              ... \n",
      "E34              1\n",
      "C7               1\n",
      "C54              1\n",
      "E36              1\n",
      "C148             1\n",
      "Name: Cabin, Length: 148, dtype: int64\n",
      "\n",
      " Embarked 값 분포 :\n",
      " S    644\n",
      "C    168\n",
      "Q     77\n",
      "N      2\n",
      "Name: Embarked, dtype: int64\n"
     ]
    }
   ],
   "source": [
    "print(' Sex 값 분포 :\\n',titanic_df['Sex'].value_counts())\n",
    "print('\\n Cabin 값 분포 :\\n',titanic_df['Cabin'].value_counts())\n",
    "print('\\n Embarked 값 분포 :\\n',titanic_df['Embarked'].value_counts())"
   ]
  },
  {
   "cell_type": "code",
   "execution_count": 129,
   "id": "2aa55655",
   "metadata": {},
   "outputs": [
    {
     "name": "stdout",
     "output_type": "stream",
     "text": [
      "0    N\n",
      "1    C\n",
      "2    N\n",
      "Name: Cabin, dtype: object\n"
     ]
    }
   ],
   "source": [
    "titanic_df['Cabin'] = titanic_df['Cabin'].str[:1]\n",
    "print(titanic_df['Cabin'].head(3))"
   ]
  },
  {
   "cell_type": "code",
   "execution_count": 130,
   "id": "55d9ef98",
   "metadata": {},
   "outputs": [
    {
     "data": {
      "text/plain": [
       "Sex     Survived\n",
       "female  0            81\n",
       "        1           233\n",
       "male    0           468\n",
       "        1           109\n",
       "Name: Survived, dtype: int64"
      ]
     },
     "execution_count": 130,
     "metadata": {},
     "output_type": "execute_result"
    }
   ],
   "source": [
    "titanic_df.groupby(['Sex','Survived'])['Survived'].count()"
   ]
  },
  {
   "cell_type": "code",
   "execution_count": 131,
   "id": "d1f5034b",
   "metadata": {},
   "outputs": [
    {
     "data": {
      "text/plain": [
       "<AxesSubplot:xlabel='Sex', ylabel='Survived'>"
      ]
     },
     "execution_count": 131,
     "metadata": {},
     "output_type": "execute_result"
    },
    {
     "data": {
      "image/png": "[encoded data removed]",
      "text/plain": [
       "<Figure size 640x480 with 1 Axes>"
      ]
     },
     "metadata": {},
     "output_type": "display_data"
    }
   ],
   "source": [
    "sns.barplot(x='Sex', y = 'Survived', data=titanic_df)"
   ]
  },
  {
   "cell_type": "code",
   "execution_count": 132,
   "id": "c187e579",
   "metadata": {},
   "outputs": [
    {
     "data": {
      "text/plain": [
       "<AxesSubplot:xlabel='Pclass', ylabel='Survived'>"
      ]
     },
     "execution_count": 132,
     "metadata": {},
     "output_type": "execute_result"
    },
    {
     "data": {
      "image/png": "[encoded data removed]",
      "text/plain": [
       "<Figure size 640x480 with 1 Axes>"
      ]
     },
     "metadata": {},
     "output_type": "display_data"
    }
   ],
   "source": [
    "sns.barplot(x='Pclass', y='Survived', hue='Sex', data=titanic_df)"
   ]
  },
  {
   "cell_type": "code",
   "execution_count": 133,
   "id": "07631995",
   "metadata": {},
   "outputs": [
    {
     "data": {
      "image/png": "[encoded data removed]",
      "text/plain": [
       "<Figure size 1000x600 with 1 Axes>"
      ]
     },
     "metadata": {},
     "output_type": "display_data"
    }
   ],
   "source": [
    "# 입력 age에 따라 구분값을 반환하는 함수 설정. DataFrame의 apply lambda식에 사용. \n",
    "def get_category(age):\n",
    "    cat = ''\n",
    "    if age <= -1: cat = 'Unknown'\n",
    "    elif age <= 5: cat = 'Baby'\n",
    "    elif age <= 12: cat = 'Child'\n",
    "    elif age <= 18: cat = 'Teenager'\n",
    "    elif age <= 25: cat = 'Student'\n",
    "    elif age <= 35: cat = 'Young Adult'\n",
    "    elif age <= 60: cat = 'Adult'\n",
    "    else : cat = 'Elderly'\n",
    "    \n",
    "    return cat\n",
    "\n",
    "# 막대그래프의 크기 figure를 더 크게 설정 \n",
    "plt.figure(figsize=(10,6))\n",
    "\n",
    "#X축의 값을 순차적으로 표시하기 위한 설정 \n",
    "group_names = ['Unknown', 'Baby', 'Child', 'Teenager', 'Student', 'Young Adult', 'Adult', 'Elderly']\n",
    "\n",
    "# lambda 식에 위에서 생성한 get_category( ) 함수를 반환값으로 지정. \n",
    "# get_category(X)는 입력값으로 'Age' 컬럼값을 받아서 해당하는 cat 반환\n",
    "titanic_df['Age_cat'] = titanic_df['Age'].apply(lambda x : get_category(x))\n",
    "sns.barplot(x='Age_cat', y = 'Survived', hue='Sex', data=titanic_df, order=group_names)\n",
    "titanic_df.drop('Age_cat', axis=1, inplace=True)"
   ]
  },
  {
   "cell_type": "code",
   "execution_count": 134,
   "id": "6d280b33",
   "metadata": {},
   "outputs": [
    {
     "data": {
      "text/html": [
       "<div>\n",
       "<style scoped>\n",
       "    .dataframe tbody tr th:only-of-type {\n",
       "        vertical-align: middle;\n",
       "    }\n",
       "\n",
       "    .dataframe tbody tr th {\n",
       "        vertical-align: top;\n",
       "    }\n",
       "\n",
       "    .dataframe thead th {\n",
       "        text-align: right;\n",
       "    }\n",
       "</style>\n",
       "<table border=\"1\" class=\"dataframe\">\n",
       "  <thead>\n",
       "    <tr style=\"text-align: right;\">\n",
       "      <th></th>\n",
       "      <th>PassengerId</th>\n",
       "      <th>Survived</th>\n",
       "      <th>Pclass</th>\n",
       "      <th>Name</th>\n",
       "      <th>Sex</th>\n",
       "      <th>Age</th>\n",
       "      <th>SibSp</th>\n",
       "      <th>Parch</th>\n",
       "      <th>Ticket</th>\n",
       "      <th>Fare</th>\n",
       "      <th>Cabin</th>\n",
       "      <th>Embarked</th>\n",
       "    </tr>\n",
       "  </thead>\n",
       "  <tbody>\n",
       "    <tr>\n",
       "      <th>0</th>\n",
       "      <td>1</td>\n",
       "      <td>0</td>\n",
       "      <td>3</td>\n",
       "      <td>Braund, Mr. Owen Harris</td>\n",
       "      <td>1</td>\n",
       "      <td>22.0</td>\n",
       "      <td>1</td>\n",
       "      <td>0</td>\n",
       "      <td>A/5 21171</td>\n",
       "      <td>7.2500</td>\n",
       "      <td>7</td>\n",
       "      <td>3</td>\n",
       "    </tr>\n",
       "    <tr>\n",
       "      <th>1</th>\n",
       "      <td>2</td>\n",
       "      <td>1</td>\n",
       "      <td>1</td>\n",
       "      <td>Cumings, Mrs. John Bradley (Florence Briggs Th...</td>\n",
       "      <td>0</td>\n",
       "      <td>38.0</td>\n",
       "      <td>1</td>\n",
       "      <td>0</td>\n",
       "      <td>PC 17599</td>\n",
       "      <td>71.2833</td>\n",
       "      <td>2</td>\n",
       "      <td>0</td>\n",
       "    </tr>\n",
       "    <tr>\n",
       "      <th>2</th>\n",
       "      <td>3</td>\n",
       "      <td>1</td>\n",
       "      <td>3</td>\n",
       "      <td>Heikkinen, Miss. Laina</td>\n",
       "      <td>0</td>\n",
       "      <td>26.0</td>\n",
       "      <td>0</td>\n",
       "      <td>0</td>\n",
       "      <td>STON/O2. 3101282</td>\n",
       "      <td>7.9250</td>\n",
       "      <td>7</td>\n",
       "      <td>3</td>\n",
       "    </tr>\n",
       "    <tr>\n",
       "      <th>3</th>\n",
       "      <td>4</td>\n",
       "      <td>1</td>\n",
       "      <td>1</td>\n",
       "      <td>Futrelle, Mrs. Jacques Heath (Lily May Peel)</td>\n",
       "      <td>0</td>\n",
       "      <td>35.0</td>\n",
       "      <td>1</td>\n",
       "      <td>0</td>\n",
       "      <td>113803</td>\n",
       "      <td>53.1000</td>\n",
       "      <td>2</td>\n",
       "      <td>3</td>\n",
       "    </tr>\n",
       "    <tr>\n",
       "      <th>4</th>\n",
       "      <td>5</td>\n",
       "      <td>0</td>\n",
       "      <td>3</td>\n",
       "      <td>Allen, Mr. William Henry</td>\n",
       "      <td>1</td>\n",
       "      <td>35.0</td>\n",
       "      <td>0</td>\n",
       "      <td>0</td>\n",
       "      <td>373450</td>\n",
       "      <td>8.0500</td>\n",
       "      <td>7</td>\n",
       "      <td>3</td>\n",
       "    </tr>\n",
       "  </tbody>\n",
       "</table>\n",
       "</div>"
      ],
      "text/plain": [
       "   PassengerId  Survived  Pclass  \\\n",
       "0            1         0       3   \n",
       "1            2         1       1   \n",
       "2            3         1       3   \n",
       "3            4         1       1   \n",
       "4            5         0       3   \n",
       "\n",
       "                                                Name  Sex   Age  SibSp  Parch  \\\n",
       "0                            Braund, Mr. Owen Harris    1  22.0      1      0   \n",
       "1  Cumings, Mrs. John Bradley (Florence Briggs Th...    0  38.0      1      0   \n",
       "2                             Heikkinen, Miss. Laina    0  26.0      0      0   \n",
       "3       Futrelle, Mrs. Jacques Heath (Lily May Peel)    0  35.0      1      0   \n",
       "4                           Allen, Mr. William Henry    1  35.0      0      0   \n",
       "\n",
       "             Ticket     Fare  Cabin  Embarked  \n",
       "0         A/5 21171   7.2500      7         3  \n",
       "1          PC 17599  71.2833      2         0  \n",
       "2  STON/O2. 3101282   7.9250      7         3  \n",
       "3            113803  53.1000      2         3  \n",
       "4            373450   8.0500      7         3  "
      ]
     },
     "execution_count": 134,
     "metadata": {},
     "output_type": "execute_result"
    }
   ],
   "source": [
    "from sklearn import preprocessing\n",
    "\n",
    "def encode_features(dataDF):\n",
    "    features = ['Cabin', 'Sex', 'Embarked']\n",
    "    for feature in features:\n",
    "        le = preprocessing.LabelEncoder()\n",
    "        le = le.fit(dataDF[feature])\n",
    "        dataDF[feature] = le.transform(dataDF[feature])\n",
    "        \n",
    "    return dataDF\n",
    "\n",
    "titanic_df = encode_features(titanic_df)\n",
    "titanic_df.head()"
   ]
  },
  {
   "cell_type": "code",
   "execution_count": 135,
   "id": "3d178601",
   "metadata": {},
   "outputs": [],
   "source": [
    "from sklearn.preprocessing import LabelEncoder\n",
    "\n",
    "# Null 처리 함수\n",
    "def fillna(df):\n",
    "    df['Age'].fillna(df['Age'].mean(), inplace=True)\n",
    "    df['Cabin'].fillna('N', inplace=True)\n",
    "    df['Embarked'].fillna('N', inplace=True)\n",
    "    df['Fare'].fillna(0, inplace=True)\n",
    "    return df\n",
    "\n",
    "# 머신러닝 알고리즘에 불필요한 피처 제거\n",
    "def drop_features(df):\n",
    "    df.drop(['PassengerId', 'Name', 'Ticket'], axis=1, inplace=True)\n",
    "    return df\n",
    "\n",
    "# 레이블 인코딩 수행.\n",
    "def format_features(df):\n",
    "    df['Cabin'] = df['Cabin'].str[:1]\n",
    "    features = ['Cabin', 'Sex', 'Embarked']\n",
    "    for feature in features:\n",
    "        le = LabelEncoder()\n",
    "        le = le.fit(df[feature])\n",
    "        df[feature] = le.transform(df[feature])\n",
    "    return df\n",
    "\n",
    "# 앞에서 설정한 데이터 전처리 함수 호출\n",
    "def transform_features(df):\n",
    "    df = fillna(df)\n",
    "    df = drop_features(df)\n",
    "    df = format_features(df)\n",
    "    return df"
   ]
  },
  {
   "cell_type": "code",
   "execution_count": 136,
   "id": "6865a47d",
   "metadata": {},
   "outputs": [],
   "source": [
    "# 원본 데이터를 재로딩 하고, feature데이터 셋과 Label 데이터 셋 추출. \n",
    "titanic_df = pd.read_csv(r'C:\\Users\\h\\hmkd1\\mc_data\\train.csv')\n",
    "y_titanic_df = titanic_df['Survived']\n",
    "X_titanic_df= titanic_df.drop('Survived',axis=1)\n",
    "\n",
    "X_titanic_df = transform_features(X_titanic_df)"
   ]
  },
  {
   "cell_type": "code",
   "execution_count": 137,
   "id": "8326e11b",
   "metadata": {},
   "outputs": [],
   "source": [
    "from sklearn.model_selection import train_test_split\n",
    "X_train, X_test, y_train, y_test=train_test_split(X_titanic_df, y_titanic_df, \\\n",
    "                                                  test_size=0.2, random_state=11)\n"
   ]
  },
  {
   "cell_type": "code",
   "execution_count": 138,
   "id": "2319d5a3",
   "metadata": {},
   "outputs": [
    {
     "name": "stdout",
     "output_type": "stream",
     "text": [
      "DecisionTreeClassifier 정확도: 0.7877\n",
      "RandomForestClassifier 정확도:0.8547\n",
      "LogisticRegression 정확도: 0.8659\n"
     ]
    }
   ],
   "source": [
    "from sklearn.tree import DecisionTreeClassifier\n",
    "from sklearn.ensemble import RandomForestClassifier\n",
    "from sklearn.linear_model import LogisticRegression\n",
    "from sklearn.metrics import accuracy_score\n",
    "\n",
    "# 결정트리, Random Forest, 로지스틱 회귀를 위한 사이킷런 Classifier 클래스 생성\n",
    "dt_clf = DecisionTreeClassifier(random_state=11)\n",
    "rf_clf = RandomForestClassifier(random_state=11)\n",
    "lr_clf = LogisticRegression(solver='liblinear')\n",
    "\n",
    "# DecisionTreeClassifier 학습/예측/평가\n",
    "dt_clf.fit(X_train , y_train)\n",
    "dt_pred = dt_clf.predict(X_test)\n",
    "print('DecisionTreeClassifier 정확도: {0:.4f}'.format(accuracy_score(y_test, dt_pred)))\n",
    "\n",
    "# RandomForestClassifier 학습/예측/평가\n",
    "rf_clf.fit(X_train , y_train)\n",
    "rf_pred = rf_clf.predict(X_test)\n",
    "print('RandomForestClassifier 정확도:{0:.4f}'.format(accuracy_score(y_test, rf_pred)))\n",
    "\n",
    "# LogisticRegression 학습/예측/평가\n",
    "lr_clf.fit(X_train , y_train)\n",
    "lr_pred = lr_clf.predict(X_test)\n",
    "print('LogisticRegression 정확도: {0:.4f}'.format(accuracy_score(y_test, lr_pred)))\n"
   ]
  },
  {
   "cell_type": "code",
   "execution_count": 139,
   "id": "71706c86",
   "metadata": {},
   "outputs": [
    {
     "name": "stdout",
     "output_type": "stream",
     "text": [
      "교차 검증 0 정확도: 0.7542\n",
      "교차 검증 1 정확도: 0.7809\n",
      "교차 검증 2 정확도: 0.7865\n",
      "교차 검증 3 정확도: 0.7697\n",
      "교차 검증 4 정확도: 0.8202\n",
      "평균 정확도: 0.7823\n"
     ]
    }
   ],
   "source": [
    "from sklearn.model_selection import KFold\n",
    "\n",
    "def exec_kfold(clf, folds=5):\n",
    "    # 폴드 세트를 5개인 KFold객체를 생성, 폴드 수만큼 예측결과 저장을 위한  리스트 객체 생성.\n",
    "    kfold = KFold(n_splits=folds)\n",
    "    scores = []\n",
    "    \n",
    "    # KFold 교차 검증 수행. \n",
    "    for iter_count , (train_index, test_index) in enumerate(kfold.split(X_titanic_df)):\n",
    "        # X_titanic_df 데이터에서 교차 검증별로 학습과 검증 데이터를 가리키는 index 생성\n",
    "        X_train, X_test = X_titanic_df.values[train_index], X_titanic_df.values[test_index]\n",
    "        y_train, y_test = y_titanic_df.values[train_index], y_titanic_df.values[test_index]\n",
    "        \n",
    "        # Classifier 학습, 예측, 정확도 계산 \n",
    "        clf.fit(X_train, y_train) \n",
    "        predictions = clf.predict(X_test)\n",
    "        accuracy = accuracy_score(y_test, predictions)\n",
    "        scores.append(accuracy)\n",
    "        print(\"교차 검증 {0} 정확도: {1:.4f}\".format(iter_count, accuracy))     \n",
    "    \n",
    "    # 5개 fold에서의 평균 정확도 계산. \n",
    "    mean_score = np.mean(scores)\n",
    "    print(\"평균 정확도: {0:.4f}\".format(mean_score)) \n",
    "# exec_kfold 호출\n",
    "exec_kfold(dt_clf , folds=5) \n"
   ]
  },
  {
   "cell_type": "code",
   "execution_count": 140,
   "id": "9a28fe09",
   "metadata": {},
   "outputs": [
    {
     "name": "stdout",
     "output_type": "stream",
     "text": [
      "GridSearchCV 최적 하이퍼 파라미터 : {'max_depth': 3, 'min_samples_leaf': 5, 'min_samples_split': 2}\n",
      "GridSearchCV 최고 정확도: 0.7992\n",
      "테스트 세트에서의 DecisionTreeClassifier 정확도 : 0.8715\n"
     ]
    }
   ],
   "source": [
    "from sklearn.model_selection import GridSearchCV\n",
    "\n",
    "parameters = {'max_depth':[2,3,5,10],\n",
    "             'min_samples_split':[2,3,5], 'min_samples_leaf':[1,5,8]}\n",
    "\n",
    "grid_dclf = GridSearchCV(dt_clf , param_grid=parameters , scoring='accuracy' , cv=5)\n",
    "grid_dclf.fit(X_train , y_train)\n",
    "\n",
    "print('GridSearchCV 최적 하이퍼 파라미터 :',grid_dclf.best_params_)\n",
    "print('GridSearchCV 최고 정확도: {0:.4f}'.format(grid_dclf.best_score_))\n",
    "best_dclf = grid_dclf.best_estimator_\n",
    "\n",
    "# GridSearchCV의 최적 하이퍼 파라미터로 학습된 Estimator로 예측 및 평가 수행. \n",
    "dpredictions = best_dclf.predict(X_test)\n",
    "accuracy = accuracy_score(y_test , dpredictions)\n",
    "print('테스트 세트에서의 DecisionTreeClassifier 정확도 : {0:.4f}'.format(accuracy))\n"
   ]
  },
  {
   "cell_type": "code",
   "execution_count": null,
   "id": "2f882677",
   "metadata": {},
   "outputs": [],
   "source": []
  },
  {
   "cell_type": "code",
   "execution_count": null,
   "id": "4fce74d8",
   "metadata": {},
   "outputs": [],
   "source": []
  },
  {
   "cell_type": "code",
   "execution_count": null,
   "id": "2958fa2a",
   "metadata": {},
   "outputs": [],
   "source": []
  },
  {
   "cell_type": "code",
   "execution_count": null,
   "id": "ff6e2c46",
   "metadata": {},
   "outputs": [],
   "source": []
  },
  {
   "cell_type": "code",
   "execution_count": null,
   "id": "1f1cf0d4",
   "metadata": {},
   "outputs": [],
   "source": []
  }
 ],
 "metadata": {
  "kernelspec": {
   "display_name": "Python 3 (ipykernel)",
   "language": "python",
   "name": "python3"
  },
  "language_info": {
   "codemirror_mode": {
    "name": "ipython",
    "version": 3
   },
   "file_extension": ".py",
   "mimetype": "text/x-python",
   "name": "python",
   "nbconvert_exporter": "python",
   "pygments_lexer": "ipython3",
   "version": "3.9.13"
  }
 },
 "nbformat": 4,
 "nbformat_minor": 5
}
